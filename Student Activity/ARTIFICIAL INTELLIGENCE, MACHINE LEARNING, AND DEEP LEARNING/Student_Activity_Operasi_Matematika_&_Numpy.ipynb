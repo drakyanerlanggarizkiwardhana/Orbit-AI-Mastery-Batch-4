{
  "nbformat": 4,
  "nbformat_minor": 0,
  "metadata": {
    "colab": {
      "provenance": []
    },
    "kernelspec": {
      "name": "python3",
      "display_name": "Python 3"
    },
    "language_info": {
      "name": "python"
    }
  },
  "cells": [
    {
      "cell_type": "markdown",
      "metadata": {
        "id": "F9RmP8oJEr-8"
      },
      "source": [
        "# Operasi Matematika & Numpy\n",
        "Sebelum lanjut, harap:\n",
        "1. Jika menggunakan jupyter, silahkan pilih \"File\" --> \"Download\" --> \"Download .ipynb\"\n",
        "2. Jika menggunakan colab, silahkan pilih \"File\" --> \"Save a copy in drive\""
      ]
    },
    {
      "cell_type": "code",
      "metadata": {
        "id": "DBVuNosPErdc"
      },
      "source": [
        "import numpy as np"
      ],
      "execution_count": null,
      "outputs": []
    },
    {
      "cell_type": "markdown",
      "metadata": {
        "id": "GWGWrUU_QOR6"
      },
      "source": [
        "### Pengenalan array"
      ]
    },
    {
      "cell_type": "code",
      "metadata": {
        "id": "rojHc0kGGJVw"
      },
      "source": [
        "#1D array\n",
        "a = np.array([3, 1, 5, 6])\n",
        "print('banyaknya entry = ', a.size)\n",
        "print('dimensi array = ', a.ndim)\n",
        "print('ukuran array = ', a.shape)"
      ],
      "execution_count": null,
      "outputs": []
    },
    {
      "cell_type": "code",
      "metadata": {
        "id": "Ay-3fo-sIOqV"
      },
      "source": [
        "#Slicing\n",
        "a[1:]"
      ],
      "execution_count": null,
      "outputs": []
    },
    {
      "cell_type": "code",
      "metadata": {
        "id": "kfeTP-8qHBVx"
      },
      "source": [
        "print('a[1:3] = ', a[1:3])\n",
        "print('a[:3] = ', a[:3])"
      ],
      "execution_count": null,
      "outputs": []
    },
    {
      "cell_type": "code",
      "metadata": {
        "id": "myrQM61bHn2t"
      },
      "source": [
        "#2D Array (Matriks)\n",
        "A = np.array([[1, 2, 3], [4, 5, 6], [7, 8, 9]])\n",
        "print(A)"
      ],
      "execution_count": null,
      "outputs": []
    },
    {
      "cell_type": "markdown",
      "source": [
        "Kodingan di atas sudah benar dan dapat dijalankan. Berikut adalah output yang dihasilkan:"
      ],
      "metadata": {
        "id": "ZOaLHc9IUDsx"
      }
    },
    {
      "cell_type": "code",
      "source": [
        "banyaknya entry =  4\n",
        "dimensi array =  1\n",
        "ukuran array =  (4,)\n",
        "a[1:3] =  [1 5]\n",
        "a[:3] =  [3 1 5]\n",
        "[[1 2 3]\n",
        " [4 5 6]\n",
        " [7 8 9]]"
      ],
      "metadata": {
        "id": "h94oIRyGUH2w"
      },
      "execution_count": null,
      "outputs": []
    },
    {
      "cell_type": "markdown",
      "metadata": {
        "id": "7LxTP-IdLaSa"
      },
      "source": [
        "###Latihan-2 (2D array)"
      ]
    },
    {
      "cell_type": "code",
      "metadata": {
        "id": "2ncKwccePLyf"
      },
      "source": [
        "#Lengkapi kodingan berikut\n",
        "print('banyaknya entry = ', A.size)\n",
        "print('dimensi array = ', A.ndim)\n",
        "print('ukuran array = ', A.shape)"
      ],
      "execution_count": null,
      "outputs": []
    },
    {
      "cell_type": "code",
      "metadata": {
        "id": "LAmNOJZYGrNY"
      },
      "source": [
        "#Slicing\n",
        "print('baris ke-2 = ', A[1])\n",
        "print('entry ke-2 & 3 baris ke-2 = ', A[1, 1:])\n",
        "print('entry pertama & 2 kolom ke-2 = ', A[:2, 1])"
      ],
      "execution_count": null,
      "outputs": []
    },
    {
      "cell_type": "markdown",
      "metadata": {
        "id": "dabJyOB3L6Kb"
      },
      "source": [
        "###Latihan-3 (Slicing)"
      ]
    },
    {
      "cell_type": "code",
      "source": [
        "print('baris ke-3 = ', A[2])\n",
        "print('entry ke-1 & 2 baris ke-3 = ', A[2, 0:2])\n",
        "print('entry ke-2 & 3 kolom ke-3 = ', A[0:2, 2])"
      ],
      "metadata": {
        "id": "BDGVYMi0SLxo"
      },
      "execution_count": null,
      "outputs": []
    },
    {
      "cell_type": "markdown",
      "metadata": {
        "id": "u69Wt0HHOdDh"
      },
      "source": [
        "output jawaban:\n",
        "baris ke-3 =  [7 8 9]\n",
        "\n",
        "entry ke-1 & 2 baris ke-3 =  [7 8]\n",
        "\n",
        "entry ke-2 & 3 kolom ke-3 =  [6 9]"
      ]
    },
    {
      "cell_type": "markdown",
      "metadata": {
        "id": "bQ9RSERjQYu-"
      },
      "source": [
        "### Operasi Matematika di Numpy"
      ]
    },
    {
      "cell_type": "code",
      "metadata": {
        "id": "A7ITbltnVKCK"
      },
      "source": [
        "C = A*A\n",
        "print('perkalian antar entry = ')\n",
        "print(C)"
      ],
      "execution_count": null,
      "outputs": []
    },
    {
      "cell_type": "code",
      "metadata": {
        "id": "qs72ZsAJQERO"
      },
      "source": [
        "print('perkalian matriks = ')\n",
        "print(np.matmul(A,A))"
      ],
      "execution_count": null,
      "outputs": []
    },
    {
      "cell_type": "markdown",
      "source": [
        "Kedua operasi yang dijalankan pada kode tersebut adalah perkalian matriks antara A dan A, namun dilakukan dengan menggunakan dua cara yang berbeda, yaitu:\n",
        "\n",
        "C = A*A: ini adalah cara pertama, di mana kita melakukan perkalian antar entry di antara dua matriks A. Kode ini akan menghasilkan matriks C yang memiliki ukuran yang sama dengan matriks A, di mana setiap elemen pada matriks hasil diperoleh dengan mengalikan elemen yang sesuai pada A dengan elemen yang sesuai pada A.\n",
        "\n",
        "np.matmul(A,A): ini adalah cara kedua, di mana kita menggunakan fungsi matmul dari NumPy untuk melakukan perkalian matriks antara dua matriks A. Kode ini juga akan menghasilkan matriks yang sama dengan C.\n",
        "\n",
        "Berikut jawabannya:"
      ],
      "metadata": {
        "id": "rxv2w_hAPd60"
      }
    },
    {
      "cell_type": "code",
      "source": [
        "import numpy as np\n",
        "\n",
        "A = np.array([[1, 2], [7, 8]])\n",
        "\n",
        "# Cara pertama: perkalian antar entry di A\n",
        "C = A*A\n",
        "print('Perkalian antar entry =')\n",
        "print(C)\n",
        "\n",
        "# Cara kedua: perkalian matriks antara A dan A\n",
        "D = np.matmul(A, A)\n",
        "print('Perkalian matriks =')\n",
        "print(D)"
      ],
      "metadata": {
        "colab": {
          "base_uri": "https://localhost:8080/"
        },
        "id": "QEhEGk3oPjhO",
        "outputId": "04cface5-e4fc-45b3-b17a-fb79d9563bfe"
      },
      "execution_count": null,
      "outputs": [
        {
          "output_type": "stream",
          "name": "stdout",
          "text": [
            "Perkalian antar entry =\n",
            "[[ 1  4]\n",
            " [49 64]]\n",
            "Perkalian matriks =\n",
            "[[15 18]\n",
            " [63 78]]\n"
          ]
        }
      ]
    },
    {
      "cell_type": "markdown",
      "source": [
        "Karena C dan D adalah hasil perkalian matriks yang sama, maka outputnya akan sama untuk kedua cara tersebut."
      ],
      "metadata": {
        "id": "OK0QI4GRPsoN"
      }
    },
    {
      "cell_type": "markdown",
      "metadata": {
        "id": "DqYW2wD_8HZT"
      },
      "source": [
        "Bisa dilihat perbedaan perkalian antar entry dan perkalian matriks biasa?"
      ]
    },
    {
      "cell_type": "code",
      "metadata": {
        "id": "_esB0rtlQkOp"
      },
      "source": [
        "print('determinan matriks A = ', np.linalg.det(A))\n",
        "print('determinan matriks C = ', np.linalg.det(C))"
      ],
      "execution_count": null,
      "outputs": []
    },
    {
      "cell_type": "code",
      "metadata": {
        "id": "Joz3Z61TQd6V"
      },
      "source": [
        "print('nilai dan vektor eigen matriks A = ', np.linalg.eig(A))"
      ],
      "execution_count": null,
      "outputs": []
    },
    {
      "cell_type": "code",
      "metadata": {
        "id": "YIXOE54OQWWd"
      },
      "source": [
        "print('nilai eigen matriks A = ', np.linalg.eig(A)[0])"
      ],
      "execution_count": null,
      "outputs": []
    },
    {
      "cell_type": "code",
      "metadata": {
        "id": "FjdAWfgKQaf1"
      },
      "source": [
        "print('vektor eigen matriks A = ', np.linalg.eig(A)[1])"
      ],
      "execution_count": null,
      "outputs": []
    },
    {
      "cell_type": "code",
      "source": [
        "e_vec = np.linalg.eig(A)[1][:, 0] #Menagambil eigen vector pertama ([-0.23197, -0.52532209, -0.8186735  ])\n",
        "e_val = np.linalg.eig(A)[0][0] #Mengambil eigen value pertama (1.61168440e+01)"
      ],
      "metadata": {
        "id": "2glW3oBuEpiz"
      },
      "execution_count": null,
      "outputs": []
    },
    {
      "cell_type": "code",
      "source": [
        "print(np.matmul(A, e_vec)) #hasil A * eigen vector"
      ],
      "metadata": {
        "id": "ricy5KwVE-ht"
      },
      "execution_count": null,
      "outputs": []
    },
    {
      "cell_type": "code",
      "source": [
        "print(e_val*e_vec) #hasil eigen value * eigen vector (Hasilnya sama)"
      ],
      "metadata": {
        "id": "3M2QmuhYFBju"
      },
      "execution_count": null,
      "outputs": []
    },
    {
      "cell_type": "markdown",
      "source": [
        "Ya, karena kita bisa melihat perbedaan antara perkalian antar entry dan perkalian matriks biasa dengan melihat output dari kode yang diberikan.\n",
        "\n",
        "Pertama, untuk menghitung determinan matriks A dan C, kita menggunakan fungsi det dari NumPy. Namun, perlu diingat bahwa determinan hanya bisa dihitung untuk matriks persegi. Dalam kasus ini, kedua matriks A dan C merupakan matriks persegi, sehingga kita dapat menghitung determinan untuk kedua matriks tersebut."
      ],
      "metadata": {
        "id": "VaKB08SYQhOp"
      }
    },
    {
      "cell_type": "code",
      "source": [
        "import numpy as np\n",
        "\n",
        "A = np.array([[1, 2], [7, 8]])\n",
        "C = A*A\n",
        "\n",
        "# Menghitung determinan\n",
        "det_A = np.linalg.det(A)\n",
        "det_C = np.linalg.det(C)\n",
        "\n",
        "print('Determinan matriks A:', det_A)\n",
        "print('Determinan matriks C:', det_C)"
      ],
      "metadata": {
        "colab": {
          "base_uri": "https://localhost:8080/"
        },
        "id": "h1vmyJClQr9z",
        "outputId": "b393275e-454c-4270-e4a0-d7a6124441db"
      },
      "execution_count": null,
      "outputs": [
        {
          "output_type": "stream",
          "name": "stdout",
          "text": [
            "Determinan matriks A: -6.0\n",
            "Determinan matriks C: -131.99999999999997\n"
          ]
        }
      ]
    },
    {
      "cell_type": "markdown",
      "source": [
        "Dalam kasus ini, perbedaan hasil determinan matriks A dan C menunjukkan bahwa operasi perkalian antar entry dan perkalian matriks biasa menghasilkan matriks yang berbeda, sehingga determinan dari kedua matriks tersebut juga berbeda.\n",
        "\n",
        "Kedua, untuk menghitung nilai eigen dan vektor eigen dari matriks A, kita menggunakan fungsi eig dari NumPy. Fungsi ini akan mengembalikan dua nilai, yaitu nilai eigen dalam bentuk array dan matriks vektor eigen dalam bentuk array 2 dimensi. Kita juga dapat mengambil nilai eigen pertama dan vektor eigen pertama dari matriks A."
      ],
      "metadata": {
        "id": "7xoh0t4SQxs-"
      }
    },
    {
      "cell_type": "code",
      "source": [
        "import numpy as np\n",
        "\n",
        "A = np.array([[1, 2], [7, 8]])\n",
        "\n",
        "# Menghitung nilai eigen dan vektor eigen\n",
        "eigenvals, eigenvects = np.linalg.eig(A)\n",
        "\n",
        "print('Nilai eigen matriks A:', eigenvals)\n",
        "print('Vektor eigen matriks A:')\n",
        "print(eigenvects)\n",
        "\n",
        "# Mengambil eigen value pertama dan eigen vector pertama\n",
        "e_vec = eigenvects[:, 0]\n",
        "e_val = eigenvals[0]\n",
        "\n",
        "# Menghitung A * eigen vector\n",
        "print(np.matmul(A, e_vec))\n",
        "\n",
        "# Menghitung eigen value * eigen vector\n",
        "print(e_val * e_vec)"
      ],
      "metadata": {
        "colab": {
          "base_uri": "https://localhost:8080/"
        },
        "id": "W8O7XBFuQzY0",
        "outputId": "15b7809d-3427-4749-b110-b4a885744e24"
      },
      "execution_count": null,
      "outputs": [
        {
          "output_type": "stream",
          "name": "stdout",
          "text": [
            "Nilai eigen matriks A: [-0.62347538  9.62347538]\n",
            "Vektor eigen matriks A:\n",
            "[[-0.77640358 -0.22592838]\n",
            " [ 0.63023605 -0.97414391]]\n",
            "[ 0.48406852 -0.39293666]\n",
            "[ 0.48406852 -0.39293666]\n"
          ]
        }
      ]
    },
    {
      "cell_type": "markdown",
      "source": [
        "Dalam kasus ini, hasil dari perkalian matriks A dan eigen vector pertama e_vec dan hasil dari perkalian eigen value pertama e_val dan eigen vector pertama e_vec sama, menunjukkan bahwa eigen vector dan eigen value sudah benar-benar merepresentasikan sifat-sifat matriks A."
      ],
      "metadata": {
        "id": "uIHC_01SQ3J3"
      }
    },
    {
      "cell_type": "markdown",
      "metadata": {
        "id": "kjS8YZLAMXB_"
      },
      "source": [
        "### Latihan-4 (Operasi matriks)"
      ]
    },
    {
      "cell_type": "code",
      "metadata": {
        "id": "RIH4ROFmGuip"
      },
      "source": [
        "A = np.array([[1, 2], [7,8]])\n",
        "B = np.array([[3, 5], [1,6]])"
      ],
      "execution_count": null,
      "outputs": []
    },
    {
      "cell_type": "markdown",
      "metadata": {
        "id": "dj6lY65jLBqx"
      },
      "source": [
        "Hitunglah:\n",
        "*   2*A\n",
        "*   2+A\n",
        "*   A+B\n",
        "*   A-B\n",
        "*   determinan A\n",
        "*   invers dari B, simpan jadi matriks D\n",
        "*   transpose D\n",
        "*   nilai eigen dan vektor eigen dari A dan B\n",
        "\n",
        "\n",
        "\n",
        "\n",
        "\n"
      ]
    },
    {
      "cell_type": "code",
      "metadata": {
        "id": "zkywTKVELriJ",
        "colab": {
          "base_uri": "https://localhost:8080/"
        },
        "outputId": "791657f9-144a-4fd8-dcc4-c1ad38da78c9"
      },
      "source": [
        "#Ketik Kode disini\n",
        "\n",
        "import numpy as np\n",
        "\n",
        "A = np.array([[1, 2], [7, 8]])\n",
        "B = np.array([[3, 5], [1, 6]])\n",
        "\n",
        "# 2*A\n",
        "print(\"2*A =\")\n",
        "print(2*A)\n",
        "\n",
        "# 2+A\n",
        "print(\"2+A =\")\n",
        "print(2+A)\n",
        "\n",
        "# A+B\n",
        "print(\"A+B =\")\n",
        "print(A+B)\n",
        "\n",
        "# A-B\n",
        "print(\"A-B =\")\n",
        "print(A-B)\n",
        "\n",
        "# determinan A\n",
        "print(\"Determinan A =\", np.linalg.det(A))\n",
        "\n",
        "# invers dari B, simpan jadi matriks D\n",
        "D = np.linalg.inv(B)\n",
        "print(\"Invers dari B, D =\")\n",
        "print(D)\n",
        "\n",
        "# transpose D\n",
        "print(\"Transpose dari D =\")\n",
        "print(D.T)\n",
        "\n",
        "# nilai eigen dan vektor eigen dari A\n",
        "eigenvalues, eigenvectors = np.linalg.eig(A)\n",
        "print(\"Nilai eigen dan vektor eigen dari A:\")\n",
        "print(\"Nilai eigen = \", eigenvalues)\n",
        "print(\"Vektor eigen = \\n\", eigenvectors)\n",
        "\n",
        "# nilai eigen dan vektor eigen dari B\n",
        "eigenvalues, eigenvectors = np.linalg.eig(B)\n",
        "print(\"Nilai eigen dan vektor eigen dari B:\")\n",
        "print(\"Nilai eigen = \", eigenvalues)\n",
        "print(\"Vektor eigen = \\n\", eigenvectors)\n"
      ],
      "execution_count": null,
      "outputs": [
        {
          "output_type": "stream",
          "name": "stdout",
          "text": [
            "2*A =\n",
            "[[ 2  4]\n",
            " [14 16]]\n",
            "2+A =\n",
            "[[ 3  4]\n",
            " [ 9 10]]\n",
            "A+B =\n",
            "[[ 4  7]\n",
            " [ 8 14]]\n",
            "A-B =\n",
            "[[-2 -3]\n",
            " [ 6  2]]\n",
            "Determinan A = -6.0\n",
            "Invers dari B, D =\n",
            "[[ 0.46153846 -0.38461538]\n",
            " [-0.07692308  0.23076923]]\n",
            "Transpose dari D =\n",
            "[[ 0.46153846 -0.07692308]\n",
            " [-0.38461538  0.23076923]]\n",
            "Nilai eigen dan vektor eigen dari A:\n",
            "Nilai eigen =  [-0.62347538  9.62347538]\n",
            "Vektor eigen = \n",
            " [[-0.77640358 -0.22592838]\n",
            " [ 0.63023605 -0.97414391]]\n",
            "Nilai eigen dan vektor eigen dari B:\n",
            "Nilai eigen =  [1.8074176 7.1925824]\n",
            "Vektor eigen = \n",
            " [[-0.97271381 -0.76626443]\n",
            " [ 0.23200828 -0.64252535]]\n"
          ]
        }
      ]
    },
    {
      "cell_type": "markdown",
      "metadata": {
        "id": "7NwMsWC-MQgG"
      },
      "source": [
        "Apa perbedaan dari B*D (perkalian antar entry di B dan D) dan BD (perkalian matriks B dan D)? "
      ]
    },
    {
      "cell_type": "markdown",
      "source": [
        "Perkalian antar entry di B dan D dilakukan dengan mengalikan setiap elemen di matriks B dengan elemen yang sesuai di matriks D. Jadi, jika B dan D memiliki ukuran yang sama, hasil dari B*D akan menjadi matriks dengan ukuran yang sama seperti B dan D, di mana setiap elemen pada matriks hasil diperoleh dengan mengalikan elemen yang sesuai pada B dan D.\n",
        "\n",
        "Contoh:"
      ],
      "metadata": {
        "id": "7IBvbCm6ONFI"
      }
    },
    {
      "cell_type": "code",
      "source": [
        "import numpy as np\n",
        "\n",
        "B = np.array([[1, 2], [3, 4]])\n",
        "D = np.array([[2, 3], [4, 5]])\n",
        "\n",
        "result = B * D\n",
        "print(result)"
      ],
      "metadata": {
        "colab": {
          "base_uri": "https://localhost:8080/"
        },
        "id": "S73ttASzOIHr",
        "outputId": "2d808776-bc59-4762-e625-62fd4f7019ac"
      },
      "execution_count": null,
      "outputs": [
        {
          "output_type": "stream",
          "name": "stdout",
          "text": [
            "[[ 2  6]\n",
            " [12 20]]\n"
          ]
        }
      ]
    },
    {
      "cell_type": "markdown",
      "source": [
        "Perkalian matriks B dan D (BD)\n",
        "\n",
        "Perkalian matriks B dan D dilakukan dengan mengalikan setiap baris di matriks B dengan setiap kolom di matriks D. Ukuran dari matriks hasil bergantung pada jumlah kolom dari matriks B dan jumlah baris dari matriks D. Jika jumlah kolom dari B sama dengan jumlah baris dari D, maka operasi perkalian akan valid dan menghasilkan matriks dengan ukuran jumlah baris dari B dan jumlah kolom dari D.\n",
        "\n",
        "Contoh:"
      ],
      "metadata": {
        "id": "tvxfG8E8OmNP"
      }
    },
    {
      "cell_type": "code",
      "source": [
        "import numpy as np\n",
        "\n",
        "B = np.array([[1, 2], [3, 4]])\n",
        "D = np.array([[2, 3], [4, 5]])\n",
        "\n",
        "result = B.dot(D)\n",
        "print(result)"
      ],
      "metadata": {
        "colab": {
          "base_uri": "https://localhost:8080/"
        },
        "id": "WWJQmKmvOr4L",
        "outputId": "56d833b4-5936-4fb1-8ac8-8c4d53c27e32"
      },
      "execution_count": null,
      "outputs": [
        {
          "output_type": "stream",
          "name": "stdout",
          "text": [
            "[[10 13]\n",
            " [22 29]]\n"
          ]
        }
      ]
    },
    {
      "cell_type": "markdown",
      "source": [
        "Jadi, dapat dilihat bahwa perbedaan utama antara B*D dan BD adalah bahwa B*D merupakan perkalian antar entry di B dan D, sedangkan BD adalah perkalian matriks antara B dan D."
      ],
      "metadata": {
        "id": "QAKB4KCkOyu3"
      }
    },
    {
      "cell_type": "markdown",
      "metadata": {
        "id": "633JPFjMTk3Y"
      },
      "source": [
        "output jawaban: \n",
        "\n",
        "perkalian entry = [[ 1.38461538, -1.92307692], [-0.07692308,  1.38461538]]\n",
        "\n",
        "perkalian matriks = [[ 1.00000000e+00, -1.11022302e-16],\n",
        "       [ 1.11022302e-16,  1.00000000e+00]]\n"
      ]
    }
  ]
}