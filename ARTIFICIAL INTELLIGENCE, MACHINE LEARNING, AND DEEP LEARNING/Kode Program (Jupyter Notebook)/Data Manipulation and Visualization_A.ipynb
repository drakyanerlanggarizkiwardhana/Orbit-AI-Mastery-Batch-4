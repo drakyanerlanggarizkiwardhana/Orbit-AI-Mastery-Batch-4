{
 "cells": [
  {
   "cell_type": "markdown",
   "metadata": {
    "id": "LiA9rDkvZNLO"
   },
   "source": [
    "# Module 3: Data Analytics With Python - Applied Statistics "
   ]
  },
  {
   "cell_type": "markdown",
   "metadata": {
    "id": "NLh3jZI2kgK5"
   },
   "source": [
    "## Lab1: Data Manipulation With Pandas"
   ]
  },
  {
   "cell_type": "markdown",
   "metadata": {
    "id": "jqgJWw3zWnAp"
   },
   "source": [
    "<br><br><br><br><br><br>\n",
    "## Objective\n",
    "***\n",
    "\n",
    "<ul type='disc'>\n",
    "  <li>Series and DataFrame\n",
    "    <ul type='circle'>\n",
    "      <li>What is Series?</li>\n",
    "      <li>What is DataFrame?</li>\n",
    "    </ul>\n",
    "  </li>\n",
    "  <li>DataFrame Basic Properties</li>\n",
    "  <li> Importing Excel Sheets, csv files and executing SQL Queries </li>\n",
    "</ul>"
   ]
  },
  {
   "cell_type": "markdown",
   "metadata": {
    "id": "xNlQ-XVpkoeE"
   },
   "source": [
    "<br><br><br><br>\n",
    "## Series And DataFrame\n",
    "***"
   ]
  },
  {
   "cell_type": "markdown",
   "metadata": {
    "id": "whpwzBwnzbeD"
   },
   "source": [
    "pandas is a Python package providing fast, flexible, and expressive data structures designed to make working with “relational” or “labeled” data both easy and intuitive.  \n",
    "\n",
    "It aims to be the fundamental high-level building block for doing practical, real world data analysis in Python. \n",
    "\n",
    "The two primary data structures of pandas are: - Series and Data Frame. "
   ]
  },
  {
   "cell_type": "markdown",
   "metadata": {
    "id": "_ZOuH1fEzqj2"
   },
   "source": [
    "<br><br><br><br>\n",
    "## What is Series?\n",
    "***"
   ]
  },
  {
   "cell_type": "markdown",
   "metadata": {
    "id": "1wlCsD392_ll"
   },
   "source": [
    "Pandas Series is a one-dimensional labeled array capable of holding data of any type (integer, string, float, python objects, etc.). The axis labels are collectively called index. Pandas Series is nothing but a column in an excel sheet.\n",
    "\n",
    "In the code below, a simple array is built using numpy and converted to pandas Series.  "
   ]
  },
  {
   "cell_type": "code",
   "execution_count": 1,
   "metadata": {
    "colab": {
     "base_uri": "https://localhost:8080/"
    },
    "id": "FTU7-V8ykaXL",
    "outputId": "61aa8c72-27f3-4fc3-e418-26d77c4fe67e"
   },
   "outputs": [
    {
     "data": {
      "text/plain": [
       "0    a\n",
       "1    b\n",
       "2    c\n",
       "3    d\n",
       "dtype: object"
      ]
     },
     "execution_count": 1,
     "metadata": {},
     "output_type": "execute_result"
    }
   ],
   "source": [
    "import pandas as pd\n",
    "import numpy as np\n",
    "x = np.array(['a','b','c','d'])\n",
    "pd.Series(x)"
   ]
  },
  {
   "cell_type": "markdown",
   "metadata": {
    "id": "WNiBCQcr0Kts"
   },
   "source": [
    "We can change the indices using 'index' attribute."
   ]
  },
  {
   "cell_type": "code",
   "execution_count": 2,
   "metadata": {
    "colab": {
     "base_uri": "https://localhost:8080/"
    },
    "id": "lKl6e7vtnOz9",
    "outputId": "4d718c85-eb2c-4073-d179-e5b5bdba7873"
   },
   "outputs": [
    {
     "data": {
      "text/plain": [
       "a    1\n",
       "b    2\n",
       "c    3\n",
       "d    4\n",
       "dtype: int64"
      ]
     },
     "execution_count": 2,
     "metadata": {},
     "output_type": "execute_result"
    }
   ],
   "source": [
    "s = pd.Series([1,2,3,4], index=['a','b','c','d'])       #Changed the indices to 'a','b','c','d'\n",
    "s"
   ]
  },
  {
   "cell_type": "code",
   "execution_count": 3,
   "metadata": {
    "colab": {
     "base_uri": "https://localhost:8080/"
    },
    "id": "pd-Ts47fpjyU",
    "outputId": "ac9b006d-0f11-4ead-95cf-0c8e9764d301"
   },
   "outputs": [
    {
     "name": "stdout",
     "output_type": "stream",
     "text": [
      "3\n"
     ]
    }
   ],
   "source": [
    "print(s['c'])       #Retrieving an element using new index"
   ]
  },
  {
   "cell_type": "markdown",
   "metadata": {
    "id": "DZrKqUNw0QfY"
   },
   "source": [
    "<br><br><br><br><br><br>\n",
    "## What is DataFrame?\n",
    "***"
   ]
  },
  {
   "cell_type": "markdown",
   "metadata": {
    "id": "e5L7lhwE0bP6"
   },
   "source": [
    "A Data frame is a two-dimensional data structure, i.e., data is aligned in a tabular fashion in rows and columns. "
   ]
  },
  {
   "cell_type": "code",
   "execution_count": 4,
   "metadata": {
    "colab": {
     "base_uri": "https://localhost:8080/"
    },
    "id": "7HBIraeKphuv",
    "outputId": "795c651d-5aa4-4ef7-ae30-2d83e76c7ca0"
   },
   "outputs": [
    {
     "name": "stdout",
     "output_type": "stream",
     "text": [
      "           name  year  reports\n",
      "Medan     Molly  2012        8\n",
      "Bandung     Nur  2014       12\n",
      "Jakarta   Indar  2015       25\n",
      "Surabaya   Adit  2012        7\n"
     ]
    }
   ],
   "source": [
    "#Creating a dataframe\n",
    "data = {'name': ['Molly','Nur','Indar','Adit'],\n",
    "        'year': [2012, 2014, 2015, 2012],\n",
    "        'reports': [8, 12, 25, 7]}\n",
    "\n",
    "df = pd.DataFrame(data, index=['Medan', 'Bandung', 'Jakarta', 'Surabaya'])\n",
    "print(df)"
   ]
  },
  {
   "cell_type": "markdown",
   "metadata": {
    "id": "XenTLo2r0f-K"
   },
   "source": [
    "Pandas use loc() and iloc() methods for manipulation of data.  \n",
    "\n",
    "loc() is label based data selecting method which means that we have to pass the name of the row or column which we want to select. \n",
    "\n",
    "iloc() is a indexed based selecting method which means that we have to pass integer index in the method to select specific row/column. \n",
    "<br><br>"
   ]
  },
  {
   "cell_type": "code",
   "execution_count": 5,
   "metadata": {
    "colab": {
     "base_uri": "https://localhost:8080/"
    },
    "id": "a_S5cgPNwPLT",
    "outputId": "df96485e-a44d-4c09-dbb2-7cd12afd66ef"
   },
   "outputs": [
    {
     "name": "stdout",
     "output_type": "stream",
     "text": [
      "name       Indar\n",
      "year        2015\n",
      "reports       25\n",
      "Name: Jakarta, dtype: object\n",
      "name       Adit\n",
      "year       2012\n",
      "reports       7\n",
      "Name: Surabaya, dtype: object\n"
     ]
    }
   ],
   "source": [
    "#Retrieving data using loc\n",
    "print(df.loc['Jakarta'])\n",
    "\n",
    "#Retrieving data using iloc\n",
    "print(df.iloc[3])\n"
   ]
  },
  {
   "cell_type": "markdown",
   "metadata": {
    "id": "ktBEG-8mktyx"
   },
   "source": [
    "<br><br><br><br>\n",
    "## DataFrame Basic Properties\n",
    "***"
   ]
  },
  {
   "cell_type": "markdown",
   "metadata": {
    "id": "mTB5QqKq0qT9"
   },
   "source": [
    "Here we are converting a simple Python list into pandas Data Frame. "
   ]
  },
  {
   "cell_type": "code",
   "execution_count": 6,
   "metadata": {
    "colab": {
     "base_uri": "https://localhost:8080/"
    },
    "id": "WaaRGXyPk3Rg",
    "outputId": "25bba946-4bad-479b-870f-6bca09b155d1"
   },
   "outputs": [
    {
     "name": "stdout",
     "output_type": "stream",
     "text": [
      "        0\n",
      "0    Aman\n",
      "1    Siya\n",
      "2  Denver\n",
      "3   Freya\n"
     ]
    }
   ],
   "source": [
    "# import pandas as pd\n",
    "import pandas as pd\n",
    " \n",
    "# list of strings\n",
    "lst = ['Aman', 'Siya', 'Denver', 'Freya']\n",
    "\n",
    "# Calling DataFrame constructor on list\n",
    "df = pd.DataFrame(lst)\n",
    "print(df)"
   ]
  },
  {
   "cell_type": "markdown",
   "metadata": {
    "id": "SEUgdxe30yHD"
   },
   "source": [
    "Here, we are converting a python dictionary to pandas Data Frame.\n"
   ]
  },
  {
   "cell_type": "code",
   "execution_count": 7,
   "metadata": {
    "colab": {
     "base_uri": "https://localhost:8080/"
    },
    "id": "6kBiqWzm7qQv",
    "outputId": "e1e13756-823a-4764-ad4a-f564bae78138"
   },
   "outputs": [
    {
     "name": "stdout",
     "output_type": "stream",
     "text": [
      "     Name  Age\n",
      "0     Nur   18\n",
      "1  Gesang   22\n",
      "2     Kia   20\n",
      "3    Jack   28\n"
     ]
    }
   ],
   "source": [
    "# Demonstrate creating  DataFrame from dict narray / lists \n",
    "\n",
    "import pandas as pd\n",
    " \n",
    "# intialise data of lists.\n",
    "data = {'Name':['Nur', 'Gesang', 'Kia', 'Jack'],\n",
    "        'Age':[18, 22, 20, 28]}\n",
    " \n",
    "# Create DataFrame\n",
    "df = pd.DataFrame(data)\n",
    " \n",
    "# Print the output.\n",
    "print(df)"
   ]
  },
  {
   "cell_type": "markdown",
   "metadata": {
    "id": "jLRcm1Zk06sb"
   },
   "source": [
    "Retrieving data using column names is simple and as shown as below: "
   ]
  },
  {
   "cell_type": "code",
   "execution_count": 8,
   "metadata": {
    "colab": {
     "base_uri": "https://localhost:8080/"
    },
    "id": "d00Lvan38NpS",
    "outputId": "e958f870-838a-4ba3-abd5-04302e338ae5"
   },
   "outputs": [
    {
     "name": "stdout",
     "output_type": "stream",
     "text": [
      "     Name  Age   Address Qualification\n",
      "0     Adi   27   Jakarta           Msc\n",
      "1  Gesang   34   Bandung           BSc\n",
      "2   Indar   22     Medan           MCA\n",
      "3     Nur   30  Surabaya           Phd \n",
      "\n",
      "\n",
      "     Name Qualification\n",
      "0     Adi           Msc\n",
      "1  Gesang           BSc\n",
      "2   Indar           MCA\n",
      "3     Nur           Phd\n"
     ]
    }
   ],
   "source": [
    "#Selecting columns\n",
    "\n",
    "import pandas as pd\n",
    " \n",
    "# Define a dictionary containing employee data\n",
    "data = {'Name':['Adi', 'Gesang', 'Indar', 'Nur'],\n",
    "        'Age':[27, 34, 22, 30],\n",
    "        'Address':['Jakarta', 'Bandung', 'Medan', 'Surabaya'],\n",
    "        'Qualification':['Msc', 'BSc', 'MCA', 'Phd']}\n",
    " \n",
    "# Convert the dictionary into DataFrame \n",
    "df = pd.DataFrame(data)\n",
    "print(df, \"\\n\\n\") \n",
    "# select two columns\n",
    "print(df[['Name', 'Qualification']])"
   ]
  },
  {
   "cell_type": "markdown",
   "metadata": {
    "id": "OBrhcmr31At3"
   },
   "source": [
    "<br><br>\n",
    "Data can be retrieved using rows using two methods: loc () and iloc () \n",
    "\n",
    "loc () is label-based data selecting method which means that we must pass the name of the row or column which we want to select. \n",
    "\n",
    "Here we are using loc and selecting data of people who live in ‘Medan’ and whose age>20. \n",
    "<br><br>"
   ]
  },
  {
   "cell_type": "code",
   "execution_count": 9,
   "metadata": {
    "colab": {
     "base_uri": "https://localhost:8080/"
    },
    "id": "7iEv31QW8vbX",
    "outputId": "eb7cf492-c808-4c30-af70-6a95308e5c23"
   },
   "outputs": [
    {
     "name": "stdout",
     "output_type": "stream",
     "text": [
      "    Name  Age Address Qualification\n",
      "0    Adi   27   Medan           Msc\n",
      "2  Indar   22   Medan           MCA\n"
     ]
    }
   ],
   "source": [
    "#Selecting rows\n",
    "import pandas as pd\n",
    " \n",
    "data = {'Name':['Adi', 'Gesang', 'Indar', 'Nur', 'Pai'],\n",
    "        'Age':[27, 34, 22, 30, 25],\n",
    "        'Address':['Medan', 'Bandung', 'Medan', 'Surabaya','Surabaya'],\n",
    "        'Qualification':['Msc', 'BSc', 'MCA', 'Phd','BSc']}\n",
    "\n",
    "# retrieving row by loc method\n",
    "df = pd.DataFrame(data)\n",
    "\n",
    "print(df.loc[(df.Address=='Medan') & (df.Age > 20)])"
   ]
  },
  {
   "cell_type": "markdown",
   "metadata": {
    "id": "mqbaqtTL1W52"
   },
   "source": [
    "This code will output all the rows from 2nd index to 4th index. "
   ]
  },
  {
   "cell_type": "code",
   "execution_count": 10,
   "metadata": {
    "colab": {
     "base_uri": "https://localhost:8080/",
     "height": 143
    },
    "id": "Qv9ISkpuBWSw",
    "outputId": "1a695aa3-89f5-4307-946a-a8ba09ef3e5a"
   },
   "outputs": [
    {
     "data": {
      "text/html": [
       "<div>\n",
       "<style scoped>\n",
       "    .dataframe tbody tr th:only-of-type {\n",
       "        vertical-align: middle;\n",
       "    }\n",
       "\n",
       "    .dataframe tbody tr th {\n",
       "        vertical-align: top;\n",
       "    }\n",
       "\n",
       "    .dataframe thead th {\n",
       "        text-align: right;\n",
       "    }\n",
       "</style>\n",
       "<table border=\"1\" class=\"dataframe\">\n",
       "  <thead>\n",
       "    <tr style=\"text-align: right;\">\n",
       "      <th></th>\n",
       "      <th>Name</th>\n",
       "      <th>Age</th>\n",
       "      <th>Address</th>\n",
       "      <th>Qualification</th>\n",
       "    </tr>\n",
       "  </thead>\n",
       "  <tbody>\n",
       "    <tr>\n",
       "      <th>2</th>\n",
       "      <td>Indar</td>\n",
       "      <td>22</td>\n",
       "      <td>Medan</td>\n",
       "      <td>MCA</td>\n",
       "    </tr>\n",
       "    <tr>\n",
       "      <th>3</th>\n",
       "      <td>Nur</td>\n",
       "      <td>30</td>\n",
       "      <td>Surabaya</td>\n",
       "      <td>Phd</td>\n",
       "    </tr>\n",
       "    <tr>\n",
       "      <th>4</th>\n",
       "      <td>Pai</td>\n",
       "      <td>25</td>\n",
       "      <td>Surabaya</td>\n",
       "      <td>BSc</td>\n",
       "    </tr>\n",
       "  </tbody>\n",
       "</table>\n",
       "</div>"
      ],
      "text/plain": [
       "    Name  Age   Address Qualification\n",
       "2  Indar   22     Medan           MCA\n",
       "3    Nur   30  Surabaya           Phd\n",
       "4    Pai   25  Surabaya           BSc"
      ]
     },
     "execution_count": 10,
     "metadata": {},
     "output_type": "execute_result"
    }
   ],
   "source": [
    "df.loc[2:5]"
   ]
  },
  {
   "cell_type": "markdown",
   "metadata": {
    "id": "z8V6Ip_C1X7L"
   },
   "source": [
    "iloc() is a indexed based selecting method which means that we have to pass integer index in the method to select specific row/column. \n",
    "\n",
    "This will return rows with index 0, 2 and 3. "
   ]
  },
  {
   "cell_type": "code",
   "execution_count": 11,
   "metadata": {
    "colab": {
     "base_uri": "https://localhost:8080/",
     "height": 143
    },
    "id": "vUyBPTLuBUAO",
    "outputId": "ab331a75-90c3-4b51-9f57-68f55bbbd3c5"
   },
   "outputs": [
    {
     "data": {
      "text/html": [
       "<div>\n",
       "<style scoped>\n",
       "    .dataframe tbody tr th:only-of-type {\n",
       "        vertical-align: middle;\n",
       "    }\n",
       "\n",
       "    .dataframe tbody tr th {\n",
       "        vertical-align: top;\n",
       "    }\n",
       "\n",
       "    .dataframe thead th {\n",
       "        text-align: right;\n",
       "    }\n",
       "</style>\n",
       "<table border=\"1\" class=\"dataframe\">\n",
       "  <thead>\n",
       "    <tr style=\"text-align: right;\">\n",
       "      <th></th>\n",
       "      <th>Name</th>\n",
       "      <th>Age</th>\n",
       "      <th>Address</th>\n",
       "      <th>Qualification</th>\n",
       "    </tr>\n",
       "  </thead>\n",
       "  <tbody>\n",
       "    <tr>\n",
       "      <th>0</th>\n",
       "      <td>Adi</td>\n",
       "      <td>27</td>\n",
       "      <td>Medan</td>\n",
       "      <td>Msc</td>\n",
       "    </tr>\n",
       "    <tr>\n",
       "      <th>2</th>\n",
       "      <td>Indar</td>\n",
       "      <td>22</td>\n",
       "      <td>Medan</td>\n",
       "      <td>MCA</td>\n",
       "    </tr>\n",
       "    <tr>\n",
       "      <th>3</th>\n",
       "      <td>Nur</td>\n",
       "      <td>30</td>\n",
       "      <td>Surabaya</td>\n",
       "      <td>Phd</td>\n",
       "    </tr>\n",
       "  </tbody>\n",
       "</table>\n",
       "</div>"
      ],
      "text/plain": [
       "    Name  Age   Address Qualification\n",
       "0    Adi   27     Medan           Msc\n",
       "2  Indar   22     Medan           MCA\n",
       "3    Nur   30  Surabaya           Phd"
      ]
     },
     "execution_count": 11,
     "metadata": {},
     "output_type": "execute_result"
    }
   ],
   "source": [
    "df.iloc[[0,2,3]]"
   ]
  },
  {
   "cell_type": "markdown",
   "metadata": {
    "id": "hCuUyv8w1akO"
   },
   "source": [
    "This will return data of rows from 1st to 4th index and 1st to 2nd column. "
   ]
  },
  {
   "cell_type": "code",
   "execution_count": 12,
   "metadata": {
    "colab": {
     "base_uri": "https://localhost:8080/",
     "height": 175
    },
    "id": "gpyhjF_OBwt4",
    "outputId": "f518dbac-cfcb-4bcf-fcb8-f797ccf1867f"
   },
   "outputs": [
    {
     "data": {
      "text/html": [
       "<div>\n",
       "<style scoped>\n",
       "    .dataframe tbody tr th:only-of-type {\n",
       "        vertical-align: middle;\n",
       "    }\n",
       "\n",
       "    .dataframe tbody tr th {\n",
       "        vertical-align: top;\n",
       "    }\n",
       "\n",
       "    .dataframe thead th {\n",
       "        text-align: right;\n",
       "    }\n",
       "</style>\n",
       "<table border=\"1\" class=\"dataframe\">\n",
       "  <thead>\n",
       "    <tr style=\"text-align: right;\">\n",
       "      <th></th>\n",
       "      <th>Age</th>\n",
       "      <th>Address</th>\n",
       "    </tr>\n",
       "  </thead>\n",
       "  <tbody>\n",
       "    <tr>\n",
       "      <th>1</th>\n",
       "      <td>34</td>\n",
       "      <td>Bandung</td>\n",
       "    </tr>\n",
       "    <tr>\n",
       "      <th>2</th>\n",
       "      <td>22</td>\n",
       "      <td>Medan</td>\n",
       "    </tr>\n",
       "    <tr>\n",
       "      <th>3</th>\n",
       "      <td>30</td>\n",
       "      <td>Surabaya</td>\n",
       "    </tr>\n",
       "    <tr>\n",
       "      <th>4</th>\n",
       "      <td>25</td>\n",
       "      <td>Surabaya</td>\n",
       "    </tr>\n",
       "  </tbody>\n",
       "</table>\n",
       "</div>"
      ],
      "text/plain": [
       "   Age   Address\n",
       "1   34   Bandung\n",
       "2   22     Medan\n",
       "3   30  Surabaya\n",
       "4   25  Surabaya"
      ]
     },
     "execution_count": 12,
     "metadata": {},
     "output_type": "execute_result"
    }
   ],
   "source": [
    "df.iloc[1:5,1:3]"
   ]
  },
  {
   "cell_type": "markdown",
   "metadata": {
    "id": "j926fx0lkyU6"
   },
   "source": [
    "<br><br><br><br><br><br><br><br>\n",
    "## Importing Excel Sheets, csv files and executing SQL Queries \n",
    "***"
   ]
  },
  {
   "cell_type": "markdown",
   "metadata": {
    "id": "C7RKaWxF1x3Y"
   },
   "source": [
    "Here we will read an excel file as a data frame. "
   ]
  },
  {
   "cell_type": "code",
   "execution_count": 15,
   "metadata": {
    "colab": {
     "base_uri": "https://localhost:8080/"
    },
    "id": "Smjpd6wsk3-F",
    "outputId": "9e3fd963-f7f7-4f5d-9029-1e7a19c43e3f"
   },
   "outputs": [
    {
     "name": "stdout",
     "output_type": "stream",
     "text": [
      "                Book          Author\n",
      "0      The Alchemist    Paulo Coelho\n",
      "1           Becoming  Michelle Obama\n",
      "2  Rich Dad Poor Dad  Robert Kiyoski\n"
     ]
    }
   ],
   "source": [
    "import pandas as pd \n",
    "\n",
    "# download dataset from\n",
    "# https://github.com/bluedataconsulting/AIMasteryProgram/blob/main/Lab_Exercises/Module3/sample.xlsx\n",
    "df = pd.read_excel(\"sample.xlsx\")\n",
    "print(df)"
   ]
  },
  {
   "cell_type": "markdown",
   "metadata": {
    "id": "T-VCZ9DC117G"
   },
   "source": [
    "Here the excel file will be read and the ‘Book’ column will be made the index.  "
   ]
  },
  {
   "cell_type": "code",
   "execution_count": 16,
   "metadata": {
    "colab": {
     "base_uri": "https://localhost:8080/"
    },
    "id": "oiYmTxRcZ-RN",
    "outputId": "4ec8f0e5-2149-4c29-bda8-fdafd10fa8f3"
   },
   "outputs": [
    {
     "name": "stdout",
     "output_type": "stream",
     "text": [
      "                           Author\n",
      "Book                             \n",
      "The Alchemist        Paulo Coelho\n",
      "Becoming           Michelle Obama\n",
      "Rich Dad Poor Dad  Robert Kiyoski\n"
     ]
    }
   ],
   "source": [
    "import pandas as pd\n",
    "  \n",
    "# Download dataset from\n",
    "# https://github.com/bluedataconsulting/AIMasteryProgram/blob/main/Lab_Exercises/Module3/sample.xlsx\n",
    "# Here 0th column will be extracted and made it index\n",
    "df = pd.read_excel(\"sample.xlsx\", index_col = 0)  \n",
    "  \n",
    "print(df)"
   ]
  },
  {
   "cell_type": "markdown",
   "metadata": {
    "id": "RJOK90Ge128V"
   },
   "source": [
    "When we don’t want the names of the columns(header) to be read, we use  header=None.\n",
    "\n",
    "\n",
    "\n",
    "\n"
   ]
  },
  {
   "cell_type": "code",
   "execution_count": 17,
   "metadata": {
    "colab": {
     "base_uri": "https://localhost:8080/"
    },
    "id": "vLRHp1QOatUH",
    "outputId": "57a059c9-26bf-4349-956a-122c2a8ea08c"
   },
   "outputs": [
    {
     "name": "stdout",
     "output_type": "stream",
     "text": [
      "                   0               1\n",
      "0               Book          Author\n",
      "1      The Alchemist    Paulo Coelho\n",
      "2           Becoming  Michelle Obama\n",
      "3  Rich Dad Poor Dad  Robert Kiyoski\n"
     ]
    }
   ],
   "source": [
    "import pandas as pd\n",
    "  \n",
    "df = pd.read_excel('sample.xlsx', header = None)\n",
    "print(df)"
   ]
  },
  {
   "cell_type": "code",
   "execution_count": 19,
   "metadata": {
    "id": "JB4Gvu80bzTj"
   },
   "outputs": [
    {
     "data": {
      "text/html": [
       "<div>\n",
       "<style scoped>\n",
       "    .dataframe tbody tr th:only-of-type {\n",
       "        vertical-align: middle;\n",
       "    }\n",
       "\n",
       "    .dataframe tbody tr th {\n",
       "        vertical-align: top;\n",
       "    }\n",
       "\n",
       "    .dataframe thead th {\n",
       "        text-align: right;\n",
       "    }\n",
       "</style>\n",
       "<table border=\"1\" class=\"dataframe\">\n",
       "  <thead>\n",
       "    <tr style=\"text-align: right;\">\n",
       "      <th></th>\n",
       "      <th>Unnamed: 0</th>\n",
       "      <th>weight</th>\n",
       "      <th>group</th>\n",
       "    </tr>\n",
       "  </thead>\n",
       "  <tbody>\n",
       "    <tr>\n",
       "      <th>0</th>\n",
       "      <td>1</td>\n",
       "      <td>4.17</td>\n",
       "      <td>ctrl</td>\n",
       "    </tr>\n",
       "    <tr>\n",
       "      <th>1</th>\n",
       "      <td>2</td>\n",
       "      <td>5.58</td>\n",
       "      <td>ctrl</td>\n",
       "    </tr>\n",
       "    <tr>\n",
       "      <th>2</th>\n",
       "      <td>3</td>\n",
       "      <td>5.18</td>\n",
       "      <td>ctrl</td>\n",
       "    </tr>\n",
       "    <tr>\n",
       "      <th>3</th>\n",
       "      <td>4</td>\n",
       "      <td>6.11</td>\n",
       "      <td>ctrl</td>\n",
       "    </tr>\n",
       "    <tr>\n",
       "      <th>4</th>\n",
       "      <td>5</td>\n",
       "      <td>4.50</td>\n",
       "      <td>ctrl</td>\n",
       "    </tr>\n",
       "    <tr>\n",
       "      <th>5</th>\n",
       "      <td>6</td>\n",
       "      <td>4.61</td>\n",
       "      <td>ctrl</td>\n",
       "    </tr>\n",
       "    <tr>\n",
       "      <th>6</th>\n",
       "      <td>7</td>\n",
       "      <td>5.17</td>\n",
       "      <td>ctrl</td>\n",
       "    </tr>\n",
       "    <tr>\n",
       "      <th>7</th>\n",
       "      <td>8</td>\n",
       "      <td>4.53</td>\n",
       "      <td>ctrl</td>\n",
       "    </tr>\n",
       "    <tr>\n",
       "      <th>8</th>\n",
       "      <td>9</td>\n",
       "      <td>5.33</td>\n",
       "      <td>ctrl</td>\n",
       "    </tr>\n",
       "    <tr>\n",
       "      <th>9</th>\n",
       "      <td>10</td>\n",
       "      <td>5.14</td>\n",
       "      <td>ctrl</td>\n",
       "    </tr>\n",
       "    <tr>\n",
       "      <th>10</th>\n",
       "      <td>11</td>\n",
       "      <td>4.81</td>\n",
       "      <td>trt1</td>\n",
       "    </tr>\n",
       "    <tr>\n",
       "      <th>11</th>\n",
       "      <td>12</td>\n",
       "      <td>4.17</td>\n",
       "      <td>trt1</td>\n",
       "    </tr>\n",
       "    <tr>\n",
       "      <th>12</th>\n",
       "      <td>13</td>\n",
       "      <td>4.41</td>\n",
       "      <td>trt1</td>\n",
       "    </tr>\n",
       "    <tr>\n",
       "      <th>13</th>\n",
       "      <td>14</td>\n",
       "      <td>3.59</td>\n",
       "      <td>trt1</td>\n",
       "    </tr>\n",
       "    <tr>\n",
       "      <th>14</th>\n",
       "      <td>15</td>\n",
       "      <td>5.87</td>\n",
       "      <td>trt1</td>\n",
       "    </tr>\n",
       "    <tr>\n",
       "      <th>15</th>\n",
       "      <td>16</td>\n",
       "      <td>3.83</td>\n",
       "      <td>trt1</td>\n",
       "    </tr>\n",
       "    <tr>\n",
       "      <th>16</th>\n",
       "      <td>17</td>\n",
       "      <td>6.03</td>\n",
       "      <td>trt1</td>\n",
       "    </tr>\n",
       "    <tr>\n",
       "      <th>17</th>\n",
       "      <td>18</td>\n",
       "      <td>4.89</td>\n",
       "      <td>trt1</td>\n",
       "    </tr>\n",
       "    <tr>\n",
       "      <th>18</th>\n",
       "      <td>19</td>\n",
       "      <td>4.32</td>\n",
       "      <td>trt1</td>\n",
       "    </tr>\n",
       "    <tr>\n",
       "      <th>19</th>\n",
       "      <td>20</td>\n",
       "      <td>4.69</td>\n",
       "      <td>trt1</td>\n",
       "    </tr>\n",
       "    <tr>\n",
       "      <th>20</th>\n",
       "      <td>21</td>\n",
       "      <td>6.31</td>\n",
       "      <td>trt2</td>\n",
       "    </tr>\n",
       "    <tr>\n",
       "      <th>21</th>\n",
       "      <td>22</td>\n",
       "      <td>5.12</td>\n",
       "      <td>trt2</td>\n",
       "    </tr>\n",
       "    <tr>\n",
       "      <th>22</th>\n",
       "      <td>23</td>\n",
       "      <td>5.54</td>\n",
       "      <td>trt2</td>\n",
       "    </tr>\n",
       "    <tr>\n",
       "      <th>23</th>\n",
       "      <td>24</td>\n",
       "      <td>5.50</td>\n",
       "      <td>trt2</td>\n",
       "    </tr>\n",
       "    <tr>\n",
       "      <th>24</th>\n",
       "      <td>25</td>\n",
       "      <td>5.37</td>\n",
       "      <td>trt2</td>\n",
       "    </tr>\n",
       "    <tr>\n",
       "      <th>25</th>\n",
       "      <td>26</td>\n",
       "      <td>5.29</td>\n",
       "      <td>trt2</td>\n",
       "    </tr>\n",
       "    <tr>\n",
       "      <th>26</th>\n",
       "      <td>27</td>\n",
       "      <td>4.92</td>\n",
       "      <td>trt2</td>\n",
       "    </tr>\n",
       "    <tr>\n",
       "      <th>27</th>\n",
       "      <td>28</td>\n",
       "      <td>6.15</td>\n",
       "      <td>trt2</td>\n",
       "    </tr>\n",
       "    <tr>\n",
       "      <th>28</th>\n",
       "      <td>29</td>\n",
       "      <td>5.80</td>\n",
       "      <td>trt2</td>\n",
       "    </tr>\n",
       "    <tr>\n",
       "      <th>29</th>\n",
       "      <td>30</td>\n",
       "      <td>5.26</td>\n",
       "      <td>trt2</td>\n",
       "    </tr>\n",
       "  </tbody>\n",
       "</table>\n",
       "</div>"
      ],
      "text/plain": [
       "    Unnamed: 0  weight group\n",
       "0            1    4.17  ctrl\n",
       "1            2    5.58  ctrl\n",
       "2            3    5.18  ctrl\n",
       "3            4    6.11  ctrl\n",
       "4            5    4.50  ctrl\n",
       "5            6    4.61  ctrl\n",
       "6            7    5.17  ctrl\n",
       "7            8    4.53  ctrl\n",
       "8            9    5.33  ctrl\n",
       "9           10    5.14  ctrl\n",
       "10          11    4.81  trt1\n",
       "11          12    4.17  trt1\n",
       "12          13    4.41  trt1\n",
       "13          14    3.59  trt1\n",
       "14          15    5.87  trt1\n",
       "15          16    3.83  trt1\n",
       "16          17    6.03  trt1\n",
       "17          18    4.89  trt1\n",
       "18          19    4.32  trt1\n",
       "19          20    4.69  trt1\n",
       "20          21    6.31  trt2\n",
       "21          22    5.12  trt2\n",
       "22          23    5.54  trt2\n",
       "23          24    5.50  trt2\n",
       "24          25    5.37  trt2\n",
       "25          26    5.29  trt2\n",
       "26          27    4.92  trt2\n",
       "27          28    6.15  trt2\n",
       "28          29    5.80  trt2\n",
       "29          30    5.26  trt2"
      ]
     },
     "execution_count": 19,
     "metadata": {},
     "output_type": "execute_result"
    }
   ],
   "source": [
    "#Loading a csv file using pandas\n",
    "\n",
    "# download dataset from  - \n",
    "# https://raw.githubusercontent.com/bluedataconsulting/AIMasteryProgram/main/Lab_Exercises/Module2/PlantGrowth.csv\n",
    "df = pd.read_csv('PlantGrowth.csv')\n",
    "df"
   ]
  },
  {
   "cell_type": "markdown",
   "metadata": {
    "id": "8lFEe263bmVc"
   },
   "source": [
    "### Thank You !!!\n"
   ]
  },
  {
   "cell_type": "code",
   "execution_count": null,
   "metadata": {},
   "outputs": [],
   "source": []
  }
 ],
 "metadata": {
  "colab": {
   "collapsed_sections": [],
   "name": "Module3_(1.1)_Data_Manipultion_With_Pandas_Lab_Exercise.ipynb",
   "provenance": []
  },
  "kernelspec": {
   "display_name": "Python 3",
   "language": "python",
   "name": "python3"
  },
  "language_info": {
   "codemirror_mode": {
    "name": "ipython",
    "version": 3
   },
   "file_extension": ".py",
   "mimetype": "text/x-python",
   "name": "python",
   "nbconvert_exporter": "python",
   "pygments_lexer": "ipython3",
   "version": "3.8.8"
  }
 },
 "nbformat": 4,
 "nbformat_minor": 1
}
