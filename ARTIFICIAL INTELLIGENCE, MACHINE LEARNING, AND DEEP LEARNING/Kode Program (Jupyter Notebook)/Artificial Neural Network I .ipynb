{
  "nbformat": 4,
  "nbformat_minor": 0,
  "metadata": {
    "colab": {
      "name": "Perceptron.ipynb",
      "private_outputs": true,
      "provenance": []
    },
    "kernelspec": {
      "name": "python3",
      "display_name": "Python 3"
    },
    "language_info": {
      "name": "python"
    }
  },
  "cells": [
    {
      "cell_type": "markdown",
      "source": [
        "## Code berikut dipakai untuk memahami cara kerja algoritma Single-Layer perceptron pada masalah AND, Or, dan XOR.\n",
        "\n",
        "- Masalah yang diselesaikan adalah linier dimana disini adalah AND, masalah AND gate ini sangat mudah diselesaikan menggunakan linier function pada single layer perceptron.\n",
        "- Disini juga menggunakan funsi step karena output dari program adalah binari 0 dan 1, jadi dapat diselesaikan dengan fungsi step."
      ],
      "metadata": {
        "id": "y2wW5LgA3-7e"
      }
    },
    {
      "cell_type": "markdown",
      "source": [
        "## Gerbang AND, OR, dan XOR\n",
        "\n",
        "\n",
        "![image.png](data:image/png;base64,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)"
      ],
      "metadata": {
        "id": "qbihjfaMRGM2"
      }
    },
    {
      "cell_type": "markdown",
      "source": [
        "## Step function\n",
        "\n",
        "![image.png](data:image/png;base64,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)"
      ],
      "metadata": {
        "id": "IurtXwFZGOOG"
      }
    },
    {
      "cell_type": "code",
      "source": [
        "# import the necessary packages\n",
        "import numpy as np"
      ],
      "metadata": {
        "id": "DtxziA6R36km"
      },
      "execution_count": null,
      "outputs": []
    },
    {
      "cell_type": "markdown",
      "source": [
        "## membuat class perceptron dan menulis algoritmanya"
      ],
      "metadata": {
        "id": "he0Bg69TJYiI"
      }
    },
    {
      "cell_type": "code",
      "execution_count": null,
      "metadata": {
        "id": "9cBwAofI3jj2"
      },
      "outputs": [],
      "source": [
        "class Perceptron:\n",
        "  def __init__(self, N, learning_rate = 0.1):\n",
        "    # initialize the weight matrix and store the learning rate\n",
        "    self.W = np.random.randn(N + 1) / np.sqrt(N)\n",
        "    self.learning_rate = learning_rate\n",
        "\n",
        "  def step(self, x):\n",
        "    # apply the step function\n",
        "    return 1 if x > 0 else 0\n",
        "\n",
        "  def fit(self, X, y, epochs=10):\n",
        "    # insert a column of 1's as the last entry in the feature\n",
        "\t\t# matrix -- this little trick allows us to treat the bias\n",
        "\t\t# as a trainable parameter within the weight matrix\n",
        "    X = np.c_[X, np.ones((X.shape[0]))]\n",
        "\n",
        "    # loop over the desired number of epochs\n",
        "    for epoch in np.arange(0, epochs):\n",
        "\t\t\t# loop over each individual data point\n",
        "      for (x, target) in zip(X, y):\n",
        "\t\t\t\t# take the dot product between the input features\n",
        "\t\t\t\t# and the weight matrix, then pass this value\n",
        "\t\t\t\t# through the step function to obtain the prediction\n",
        "        p = self.step(np.dot(x, self.W))\n",
        "\t\t\t\t# only perform a weight update if our prediction\n",
        "\t\t\t\t# does not match the target\n",
        "        if p != target:\n",
        "\t\t\t\t\t# determine the error\n",
        "          error = p - target\n",
        "\t\t\t\t\t# update the weight matrix\n",
        "          self.W += -self.learning_rate * error * x\n",
        "\n",
        "  def predict(self, X, addBias=True):\n",
        "\t\t# ensure our input is a matrix\n",
        "    X = np.atleast_2d(X)\n",
        "\t\t# check to see if the bias column should be added\n",
        "    if addBias:\n",
        "\t\t\t# insert a column of 1's as the last entry in the feature\n",
        "\t\t\t# matrix (bias)\n",
        "      X = np.c_[X, np.ones((X.shape[0]))]\n",
        "\t\t# take the dot product between the input features and the\n",
        "\t\t# weight matrix, then pass the value through the step\n",
        "\t\t# function\n",
        "    return self.step(np.dot(X, self.W))\n"
      ]
    },
    {
      "cell_type": "markdown",
      "source": [
        "## Silakan uji algoritma single perceptron ini dengan 3 masalah yaitu AND, OR, dan XOR, dengan rincian AND dan OR adalah masalah linier, sedangkan XOR adalah masalah non-linier.\n",
        "\n",
        "- Silakan ganti epoch, misalnya ditambah 10 atau jadi 100, 1000, dst\n",
        "- Silakan learning rate menjadi 0.1, 0.01 sebagai coba-coba\n",
        "\n",
        "1.  AND DATASET\n",
        "- X = np.array([[0, 0], [0, 1], [1, 0], [1, 1]])\n",
        "- y = np.array([[0], [0], [0], [1]])\n",
        "\n",
        "2. OR DATASET\n",
        "- X = np.array([[0, 0], [0, 1], [1, 0], [1, 1]])\n",
        "- y = np.array([[0], [1], [1], [1]])\n",
        "\n",
        "3. XOR DATASET\n",
        "\n",
        "- X = np.array([[0, 0], [0, 1], [1, 0], [1, 1]])\n",
        "- y = np.array([[0], [1], [1], [0]])"
      ],
      "metadata": {
        "id": "j5XVQn9YK-nm"
      }
    },
    {
      "cell_type": "markdown",
      "source": [
        "## Test pada masalah AND"
      ],
      "metadata": {
        "id": "uMwD8f4gMwGJ"
      }
    },
    {
      "cell_type": "code",
      "source": [
        "# construct the AND dataset\n",
        "X = np.array([[0, 0], [0, 1], [1, 0], [1, 1]])\n",
        "y = np.array([[0], [0], [0], [1]])\n",
        "# define our perceptron and train it\n",
        "print(\"[INFO] training perceptron...\")\n",
        "p = Perceptron(X.shape[1], learning_rate = 0.1)\n",
        "p.fit(X, y, epochs=10)\n",
        "# now that our perceptron is trained we can evaluate it\n",
        "print(\"[INFO] testing perceptron...\")\n",
        "# now that our network is trained, loop over the data points\n",
        "for (x, target) in zip(X, y):\n",
        "\t# make a prediction on the data point and display the result\n",
        "\t# to our console\n",
        "\tpred = p.predict(x)\n",
        "\tprint(\"[INFO] data={}, ground-truth={}, pred={}\".format(\n",
        "\t\tx, target[0], pred))"
      ],
      "metadata": {
        "id": "cd4VEyNgJVYy"
      },
      "execution_count": null,
      "outputs": []
    },
    {
      "cell_type": "markdown",
      "source": [
        "## Tes pada masalah OR"
      ],
      "metadata": {
        "id": "xkZKQfcxM70I"
      }
    },
    {
      "cell_type": "code",
      "source": [
        "# construct the AND dataset\n",
        "X = np.array([[0, 0], [0, 1], [1, 0], [1, 1]])\n",
        "y = np.array([[0], [1], [1], [1]])\n",
        "# define our perceptron and train it\n",
        "print(\"[INFO] training perceptron...\")\n",
        "p = Perceptron(X.shape[1], learning_rate = 0.1)\n",
        "p.fit(X, y, epochs=20)\n",
        "# now that our perceptron is trained we can evaluate it\n",
        "print(\"[INFO] testing perceptron...\")\n",
        "# now that our network is trained, loop over the data points\n",
        "for (x, target) in zip(X, y):\n",
        "\t# make a prediction on the data point and display the result\n",
        "\t# to our console\n",
        "\tpred = p.predict(x)\n",
        "\tprint(\"[INFO] data={}, ground-truth={}, pred={}\".format(\n",
        "\t\tx, target[0], pred))"
      ],
      "metadata": {
        "id": "2I9MA-7hM-vJ"
      },
      "execution_count": null,
      "outputs": []
    },
    {
      "cell_type": "markdown",
      "source": [
        "## Tes pada masalah XOR"
      ],
      "metadata": {
        "id": "4TIpyErONLJu"
      }
    },
    {
      "cell_type": "code",
      "source": [
        "# construct the AND dataset\n",
        "X = np.array([[0, 0], [0, 1], [1, 0], [1, 1]])\n",
        "y = np.array([[1], [1], [1], [0]])\n",
        "# define our perceptron and train it\n",
        "print(\"[INFO] training perceptron...\")\n",
        "p = Perceptron(X.shape[1], learning_rate = 0.1)\n",
        "p.fit(X, y, epochs=20)\n",
        "# now that our perceptron is trained we can evaluate it\n",
        "print(\"[INFO] testing perceptron...\")\n",
        "# now that our network is trained, loop over the data points\n",
        "for (x, target) in zip(X, y):\n",
        "\t# make a prediction on the data point and display the result\n",
        "\t# to our console\n",
        "\tpred = p.predict(x)\n",
        "\tprint(\"[INFO] data={}, ground-truth={}, pred={}\".format(\n",
        "\t\tx, target[0], pred))"
      ],
      "metadata": {
        "id": "_CQdEGoRNPf8"
      },
      "execution_count": null,
      "outputs": []
    },
    {
      "cell_type": "markdown",
      "source": [
        "## Silakan berikan kesimpulan anda tentang 3 studi kasus tersebut!\n",
        "\n",
        "- Anda juga dapat menguji setiap problem dengan 3 input dan juga bisa menambah gerbang NAND"
      ],
      "metadata": {
        "id": "5Z9fxd-BRUA7"
      }
    }
  ]
}