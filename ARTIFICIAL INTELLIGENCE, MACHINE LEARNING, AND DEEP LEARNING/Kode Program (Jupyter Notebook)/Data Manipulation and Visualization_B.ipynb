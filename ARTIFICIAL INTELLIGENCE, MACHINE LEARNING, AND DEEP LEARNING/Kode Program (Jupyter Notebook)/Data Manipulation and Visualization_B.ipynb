{
 "cells": [
  {
   "cell_type": "markdown",
   "metadata": {
    "id": "rYz4jZHIcgW0"
   },
   "source": [
    "# Module 3: Data Analytics with Python - Applied Statistics"
   ]
  },
  {
   "cell_type": "markdown",
   "metadata": {
    "id": "iYJUvuB23pfe"
   },
   "source": [
    "## Lab 2: Data Manipulation with Pandas"
   ]
  },
  {
   "cell_type": "markdown",
   "metadata": {
    "id": "QlUDO7bceiyE"
   },
   "source": [
    "The true power of the Pandas DataFrame is the ease and flexibility of manipulating data to get your desired results.\n",
    "\n",
    "Pandas is best at handling tabular data sets comprising different variable types (integer, float, double, etc.).\n",
    "\n",
    "In addition, the pandas library can also be used to perform even the most naive of tasks such as loading data or doing feature engineering on time series data."
   ]
  },
  {
   "cell_type": "markdown",
   "metadata": {
    "id": "hf73XHbEcwU5"
   },
   "source": [
    "<br><br><br><br><br><br>\n",
    "## Objective\n",
    "*** \n",
    "\n",
    "<ul type='disc'>\n",
    "  <li>Importing and Exporting JSON files</li>\n",
    "  <li> Selection of Columns and filtering DataFrame</li>\n",
    "      <ul type='circle'>\n",
    "      <li>Selecting</li>\n",
    "      <li>Dropping</li>\n",
    "    </ul>\n",
    "  <li> Joining and Merging Pandas Data Frame </li>\n",
    "      <ul type='circle'>\n",
    "      <li>Joining</li>\n",
    "      <li>Merging</li>\n",
    "    </ul>\n",
    "  <li>Descriptive Analysis with Python</li>\n",
    "</ul>"
   ]
  },
  {
   "cell_type": "markdown",
   "metadata": {
    "id": "lQ2PrhL0kAZf"
   },
   "source": [
    "<br><br><br><br>\n",
    "## Importing and exporting JSON files\n",
    "***"
   ]
  },
  {
   "cell_type": "markdown",
   "metadata": {
    "id": "Ozb41MzG3qVH"
   },
   "source": [
    "The full form of JSON is JavaScript Object Notation. It means that a script (executable) file which is made of text in a programming language, is used to store and transfer the data. Python supports JSON through a built-in package called json. \n",
    "\n",
    "The below code will write contents to the json file.  "
   ]
  },
  {
   "cell_type": "code",
   "execution_count": 27,
   "metadata": {
    "id": "D_8LsmPgrj-j"
   },
   "outputs": [],
   "source": [
    "import json\n",
    "  \n",
    "# Data to be written\n",
    "dictionary ={\n",
    "    \"name\" : \"Meghan\",\n",
    "    \"rollno\" : 56,\n",
    "    \"cgpa\" : 8.6,\n",
    "    \"age\": 23\n",
    "}\n",
    "  \n",
    "# Serializing json \n",
    "json_object = json.dumps(dictionary, indent = 4)\n",
    "  \n",
    "# Writing to sample.json\n",
    "with open(\"sample.json\", \"w\") as outfile:\n",
    "    outfile.write(json_object)"
   ]
  },
  {
   "cell_type": "markdown",
   "metadata": {
    "id": "vfZaj2lY4Kd-"
   },
   "source": [
    "This will read contents from the json file and output it to the user. "
   ]
  },
  {
   "cell_type": "code",
   "execution_count": 28,
   "metadata": {
    "colab": {
     "base_uri": "https://localhost:8080/"
    },
    "id": "IBxH8TW4rqiv",
    "outputId": "f0ec6002-8bad-4671-f1a0-1aa9eb12dd8c"
   },
   "outputs": [
    {
     "name": "stdout",
     "output_type": "stream",
     "text": [
      "{'name': 'Meghan', 'rollno': 56, 'cgpa': 8.6, 'age': 23}\n",
      "<class 'dict'>\n"
     ]
    }
   ],
   "source": [
    "import json\n",
    "  \n",
    "# Opening JSON file\n",
    "with open('sample.json', 'r') as openfile:\n",
    "  \n",
    "    # Reading from json file\n",
    "    json_object = json.load(openfile)\n",
    "  \n",
    "print(json_object)\n",
    "print(type(json_object))"
   ]
  },
  {
   "cell_type": "markdown",
   "metadata": {
    "id": "0ZPrcpn9kI-D"
   },
   "source": [
    "<br><br><br><br><br><br>\n",
    "## Selection of Columns and filtering DataFrame\n",
    "***"
   ]
  },
  {
   "cell_type": "markdown",
   "metadata": {
    "id": "VNMJIMoMewF8"
   },
   "source": [
    "### Selecting\n",
    "The DataFrame object supports indexing operations just like the Python list class and the Pandas Series object, but is much faster and more powerful.\n",
    "\n",
    "Note that when you extract a single row or column, you get a one-dimensional object as output. That is called a pandas Series. The values on the left are just labels taken from the dataframe index.\n",
    "\n",
    "On the other hand, when we extract portions of a pandas dataframe, we get a two-dimensional DataFrame type of object. Something to keep in mind for later."
   ]
  },
  {
   "cell_type": "code",
   "execution_count": 29,
   "metadata": {
    "id": "s7zooBgKe2iI"
   },
   "outputs": [],
   "source": [
    "import pandas as pd\n",
    "data = {'name': ['Indar', 'Angela', 'Tsy', 'Paio'],\n",
    "        'reports': [3, 4, 2, 12],\n",
    "        'age':[23, 22, 32, 24]\n",
    "        }\n",
    "df = pd.DataFrame(data)\n",
    "col_name = df['name']\n",
    "col_reports = df['reports']"
   ]
  },
  {
   "cell_type": "markdown",
   "metadata": {
    "id": "yHjfdqKCfR21"
   },
   "source": [
    "Pandas provides a powerful way to work with both rows and columns together, optionally using their label indices or numeric indices.\n",
    "\n",
    "* .loc :\n",
    "    Purely label-location based indexer for selection by label (but may also be used with a boolean array).\n",
    "    Important: If you use slicing in loc, it will return the end index as well\n",
    "\n",
    "* .iloc:\n",
    "    Purely integer-location based indexing for selection by position (but may also be used with a boolean array).\n",
    "\n",
    "Allowed inputs are:\n",
    "1. A single label, e.g. 5 or 'a'\n",
    "2. A list or array of labels, e.g. ['a', 'b', 'c']\n",
    "3. A slice object with labels, e.g. 'a':'f'\n"
   ]
  },
  {
   "cell_type": "code",
   "execution_count": 30,
   "metadata": {
    "colab": {
     "base_uri": "https://localhost:8080/"
    },
    "id": "Rld9Nk8tfcmX",
    "outputId": "702274fc-68d1-4a16-cd12-b2120a682318"
   },
   "outputs": [
    {
     "name": "stdout",
     "output_type": "stream",
     "text": [
      "0    23\n",
      "1    22\n",
      "2    32\n",
      "3    24\n",
      "Name: age, dtype: int64\n"
     ]
    }
   ],
   "source": [
    "import pandas as pd\n",
    "data = {'name': ['Indar', 'Angela', 'Tsy', 'Paio'],\n",
    "        'reports': [3, 4, 2, 12],\n",
    "        'age':[23, 22, 32, 24]\n",
    "        }\n",
    "\n",
    "df = pd.DataFrame(data)\n",
    "print(df.loc[:,'age'])"
   ]
  },
  {
   "cell_type": "code",
   "execution_count": 31,
   "metadata": {
    "colab": {
     "base_uri": "https://localhost:8080/"
    },
    "id": "P8LW6cQwf5_K",
    "outputId": "bc79c984-2173-4cb9-c34d-6b8369d717e2"
   },
   "outputs": [
    {
     "name": "stdout",
     "output_type": "stream",
     "text": [
      "0     3\n",
      "1     4\n",
      "2     2\n",
      "3    12\n",
      "Name: reports, dtype: int64\n"
     ]
    }
   ],
   "source": [
    "print(df.iloc[:, 1])"
   ]
  },
  {
   "cell_type": "markdown",
   "metadata": {
    "id": "htLamXvJe273"
   },
   "source": [
    "<br><br><br><br>\n",
    "### Dropping\n",
    "***\n",
    "Return new object with labels in requested axis removed.\n",
    "\n",
    "Note that Pandas uses zero based numbering, so 0 is the first row, 1 is the second row, etc. You can select ranges relative to the top or drop relative to the bottom of the DataFrame as well.\n",
    "\n",
    "Note: Specifying both labels and index or columns will raise a **ValueError**.\n"
   ]
  },
  {
   "cell_type": "code",
   "execution_count": 32,
   "metadata": {
    "colab": {
     "base_uri": "https://localhost:8080/",
     "height": 143
    },
    "id": "zSf4ggWn5uWy",
    "outputId": "34eb8750-27b0-4592-d823-f7bf4a7e32ea"
   },
   "outputs": [
    {
     "data": {
      "text/html": [
       "<div>\n",
       "<style scoped>\n",
       "    .dataframe tbody tr th:only-of-type {\n",
       "        vertical-align: middle;\n",
       "    }\n",
       "\n",
       "    .dataframe tbody tr th {\n",
       "        vertical-align: top;\n",
       "    }\n",
       "\n",
       "    .dataframe thead th {\n",
       "        text-align: right;\n",
       "    }\n",
       "</style>\n",
       "<table border=\"1\" class=\"dataframe\">\n",
       "  <thead>\n",
       "    <tr style=\"text-align: right;\">\n",
       "      <th></th>\n",
       "      <th>name</th>\n",
       "      <th>reports</th>\n",
       "      <th>age</th>\n",
       "    </tr>\n",
       "  </thead>\n",
       "  <tbody>\n",
       "    <tr>\n",
       "      <th>b</th>\n",
       "      <td>Angela</td>\n",
       "      <td>4</td>\n",
       "      <td>22</td>\n",
       "    </tr>\n",
       "    <tr>\n",
       "      <th>c</th>\n",
       "      <td>Tsy</td>\n",
       "      <td>2</td>\n",
       "      <td>32</td>\n",
       "    </tr>\n",
       "    <tr>\n",
       "      <th>d</th>\n",
       "      <td>Paio</td>\n",
       "      <td>12</td>\n",
       "      <td>24</td>\n",
       "    </tr>\n",
       "  </tbody>\n",
       "</table>\n",
       "</div>"
      ],
      "text/plain": [
       "     name  reports  age\n",
       "b  Angela        4   22\n",
       "c     Tsy        2   32\n",
       "d    Paio       12   24"
      ]
     },
     "execution_count": 32,
     "metadata": {},
     "output_type": "execute_result"
    }
   ],
   "source": [
    "#Dropping rows and columns in DataFrame\n",
    "import pandas as pd\n",
    "data = {'name': ['Indar', 'Angela', 'Tsy', 'Paio'],\n",
    "        'reports': [3, 4, 2, 12],\n",
    "        'age':[23, 22, 32, 24]\n",
    "        }\n",
    "\n",
    "df = pd.DataFrame(data, index=['a', 'b', 'c', 'd'])\n",
    "\n",
    "df.drop('a')"
   ]
  },
  {
   "cell_type": "markdown",
   "metadata": {
    "id": "ORxnqGMA40t9"
   },
   "source": [
    "Now, let us drop ‘age’ column. For this we use the axis=1 attribute in the drop () method.  "
   ]
  },
  {
   "cell_type": "code",
   "execution_count": 33,
   "metadata": {
    "colab": {
     "base_uri": "https://localhost:8080/",
     "height": 175
    },
    "id": "_S50SPXc6kdV",
    "outputId": "966ac021-335c-4974-bc5e-29ff52014aa2"
   },
   "outputs": [
    {
     "data": {
      "text/html": [
       "<div>\n",
       "<style scoped>\n",
       "    .dataframe tbody tr th:only-of-type {\n",
       "        vertical-align: middle;\n",
       "    }\n",
       "\n",
       "    .dataframe tbody tr th {\n",
       "        vertical-align: top;\n",
       "    }\n",
       "\n",
       "    .dataframe thead th {\n",
       "        text-align: right;\n",
       "    }\n",
       "</style>\n",
       "<table border=\"1\" class=\"dataframe\">\n",
       "  <thead>\n",
       "    <tr style=\"text-align: right;\">\n",
       "      <th></th>\n",
       "      <th>name</th>\n",
       "      <th>reports</th>\n",
       "      <th>city</th>\n",
       "    </tr>\n",
       "  </thead>\n",
       "  <tbody>\n",
       "    <tr>\n",
       "      <th>a</th>\n",
       "      <td>Indar</td>\n",
       "      <td>3</td>\n",
       "      <td>Medan</td>\n",
       "    </tr>\n",
       "    <tr>\n",
       "      <th>b</th>\n",
       "      <td>Angela</td>\n",
       "      <td>4</td>\n",
       "      <td>Jakarta</td>\n",
       "    </tr>\n",
       "    <tr>\n",
       "      <th>c</th>\n",
       "      <td>Tsy</td>\n",
       "      <td>2</td>\n",
       "      <td>Badung</td>\n",
       "    </tr>\n",
       "    <tr>\n",
       "      <th>d</th>\n",
       "      <td>Paio</td>\n",
       "      <td>12</td>\n",
       "      <td>Jakarta</td>\n",
       "    </tr>\n",
       "  </tbody>\n",
       "</table>\n",
       "</div>"
      ],
      "text/plain": [
       "     name  reports     city\n",
       "a   Indar        3    Medan\n",
       "b  Angela        4  Jakarta\n",
       "c     Tsy        2   Badung\n",
       "d    Paio       12  Jakarta"
      ]
     },
     "execution_count": 33,
     "metadata": {},
     "output_type": "execute_result"
    }
   ],
   "source": [
    "data = {'name': ['Indar', 'Angela', 'Tsy', 'Paio'],\n",
    "        'reports': [3, 4, 2, 12],\n",
    "        'age':[23, 22, 32, 24],\n",
    "        'city':['Medan', 'Jakarta', 'Badung', 'Jakarta']\n",
    "        }\n",
    "\n",
    "df = pd.DataFrame(data, index=['a', 'b', 'c', 'd'])\n",
    "\n",
    "#Here axis=1 denotes column\n",
    "df.drop('age', axis=1)\n"
   ]
  },
  {
   "cell_type": "markdown",
   "metadata": {
    "id": "5Yl4FHIt45OF"
   },
   "source": [
    "Drop a row using the index value. Here we drop 3rd row with index 'c'.  "
   ]
  },
  {
   "cell_type": "code",
   "execution_count": 34,
   "metadata": {
    "colab": {
     "base_uri": "https://localhost:8080/",
     "height": 143
    },
    "id": "BWuA8vA_7xap",
    "outputId": "5b076f94-bf33-482c-ba64-adafefb63bae"
   },
   "outputs": [
    {
     "data": {
      "text/html": [
       "<div>\n",
       "<style scoped>\n",
       "    .dataframe tbody tr th:only-of-type {\n",
       "        vertical-align: middle;\n",
       "    }\n",
       "\n",
       "    .dataframe tbody tr th {\n",
       "        vertical-align: top;\n",
       "    }\n",
       "\n",
       "    .dataframe thead th {\n",
       "        text-align: right;\n",
       "    }\n",
       "</style>\n",
       "<table border=\"1\" class=\"dataframe\">\n",
       "  <thead>\n",
       "    <tr style=\"text-align: right;\">\n",
       "      <th></th>\n",
       "      <th>name</th>\n",
       "      <th>reports</th>\n",
       "      <th>age</th>\n",
       "      <th>city</th>\n",
       "    </tr>\n",
       "  </thead>\n",
       "  <tbody>\n",
       "    <tr>\n",
       "      <th>a</th>\n",
       "      <td>Indar</td>\n",
       "      <td>3</td>\n",
       "      <td>23</td>\n",
       "      <td>Medan</td>\n",
       "    </tr>\n",
       "    <tr>\n",
       "      <th>b</th>\n",
       "      <td>Angela</td>\n",
       "      <td>4</td>\n",
       "      <td>22</td>\n",
       "      <td>Jakarta</td>\n",
       "    </tr>\n",
       "    <tr>\n",
       "      <th>d</th>\n",
       "      <td>Paio</td>\n",
       "      <td>12</td>\n",
       "      <td>24</td>\n",
       "      <td>Jakarta</td>\n",
       "    </tr>\n",
       "  </tbody>\n",
       "</table>\n",
       "</div>"
      ],
      "text/plain": [
       "     name  reports  age     city\n",
       "a   Indar        3   23    Medan\n",
       "b  Angela        4   22  Jakarta\n",
       "d    Paio       12   24  Jakarta"
      ]
     },
     "execution_count": 34,
     "metadata": {},
     "output_type": "execute_result"
    }
   ],
   "source": [
    "df.drop(df.index[2])"
   ]
  },
  {
   "cell_type": "markdown",
   "metadata": {
    "id": "OaEWtT__4-oZ"
   },
   "source": [
    "<br><br><br><br><br><br><br><br>\n",
    "## Joining and Merging Pandas Data Frame\n",
    "***"
   ]
  },
  {
   "cell_type": "markdown",
   "metadata": {
    "id": "ZmIrad7ogqv1"
   },
   "source": [
    "<br><br>\n",
    "### Joining\n",
    "***"
   ]
  },
  {
   "cell_type": "code",
   "execution_count": 35,
   "metadata": {
    "colab": {
     "base_uri": "https://localhost:8080/",
     "height": 300
    },
    "id": "qy04hFYM-gtw",
    "outputId": "47fd56be-5e76-42ae-89e1-286bcd9e6d3f"
   },
   "outputs": [
    {
     "data": {
      "text/html": [
       "<div>\n",
       "<style scoped>\n",
       "    .dataframe tbody tr th:only-of-type {\n",
       "        vertical-align: middle;\n",
       "    }\n",
       "\n",
       "    .dataframe tbody tr th {\n",
       "        vertical-align: top;\n",
       "    }\n",
       "\n",
       "    .dataframe thead th {\n",
       "        text-align: right;\n",
       "    }\n",
       "</style>\n",
       "<table border=\"1\" class=\"dataframe\">\n",
       "  <thead>\n",
       "    <tr style=\"text-align: right;\">\n",
       "      <th></th>\n",
       "      <th>subject_id</th>\n",
       "      <th>first_name</th>\n",
       "      <th>last_name</th>\n",
       "    </tr>\n",
       "  </thead>\n",
       "  <tbody>\n",
       "    <tr>\n",
       "      <th>0</th>\n",
       "      <td>1</td>\n",
       "      <td>Alex</td>\n",
       "      <td>Anderson</td>\n",
       "    </tr>\n",
       "    <tr>\n",
       "      <th>1</th>\n",
       "      <td>2</td>\n",
       "      <td>Allan</td>\n",
       "      <td>Ackerman</td>\n",
       "    </tr>\n",
       "    <tr>\n",
       "      <th>2</th>\n",
       "      <td>3</td>\n",
       "      <td>Adit</td>\n",
       "      <td>Aoni</td>\n",
       "    </tr>\n",
       "    <tr>\n",
       "      <th>3</th>\n",
       "      <td>4</td>\n",
       "      <td>Frezco</td>\n",
       "      <td>Ali</td>\n",
       "    </tr>\n",
       "    <tr>\n",
       "      <th>0</th>\n",
       "      <td>4</td>\n",
       "      <td>Alexa</td>\n",
       "      <td>Lopez</td>\n",
       "    </tr>\n",
       "    <tr>\n",
       "      <th>1</th>\n",
       "      <td>5</td>\n",
       "      <td>Amy</td>\n",
       "      <td>Horan</td>\n",
       "    </tr>\n",
       "    <tr>\n",
       "      <th>2</th>\n",
       "      <td>6</td>\n",
       "      <td>Aadira</td>\n",
       "      <td>Styles</td>\n",
       "    </tr>\n",
       "    <tr>\n",
       "      <th>3</th>\n",
       "      <td>7</td>\n",
       "      <td>Freya</td>\n",
       "      <td>Twain</td>\n",
       "    </tr>\n",
       "  </tbody>\n",
       "</table>\n",
       "</div>"
      ],
      "text/plain": [
       "  subject_id first_name last_name\n",
       "0          1       Alex  Anderson\n",
       "1          2      Allan  Ackerman\n",
       "2          3       Adit      Aoni\n",
       "3          4     Frezco       Ali\n",
       "0          4      Alexa     Lopez\n",
       "1          5        Amy     Horan\n",
       "2          6     Aadira    Styles\n",
       "3          7      Freya     Twain"
      ]
     },
     "execution_count": 35,
     "metadata": {},
     "output_type": "execute_result"
    }
   ],
   "source": [
    "import pandas as pd\n",
    "raw_data = {\n",
    "    'subject_id': ['1','2','3','4'],\n",
    "    'first_name': ['Alex','Allan', 'Adit','Frezco'],\n",
    "    'last_name':['Anderson', 'Ackerman', 'Aoni','Ali']\n",
    "}\n",
    "\n",
    "df_a = pd.DataFrame(raw_data)\n",
    "\n",
    "raw_data = {\n",
    "  'subject_id': ['4','5','6','7'],\n",
    "    'first_name': ['Alexa','Amy', 'Aadira','Freya'],\n",
    "    'last_name':['Lopez', 'Horan', 'Styles','Twain']\n",
    "}\n",
    "\n",
    "df_b = pd.DataFrame(raw_data)\n",
    "\n",
    "#Joining two dataframes along rows\n",
    "\n",
    "df_new = pd.concat([df_a, df_b])\n",
    "df_new"
   ]
  },
  {
   "cell_type": "code",
   "execution_count": 36,
   "metadata": {
    "colab": {
     "base_uri": "https://localhost:8080/",
     "height": 175
    },
    "id": "xL5LN060A4zL",
    "outputId": "d166f01f-1254-446e-b0d4-38fb27039ba5"
   },
   "outputs": [
    {
     "data": {
      "text/html": [
       "<div>\n",
       "<style scoped>\n",
       "    .dataframe tbody tr th:only-of-type {\n",
       "        vertical-align: middle;\n",
       "    }\n",
       "\n",
       "    .dataframe tbody tr th {\n",
       "        vertical-align: top;\n",
       "    }\n",
       "\n",
       "    .dataframe thead th {\n",
       "        text-align: right;\n",
       "    }\n",
       "</style>\n",
       "<table border=\"1\" class=\"dataframe\">\n",
       "  <thead>\n",
       "    <tr style=\"text-align: right;\">\n",
       "      <th></th>\n",
       "      <th>subject_id</th>\n",
       "      <th>first_name</th>\n",
       "      <th>last_name</th>\n",
       "      <th>subject_id</th>\n",
       "      <th>first_name</th>\n",
       "      <th>last_name</th>\n",
       "    </tr>\n",
       "  </thead>\n",
       "  <tbody>\n",
       "    <tr>\n",
       "      <th>0</th>\n",
       "      <td>1</td>\n",
       "      <td>Alex</td>\n",
       "      <td>Anderson</td>\n",
       "      <td>4</td>\n",
       "      <td>Alexa</td>\n",
       "      <td>Lopez</td>\n",
       "    </tr>\n",
       "    <tr>\n",
       "      <th>1</th>\n",
       "      <td>2</td>\n",
       "      <td>Allan</td>\n",
       "      <td>Ackerman</td>\n",
       "      <td>5</td>\n",
       "      <td>Amy</td>\n",
       "      <td>Horan</td>\n",
       "    </tr>\n",
       "    <tr>\n",
       "      <th>2</th>\n",
       "      <td>3</td>\n",
       "      <td>Adit</td>\n",
       "      <td>Aoni</td>\n",
       "      <td>6</td>\n",
       "      <td>Aadira</td>\n",
       "      <td>Styles</td>\n",
       "    </tr>\n",
       "    <tr>\n",
       "      <th>3</th>\n",
       "      <td>4</td>\n",
       "      <td>Frezco</td>\n",
       "      <td>Ali</td>\n",
       "      <td>7</td>\n",
       "      <td>Freya</td>\n",
       "      <td>Twain</td>\n",
       "    </tr>\n",
       "  </tbody>\n",
       "</table>\n",
       "</div>"
      ],
      "text/plain": [
       "  subject_id first_name last_name subject_id first_name last_name\n",
       "0          1       Alex  Anderson          4      Alexa     Lopez\n",
       "1          2      Allan  Ackerman          5        Amy     Horan\n",
       "2          3       Adit      Aoni          6     Aadira    Styles\n",
       "3          4     Frezco       Ali          7      Freya     Twain"
      ]
     },
     "execution_count": 36,
     "metadata": {},
     "output_type": "execute_result"
    }
   ],
   "source": [
    "#Joining two dataframes along columns\n",
    "df_new = pd.concat([df_a,df_b], axis=1)\n",
    "df_new"
   ]
  },
  {
   "cell_type": "markdown",
   "metadata": {
    "id": "-HEb4cz9gtFC"
   },
   "source": [
    "<br><br><br><br><br><br><br><br>\n",
    "### Merging\n",
    "***"
   ]
  },
  {
   "cell_type": "markdown",
   "metadata": {
    "id": "eCsoX1KN5ipV"
   },
   "source": [
    "Merging of data frame will merge two data frames having a unique column. Here we are merging df a which was defined earlier above with df_b and store the result in df_a. "
   ]
  },
  {
   "cell_type": "code",
   "execution_count": 37,
   "metadata": {
    "colab": {
     "base_uri": "https://localhost:8080/",
     "height": 175
    },
    "id": "ViDPzmvbBBpw",
    "outputId": "6cf7e7d4-59f4-4895-8c33-6f9320ad4e9b"
   },
   "outputs": [
    {
     "data": {
      "text/html": [
       "<div>\n",
       "<style scoped>\n",
       "    .dataframe tbody tr th:only-of-type {\n",
       "        vertical-align: middle;\n",
       "    }\n",
       "\n",
       "    .dataframe tbody tr th {\n",
       "        vertical-align: top;\n",
       "    }\n",
       "\n",
       "    .dataframe thead th {\n",
       "        text-align: right;\n",
       "    }\n",
       "</style>\n",
       "<table border=\"1\" class=\"dataframe\">\n",
       "  <thead>\n",
       "    <tr style=\"text-align: right;\">\n",
       "      <th></th>\n",
       "      <th>subject_id</th>\n",
       "      <th>first_name</th>\n",
       "      <th>last_name</th>\n",
       "    </tr>\n",
       "  </thead>\n",
       "  <tbody>\n",
       "    <tr>\n",
       "      <th>0</th>\n",
       "      <td>1</td>\n",
       "      <td>Alex</td>\n",
       "      <td>Anderson</td>\n",
       "    </tr>\n",
       "    <tr>\n",
       "      <th>1</th>\n",
       "      <td>2</td>\n",
       "      <td>Allan</td>\n",
       "      <td>Ackerman</td>\n",
       "    </tr>\n",
       "    <tr>\n",
       "      <th>2</th>\n",
       "      <td>3</td>\n",
       "      <td>Adit</td>\n",
       "      <td>Aoni</td>\n",
       "    </tr>\n",
       "    <tr>\n",
       "      <th>3</th>\n",
       "      <td>4</td>\n",
       "      <td>Frezco</td>\n",
       "      <td>Ali</td>\n",
       "    </tr>\n",
       "  </tbody>\n",
       "</table>\n",
       "</div>"
      ],
      "text/plain": [
       "  subject_id first_name last_name\n",
       "0          1       Alex  Anderson\n",
       "1          2      Allan  Ackerman\n",
       "2          3       Adit      Aoni\n",
       "3          4     Frezco       Ali"
      ]
     },
     "execution_count": 37,
     "metadata": {},
     "output_type": "execute_result"
    }
   ],
   "source": [
    "df_a.merge(df_b)\n",
    "df_a"
   ]
  },
  {
   "cell_type": "markdown",
   "metadata": {
    "id": "tw0z1d8HkO8T"
   },
   "source": [
    "<br><br><br><br>\n",
    "## Descriptive Analysis with Python\n",
    "***"
   ]
  },
  {
   "cell_type": "markdown",
   "metadata": {
    "id": "FuUHJAOf6Fw1"
   },
   "source": [
    "Descriptive Analysis is the type of analysis of data that helps describe, show or summarize data points in a constructive way such that patterns might emerge that fulfill every condition of the data. \n",
    "\n",
    "Let us consider a simple data frame consisting of name, age, pretest Score and post Test Score. "
   ]
  },
  {
   "cell_type": "code",
   "execution_count": 38,
   "metadata": {
    "id": "Wi3SjvT1kja4"
   },
   "outputs": [],
   "source": [
    "import pandas as pd\n",
    "data = {'name': ['Indar', 'Angela', 'Tsy', 'Paio'],\n",
    "        'age': [23, 31, 22, 20],\n",
    "        'preTestScore':[35, 36, 33, 40],\n",
    "        'postTestScore':[39, 37, 32, 38]\n",
    "        }\n",
    "\n",
    "df = pd.DataFrame(data, columns = ['name','age','preTestScore','postTestScore'])\n"
   ]
  },
  {
   "cell_type": "markdown",
   "metadata": {
    "id": "K9Ufl-ol6KJ0"
   },
   "source": [
    "We take a column named ‘preTestScore’ and find its statistics summary using describe () method. "
   ]
  },
  {
   "cell_type": "code",
   "execution_count": 39,
   "metadata": {
    "colab": {
     "base_uri": "https://localhost:8080/"
    },
    "id": "btQBPuYtlTgV",
    "outputId": "f97df3a5-7f02-4d99-feff-d5a3564d5c96"
   },
   "outputs": [
    {
     "data": {
      "text/plain": [
       "count     4.00000\n",
       "mean     36.00000\n",
       "std       2.94392\n",
       "min      33.00000\n",
       "25%      34.50000\n",
       "50%      35.50000\n",
       "75%      37.00000\n",
       "max      40.00000\n",
       "Name: preTestScore, dtype: float64"
      ]
     },
     "execution_count": 39,
     "metadata": {},
     "output_type": "execute_result"
    }
   ],
   "source": [
    "df['preTestScore'].describe()     #Shows the statistics of preTestScore"
   ]
  },
  {
   "cell_type": "markdown",
   "metadata": {
    "id": "fN7f4-sy6M5s"
   },
   "source": [
    "Now we find the sum of the values in preTestScore. "
   ]
  },
  {
   "cell_type": "code",
   "execution_count": 40,
   "metadata": {
    "colab": {
     "base_uri": "https://localhost:8080/"
    },
    "id": "HJxg1YKOloI-",
    "outputId": "335f7a2b-9463-4c78-d343-7f1ad4dc3273"
   },
   "outputs": [
    {
     "data": {
      "text/plain": [
       "96"
      ]
     },
     "execution_count": 40,
     "metadata": {},
     "output_type": "execute_result"
    }
   ],
   "source": [
    "df['age'].sum()           #Shows the total value of age column"
   ]
  },
  {
   "cell_type": "markdown",
   "metadata": {
    "id": "-93e12Ka6No6"
   },
   "source": [
    "We use the cumsum() method to find the cumulative sum of the pretes Score col. "
   ]
  },
  {
   "cell_type": "code",
   "execution_count": 41,
   "metadata": {
    "colab": {
     "base_uri": "https://localhost:8080/"
    },
    "id": "xVbQIvpklsnY",
    "outputId": "33e9ae17-ba4e-40b0-f63d-79cc7b5cc167"
   },
   "outputs": [
    {
     "data": {
      "text/plain": [
       "0     35\n",
       "1     71\n",
       "2    104\n",
       "3    144\n",
       "Name: preTestScore, dtype: int64"
      ]
     },
     "execution_count": 41,
     "metadata": {},
     "output_type": "execute_result"
    }
   ],
   "source": [
    "df['preTestScore'].cumsum()   #Cumulative sum of preTestScore, moving from the rows"
   ]
  },
  {
   "cell_type": "markdown",
   "metadata": {
    "id": "3PqxwCZY6QC_"
   },
   "source": [
    "We use the count() method to find the number of non-NA values in the preTestScore col. "
   ]
  },
  {
   "cell_type": "code",
   "execution_count": 42,
   "metadata": {
    "colab": {
     "base_uri": "https://localhost:8080/"
    },
    "id": "7td-a7AJl5XC",
    "outputId": "c3ec63ef-34aa-4d2e-e25b-edb4df5cb1ff"
   },
   "outputs": [
    {
     "data": {
      "text/plain": [
       "4"
      ]
     },
     "execution_count": 42,
     "metadata": {},
     "output_type": "execute_result"
    }
   ],
   "source": [
    "df['preTestScore'].count()     #Counts non-NA values"
   ]
  },
  {
   "cell_type": "markdown",
   "metadata": {
    "id": "fyeQo8ji6TXL"
   },
   "source": [
    "We use the min() method to find the minimum value in the preTestScore col. "
   ]
  },
  {
   "cell_type": "code",
   "execution_count": 43,
   "metadata": {
    "colab": {
     "base_uri": "https://localhost:8080/"
    },
    "id": "FIvKwxz1l-Ea",
    "outputId": "290f55e7-ddf4-429b-e34e-f39158765a9e"
   },
   "outputs": [
    {
     "data": {
      "text/plain": [
       "33"
      ]
     },
     "execution_count": 43,
     "metadata": {},
     "output_type": "execute_result"
    }
   ],
   "source": [
    "df['preTestScore'].min()    #minimum of preTestScore"
   ]
  },
  {
   "cell_type": "markdown",
   "metadata": {
    "id": "GtBvtlI46V2B"
   },
   "source": [
    "We use the max() method to find the maximum value in the preTestScore col. "
   ]
  },
  {
   "cell_type": "code",
   "execution_count": 44,
   "metadata": {
    "colab": {
     "base_uri": "https://localhost:8080/"
    },
    "id": "YjkC5VJPmFyi",
    "outputId": "b5c82559-650b-4445-f287-f093b4af6aa9"
   },
   "outputs": [
    {
     "data": {
      "text/plain": [
       "40"
      ]
     },
     "execution_count": 44,
     "metadata": {},
     "output_type": "execute_result"
    }
   ],
   "source": [
    "df['preTestScore'].max()    #maximum of preTestScore"
   ]
  },
  {
   "cell_type": "markdown",
   "metadata": {
    "id": "WgNdC4uJ6Ymx"
   },
   "source": [
    "We use the median() method to find the median of the preTestScore col. "
   ]
  },
  {
   "cell_type": "code",
   "execution_count": 45,
   "metadata": {
    "colab": {
     "base_uri": "https://localhost:8080/"
    },
    "id": "xnsczF5lmL5J",
    "outputId": "79839f6b-cf68-40b0-dbdb-f9e469cafaec"
   },
   "outputs": [
    {
     "data": {
      "text/plain": [
       "35.5"
      ]
     },
     "execution_count": 45,
     "metadata": {},
     "output_type": "execute_result"
    }
   ],
   "source": [
    "df['preTestScore'].median()"
   ]
  },
  {
   "cell_type": "markdown",
   "metadata": {
    "id": "3yEAKaG76bZL"
   },
   "source": [
    "We use the var() method to find the variance of the preTestScore col. "
   ]
  },
  {
   "cell_type": "code",
   "execution_count": 46,
   "metadata": {
    "colab": {
     "base_uri": "https://localhost:8080/"
    },
    "id": "jpkuXY3NmP0q",
    "outputId": "5135e0d0-21e2-4c0d-b4cb-1db68704be2e"
   },
   "outputs": [
    {
     "data": {
      "text/plain": [
       "8.666666666666666"
      ]
     },
     "execution_count": 46,
     "metadata": {},
     "output_type": "execute_result"
    }
   ],
   "source": [
    "df['preTestScore'].var()"
   ]
  },
  {
   "cell_type": "markdown",
   "metadata": {
    "id": "Qd_YhWpW6eWV"
   },
   "source": [
    "We use the std() method to find the standard deviation of the preTestScore col. "
   ]
  },
  {
   "cell_type": "code",
   "execution_count": 47,
   "metadata": {
    "colab": {
     "base_uri": "https://localhost:8080/"
    },
    "id": "ysUQvzaDmSH4",
    "outputId": "a6aec36b-9014-404d-fc9a-cb3b6a487074"
   },
   "outputs": [
    {
     "data": {
      "text/plain": [
       "2.943920288775949"
      ]
     },
     "execution_count": 47,
     "metadata": {},
     "output_type": "execute_result"
    }
   ],
   "source": [
    "df['preTestScore'].std()"
   ]
  },
  {
   "cell_type": "markdown",
   "metadata": {
    "id": "wFTN2wAb6hQy"
   },
   "source": [
    "We use the skew() method to find the skewness of the preTestScore col. "
   ]
  },
  {
   "cell_type": "code",
   "execution_count": 48,
   "metadata": {
    "colab": {
     "base_uri": "https://localhost:8080/"
    },
    "id": "UHNAevZmmUE_",
    "outputId": "4f12160c-18bb-4dc5-9d86-b945ba3a264b"
   },
   "outputs": [
    {
     "data": {
      "text/plain": [
       "0.9406609206739719"
      ]
     },
     "execution_count": 48,
     "metadata": {},
     "output_type": "execute_result"
    }
   ],
   "source": [
    "df['preTestScore'].skew()"
   ]
  },
  {
   "cell_type": "markdown",
   "metadata": {
    "id": "jMtCmWIZ6kBT"
   },
   "source": [
    "We use the kurt() method to find the kurtosis of the preTestScore col. "
   ]
  },
  {
   "cell_type": "code",
   "execution_count": 49,
   "metadata": {
    "colab": {
     "base_uri": "https://localhost:8080/"
    },
    "id": "S5eFEPCSmXg7",
    "outputId": "33e0f0e6-48a2-4c12-a53f-03e15c48b28e"
   },
   "outputs": [
    {
     "data": {
      "text/plain": [
       "1.5"
      ]
     },
     "execution_count": 49,
     "metadata": {},
     "output_type": "execute_result"
    }
   ],
   "source": [
    "df['preTestScore'].kurt()"
   ]
  }
 ],
 "metadata": {
  "colab": {
   "collapsed_sections": [],
   "name": "Module3_(1.2)_Data_Manipultion_With_Pandas_Lab_Exercise_.ipynb",
   "provenance": []
  },
  "kernelspec": {
   "display_name": "Python 3.10.4 64-bit",
   "language": "python",
   "name": "python3"
  },
  "language_info": {
   "codemirror_mode": {
    "name": "ipython",
    "version": 3
   },
   "file_extension": ".py",
   "mimetype": "text/x-python",
   "name": "python",
   "nbconvert_exporter": "python",
   "pygments_lexer": "ipython3",
   "version": "3.10.4"
  },
  "vscode": {
   "interpreter": {
    "hash": "916dbcbb3f70747c44a77c7bcd40155683ae19c65e1c03b4aa3499c5328201f1"
   }
  }
 },
 "nbformat": 4,
 "nbformat_minor": 1
}
