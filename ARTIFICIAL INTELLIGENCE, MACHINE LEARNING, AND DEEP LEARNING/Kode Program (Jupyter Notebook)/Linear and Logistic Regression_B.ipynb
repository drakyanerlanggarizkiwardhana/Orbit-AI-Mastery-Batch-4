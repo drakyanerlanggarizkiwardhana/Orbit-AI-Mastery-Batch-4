{
 "cells": [
  {
   "cell_type": "markdown",
   "metadata": {},
   "source": [
    "# Module 4\n",
    "## Section: Linear Regression"
   ]
  },
  {
   "cell_type": "markdown",
   "metadata": {},
   "source": [
    "## Lab 2: Advanced Linear Regression"
   ]
  },
  {
   "cell_type": "markdown",
   "metadata": {},
   "source": [
    "### Shortcomings of linear regression?\n",
    "***\n",
    "1. Main limitation of Linear Regression is the assumption of linearity between the dependent variable and the independent variables. In the real world, the data is rarely linearly separable. It assumes that there is a straight-line relationship between the dependent and independent variables which is incorrect many times.\n",
    "\n",
    "2. Prone to noise and overfitting: If the number of observations are lesser than the number of features, Linear Regression should not be used, otherwise it may lead to overfit because is starts considering noise in this scenario while building the model.\n",
    "\n",
    "3. Prone to outliers: Linear regression is very sensitive to outliers (anomalies). So, outliers should be analyzed and removed before applying Linear Regression to the dataset.\n",
    "\n",
    "4. Prone to multicollinearity: Before applying Linear regression, multicollinearity should be removed (using dimensionality reduction techniques) because it assumes that there is no relationship among independent variables.\n",
    "\n",
    "***\n",
    "\n"
   ]
  },
  {
   "cell_type": "markdown",
   "metadata": {
    "slideshow": {
     "slide_type": "slide"
    }
   },
   "source": [
    "# Objective\n",
    "***\n",
    "- Polynomial Basis Function\n",
    "- Regularization(L1/L2)"
   ]
  },
  {
   "cell_type": "markdown",
   "metadata": {},
   "source": [
    "<br><br><br><br><br><br>\n",
    "## Objective\n",
    "***\n",
    "- Underfitting\n",
    "- Polynomial Regression - Introduction\n",
    "- Polynomial Basis Function - Mathematical Representation\n",
    "- What is a Polynomial Feature Transformer?\n",
    "- Overfitting\n",
    "- Concept of Regularization\n",
    "\t- L1 Regularization (also called as Lasso penalisation)\n",
    "\t\t- Understanding L1\n",
    "\t\t- Lasso - Implementation\n",
    "\t- L2 Regularization (also called as Ridge penalisation) \n",
    "\t\t- Understanding L2\n",
    "\t\t- Ridge - Implementation\n",
    "\t- L1 vs L2 Regularization\n",
    "\t- Ridge or Lasso ?\n",
    " "
   ]
  },
  {
   "cell_type": "code",
   "execution_count": 12,
   "metadata": {},
   "outputs": [],
   "source": [
    "import warnings\n",
    "warnings.filterwarnings('ignore')\n",
    "import pandas as pd\n",
    "import numpy as np\n",
    "import matplotlib.pyplot as plt\n",
    "from sklearn.linear_model import LinearRegression\n",
    "from sklearn.linear_model import Lasso, Ridge\n",
    "from sklearn.model_selection import LeaveOneOut\n",
    "from sklearn.model_selection import cross_val_score\n",
    "from sklearn.metrics import mean_squared_error\n",
    "%matplotlib inline\n",
    "\n",
    "np.random.seed(9)"
   ]
  },
  {
   "cell_type": "markdown",
   "metadata": {
    "slideshow": {
     "slide_type": "slide"
    }
   },
   "source": [
    "- Till now we have learnt to fit a simple linear regression model and we have done this on the house-price prediction dataset.\n",
    "- We have predicted the Price of a House given its Area \n",
    "- However, with further analysis, these predictions can be improved!"
   ]
  },
  {
   "cell_type": "markdown",
   "metadata": {
    "slideshow": {
     "slide_type": "subslide"
    }
   },
   "source": [
    "<br><br><br><br><br><br>\n",
    "## Underfitting\n",
    "***\n",
    "\n",
    "Underfitting is when the the model *fails to capture the overall 'trend' of the data.* For example: The linear model will do an extremely poor job of explaining the target variable if we fitted to nonlinear data. It will *oversimplifies* the model.\n",
    "\n",
    "A model that underfits is said to have **high bias.**\n",
    "\n",
    "- Bias is the difference between predictions and truths using models trained by specific learning algorithm\n",
    "\n",
    "- Error due to bias is because we assumed that simple linear model will fit a non linear data distribution  while specifying the  algorithm\n",
    "\n",
    "- Basically, we are biased toward the data having a linear trend and we hypothesize that our target variable increases linearly EVEN THOUGH WE CAN SEE A CLEAR NON-LINEAR TREND \n",
    "\n"
   ]
  },
  {
   "cell_type": "markdown",
   "metadata": {
    "slideshow": {
     "slide_type": "slide"
    }
   },
   "source": [
    "<br><br><br>\n",
    "### What is the issue here?\n",
    "\n",
    "A linear model is not able to fit the non-linear data. \n",
    "\n",
    "- But then can a non-linear curve do the job?\n",
    "\n"
   ]
  },
  {
   "cell_type": "markdown",
   "metadata": {
    "slideshow": {
     "slide_type": "slide"
    }
   },
   "source": [
    "<br><br><br>\n",
    "## Polynomial Regression - Introduction\n",
    "***\n",
    "\n",
    "\n",
    "* One way to tackle underfitting is through polynomial functions. Let's see the implementation of this technique.\n"
   ]
  },
  {
   "cell_type": "markdown",
   "metadata": {
    "slideshow": {
     "slide_type": "subslide"
    }
   },
   "source": [
    "<br><br><br><br><br><br>\n",
    "## Polynomial Basis Function - Mathematical Representation\n",
    "***\n",
    "\n",
    "* In many settings, such a linear relationship may not hold. For example, if we are modeling the yield of a chemical synthesis in terms of the temperature at which the synthesis takes place, we may find that the yield improves by increasing amounts for each unit increase in temperature. In this case, we might propose a quadratic model of the form\n",
    "    $$ y = \\beta_{0}+\\beta_{1}x+\\beta_{2}x^2+\\varepsilon. $$\n",
    "<br/>\n",
    "* In general, we can model the expected value of y as an nth degree polynomial, yielding the general polynomial regression model\n",
    "    $$ y = \\beta_{0}+\\beta_{1}x+\\beta_{2}x^2+\\cdots +\\beta_{n}x^n+\\varepsilon. $$\n",
    "<br/>\n",
    "the above is what is known as **polynomial basis function**  \n",
    " <br/>\n",
    "* Polynomial projection is built into Scikit-Learn, using the ``Polynomial Features`` transformer:"
   ]
  },
  {
   "cell_type": "markdown",
   "metadata": {
    "slideshow": {
     "slide_type": "slide"
    }
   },
   "source": [
    "<br><br><br>\n",
    "## What is a Polynomial Feature Transformer? \n",
    "\n",
    " - This is nothing but taking the *n-th* degree of your variable\n",
    " - Below is an easy example to display what it does\n",
    "     - Say we wanted to take the 1st, 2nd and 3rd degree of the numbers 2,3 & 4. \n",
    "     - Intuitively we know that for 2 the 1st, 2nd and 3rd degrees are: 2, 4 $(2^2)$ and 8 $(2^3)$\n",
    " \n",
    " - Let's try and understand the code below: "
   ]
  },
  {
   "cell_type": "code",
   "execution_count": 13,
   "metadata": {
    "slideshow": {
     "slide_type": "slide"
    }
   },
   "outputs": [
    {
     "data": {
      "text/plain": [
       "array([[ 2.,  4.,  8.],\n",
       "       [ 3.,  9., 27.],\n",
       "       [ 4., 16., 64.]])"
      ]
     },
     "execution_count": 13,
     "metadata": {},
     "output_type": "execute_result"
    }
   ],
   "source": [
    "#code to improvise polynomial regression model and increase the accuracy \n",
    "\n",
    "from sklearn.preprocessing import PolynomialFeatures\n",
    "x = np.array([2, 3, 4])\n",
    "poly = PolynomialFeatures(3, include_bias=False)\n",
    "poly.fit_transform(x[:, None])"
   ]
  },
  {
   "cell_type": "markdown",
   "metadata": {
    "slideshow": {
     "slide_type": "subslide"
    }
   },
   "source": [
    "Here the 3 in \"PolynomialFeatures(3, include_bias=False)\" is basically the value of degree of the polynomials up to which we want our data to be transformed to \n",
    "\n",
    "- We can see 3 values for 2,3 and 4. For example: $4^1$ (4), $4^2$ (16) and $4^3$ (64)"
   ]
  },
  {
   "cell_type": "markdown",
   "metadata": {
    "slideshow": {
     "slide_type": "slide"
    }
   },
   "source": [
    "**Now, let's use the same technique to create a 7th-degree polynomial model for the non-linear data generated  earlier **"
   ]
  },
  {
   "cell_type": "code",
   "execution_count": 14,
   "metadata": {
    "slideshow": {
     "slide_type": "subslide"
    }
   },
   "outputs": [],
   "source": [
    "#make_pipeline() just like Pipeline() is used to perform a sequence of different transformations on a raw dataset before applying the final estimator. \n",
    "\n",
    "from sklearn.pipeline import make_pipeline\n",
    "poly_model = make_pipeline(PolynomialFeatures(7),\n",
    "                           LinearRegression())  "
   ]
  },
  {
   "cell_type": "code",
   "execution_count": 15,
   "metadata": {
    "slideshow": {
     "slide_type": "subslide"
    }
   },
   "outputs": [
    {
     "data": {
      "image/png": "[encoded data removed]",
      "text/plain": [
       "<Figure size 432x288 with 1 Axes>"
      ]
     },
     "metadata": {
      "needs_background": "light"
     },
     "output_type": "display_data"
    }
   ],
   "source": [
    "rng = np.random.RandomState(1)\n",
    "x = 10 * rng.rand(50)\n",
    "y = np.sin(x) + 0.1 * rng.randn(50)\n",
    "xfit = np.linspace(0, 10, 1000)\n",
    "\n",
    "poly_model.fit(x[:, np.newaxis], y)\n",
    "yfit = poly_model.predict(xfit[:, np.newaxis])\n",
    "\n",
    "plt.scatter(x, y)\n",
    "plt.plot(xfit, yfit)\n",
    "\n",
    "plt.xlabel(\"X\")\n",
    "plt.ylabel(\"Y\")\n",
    "plt.title(\"Sin Function\");"
   ]
  },
  {
   "cell_type": "markdown",
   "metadata": {
    "slideshow": {
     "slide_type": "slide"
    }
   },
   "source": [
    "7th-order polynomial basis function can provide an excellent fit to this non-linear data.\n",
    "\n",
    "There are many advantages of using Polynomial Regression as-\n",
    "-  Broad range of functions can be fit over model\n",
    "-  Polynomial function fits a wide range of curvature \n",
    "-  It provides a good approximation of the relationship and makes the transformation more interpretable."
   ]
  },
  {
   "cell_type": "markdown",
   "metadata": {
    "slideshow": {
     "slide_type": "slide"
    }
   },
   "source": [
    "<br><br><br><br><br><br>\n",
    "## Overfitting \n",
    "***\n",
    "\n",
    "Overfitting occurs when your model follows the training dataset very rigorously i.e it gives low training error, but it may not work well on generalized or test dataset i.e. it may give a high generalization error. \n",
    "\n",
    "For example- It's like a person cramming word to word from a book while studying for his exams. If the questions in the test are straight as in the book, he will do well, else if the questions are more based on usage of multiple concepts outlined in the book he studied, and not directy stated, the person may struggle.\n",
    "\n",
    "<img src=\"https://raw.githubusercontent.com/bluedataconsulting/AIMasteryProgram/main/Lab_Exercises/Module4/images/underfitting_overfitting.png\" width=500 height=250><br/>\n",
    "\n",
    "<br/><br/>\n",
    "An overfitting model is said to have high variance.\n",
    "\n",
    "We will discuss about bias and variance soon."
   ]
  },
  {
   "cell_type": "markdown",
   "metadata": {
    "slideshow": {
     "slide_type": "slide"
    }
   },
   "source": [
    "<br><br><br><br><br><br>\n",
    "## Concept of Regularization\n",
    "***\n",
    "<br/>\n",
    "Regularizations techniques are used to reduce the error by fitting a function appropriately on the given training set to avoid overfitting.\n",
    "Let's build an intuition with the help of an example \n",
    " \n",
    "\n",
    "* Let's say a parent is very cautious about the future of his children \n",
    "* He wants them to be successful in life without being strict with them. He takes a decision about how much flexibility should be given to his children during their upbringing. \n",
    "\n",
    "**Too much restriction may suppress their development of character,however; Too much flexibility may spoil them.**\n",
    "\n",
    "- He decides to overcome this situation with the idea of regularized(regularization) flexibility, which is to give enough flexibility added with some restrictions. "
   ]
  },
  {
   "cell_type": "markdown",
   "metadata": {
    "slideshow": {
     "slide_type": "slide"
    }
   },
   "source": [
    "\n",
    "The overfitting behaviour occurs when basis functions overlap:\n",
    "- The coefficients of adjacent basis functions grow large and cancel each other out.\n",
    "- We need to limit such spikes explicitly in the model by penalizing large values of the model parameters (the thetas of variables)\n",
    "- Such a penalty is known as regularization.\n",
    "\n",
    "It can be done through-\n",
    "-  L1 Regularization (also called as Lasso Penalization/Regression)\n",
    "-  L2 Regularization (also called as Ridge Penalization/Regression)"
   ]
  },
  {
   "cell_type": "markdown",
   "metadata": {
    "slideshow": {
     "slide_type": "slide"
    }
   },
   "source": [
    "<br><br><br>\n",
    "## L1 Regularization (also called as Lasso penalisation)\n",
    "***\n",
    "<br />\n",
    "Involves penalising sum of absolute values (1-norms) of regression coefficients<br/>\n",
    "Here the Penalty (P) on the model will be:\n",
    "$$ P=\\alpha\\sum_{i=1}^{n}\\left | \\theta_{n} \\right | $$\n",
    "<br/>\n",
    "\n",
    "And the cost function would be:<br/>\n",
    "$$ J(\\theta)=\\frac{1}{2m}\\sum_{i=1}^{m}(h_{\\theta}x^{(i)}-y^{(i)})^2 + \\alpha\\sum_{n=1}^{N}\\left | \\theta_{n} \\right | $$\n"
   ]
  },
  {
   "cell_type": "markdown",
   "metadata": {
    "slideshow": {
     "slide_type": "subslide"
    }
   },
   "source": [
    "<br><br><br>\n",
    "### Understanding L1\n",
    "\n",
    " - Here we are familiar with the First half of the Cost Function. \n",
    " \n",
    " - By adding all thetas to the cost function, which we want to minimize, we're adding further restrictions on these parameters\n",
    " \n",
    " - Notice how $\\theta_{0}$ is not in the formula for P as the limits start from i=1 to i=n there, as we're not penalizing our Intercept"
   ]
  },
  {
   "cell_type": "markdown",
   "metadata": {
    "slideshow": {
     "slide_type": "subslide"
    }
   },
   "source": [
    "<br><br><br>\n",
    "### Lasso - Implementation \n",
    "\n",
    "- The  α  parameter in Lasso tunes the strength of the penalty, and should be determined via cross-validation. (What is cross-validation? Later below)\n",
    "\n",
    "- Let's use Lasso on our model and see how it performs "
   ]
  },
  {
   "cell_type": "code",
   "execution_count": 16,
   "metadata": {},
   "outputs": [
    {
     "name": "stdout",
     "output_type": "stream",
     "text": [
      "--2022-08-25 11:12:37--  https://raw.githubusercontent.com/Wayan123/dataset-ml/main/house_prices_multivariate.csv\n",
      "Resolving raw.githubusercontent.com (raw.githubusercontent.com)... 185.199.110.133, 185.199.108.133, 185.199.109.133, ...\n",
      "Connecting to raw.githubusercontent.com (raw.githubusercontent.com)|185.199.110.133|:443... connected.\n",
      "HTTP request sent, awaiting response... 200 OK\n",
      "Length: 160215 (156K) [text/plain]\n",
      "Saving to: ‘house_prices_multivariate.csv’\n",
      "\n",
      "house_prices_multiv 100%[===================>] 156,46K  --.-KB/s    in 0,05s   \n",
      "\n",
      "2022-08-25 11:12:37 (2,86 MB/s) - ‘house_prices_multivariate.csv’ saved [160215/160215]\n",
      "\n"
     ]
    }
   ],
   "source": [
    "# link dataset: https://raw.githubusercontent.com/Wayan123/dataset-ml/main/house_prices_multivariate.csv\n",
    "\n",
    "!wget https://raw.githubusercontent.com/Wayan123/dataset-ml/main/house_prices_multivariate.csv"
   ]
  },
  {
   "cell_type": "code",
   "execution_count": 17,
   "metadata": {},
   "outputs": [
    {
     "data": {
      "text/html": [
       "<div>\n",
       "<style scoped>\n",
       "    .dataframe tbody tr th:only-of-type {\n",
       "        vertical-align: middle;\n",
       "    }\n",
       "\n",
       "    .dataframe tbody tr th {\n",
       "        vertical-align: top;\n",
       "    }\n",
       "\n",
       "    .dataframe thead th {\n",
       "        text-align: right;\n",
       "    }\n",
       "</style>\n",
       "<table border=\"1\" class=\"dataframe\">\n",
       "  <thead>\n",
       "    <tr style=\"text-align: right;\">\n",
       "      <th></th>\n",
       "      <th>LotFrontage</th>\n",
       "      <th>LotArea</th>\n",
       "      <th>OverallQual</th>\n",
       "      <th>OverallCond</th>\n",
       "      <th>YearBuilt</th>\n",
       "      <th>YearRemodAdd</th>\n",
       "      <th>MasVnrArea</th>\n",
       "      <th>BsmtFinSF1</th>\n",
       "      <th>BsmtFinSF2</th>\n",
       "      <th>BsmtUnfSF</th>\n",
       "      <th>...</th>\n",
       "      <th>GarageArea</th>\n",
       "      <th>WoodDeckSF</th>\n",
       "      <th>OpenPorchSF</th>\n",
       "      <th>EnclosedPorch</th>\n",
       "      <th>3SsnPorch</th>\n",
       "      <th>ScreenPorch</th>\n",
       "      <th>PoolArea</th>\n",
       "      <th>MiscVal</th>\n",
       "      <th>YrSold</th>\n",
       "      <th>SalePrice</th>\n",
       "    </tr>\n",
       "  </thead>\n",
       "  <tbody>\n",
       "    <tr>\n",
       "      <th>0</th>\n",
       "      <td>65.0</td>\n",
       "      <td>8450</td>\n",
       "      <td>7</td>\n",
       "      <td>5</td>\n",
       "      <td>2003</td>\n",
       "      <td>2003</td>\n",
       "      <td>196.0</td>\n",
       "      <td>706</td>\n",
       "      <td>0</td>\n",
       "      <td>150</td>\n",
       "      <td>...</td>\n",
       "      <td>548</td>\n",
       "      <td>0</td>\n",
       "      <td>61</td>\n",
       "      <td>0</td>\n",
       "      <td>0</td>\n",
       "      <td>0</td>\n",
       "      <td>0</td>\n",
       "      <td>0</td>\n",
       "      <td>2008</td>\n",
       "      <td>208500</td>\n",
       "    </tr>\n",
       "    <tr>\n",
       "      <th>1</th>\n",
       "      <td>80.0</td>\n",
       "      <td>9600</td>\n",
       "      <td>6</td>\n",
       "      <td>8</td>\n",
       "      <td>1976</td>\n",
       "      <td>1976</td>\n",
       "      <td>0.0</td>\n",
       "      <td>978</td>\n",
       "      <td>0</td>\n",
       "      <td>284</td>\n",
       "      <td>...</td>\n",
       "      <td>460</td>\n",
       "      <td>298</td>\n",
       "      <td>0</td>\n",
       "      <td>0</td>\n",
       "      <td>0</td>\n",
       "      <td>0</td>\n",
       "      <td>0</td>\n",
       "      <td>0</td>\n",
       "      <td>2007</td>\n",
       "      <td>181500</td>\n",
       "    </tr>\n",
       "    <tr>\n",
       "      <th>2</th>\n",
       "      <td>68.0</td>\n",
       "      <td>11250</td>\n",
       "      <td>7</td>\n",
       "      <td>5</td>\n",
       "      <td>2001</td>\n",
       "      <td>2002</td>\n",
       "      <td>162.0</td>\n",
       "      <td>486</td>\n",
       "      <td>0</td>\n",
       "      <td>434</td>\n",
       "      <td>...</td>\n",
       "      <td>608</td>\n",
       "      <td>0</td>\n",
       "      <td>42</td>\n",
       "      <td>0</td>\n",
       "      <td>0</td>\n",
       "      <td>0</td>\n",
       "      <td>0</td>\n",
       "      <td>0</td>\n",
       "      <td>2008</td>\n",
       "      <td>223500</td>\n",
       "    </tr>\n",
       "    <tr>\n",
       "      <th>3</th>\n",
       "      <td>60.0</td>\n",
       "      <td>9550</td>\n",
       "      <td>7</td>\n",
       "      <td>5</td>\n",
       "      <td>1915</td>\n",
       "      <td>1970</td>\n",
       "      <td>0.0</td>\n",
       "      <td>216</td>\n",
       "      <td>0</td>\n",
       "      <td>540</td>\n",
       "      <td>...</td>\n",
       "      <td>642</td>\n",
       "      <td>0</td>\n",
       "      <td>35</td>\n",
       "      <td>272</td>\n",
       "      <td>0</td>\n",
       "      <td>0</td>\n",
       "      <td>0</td>\n",
       "      <td>0</td>\n",
       "      <td>2006</td>\n",
       "      <td>140000</td>\n",
       "    </tr>\n",
       "    <tr>\n",
       "      <th>4</th>\n",
       "      <td>84.0</td>\n",
       "      <td>14260</td>\n",
       "      <td>8</td>\n",
       "      <td>5</td>\n",
       "      <td>2000</td>\n",
       "      <td>2000</td>\n",
       "      <td>350.0</td>\n",
       "      <td>655</td>\n",
       "      <td>0</td>\n",
       "      <td>490</td>\n",
       "      <td>...</td>\n",
       "      <td>836</td>\n",
       "      <td>192</td>\n",
       "      <td>84</td>\n",
       "      <td>0</td>\n",
       "      <td>0</td>\n",
       "      <td>0</td>\n",
       "      <td>0</td>\n",
       "      <td>0</td>\n",
       "      <td>2008</td>\n",
       "      <td>250000</td>\n",
       "    </tr>\n",
       "  </tbody>\n",
       "</table>\n",
       "<p>5 rows × 35 columns</p>\n",
       "</div>"
      ],
      "text/plain": [
       "   LotFrontage  LotArea  OverallQual  OverallCond  YearBuilt  YearRemodAdd  \\\n",
       "0         65.0     8450            7            5       2003          2003   \n",
       "1         80.0     9600            6            8       1976          1976   \n",
       "2         68.0    11250            7            5       2001          2002   \n",
       "3         60.0     9550            7            5       1915          1970   \n",
       "4         84.0    14260            8            5       2000          2000   \n",
       "\n",
       "   MasVnrArea  BsmtFinSF1  BsmtFinSF2  BsmtUnfSF  ...  GarageArea  WoodDeckSF  \\\n",
       "0       196.0         706           0        150  ...         548           0   \n",
       "1         0.0         978           0        284  ...         460         298   \n",
       "2       162.0         486           0        434  ...         608           0   \n",
       "3         0.0         216           0        540  ...         642           0   \n",
       "4       350.0         655           0        490  ...         836         192   \n",
       "\n",
       "   OpenPorchSF  EnclosedPorch  3SsnPorch  ScreenPorch  PoolArea  MiscVal  \\\n",
       "0           61              0          0            0         0        0   \n",
       "1            0              0          0            0         0        0   \n",
       "2           42              0          0            0         0        0   \n",
       "3           35            272          0            0         0        0   \n",
       "4           84              0          0            0         0        0   \n",
       "\n",
       "   YrSold  SalePrice  \n",
       "0    2008     208500  \n",
       "1    2007     181500  \n",
       "2    2008     223500  \n",
       "3    2006     140000  \n",
       "4    2008     250000  \n",
       "\n",
       "[5 rows x 35 columns]"
      ]
     },
     "execution_count": 17,
     "metadata": {},
     "output_type": "execute_result"
    }
   ],
   "source": [
    "# Loading the dataset\n",
    "import pandas as pd\n",
    "data = pd.read_csv(\"house_prices_multivariate.csv\")\n",
    "data.head()"
   ]
  },
  {
   "cell_type": "code",
   "execution_count": 18,
   "metadata": {},
   "outputs": [],
   "source": [
    "# Splitting data \n",
    "from sklearn.model_selection import train_test_split\n",
    "\n",
    "X = data.iloc[:,:-1]\n",
    "y = data['SalePrice']\n",
    "\n",
    "# split the data with 50% in each set\n",
    "X_train, X_test, y_train, y_test = train_test_split(X, y, random_state=9, train_size=0.5)"
   ]
  },
  {
   "cell_type": "code",
   "execution_count": 19,
   "metadata": {},
   "outputs": [
    {
     "data": {
      "text/plain": [
       "0.7689282903544467"
      ]
     },
     "execution_count": 19,
     "metadata": {},
     "output_type": "execute_result"
    }
   ],
   "source": [
    "from sklearn.linear_model import LinearRegression, Lasso, Ridge\n",
    "from sklearn.metrics import mean_squared_error,r2_score\n",
    "\n",
    "\n",
    "lasso_model=Lasso(alpha=140, max_iter=100000, random_state=9)\n",
    "\n",
    "# fit the model on one set of data\n",
    "lasso_model.fit(X_train, y_train)\n",
    "\n",
    "# evaluate the model on the second set of data\n",
    "y_pred = lasso_model.predict(X_test)\n",
    "\n",
    "mean_squared_error(y_test, y_pred)\n",
    "\n",
    "# Getting the r2 score\n",
    "r2_score(y_test, y_pred)"
   ]
  },
  {
   "cell_type": "markdown",
   "metadata": {
    "slideshow": {
     "slide_type": "slide"
    }
   },
   "source": [
    "<br><br><br><br><br><br>\n",
    "## L2 Regularization (also called as Ridge penalisation) \n",
    "***\n",
    "<br />\n",
    "This proceeds by penalising the sum of squares (2-norms) of the model coefficients<br/>\n",
    "Here the Penalty (P) on the model will be:\n",
    "$$ P=\\alpha\\sum_{i=1}^{n}\\theta_{n}^{2}  $$\n",
    "<br/>\n",
    "And the cost function would be:<br/>\n",
    "$$ J(\\theta)=\\frac{1}{2m}\\sum_{i=1}^{m}(h_{\\theta}x^{(i)}-y^{(i)})^2 + \\alpha\\sum_{n=1}^{N} \\theta_{n}^{2} $$\n"
   ]
  },
  {
   "cell_type": "markdown",
   "metadata": {
    "slideshow": {
     "slide_type": "subslide"
    }
   },
   "source": [
    "<br><br><br>\n",
    "### Understanding L2\n",
    "\n",
    "- The L2 regularization will force the parameters to be relatively small, the bigger the penalization, the smaller (and the more robust to overfitting) the coefficients are\n",
    "- Here we are considering every feature but we are penalizing the coefficients based on how significant the feature is"
   ]
  },
  {
   "cell_type": "markdown",
   "metadata": {
    "slideshow": {
     "slide_type": "slide"
    }
   },
   "source": [
    "Here,  α is a hyper-parameter that controls the strength of the penalty.\n",
    "The  α parameter controls complexity of the resulting model.\n",
    "- In the limit  α→0 , we recover the standard linear regression result.\n",
    "- In the limit  α→∞ , all model responses will be suppressed.\n",
    "\n",
    "Ridge regression can be computed very efficiently at hardly any computational cost than the original linear regression model.\n",
    "This type of penalized model is built into Scikit-Learn with the Ridge estimator.\n",
    "\n"
   ]
  },
  {
   "cell_type": "markdown",
   "metadata": {},
   "source": [
    "<br><br><br>\n",
    "### Ridge - Implementation "
   ]
  },
  {
   "cell_type": "code",
   "execution_count": 20,
   "metadata": {},
   "outputs": [
    {
     "data": {
      "text/plain": [
       "0.7685337209181896"
      ]
     },
     "execution_count": 20,
     "metadata": {},
     "output_type": "execute_result"
    }
   ],
   "source": [
    "ridge_model=Ridge(alpha=0.00001, max_iter=100000, random_state=9)\n",
    "\n",
    "# fit the model on one set of data\n",
    "ridge_model.fit(X_train, y_train)\n",
    "\n",
    "# evaluate the model on the second set of data\n",
    "y_pred = ridge_model.predict(X_test)\n",
    "mean_squared_error(y_test, y_pred)\n",
    "r2_score(y_test,y_pred)"
   ]
  },
  {
   "cell_type": "markdown",
   "metadata": {
    "slideshow": {
     "slide_type": "slide"
    }
   },
   "source": [
    "\n",
    "<br><br><br>\n",
    "## L1 vs L2 Regularization\n",
    "***\n",
    "\n",
    "<img src=\"https://raw.githubusercontent.com/bluedataconsulting/AIMasteryProgram/main/Lab_Exercises/Module4/images/L1_L2.png\" width=500 height=250><br/>"
   ]
  },
  {
   "cell_type": "markdown",
   "metadata": {
    "slideshow": {
     "slide_type": "subslide"
    }
   },
   "source": [
    "<br><br><br>\n",
    "## Ridge or Lasso ?\n",
    "***\n",
    "\n",
    "\n",
    "* Let's say we have a large dataset which has 10,000 features. \n",
    "* And some of the independent features are correlated with other independent features. \n",
    "\n",
    "**Which one would suit better, Rigde or Lasso?**\n",
    "\n",
    "\n",
    "\n",
    "\n",
    "* If we apply **ridge regression** to it, it will retain all of the features but will **shrink the coefficients**. Still the problem is that model will remain complex as there are 10,000 features, thus may lead to poor model performance.\n",
    "\n",
    "* If we apply **lasso regression** to this problem, the main problem will be when we have correlated variables, it would retain only one variable and set other correlated variables to zero. \n",
    "* That will possibly lead to some loss of information resulting in lower accuracy in our model.\n",
    "\n"
   ]
  },
  {
   "cell_type": "markdown",
   "metadata": {},
   "source": [
    "### Thank You"
   ]
  }
 ],
 "metadata": {
  "kernelspec": {
   "display_name": "Python 3.8.13 ('tf26p38gpu-riset')",
   "language": "python",
   "name": "python3"
  },
  "language_info": {
   "codemirror_mode": {
    "name": "ipython",
    "version": 3
   },
   "file_extension": ".py",
   "mimetype": "text/x-python",
   "name": "python",
   "nbconvert_exporter": "python",
   "pygments_lexer": "ipython3",
   "version": "3.8.13"
  },
  "vscode": {
   "interpreter": {
    "hash": "1f25b7125f6d016f1a2196ebcb79236770b2f4743b020ee153e77d05bf60e445"
   }
  },
  "widgets": {
   "state": {},
   "version": "1.1.2"
  }
 },
 "nbformat": 4,
 "nbformat_minor": 2
}
