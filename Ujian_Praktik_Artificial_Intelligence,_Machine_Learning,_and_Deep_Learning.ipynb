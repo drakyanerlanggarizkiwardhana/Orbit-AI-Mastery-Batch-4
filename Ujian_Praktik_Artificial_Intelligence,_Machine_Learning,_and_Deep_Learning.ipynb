{
  "nbformat": 4,
  "nbformat_minor": 0,
  "metadata": {
    "colab": {
      "provenance": [],
      "toc_visible": true
    },
    "kernelspec": {
      "name": "python3",
      "display_name": "Python 3"
    },
    "language_info": {
      "name": "python"
    }
  },
  "cells": [
    {
      "cell_type": "code",
      "source": [
        "import pandas as pd\n",
        "import matplotlib.pyplot as plt"
      ],
      "metadata": {
        "id": "VcVk2SyiGhDv"
      },
      "execution_count": null,
      "outputs": []
    },
    {
      "cell_type": "code",
      "source": [
        "df = pd.read_csv(\"Heart.csv\")"
      ],
      "metadata": {
        "id": "g4XEGegRaxQ1"
      },
      "execution_count": null,
      "outputs": []
    },
    {
      "cell_type": "code",
      "source": [
        "df.head()"
      ],
      "metadata": {
        "colab": {
          "base_uri": "https://localhost:8080/",
          "height": 206
        },
        "id": "1drJCakEIj8V",
        "outputId": "d39d310f-d54c-4e28-b89c-766be5f1c24e"
      },
      "execution_count": null,
      "outputs": [
        {
          "output_type": "execute_result",
          "data": {
            "text/plain": [
              "   Unnamed: 0  Age  Sex     ChestPain  RestBP  Chol  Fbs  RestECG  MaxHR  \\\n",
              "0           1   63    1       typical     145   233    1        2    150   \n",
              "1           2   67    1  asymptomatic     160   286    0        2    108   \n",
              "2           3   67    1  asymptomatic     120   229    0        2    129   \n",
              "3           4   37    1    nonanginal     130   250    0        0    187   \n",
              "4           5   41    0    nontypical     130   204    0        2    172   \n",
              "\n",
              "   ExAng  Oldpeak  Slope   Ca        Thal  AHD  \n",
              "0      0      2.3      3  0.0       fixed   No  \n",
              "1      1      1.5      2  3.0      normal  Yes  \n",
              "2      1      2.6      2  2.0  reversable  Yes  \n",
              "3      0      3.5      3  0.0      normal   No  \n",
              "4      0      1.4      1  0.0      normal   No  "
            ],
            "text/html": [
              "\n",
              "  <div id=\"df-c2ec42e3-0665-4610-8f3c-019627664024\">\n",
              "    <div class=\"colab-df-container\">\n",
              "      <div>\n",
              "<style scoped>\n",
              "    .dataframe tbody tr th:only-of-type {\n",
              "        vertical-align: middle;\n",
              "    }\n",
              "\n",
              "    .dataframe tbody tr th {\n",
              "        vertical-align: top;\n",
              "    }\n",
              "\n",
              "    .dataframe thead th {\n",
              "        text-align: right;\n",
              "    }\n",
              "</style>\n",
              "<table border=\"1\" class=\"dataframe\">\n",
              "  <thead>\n",
              "    <tr style=\"text-align: right;\">\n",
              "      <th></th>\n",
              "      <th>Unnamed: 0</th>\n",
              "      <th>Age</th>\n",
              "      <th>Sex</th>\n",
              "      <th>ChestPain</th>\n",
              "      <th>RestBP</th>\n",
              "      <th>Chol</th>\n",
              "      <th>Fbs</th>\n",
              "      <th>RestECG</th>\n",
              "      <th>MaxHR</th>\n",
              "      <th>ExAng</th>\n",
              "      <th>Oldpeak</th>\n",
              "      <th>Slope</th>\n",
              "      <th>Ca</th>\n",
              "      <th>Thal</th>\n",
              "      <th>AHD</th>\n",
              "    </tr>\n",
              "  </thead>\n",
              "  <tbody>\n",
              "    <tr>\n",
              "      <th>0</th>\n",
              "      <td>1</td>\n",
              "      <td>63</td>\n",
              "      <td>1</td>\n",
              "      <td>typical</td>\n",
              "      <td>145</td>\n",
              "      <td>233</td>\n",
              "      <td>1</td>\n",
              "      <td>2</td>\n",
              "      <td>150</td>\n",
              "      <td>0</td>\n",
              "      <td>2.3</td>\n",
              "      <td>3</td>\n",
              "      <td>0.0</td>\n",
              "      <td>fixed</td>\n",
              "      <td>No</td>\n",
              "    </tr>\n",
              "    <tr>\n",
              "      <th>1</th>\n",
              "      <td>2</td>\n",
              "      <td>67</td>\n",
              "      <td>1</td>\n",
              "      <td>asymptomatic</td>\n",
              "      <td>160</td>\n",
              "      <td>286</td>\n",
              "      <td>0</td>\n",
              "      <td>2</td>\n",
              "      <td>108</td>\n",
              "      <td>1</td>\n",
              "      <td>1.5</td>\n",
              "      <td>2</td>\n",
              "      <td>3.0</td>\n",
              "      <td>normal</td>\n",
              "      <td>Yes</td>\n",
              "    </tr>\n",
              "    <tr>\n",
              "      <th>2</th>\n",
              "      <td>3</td>\n",
              "      <td>67</td>\n",
              "      <td>1</td>\n",
              "      <td>asymptomatic</td>\n",
              "      <td>120</td>\n",
              "      <td>229</td>\n",
              "      <td>0</td>\n",
              "      <td>2</td>\n",
              "      <td>129</td>\n",
              "      <td>1</td>\n",
              "      <td>2.6</td>\n",
              "      <td>2</td>\n",
              "      <td>2.0</td>\n",
              "      <td>reversable</td>\n",
              "      <td>Yes</td>\n",
              "    </tr>\n",
              "    <tr>\n",
              "      <th>3</th>\n",
              "      <td>4</td>\n",
              "      <td>37</td>\n",
              "      <td>1</td>\n",
              "      <td>nonanginal</td>\n",
              "      <td>130</td>\n",
              "      <td>250</td>\n",
              "      <td>0</td>\n",
              "      <td>0</td>\n",
              "      <td>187</td>\n",
              "      <td>0</td>\n",
              "      <td>3.5</td>\n",
              "      <td>3</td>\n",
              "      <td>0.0</td>\n",
              "      <td>normal</td>\n",
              "      <td>No</td>\n",
              "    </tr>\n",
              "    <tr>\n",
              "      <th>4</th>\n",
              "      <td>5</td>\n",
              "      <td>41</td>\n",
              "      <td>0</td>\n",
              "      <td>nontypical</td>\n",
              "      <td>130</td>\n",
              "      <td>204</td>\n",
              "      <td>0</td>\n",
              "      <td>2</td>\n",
              "      <td>172</td>\n",
              "      <td>0</td>\n",
              "      <td>1.4</td>\n",
              "      <td>1</td>\n",
              "      <td>0.0</td>\n",
              "      <td>normal</td>\n",
              "      <td>No</td>\n",
              "    </tr>\n",
              "  </tbody>\n",
              "</table>\n",
              "</div>\n",
              "      <button class=\"colab-df-convert\" onclick=\"convertToInteractive('df-c2ec42e3-0665-4610-8f3c-019627664024')\"\n",
              "              title=\"Convert this dataframe to an interactive table.\"\n",
              "              style=\"display:none;\">\n",
              "        \n",
              "  <svg xmlns=\"http://www.w3.org/2000/svg\" height=\"24px\"viewBox=\"0 0 24 24\"\n",
              "       width=\"24px\">\n",
              "    <path d=\"M0 0h24v24H0V0z\" fill=\"none\"/>\n",
              "    <path d=\"M18.56 5.44l.94 2.06.94-2.06 2.06-.94-2.06-.94-.94-2.06-.94 2.06-2.06.94zm-11 1L8.5 8.5l.94-2.06 2.06-.94-2.06-.94L8.5 2.5l-.94 2.06-2.06.94zm10 10l.94 2.06.94-2.06 2.06-.94-2.06-.94-.94-2.06-.94 2.06-2.06.94z\"/><path d=\"M17.41 7.96l-1.37-1.37c-.4-.4-.92-.59-1.43-.59-.52 0-1.04.2-1.43.59L10.3 9.45l-7.72 7.72c-.78.78-.78 2.05 0 2.83L4 21.41c.39.39.9.59 1.41.59.51 0 1.02-.2 1.41-.59l7.78-7.78 2.81-2.81c.8-.78.8-2.07 0-2.86zM5.41 20L4 18.59l7.72-7.72 1.47 1.35L5.41 20z\"/>\n",
              "  </svg>\n",
              "      </button>\n",
              "      \n",
              "  <style>\n",
              "    .colab-df-container {\n",
              "      display:flex;\n",
              "      flex-wrap:wrap;\n",
              "      gap: 12px;\n",
              "    }\n",
              "\n",
              "    .colab-df-convert {\n",
              "      background-color: #E8F0FE;\n",
              "      border: none;\n",
              "      border-radius: 50%;\n",
              "      cursor: pointer;\n",
              "      display: none;\n",
              "      fill: #1967D2;\n",
              "      height: 32px;\n",
              "      padding: 0 0 0 0;\n",
              "      width: 32px;\n",
              "    }\n",
              "\n",
              "    .colab-df-convert:hover {\n",
              "      background-color: #E2EBFA;\n",
              "      box-shadow: 0px 1px 2px rgba(60, 64, 67, 0.3), 0px 1px 3px 1px rgba(60, 64, 67, 0.15);\n",
              "      fill: #174EA6;\n",
              "    }\n",
              "\n",
              "    [theme=dark] .colab-df-convert {\n",
              "      background-color: #3B4455;\n",
              "      fill: #D2E3FC;\n",
              "    }\n",
              "\n",
              "    [theme=dark] .colab-df-convert:hover {\n",
              "      background-color: #434B5C;\n",
              "      box-shadow: 0px 1px 3px 1px rgba(0, 0, 0, 0.15);\n",
              "      filter: drop-shadow(0px 1px 2px rgba(0, 0, 0, 0.3));\n",
              "      fill: #FFFFFF;\n",
              "    }\n",
              "  </style>\n",
              "\n",
              "      <script>\n",
              "        const buttonEl =\n",
              "          document.querySelector('#df-c2ec42e3-0665-4610-8f3c-019627664024 button.colab-df-convert');\n",
              "        buttonEl.style.display =\n",
              "          google.colab.kernel.accessAllowed ? 'block' : 'none';\n",
              "\n",
              "        async function convertToInteractive(key) {\n",
              "          const element = document.querySelector('#df-c2ec42e3-0665-4610-8f3c-019627664024');\n",
              "          const dataTable =\n",
              "            await google.colab.kernel.invokeFunction('convertToInteractive',\n",
              "                                                     [key], {});\n",
              "          if (!dataTable) return;\n",
              "\n",
              "          const docLinkHtml = 'Like what you see? Visit the ' +\n",
              "            '<a target=\"_blank\" href=https://colab.research.google.com/notebooks/data_table.ipynb>data table notebook</a>'\n",
              "            + ' to learn more about interactive tables.';\n",
              "          element.innerHTML = '';\n",
              "          dataTable['output_type'] = 'display_data';\n",
              "          await google.colab.output.renderOutput(dataTable, element);\n",
              "          const docLink = document.createElement('div');\n",
              "          docLink.innerHTML = docLinkHtml;\n",
              "          element.appendChild(docLink);\n",
              "        }\n",
              "      </script>\n",
              "    </div>\n",
              "  </div>\n",
              "  "
            ]
          },
          "metadata": {},
          "execution_count": 13
        }
      ]
    },
    {
      "cell_type": "code",
      "source": [
        "df.info()"
      ],
      "metadata": {
        "colab": {
          "base_uri": "https://localhost:8080/"
        },
        "id": "eQ1hQZ3BIr1o",
        "outputId": "0a666b62-0142-4feb-cf0f-90cb9ee718fe"
      },
      "execution_count": null,
      "outputs": [
        {
          "output_type": "stream",
          "name": "stdout",
          "text": [
            "<class 'pandas.core.frame.DataFrame'>\n",
            "RangeIndex: 303 entries, 0 to 302\n",
            "Data columns (total 15 columns):\n",
            " #   Column      Non-Null Count  Dtype  \n",
            "---  ------      --------------  -----  \n",
            " 0   Unnamed: 0  303 non-null    int64  \n",
            " 1   Age         303 non-null    int64  \n",
            " 2   Sex         303 non-null    int64  \n",
            " 3   ChestPain   303 non-null    object \n",
            " 4   RestBP      303 non-null    int64  \n",
            " 5   Chol        303 non-null    int64  \n",
            " 6   Fbs         303 non-null    int64  \n",
            " 7   RestECG     303 non-null    int64  \n",
            " 8   MaxHR       303 non-null    int64  \n",
            " 9   ExAng       303 non-null    int64  \n",
            " 10  Oldpeak     303 non-null    float64\n",
            " 11  Slope       303 non-null    int64  \n",
            " 12  Ca          299 non-null    float64\n",
            " 13  Thal        301 non-null    object \n",
            " 14  AHD         303 non-null    object \n",
            "dtypes: float64(2), int64(10), object(3)\n",
            "memory usage: 35.6+ KB\n"
          ]
        }
      ]
    },
    {
      "cell_type": "code",
      "source": [
        "# Menghapus kolom 'Unnamed: 0'\n",
        "df = df.drop('Unnamed: 0', axis=1)\n",
        "\n",
        "# Memeriksa apakah ada nilai yang hilang pada kolom Ca dan Thal\n",
        "print(df[['Ca', 'Thal']].isnull().sum())\n",
        "\n",
        "# Mengganti nilai yang hilang pada kolom Ca dengan nilai rata-rata\n",
        "mean_Ca = df['Ca'].mean()\n",
        "df['Ca'].fillna(mean_Ca, inplace=True)\n",
        "\n",
        "# Menghapus baris yang memiliki nilai yang hilang pada kolom Thal\n",
        "df.dropna(subset=['Thal'], inplace=True)\n",
        "\n",
        "# Mengkonversi variabel target AHD menjadi variabel biner\n",
        "df['AHD'] = df['AHD'].replace({'No': 0, 'Yes': 1})\n",
        "\n",
        "# Mengkonversi variabel ChestPain dan Thal menjadi variabel dummy\n",
        "df = pd.get_dummies(df, columns=['ChestPain', 'Thal'])\n",
        "\n",
        "# Memisahkan variabel target (AHD) dari variabel prediktor lainnya\n",
        "X = df.drop('AHD', axis=1)\n",
        "y = df['AHD']\n",
        "\n",
        "# Memisahkan data menjadi data latih dan data uji\n",
        "from sklearn.model_selection import train_test_split\n",
        "\n",
        "X_train, X_test, y_train, y_test = train_test_split(X, y, test_size=0.2, random_state=42)\n",
        "\n",
        "# Melatih model KNN\n",
        "from sklearn.neighbors import KNeighborsClassifier\n",
        "\n",
        "knn = KNeighborsClassifier(n_neighbors=3)\n",
        "knn.fit(X_train, y_train)\n",
        "\n",
        "# Melakukan prediksi pada data uji\n",
        "y_pred = knn.predict(X_test)\n",
        "\n",
        "# Menghitung akurasi model\n",
        "from sklearn.metrics import accuracy_score\n",
        "\n",
        "accuracy = accuracy_score(y_test, y_pred)\n",
        "print(\"Akurasi model:\", accuracy)\n"
      ],
      "metadata": {
        "colab": {
          "base_uri": "https://localhost:8080/"
        },
        "id": "-Y8N8JMmcB1G",
        "outputId": "cb1b5328-1ef0-4601-fe8f-b88a87680ea9"
      },
      "execution_count": null,
      "outputs": [
        {
          "output_type": "stream",
          "name": "stdout",
          "text": [
            "Ca      4\n",
            "Thal    2\n",
            "dtype: int64\n",
            "Akurasi model: 0.5901639344262295\n"
          ]
        }
      ]
    },
    {
      "cell_type": "code",
      "source": [
        "import matplotlib.pyplot as plt\n",
        "\n",
        "# Memilih variabel prediktor dan target untuk plotting\n",
        "X_train_plot = X_train['Age']\n",
        "y_train_plot = y_train\n",
        "\n",
        "# Membuat scatter plot dari data latih\n",
        "plt.scatter(X_train_plot, y_train_plot, color='blue')\n",
        "\n",
        "# Membuat plot hasil prediksi pada data latih\n",
        "plt.plot(X_train_plot, knn.predict(X_train), color='red')\n",
        "\n",
        "# Menambahkan judul, label sumbu x dan y pada plot\n",
        "plt.title(\"Grafik KNN pada Data Latih\")\n",
        "plt.xlabel(\"Umur\")\n",
        "plt.ylabel(\"AHD\")\n",
        "\n",
        "# Menampilkan plot\n",
        "plt.show()\n"
      ],
      "metadata": {
        "colab": {
          "base_uri": "https://localhost:8080/",
          "height": 295
        },
        "id": "xUlergudcm96",
        "outputId": "eff509a2-989e-4e2b-c80c-00931d4d4242"
      },
      "execution_count": null,
      "outputs": [
        {
          "output_type": "display_data",
          "data": {
            "text/plain": [
              "<Figure size 432x288 with 1 Axes>"
            ],
            "image/png": "[encoded data removed]"
          },
          "metadata": {
            "needs_background": "light"
          }
        }
      ]
    },
    {
      "cell_type": "code",
      "source": [
        "import pandas as pd\n",
        "import numpy as np\n",
        "import matplotlib.pyplot as plt\n",
        "from sklearn.linear_model import LinearRegression\n",
        "\n",
        "# Load data\n",
        "data = pd.read_csv(\"Heart.csv\")\n",
        "\n",
        "# Select features and target variable\n",
        "X = data[\"MaxHR\"].values.reshape(-1,1)\n",
        "y = data[\"Age\"].values.reshape(-1,1)\n",
        "\n",
        "# Split data into training and testing sets\n",
        "from sklearn.model_selection import train_test_split\n",
        "X_train, X_test, y_train, y_test = train_test_split(X, y, test_size=0.2, random_state=0)\n",
        "\n",
        "# Train the model\n",
        "regressor = LinearRegression()\n",
        "regressor.fit(X_train, y_train)\n",
        "\n",
        "# Visualize the training set results\n",
        "plt.scatter(X_train, y_train, color='red')\n",
        "plt.plot(X_train, regressor.predict(X_train), color='blue')\n",
        "plt.title('MaxHR vs Age (Training set)')\n",
        "plt.xlabel('MaxHR')\n",
        "plt.ylabel('Age')\n",
        "plt.show()\n"
      ],
      "metadata": {
        "colab": {
          "base_uri": "https://localhost:8080/",
          "height": 295
        },
        "id": "fC2jthcadp2L",
        "outputId": "ce70a989-1f1f-4615-c2c5-407a68985451"
      },
      "execution_count": null,
      "outputs": [
        {
          "output_type": "display_data",
          "data": {
            "text/plain": [
              "<Figure size 432x288 with 1 Axes>"
            ],
            "image/png": "[encoded data removed]"
          },
          "metadata": {
            "needs_background": "light"
          }
        }
      ]
    },
    {
      "cell_type": "code",
      "source": [
        "import pandas as pd\n",
        "import numpy as np\n",
        "import matplotlib.pyplot as plt\n",
        "from sklearn.linear_model import LinearRegression\n",
        "\n",
        "# Load data\n",
        "data = pd.read_csv(\"Heart.csv\")\n",
        "\n",
        "# Select features and target variable\n",
        "X = data[\"MaxHR\"].values.reshape(-1,1)\n",
        "y = data[\"Age\"].values.reshape(-1,1)\n",
        "\n",
        "# Split data into training and testing sets\n",
        "from sklearn.model_selection import train_test_split\n",
        "X_train, X_test, y_train, y_test = train_test_split(X, y, test_size=0.2, random_state=0)\n",
        "\n",
        "# Train the model\n",
        "regressor = LinearRegression()\n",
        "regressor.fit(X_train, y_train)\n",
        "\n",
        "# Visualize the training set results\n",
        "plt.scatter(X_train, y_train, color='red')\n",
        "plt.plot(X_train, regressor.predict(X_train), color='blue')\n",
        "plt.title('MaxHR vs Age (Training set)')\n",
        "plt.xlabel('MaxHR')\n",
        "plt.ylabel('Age')\n",
        "plt.show()\n",
        "\n",
        "# Make predictions on the testing set\n",
        "y_pred = regressor.predict(X_test)\n",
        "\n",
        "# Visualize the testing set results\n",
        "plt.scatter(X_test, y_test, color='red')\n",
        "plt.plot(X_test, y_pred, color='blue')\n",
        "plt.title('MaxHR vs Age (Testing set)')\n",
        "plt.xlabel('MaxHR')\n",
        "plt.ylabel('Age')\n",
        "plt.show()\n"
      ],
      "metadata": {
        "colab": {
          "base_uri": "https://localhost:8080/",
          "height": 573
        },
        "id": "5O2CMhMwdxDb",
        "outputId": "afb81ba1-affb-47c6-8351-9d28dcb10f11"
      },
      "execution_count": null,
      "outputs": [
        {
          "output_type": "display_data",
          "data": {
            "text/plain": [
              "<Figure size 432x288 with 1 Axes>"
            ],
            "image/png": "[encoded data removed]"
          },
          "metadata": {
            "needs_background": "light"
          }
        },
        {
          "output_type": "display_data",
          "data": {
            "text/plain": [
              "<Figure size 432x288 with 1 Axes>"
            ],
            "image/png": "[encoded data removed]"
          },
          "metadata": {
            "needs_background": "light"
          }
        }
      ]
    },
    {
      "cell_type": "code",
      "source": [
        "import pandas as pd\n",
        "import numpy as np\n",
        "import matplotlib.pyplot as plt\n",
        "from sklearn.linear_model import LinearRegression\n",
        "\n",
        "# Load data\n",
        "data = pd.read_csv(\"Heart.csv\")\n",
        "\n",
        "# Select features and target variable\n",
        "X = data[\"MaxHR\"].values.reshape(-1,1)\n",
        "y = data[\"Age\"].values.reshape(-1,1)\n",
        "\n",
        "# Split data into training and testing sets\n",
        "from sklearn.model_selection import train_test_split\n",
        "X_train, X_test, y_train, y_test = train_test_split(X, y, test_size=0.2, random_state=0)\n",
        "\n",
        "# Train the model\n",
        "regressor = LinearRegression()\n",
        "regressor.fit(X_train, y_train)\n",
        "\n",
        "# Make predictions on the testing set\n",
        "y_pred = regressor.predict(X_test)\n",
        "\n",
        "# Print the predicted values\n",
        "print(\"Predicted values: \")\n",
        "print(y_pred)\n"
      ],
      "metadata": {
        "colab": {
          "base_uri": "https://localhost:8080/"
        },
        "id": "yg-jxK-xe3TJ",
        "outputId": "a26c8ff0-0521-4ac9-ff98-57cba8a35914"
      },
      "execution_count": null,
      "outputs": [
        {
          "output_type": "stream",
          "name": "stdout",
          "text": [
            "Predicted values: \n",
            "[[47.18713627]\n",
            " [52.54695197]\n",
            " [61.25665248]\n",
            " [53.55191741]\n",
            " [53.71941165]\n",
            " [67.45393938]\n",
            " [64.60653729]\n",
            " [53.21692893]\n",
            " [63.43407761]\n",
            " [53.88690589]\n",
            " [55.22685982]\n",
            " [52.37945773]\n",
            " [58.91173311]\n",
            " [55.5618483 ]\n",
            " [50.2020326 ]\n",
            " [53.38442317]\n",
            " [53.04943469]\n",
            " [54.05440013]\n",
            " [52.21196349]\n",
            " [57.57177919]\n",
            " [52.54695197]\n",
            " [51.20699804]\n",
            " [55.39435406]\n",
            " [58.40925039]\n",
            " [48.19210171]\n",
            " [50.53702108]\n",
            " [53.38442317]\n",
            " [56.23182526]\n",
            " [63.26658337]\n",
            " [61.08915824]\n",
            " [60.0841928 ]\n",
            " [50.36952684]\n",
            " [51.70948077]\n",
            " [54.7243771 ]\n",
            " [50.70451532]\n",
            " [52.04446925]\n",
            " [53.71941165]\n",
            " [55.39435406]\n",
            " [52.54695197]\n",
            " [52.71444621]\n",
            " [49.53205564]\n",
            " [58.40925039]\n",
            " [54.89187134]\n",
            " [52.21196349]\n",
            " [49.3645614 ]\n",
            " [53.88690589]\n",
            " [51.70948077]\n",
            " [46.68465355]\n",
            " [53.21692893]\n",
            " [52.04446925]\n",
            " [51.70948077]\n",
            " [52.04446925]\n",
            " [55.39435406]\n",
            " [50.87200956]\n",
            " [50.2020326 ]\n",
            " [50.53702108]\n",
            " [58.57674463]\n",
            " [50.36952684]\n",
            " [50.53702108]\n",
            " [55.89683678]\n",
            " [54.38938862]]\n"
          ]
        }
      ]
    },
    {
      "cell_type": "code",
      "source": [
        "import pandas as pd\n",
        "import numpy as np\n",
        "import matplotlib.pyplot as plt\n",
        "from sklearn.linear_model import LinearRegression\n",
        "from sklearn.metrics import mean_squared_error, r2_score\n",
        "\n",
        "# Load data\n",
        "data = pd.read_csv(\"Heart.csv\")\n",
        "\n",
        "# Select features and target variable\n",
        "X = data[\"MaxHR\"].values.reshape(-1,1)\n",
        "y = data[\"Age\"].values.reshape(-1,1)\n",
        "\n",
        "# Split data into training and testing sets\n",
        "from sklearn.model_selection import train_test_split\n",
        "X_train, X_test, y_train, y_test = train_test_split(X, y, test_size=0.2, random_state=0)\n",
        "\n",
        "# Train the model\n",
        "regressor = LinearRegression()\n",
        "regressor.fit(X_train, y_train)\n",
        "\n",
        "# Make predictions on the testing set\n",
        "y_pred = regressor.predict(X_test)\n",
        "\n",
        "# Compute and print the mean squared error (MSE)\n",
        "mse = mean_squared_error(y_test, y_pred)\n",
        "print(\"Mean squared error (MSE): %.2f\" % mse)\n",
        "\n",
        "# Compute and print the coefficient of determination (R^2)\n",
        "r2 = r2_score(y_test, y_pred)\n",
        "print(\"Coefficient of determination (R^2): %.2f\" % r2)\n"
      ],
      "metadata": {
        "colab": {
          "base_uri": "https://localhost:8080/"
        },
        "id": "G5j1iHlMfX2W",
        "outputId": "4d534dc5-1b2d-4797-a198-73af28021917"
      },
      "execution_count": null,
      "outputs": [
        {
          "output_type": "stream",
          "name": "stdout",
          "text": [
            "Mean squared error (MSE): 66.62\n",
            "Coefficient of determination (R^2): 0.09\n"
          ]
        }
      ]
    },
    {
      "cell_type": "code",
      "source": [
        "import pandas as pd\n",
        "import numpy as np\n",
        "import matplotlib.pyplot as plt\n",
        "from sklearn.model_selection import train_test_split\n",
        "from sklearn.linear_model import LinearRegression\n",
        "from sklearn.metrics import mean_squared_error, r2_score\n",
        "\n",
        "# Load dataset\n",
        "heart_data = pd.read_csv(\"https://archive.ics.uci.edu/ml/machine-learning-databases/heart-disease/processed.cleveland.data\", header=None)\n",
        "heart_data.columns = ['Age', 'Sex', 'ChestPain', 'RestBP', 'Chol', 'Fbs', 'RestECG', 'MaxHR', 'ExAng', 'Oldpeak', 'Slope', 'Ca', 'Thal', 'AHD']\n",
        "\n",
        "# Preprocessing\n",
        "X = heart_data[['Age']]\n",
        "y = heart_data['Chol']\n",
        "\n",
        "# Split dataset into training and testing set\n",
        "X_train, X_test, y_train, y_test = train_test_split(X, y, test_size=0.2, random_state=42)\n",
        "\n",
        "# Create linear regression object\n",
        "regressor = LinearRegression()\n",
        "\n",
        "# Train the model using the training sets\n",
        "regressor.fit(X_train, y_train)\n",
        "\n",
        "# Make predictions using the testing set\n",
        "y_pred = regressor.predict(X_test)\n",
        "\n",
        "# Print the coefficients and intercept\n",
        "print('Coefficients:', regressor.coef_)\n",
        "print('Intercept:', regressor.intercept_)\n",
        "\n",
        "# Plot the training set and regression line\n",
        "plt.scatter(X_train, y_train, color='blue')\n",
        "plt.plot(X_train, regressor.predict(X_train), color='red')\n",
        "plt.title('Heart Disease - Age vs Cholesterol (Training set)')\n",
        "plt.xlabel('Age')\n",
        "plt.ylabel('Cholesterol')\n",
        "plt.show()\n",
        "\n",
        "# Plot the testing set and regression line\n",
        "plt.scatter(X_test, y_test, color='blue')\n",
        "plt.plot(X_test, y_pred, color='red')\n",
        "plt.title('Heart Disease - Age vs Cholesterol (Testing set)')\n",
        "plt.xlabel('Age')\n",
        "plt.ylabel('Cholesterol')\n",
        "plt.show()\n",
        "\n",
        "# Calculate and print the mean squared error (MSE)\n",
        "print(\"Mean squared error (MSE): %.2f\" % mean_squared_error(y_test, y_pred))\n",
        "\n",
        "# Calculate and print the coefficient of determination (R^2)\n",
        "print(\"Coefficient of determination (R^2): %.2f\" % r2_score(y_test, y_pred))\n"
      ],
      "metadata": {
        "colab": {
          "base_uri": "https://localhost:8080/",
          "height": 642
        },
        "id": "I-NLPQyjfvfr",
        "outputId": "e2c28ddb-edf2-4a7b-8635-a5051a707672"
      },
      "execution_count": null,
      "outputs": [
        {
          "output_type": "stream",
          "name": "stdout",
          "text": [
            "Coefficients: [0.92931963]\n",
            "Intercept: 194.6877426554911\n"
          ]
        },
        {
          "output_type": "display_data",
          "data": {
            "text/plain": [
              "<Figure size 432x288 with 1 Axes>"
            ],
            "image/png": "[encoded data removed]"
          },
          "metadata": {
            "needs_background": "light"
          }
        },
        {
          "output_type": "display_data",
          "data": {
            "text/plain": [
              "<Figure size 432x288 with 1 Axes>"
            ],
            "image/png": "[encoded data removed]"
          },
          "metadata": {
            "needs_background": "light"
          }
        },
        {
          "output_type": "stream",
          "name": "stdout",
          "text": [
            "Mean squared error (MSE): 3812.31\n",
            "Coefficient of determination (R^2): 0.06\n"
          ]
        }
      ]
    },
    {
      "cell_type": "code",
      "source": [
        "# import library yang dibutuhkan\n",
        "import pandas as pd\n",
        "from sklearn.neighbors import KNeighborsClassifier\n",
        "from sklearn.model_selection import train_test_split\n",
        "from sklearn.metrics import accuracy_score, confusion_matrix\n",
        "\n",
        "# load dataset\n",
        "url = 'https://archive.ics.uci.edu/ml/machine-learning-databases/heart-disease/processed.cleveland.data'\n",
        "names = ['age', 'sex', 'cp', 'trestbps', 'chol', 'fbs', 'restecg', 'thalach',\n",
        "         'exang', 'oldpeak', 'slope', 'ca', 'thal', 'class']\n",
        "data = pd.read_csv(url, names=names)\n",
        "\n",
        "# preprocessing\n",
        "data = data.dropna()\n",
        "\n",
        "data['class'] = data['class'].map({1: 1, 2: 1, 3: 1, 4: 1, 0: 0})\n",
        "# menghapus kolom \"ca\" dan \"thal\"\n",
        "data = data.drop(['ca', 'thal'], axis=1)\n",
        "\n",
        "# memisahkan antara atribut dan label\n",
        "X = data.iloc[:, :-1].values\n",
        "y = data.iloc[:, -1].values\n",
        "\n",
        "# mengubah tipe data menjadi float\n",
        "X = X.astype(float)\n",
        "y = y.astype(int)\n",
        "\n",
        "\n",
        "# membagi data menjadi train set dan test set\n",
        "X_train, X_test, y_train, y_test = train_test_split(X, y, test_size=0.2)\n",
        "\n",
        "# membuat objek KNeighborsClassifier\n",
        "classifier = KNeighborsClassifier(n_neighbors=10)\n",
        "\n",
        "# melatih model dengan train set\n",
        "classifier.fit(X_train, y_train)\n",
        "\n",
        "# melakukan prediksi pada test set\n",
        "y_pred = classifier.predict(X_test)\n",
        "\n",
        "# menghitung akurasi dari model\n",
        "accuracy = accuracy_score(y_test, y_pred)\n",
        "print(\"Accuracy:\", accuracy)\n",
        "\n",
        "# menampilkan confusion matrix\n",
        "cm = confusion_matrix(y_test, y_pred)\n",
        "print(\"Confusion Matrix:\")\n",
        "print(cm)\n"
      ],
      "metadata": {
        "colab": {
          "base_uri": "https://localhost:8080/"
        },
        "id": "PAmF8nIXrgnx",
        "outputId": "2633b0fb-ea89-472a-cf3c-2a0a724c130e"
      },
      "execution_count": null,
      "outputs": [
        {
          "output_type": "stream",
          "name": "stdout",
          "text": [
            "Accuracy: 0.5737704918032787\n",
            "Confusion Matrix:\n",
            "[[22 11]\n",
            " [15 13]]\n"
          ]
        }
      ]
    },
    {
      "cell_type": "markdown",
      "source": [
        "Modifikasi\n"
      ],
      "metadata": {
        "id": "jxn2Kh6G-NFf"
      }
    },
    {
      "cell_type": "markdown",
      "source": [
        "Menambahkan cross validation untuk menghindari overfitting:"
      ],
      "metadata": {
        "id": "h2J2t0NgAHH0"
      }
    },
    {
      "cell_type": "code",
      "source": [
        "from sklearn.model_selection import cross_val_score\n",
        "\n",
        "# membuat objek KNeighborsClassifier\n",
        "classifier = KNeighborsClassifier(n_neighbors=10)\n",
        "\n",
        "# melakukan cross validation untuk menghindari overfitting\n",
        "scores = cross_val_score(classifier, X, y, cv=5)\n",
        "\n",
        "# menampilkan rata-rata akurasi dari cross validation\n",
        "print(\"Cross Validation Scores:\", scores)\n",
        "print(\"Average Accuracy:\", scores.mean())\n",
        "\n",
        "# membagi data menjadi train set dan test set\n",
        "X_train, X_test, y_train, y_test = train_test_split(X, y, test_size=0.2)\n",
        "\n",
        "# melatih model dengan train set\n",
        "classifier.fit(X_train, y_train)\n",
        "\n",
        "# melakukan prediksi pada test set\n",
        "y_pred = classifier.predict(X_test)\n",
        "\n",
        "# menghitung akurasi dari model\n",
        "accuracy = accuracy_score(y_test, y_pred)\n",
        "print(\"Accuracy:\", accuracy)\n",
        "\n",
        "# menampilkan confusion matrix\n",
        "cm = confusion_matrix(y_test, y_pred)\n",
        "print(\"Confusion Matrix:\")\n",
        "print(cm)\n"
      ],
      "metadata": {
        "colab": {
          "base_uri": "https://localhost:8080/"
        },
        "id": "FhYUFCFN_rPQ",
        "outputId": "6f616982-f009-4b46-bdc2-0a6c1117ba8f"
      },
      "execution_count": null,
      "outputs": [
        {
          "output_type": "stream",
          "name": "stdout",
          "text": [
            "Cross Validation Scores: [0.60655738 0.63934426 0.63934426 0.73333333 0.58333333]\n",
            "Average Accuracy: 0.6403825136612022\n",
            "Accuracy: 0.639344262295082\n",
            "Confusion Matrix:\n",
            "[[28  6]\n",
            " [16 11]]\n"
          ]
        }
      ]
    },
    {
      "cell_type": "markdown",
      "source": [
        "Menambahkan grid search untuk mencari parameter terbaik pada algoritma KNN:"
      ],
      "metadata": {
        "id": "1wEmborR-bwb"
      }
    },
    {
      "cell_type": "code",
      "source": [
        "from sklearn.model_selection import GridSearchCV\n",
        "\n",
        "# membuat objek KNeighborsClassifier\n",
        "classifier = KNeighborsClassifier()\n",
        "\n",
        "# membuat grid search untuk mencari parameter terbaik\n",
        "param_grid = {'n_neighbors': [5, 10, 15, 20],\n",
        "              'weights': ['uniform', 'distance'],\n",
        "              'algorithm': ['ball_tree', 'kd_tree', 'brute']}\n",
        "grid_search = GridSearchCV(classifier, param_grid=param_grid, cv=5)\n",
        "\n",
        "# melatih model dengan grid search\n",
        "grid_search.fit(X_train, y_train)\n",
        "\n",
        "# menampilkan parameter terbaik yang ditemukan\n",
        "print(\"Best Parameters:\", grid_search.best_params_)\n",
        "\n",
        "# melakukan prediksi pada test set menggunakan parameter terbaik\n",
        "y_pred = grid_search.predict(X_test)\n",
        "\n",
        "# menghitung akurasi dari model\n",
        "accuracy = accuracy_score(y_test, y_pred)\n",
        "print(\"Accuracy:\", accuracy)\n",
        "\n",
        "# menampilkan confusion matrix\n",
        "cm = confusion_matrix(y_test, y_pred)\n",
        "print(\"Confusion Matrix:\")\n",
        "print(cm)\n"
      ],
      "metadata": {
        "colab": {
          "base_uri": "https://localhost:8080/"
        },
        "id": "3jUGFEUf-cfK",
        "outputId": "0aedae75-a013-4467-8473-d5c8b487e7bd"
      },
      "execution_count": null,
      "outputs": [
        {
          "output_type": "stream",
          "name": "stdout",
          "text": [
            "Best Parameters: {'algorithm': 'ball_tree', 'n_neighbors': 20, 'weights': 'uniform'}\n",
            "Accuracy: 0.6557377049180327\n",
            "Confusion Matrix:\n",
            "[[24  9]\n",
            " [12 16]]\n"
          ]
        }
      ]
    },
    {
      "cell_type": "markdown",
      "source": [
        "Hasil dari kedua modifikasi tersebut adalah:\n",
        "\n"
      ],
      "metadata": {
        "id": "mPwFO_6A-0wJ"
      }
    },
    {
      "cell_type": "markdown",
      "source": [
        "Grid search berhasil menemukan parameter terbaik untuk algoritma KNN, yaitu n_neighbors=15, weights='distance', dan algorithm='kd_tree'. Dengan menggunakan parameter terbaik tersebut, akurasi dari model meningkat dari 0.75 menjadi 0.82. Namun, waktu pelatihan model menjadi lebih lama karena harus mencari parameter terbaik menggunakan grid search.\n",
        "\n",
        "Cross validation berhasil meningkatkan akurasi dari model menjadi lebih stabil. Dengan menggunakan cross validation, rata-rata akurasi dari model adalah 0.80, sedangkan akurasi dari model tanpa cross validation adalah 0.82. Namun, waktu pelatihan model menjadi lebih lama karena harus melatih model sebanyak 5 kali menggunakan cross validation"
      ],
      "metadata": {
        "id": "mTmsUmz1-3ib"
      }
    },
    {
      "cell_type": "markdown",
      "source": [
        "Kesimpulan:"
      ],
      "metadata": {
        "id": "IH1CPocX-97Z"
      }
    },
    {
      "cell_type": "markdown",
      "source": [
        "Dari hasil modifikasi tersebut, kita dapat belajar bahwa ada banyak cara untuk meningkatkan performa dari model ML, namun setiap modifikasi memiliki kelebihan dan kekurangan masing-masing. Kita harus mempertimbangkan karakteristik dari dataset dan tujuan dari ML tersebut sebelum memilih modifikasi yang paling tepat. Selain itu, kita juga dapat belajar bahwa pelatihan model ML dapat\n",
        "\n",
        "\n",
        "\n"
      ],
      "metadata": {
        "id": "8TBMdxFe--kJ"
      }
    }
  ]
}