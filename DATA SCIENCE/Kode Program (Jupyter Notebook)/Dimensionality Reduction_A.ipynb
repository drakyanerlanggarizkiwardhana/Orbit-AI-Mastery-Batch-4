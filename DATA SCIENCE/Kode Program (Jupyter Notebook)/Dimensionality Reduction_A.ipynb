{
  "nbformat": 4,
  "nbformat_minor": 0,
  "metadata": {
    "colab": {
      "provenance": []
    },
    "kernelspec": {
      "name": "python3",
      "display_name": "Python 3"
    },
    "language_info": {
      "name": "python"
    }
  },
  "cells": [
    {
      "cell_type": "code",
      "execution_count": 23,
      "metadata": {
        "id": "BBtS_NZNyXOj"
      },
      "outputs": [],
      "source": [
        "import pandas as pd\n",
        "import numpy as np\n",
        "import random as rd\n",
        "from sklearn.decomposition import PCA\n",
        "from sklearn import preprocessing #scale\n",
        "import matplotlib.pyplot as plt "
      ]
    },
    {
      "cell_type": "markdown",
      "source": [
        "# Data Generation Code"
      ],
      "metadata": {
        "id": "QgNsEkQeyxaq"
      }
    },
    {
      "cell_type": "markdown",
      "source": [
        "Ingin membangkitkan data 100 variabel dengan 2 karakteristik yang berbeda sebagai index: \"wt\" dan \"ko\".\n",
        "\n",
        "wt: Wild Type DNA\n",
        "\n",
        "ko: Knock Out DNA\n"
      ],
      "metadata": {
        "id": "U2hIHsquq8zg"
      }
    },
    {
      "cell_type": "code",
      "source": [
        "genes = ['gene' + str(i) for i in range(1,101)]\n",
        "genes[:3]"
      ],
      "metadata": {
        "colab": {
          "base_uri": "https://localhost:8080/"
        },
        "id": "SsP2Cj1Yybei",
        "outputId": "a05a5cbf-52eb-4d46-c2de-95de88328b05"
      },
      "execution_count": 2,
      "outputs": [
        {
          "output_type": "execute_result",
          "data": {
            "text/plain": [
              "['gene1', 'gene2', 'gene3']"
            ]
          },
          "metadata": {},
          "execution_count": 2
        }
      ]
    },
    {
      "cell_type": "markdown",
      "source": [
        "wt= wild type samples \n",
        "\n",
        "\n",
        "ko= knock out samples\n",
        "\n",
        "wt dan ko dibangkitkan dari populasi yang berbeda"
      ],
      "metadata": {
        "id": "Mh8IudWzzaW1"
      }
    },
    {
      "cell_type": "code",
      "source": [
        "wt = ['wt' + str(i) for i in range(1,6)]\n",
        "ko = ['ko' + str(i) for i in range(1,6)]\n",
        "wt[:3]"
      ],
      "metadata": {
        "colab": {
          "base_uri": "https://localhost:8080/"
        },
        "id": "cg_31jkOzHUo",
        "outputId": "753aac3d-7702-44f1-e2b2-baceb302093d"
      },
      "execution_count": 4,
      "outputs": [
        {
          "output_type": "execute_result",
          "data": {
            "text/plain": [
              "['wt1', 'wt2', 'wt3']"
            ]
          },
          "metadata": {},
          "execution_count": 4
        }
      ]
    },
    {
      "cell_type": "code",
      "source": [
        "data = pd.DataFrame(columns=[*wt, *ko], index=genes)\n",
        "data.head()"
      ],
      "metadata": {
        "colab": {
          "base_uri": "https://localhost:8080/",
          "height": 206
        },
        "id": "JdSPdl7izsUP",
        "outputId": "4c0f50dd-556a-4c5f-f240-f1284a103eb7"
      },
      "execution_count": 5,
      "outputs": [
        {
          "output_type": "execute_result",
          "data": {
            "text/plain": [
              "       wt1  wt2  wt3  wt4  wt5  ko1  ko2  ko3  ko4  ko5\n",
              "gene1  NaN  NaN  NaN  NaN  NaN  NaN  NaN  NaN  NaN  NaN\n",
              "gene2  NaN  NaN  NaN  NaN  NaN  NaN  NaN  NaN  NaN  NaN\n",
              "gene3  NaN  NaN  NaN  NaN  NaN  NaN  NaN  NaN  NaN  NaN\n",
              "gene4  NaN  NaN  NaN  NaN  NaN  NaN  NaN  NaN  NaN  NaN\n",
              "gene5  NaN  NaN  NaN  NaN  NaN  NaN  NaN  NaN  NaN  NaN"
            ],
            "text/html": [
              "\n",
              "  <div id=\"df-51e174b8-a8ad-46a7-a99e-2d11783de3ba\">\n",
              "    <div class=\"colab-df-container\">\n",
              "      <div>\n",
              "<style scoped>\n",
              "    .dataframe tbody tr th:only-of-type {\n",
              "        vertical-align: middle;\n",
              "    }\n",
              "\n",
              "    .dataframe tbody tr th {\n",
              "        vertical-align: top;\n",
              "    }\n",
              "\n",
              "    .dataframe thead th {\n",
              "        text-align: right;\n",
              "    }\n",
              "</style>\n",
              "<table border=\"1\" class=\"dataframe\">\n",
              "  <thead>\n",
              "    <tr style=\"text-align: right;\">\n",
              "      <th></th>\n",
              "      <th>wt1</th>\n",
              "      <th>wt2</th>\n",
              "      <th>wt3</th>\n",
              "      <th>wt4</th>\n",
              "      <th>wt5</th>\n",
              "      <th>ko1</th>\n",
              "      <th>ko2</th>\n",
              "      <th>ko3</th>\n",
              "      <th>ko4</th>\n",
              "      <th>ko5</th>\n",
              "    </tr>\n",
              "  </thead>\n",
              "  <tbody>\n",
              "    <tr>\n",
              "      <th>gene1</th>\n",
              "      <td>NaN</td>\n",
              "      <td>NaN</td>\n",
              "      <td>NaN</td>\n",
              "      <td>NaN</td>\n",
              "      <td>NaN</td>\n",
              "      <td>NaN</td>\n",
              "      <td>NaN</td>\n",
              "      <td>NaN</td>\n",
              "      <td>NaN</td>\n",
              "      <td>NaN</td>\n",
              "    </tr>\n",
              "    <tr>\n",
              "      <th>gene2</th>\n",
              "      <td>NaN</td>\n",
              "      <td>NaN</td>\n",
              "      <td>NaN</td>\n",
              "      <td>NaN</td>\n",
              "      <td>NaN</td>\n",
              "      <td>NaN</td>\n",
              "      <td>NaN</td>\n",
              "      <td>NaN</td>\n",
              "      <td>NaN</td>\n",
              "      <td>NaN</td>\n",
              "    </tr>\n",
              "    <tr>\n",
              "      <th>gene3</th>\n",
              "      <td>NaN</td>\n",
              "      <td>NaN</td>\n",
              "      <td>NaN</td>\n",
              "      <td>NaN</td>\n",
              "      <td>NaN</td>\n",
              "      <td>NaN</td>\n",
              "      <td>NaN</td>\n",
              "      <td>NaN</td>\n",
              "      <td>NaN</td>\n",
              "      <td>NaN</td>\n",
              "    </tr>\n",
              "    <tr>\n",
              "      <th>gene4</th>\n",
              "      <td>NaN</td>\n",
              "      <td>NaN</td>\n",
              "      <td>NaN</td>\n",
              "      <td>NaN</td>\n",
              "      <td>NaN</td>\n",
              "      <td>NaN</td>\n",
              "      <td>NaN</td>\n",
              "      <td>NaN</td>\n",
              "      <td>NaN</td>\n",
              "      <td>NaN</td>\n",
              "    </tr>\n",
              "    <tr>\n",
              "      <th>gene5</th>\n",
              "      <td>NaN</td>\n",
              "      <td>NaN</td>\n",
              "      <td>NaN</td>\n",
              "      <td>NaN</td>\n",
              "      <td>NaN</td>\n",
              "      <td>NaN</td>\n",
              "      <td>NaN</td>\n",
              "      <td>NaN</td>\n",
              "      <td>NaN</td>\n",
              "      <td>NaN</td>\n",
              "    </tr>\n",
              "  </tbody>\n",
              "</table>\n",
              "</div>\n",
              "      <button class=\"colab-df-convert\" onclick=\"convertToInteractive('df-51e174b8-a8ad-46a7-a99e-2d11783de3ba')\"\n",
              "              title=\"Convert this dataframe to an interactive table.\"\n",
              "              style=\"display:none;\">\n",
              "        \n",
              "  <svg xmlns=\"http://www.w3.org/2000/svg\" height=\"24px\"viewBox=\"0 0 24 24\"\n",
              "       width=\"24px\">\n",
              "    <path d=\"M0 0h24v24H0V0z\" fill=\"none\"/>\n",
              "    <path d=\"M18.56 5.44l.94 2.06.94-2.06 2.06-.94-2.06-.94-.94-2.06-.94 2.06-2.06.94zm-11 1L8.5 8.5l.94-2.06 2.06-.94-2.06-.94L8.5 2.5l-.94 2.06-2.06.94zm10 10l.94 2.06.94-2.06 2.06-.94-2.06-.94-.94-2.06-.94 2.06-2.06.94z\"/><path d=\"M17.41 7.96l-1.37-1.37c-.4-.4-.92-.59-1.43-.59-.52 0-1.04.2-1.43.59L10.3 9.45l-7.72 7.72c-.78.78-.78 2.05 0 2.83L4 21.41c.39.39.9.59 1.41.59.51 0 1.02-.2 1.41-.59l7.78-7.78 2.81-2.81c.8-.78.8-2.07 0-2.86zM5.41 20L4 18.59l7.72-7.72 1.47 1.35L5.41 20z\"/>\n",
              "  </svg>\n",
              "      </button>\n",
              "      \n",
              "  <style>\n",
              "    .colab-df-container {\n",
              "      display:flex;\n",
              "      flex-wrap:wrap;\n",
              "      gap: 12px;\n",
              "    }\n",
              "\n",
              "    .colab-df-convert {\n",
              "      background-color: #E8F0FE;\n",
              "      border: none;\n",
              "      border-radius: 50%;\n",
              "      cursor: pointer;\n",
              "      display: none;\n",
              "      fill: #1967D2;\n",
              "      height: 32px;\n",
              "      padding: 0 0 0 0;\n",
              "      width: 32px;\n",
              "    }\n",
              "\n",
              "    .colab-df-convert:hover {\n",
              "      background-color: #E2EBFA;\n",
              "      box-shadow: 0px 1px 2px rgba(60, 64, 67, 0.3), 0px 1px 3px 1px rgba(60, 64, 67, 0.15);\n",
              "      fill: #174EA6;\n",
              "    }\n",
              "\n",
              "    [theme=dark] .colab-df-convert {\n",
              "      background-color: #3B4455;\n",
              "      fill: #D2E3FC;\n",
              "    }\n",
              "\n",
              "    [theme=dark] .colab-df-convert:hover {\n",
              "      background-color: #434B5C;\n",
              "      box-shadow: 0px 1px 3px 1px rgba(0, 0, 0, 0.15);\n",
              "      filter: drop-shadow(0px 1px 2px rgba(0, 0, 0, 0.3));\n",
              "      fill: #FFFFFF;\n",
              "    }\n",
              "  </style>\n",
              "\n",
              "      <script>\n",
              "        const buttonEl =\n",
              "          document.querySelector('#df-51e174b8-a8ad-46a7-a99e-2d11783de3ba button.colab-df-convert');\n",
              "        buttonEl.style.display =\n",
              "          google.colab.kernel.accessAllowed ? 'block' : 'none';\n",
              "\n",
              "        async function convertToInteractive(key) {\n",
              "          const element = document.querySelector('#df-51e174b8-a8ad-46a7-a99e-2d11783de3ba');\n",
              "          const dataTable =\n",
              "            await google.colab.kernel.invokeFunction('convertToInteractive',\n",
              "                                                     [key], {});\n",
              "          if (!dataTable) return;\n",
              "\n",
              "          const docLinkHtml = 'Like what you see? Visit the ' +\n",
              "            '<a target=\"_blank\" href=https://colab.research.google.com/notebooks/data_table.ipynb>data table notebook</a>'\n",
              "            + ' to learn more about interactive tables.';\n",
              "          element.innerHTML = '';\n",
              "          dataTable['output_type'] = 'display_data';\n",
              "          await google.colab.output.renderOutput(dataTable, element);\n",
              "          const docLink = document.createElement('div');\n",
              "          docLink.innerHTML = docLinkHtml;\n",
              "          element.appendChild(docLink);\n",
              "        }\n",
              "      </script>\n",
              "    </div>\n",
              "  </div>\n",
              "  "
            ]
          },
          "metadata": {},
          "execution_count": 5
        }
      ]
    },
    {
      "cell_type": "code",
      "source": [
        "for gene in data.index: \n",
        "    data.loc[gene,'wt1':'wt5'] = np.random.poisson(lam=rd.randrange(500,1000), size=5)\n",
        "    data.loc[gene,'ko1':'ko5'] = np.random.poisson(lam=rd.randrange(10,500), size=5)"
      ],
      "metadata": {
        "id": "fU_BKS5g0FdI"
      },
      "execution_count": 6,
      "outputs": []
    },
    {
      "cell_type": "code",
      "source": [
        "print(data.head())"
      ],
      "metadata": {
        "colab": {
          "base_uri": "https://localhost:8080/"
        },
        "id": "4f7Y9MJD0OZn",
        "outputId": "2c0832b2-9a7e-4406-b260-2e6249d9ee15"
      },
      "execution_count": 7,
      "outputs": [
        {
          "output_type": "stream",
          "name": "stdout",
          "text": [
            "       wt1  wt2  wt3  wt4  wt5  ko1  ko2  ko3  ko4  ko5\n",
            "gene1  979  958  957  884  999   95   76   90   85   74\n",
            "gene2  557  558  609  551  541  310  283  297  308  281\n",
            "gene3  949  981  968  939  974   77   84   82   98   84\n",
            "gene4  710  718  687  694  738   57   48   40   50   45\n",
            "gene5  547  539  545  531  549   70   77   79   68   85\n"
          ]
        }
      ]
    },
    {
      "cell_type": "code",
      "source": [
        "print(data.shape)"
      ],
      "metadata": {
        "colab": {
          "base_uri": "https://localhost:8080/"
        },
        "id": "4WPrgvkx0Phm",
        "outputId": "3830875e-bd3a-4fb1-aec2-3c7c92b816ed"
      },
      "execution_count": 8,
      "outputs": [
        {
          "output_type": "stream",
          "name": "stdout",
          "text": [
            "(100, 10)\n"
          ]
        }
      ]
    },
    {
      "cell_type": "code",
      "source": [
        "data=data.T\n",
        "data"
      ],
      "metadata": {
        "colab": {
          "base_uri": "https://localhost:8080/",
          "height": 436
        },
        "id": "68hNSaBv0rW8",
        "outputId": "6505cba1-995e-485a-841b-67b9abc3fe3f"
      },
      "execution_count": 9,
      "outputs": [
        {
          "output_type": "execute_result",
          "data": {
            "text/plain": [
              "    gene1 gene2 gene3 gene4 gene5 gene6 gene7 gene8 gene9 gene10  ... gene91  \\\n",
              "wt1   979   557   949   710   547   606   516   550   549    712  ...    713   \n",
              "wt2   958   558   981   718   539   644   517   552   513    737  ...    792   \n",
              "wt3   957   609   968   687   545   653   513   503   525    736  ...    795   \n",
              "wt4   884   551   939   694   531   670   488   521   539    692  ...    729   \n",
              "wt5   999   541   974   738   549   612   492   489   552    752  ...    788   \n",
              "ko1    95   310    77    57    70   445   471   325   178     46  ...    304   \n",
              "ko2    76   283    84    48    77   454   460   328   178     32  ...    301   \n",
              "ko3    90   297    82    40    79   441   472   345   183     43  ...    309   \n",
              "ko4    85   308    98    50    68   394   492   341   168     39  ...    287   \n",
              "ko5    74   281    84    45    85   470   468   367   172     33  ...    274   \n",
              "\n",
              "    gene92 gene93 gene94 gene95 gene96 gene97 gene98 gene99 gene100  \n",
              "wt1    549    671    596    754    987    861    654    667     821  \n",
              "wt2    551    648    623    737    925    924    787    674     876  \n",
              "wt3    543    700    635    730    922    892    716    636     868  \n",
              "wt4    545    722    578    743    958    883    729    661     845  \n",
              "wt5    571    701    620    713    950    898    747    685     865  \n",
              "ko1    227    329    425    276     70     43     69    475     335  \n",
              "ko2    188    357    442    273     56     37     52    482     351  \n",
              "ko3    192    357    458    260     52     40     62    495     313  \n",
              "ko4    190    359    412    253     56     38     58    530     357  \n",
              "ko5    194    373    432    261     61     38     63    514     315  \n",
              "\n",
              "[10 rows x 100 columns]"
            ],
            "text/html": [
              "\n",
              "  <div id=\"df-231e3ee3-1a75-4773-afce-f39438de042e\">\n",
              "    <div class=\"colab-df-container\">\n",
              "      <div>\n",
              "<style scoped>\n",
              "    .dataframe tbody tr th:only-of-type {\n",
              "        vertical-align: middle;\n",
              "    }\n",
              "\n",
              "    .dataframe tbody tr th {\n",
              "        vertical-align: top;\n",
              "    }\n",
              "\n",
              "    .dataframe thead th {\n",
              "        text-align: right;\n",
              "    }\n",
              "</style>\n",
              "<table border=\"1\" class=\"dataframe\">\n",
              "  <thead>\n",
              "    <tr style=\"text-align: right;\">\n",
              "      <th></th>\n",
              "      <th>gene1</th>\n",
              "      <th>gene2</th>\n",
              "      <th>gene3</th>\n",
              "      <th>gene4</th>\n",
              "      <th>gene5</th>\n",
              "      <th>gene6</th>\n",
              "      <th>gene7</th>\n",
              "      <th>gene8</th>\n",
              "      <th>gene9</th>\n",
              "      <th>gene10</th>\n",
              "      <th>...</th>\n",
              "      <th>gene91</th>\n",
              "      <th>gene92</th>\n",
              "      <th>gene93</th>\n",
              "      <th>gene94</th>\n",
              "      <th>gene95</th>\n",
              "      <th>gene96</th>\n",
              "      <th>gene97</th>\n",
              "      <th>gene98</th>\n",
              "      <th>gene99</th>\n",
              "      <th>gene100</th>\n",
              "    </tr>\n",
              "  </thead>\n",
              "  <tbody>\n",
              "    <tr>\n",
              "      <th>wt1</th>\n",
              "      <td>979</td>\n",
              "      <td>557</td>\n",
              "      <td>949</td>\n",
              "      <td>710</td>\n",
              "      <td>547</td>\n",
              "      <td>606</td>\n",
              "      <td>516</td>\n",
              "      <td>550</td>\n",
              "      <td>549</td>\n",
              "      <td>712</td>\n",
              "      <td>...</td>\n",
              "      <td>713</td>\n",
              "      <td>549</td>\n",
              "      <td>671</td>\n",
              "      <td>596</td>\n",
              "      <td>754</td>\n",
              "      <td>987</td>\n",
              "      <td>861</td>\n",
              "      <td>654</td>\n",
              "      <td>667</td>\n",
              "      <td>821</td>\n",
              "    </tr>\n",
              "    <tr>\n",
              "      <th>wt2</th>\n",
              "      <td>958</td>\n",
              "      <td>558</td>\n",
              "      <td>981</td>\n",
              "      <td>718</td>\n",
              "      <td>539</td>\n",
              "      <td>644</td>\n",
              "      <td>517</td>\n",
              "      <td>552</td>\n",
              "      <td>513</td>\n",
              "      <td>737</td>\n",
              "      <td>...</td>\n",
              "      <td>792</td>\n",
              "      <td>551</td>\n",
              "      <td>648</td>\n",
              "      <td>623</td>\n",
              "      <td>737</td>\n",
              "      <td>925</td>\n",
              "      <td>924</td>\n",
              "      <td>787</td>\n",
              "      <td>674</td>\n",
              "      <td>876</td>\n",
              "    </tr>\n",
              "    <tr>\n",
              "      <th>wt3</th>\n",
              "      <td>957</td>\n",
              "      <td>609</td>\n",
              "      <td>968</td>\n",
              "      <td>687</td>\n",
              "      <td>545</td>\n",
              "      <td>653</td>\n",
              "      <td>513</td>\n",
              "      <td>503</td>\n",
              "      <td>525</td>\n",
              "      <td>736</td>\n",
              "      <td>...</td>\n",
              "      <td>795</td>\n",
              "      <td>543</td>\n",
              "      <td>700</td>\n",
              "      <td>635</td>\n",
              "      <td>730</td>\n",
              "      <td>922</td>\n",
              "      <td>892</td>\n",
              "      <td>716</td>\n",
              "      <td>636</td>\n",
              "      <td>868</td>\n",
              "    </tr>\n",
              "    <tr>\n",
              "      <th>wt4</th>\n",
              "      <td>884</td>\n",
              "      <td>551</td>\n",
              "      <td>939</td>\n",
              "      <td>694</td>\n",
              "      <td>531</td>\n",
              "      <td>670</td>\n",
              "      <td>488</td>\n",
              "      <td>521</td>\n",
              "      <td>539</td>\n",
              "      <td>692</td>\n",
              "      <td>...</td>\n",
              "      <td>729</td>\n",
              "      <td>545</td>\n",
              "      <td>722</td>\n",
              "      <td>578</td>\n",
              "      <td>743</td>\n",
              "      <td>958</td>\n",
              "      <td>883</td>\n",
              "      <td>729</td>\n",
              "      <td>661</td>\n",
              "      <td>845</td>\n",
              "    </tr>\n",
              "    <tr>\n",
              "      <th>wt5</th>\n",
              "      <td>999</td>\n",
              "      <td>541</td>\n",
              "      <td>974</td>\n",
              "      <td>738</td>\n",
              "      <td>549</td>\n",
              "      <td>612</td>\n",
              "      <td>492</td>\n",
              "      <td>489</td>\n",
              "      <td>552</td>\n",
              "      <td>752</td>\n",
              "      <td>...</td>\n",
              "      <td>788</td>\n",
              "      <td>571</td>\n",
              "      <td>701</td>\n",
              "      <td>620</td>\n",
              "      <td>713</td>\n",
              "      <td>950</td>\n",
              "      <td>898</td>\n",
              "      <td>747</td>\n",
              "      <td>685</td>\n",
              "      <td>865</td>\n",
              "    </tr>\n",
              "    <tr>\n",
              "      <th>ko1</th>\n",
              "      <td>95</td>\n",
              "      <td>310</td>\n",
              "      <td>77</td>\n",
              "      <td>57</td>\n",
              "      <td>70</td>\n",
              "      <td>445</td>\n",
              "      <td>471</td>\n",
              "      <td>325</td>\n",
              "      <td>178</td>\n",
              "      <td>46</td>\n",
              "      <td>...</td>\n",
              "      <td>304</td>\n",
              "      <td>227</td>\n",
              "      <td>329</td>\n",
              "      <td>425</td>\n",
              "      <td>276</td>\n",
              "      <td>70</td>\n",
              "      <td>43</td>\n",
              "      <td>69</td>\n",
              "      <td>475</td>\n",
              "      <td>335</td>\n",
              "    </tr>\n",
              "    <tr>\n",
              "      <th>ko2</th>\n",
              "      <td>76</td>\n",
              "      <td>283</td>\n",
              "      <td>84</td>\n",
              "      <td>48</td>\n",
              "      <td>77</td>\n",
              "      <td>454</td>\n",
              "      <td>460</td>\n",
              "      <td>328</td>\n",
              "      <td>178</td>\n",
              "      <td>32</td>\n",
              "      <td>...</td>\n",
              "      <td>301</td>\n",
              "      <td>188</td>\n",
              "      <td>357</td>\n",
              "      <td>442</td>\n",
              "      <td>273</td>\n",
              "      <td>56</td>\n",
              "      <td>37</td>\n",
              "      <td>52</td>\n",
              "      <td>482</td>\n",
              "      <td>351</td>\n",
              "    </tr>\n",
              "    <tr>\n",
              "      <th>ko3</th>\n",
              "      <td>90</td>\n",
              "      <td>297</td>\n",
              "      <td>82</td>\n",
              "      <td>40</td>\n",
              "      <td>79</td>\n",
              "      <td>441</td>\n",
              "      <td>472</td>\n",
              "      <td>345</td>\n",
              "      <td>183</td>\n",
              "      <td>43</td>\n",
              "      <td>...</td>\n",
              "      <td>309</td>\n",
              "      <td>192</td>\n",
              "      <td>357</td>\n",
              "      <td>458</td>\n",
              "      <td>260</td>\n",
              "      <td>52</td>\n",
              "      <td>40</td>\n",
              "      <td>62</td>\n",
              "      <td>495</td>\n",
              "      <td>313</td>\n",
              "    </tr>\n",
              "    <tr>\n",
              "      <th>ko4</th>\n",
              "      <td>85</td>\n",
              "      <td>308</td>\n",
              "      <td>98</td>\n",
              "      <td>50</td>\n",
              "      <td>68</td>\n",
              "      <td>394</td>\n",
              "      <td>492</td>\n",
              "      <td>341</td>\n",
              "      <td>168</td>\n",
              "      <td>39</td>\n",
              "      <td>...</td>\n",
              "      <td>287</td>\n",
              "      <td>190</td>\n",
              "      <td>359</td>\n",
              "      <td>412</td>\n",
              "      <td>253</td>\n",
              "      <td>56</td>\n",
              "      <td>38</td>\n",
              "      <td>58</td>\n",
              "      <td>530</td>\n",
              "      <td>357</td>\n",
              "    </tr>\n",
              "    <tr>\n",
              "      <th>ko5</th>\n",
              "      <td>74</td>\n",
              "      <td>281</td>\n",
              "      <td>84</td>\n",
              "      <td>45</td>\n",
              "      <td>85</td>\n",
              "      <td>470</td>\n",
              "      <td>468</td>\n",
              "      <td>367</td>\n",
              "      <td>172</td>\n",
              "      <td>33</td>\n",
              "      <td>...</td>\n",
              "      <td>274</td>\n",
              "      <td>194</td>\n",
              "      <td>373</td>\n",
              "      <td>432</td>\n",
              "      <td>261</td>\n",
              "      <td>61</td>\n",
              "      <td>38</td>\n",
              "      <td>63</td>\n",
              "      <td>514</td>\n",
              "      <td>315</td>\n",
              "    </tr>\n",
              "  </tbody>\n",
              "</table>\n",
              "<p>10 rows × 100 columns</p>\n",
              "</div>\n",
              "      <button class=\"colab-df-convert\" onclick=\"convertToInteractive('df-231e3ee3-1a75-4773-afce-f39438de042e')\"\n",
              "              title=\"Convert this dataframe to an interactive table.\"\n",
              "              style=\"display:none;\">\n",
              "        \n",
              "  <svg xmlns=\"http://www.w3.org/2000/svg\" height=\"24px\"viewBox=\"0 0 24 24\"\n",
              "       width=\"24px\">\n",
              "    <path d=\"M0 0h24v24H0V0z\" fill=\"none\"/>\n",
              "    <path d=\"M18.56 5.44l.94 2.06.94-2.06 2.06-.94-2.06-.94-.94-2.06-.94 2.06-2.06.94zm-11 1L8.5 8.5l.94-2.06 2.06-.94-2.06-.94L8.5 2.5l-.94 2.06-2.06.94zm10 10l.94 2.06.94-2.06 2.06-.94-2.06-.94-.94-2.06-.94 2.06-2.06.94z\"/><path d=\"M17.41 7.96l-1.37-1.37c-.4-.4-.92-.59-1.43-.59-.52 0-1.04.2-1.43.59L10.3 9.45l-7.72 7.72c-.78.78-.78 2.05 0 2.83L4 21.41c.39.39.9.59 1.41.59.51 0 1.02-.2 1.41-.59l7.78-7.78 2.81-2.81c.8-.78.8-2.07 0-2.86zM5.41 20L4 18.59l7.72-7.72 1.47 1.35L5.41 20z\"/>\n",
              "  </svg>\n",
              "      </button>\n",
              "      \n",
              "  <style>\n",
              "    .colab-df-container {\n",
              "      display:flex;\n",
              "      flex-wrap:wrap;\n",
              "      gap: 12px;\n",
              "    }\n",
              "\n",
              "    .colab-df-convert {\n",
              "      background-color: #E8F0FE;\n",
              "      border: none;\n",
              "      border-radius: 50%;\n",
              "      cursor: pointer;\n",
              "      display: none;\n",
              "      fill: #1967D2;\n",
              "      height: 32px;\n",
              "      padding: 0 0 0 0;\n",
              "      width: 32px;\n",
              "    }\n",
              "\n",
              "    .colab-df-convert:hover {\n",
              "      background-color: #E2EBFA;\n",
              "      box-shadow: 0px 1px 2px rgba(60, 64, 67, 0.3), 0px 1px 3px 1px rgba(60, 64, 67, 0.15);\n",
              "      fill: #174EA6;\n",
              "    }\n",
              "\n",
              "    [theme=dark] .colab-df-convert {\n",
              "      background-color: #3B4455;\n",
              "      fill: #D2E3FC;\n",
              "    }\n",
              "\n",
              "    [theme=dark] .colab-df-convert:hover {\n",
              "      background-color: #434B5C;\n",
              "      box-shadow: 0px 1px 3px 1px rgba(0, 0, 0, 0.15);\n",
              "      filter: drop-shadow(0px 1px 2px rgba(0, 0, 0, 0.3));\n",
              "      fill: #FFFFFF;\n",
              "    }\n",
              "  </style>\n",
              "\n",
              "      <script>\n",
              "        const buttonEl =\n",
              "          document.querySelector('#df-231e3ee3-1a75-4773-afce-f39438de042e button.colab-df-convert');\n",
              "        buttonEl.style.display =\n",
              "          google.colab.kernel.accessAllowed ? 'block' : 'none';\n",
              "\n",
              "        async function convertToInteractive(key) {\n",
              "          const element = document.querySelector('#df-231e3ee3-1a75-4773-afce-f39438de042e');\n",
              "          const dataTable =\n",
              "            await google.colab.kernel.invokeFunction('convertToInteractive',\n",
              "                                                     [key], {});\n",
              "          if (!dataTable) return;\n",
              "\n",
              "          const docLinkHtml = 'Like what you see? Visit the ' +\n",
              "            '<a target=\"_blank\" href=https://colab.research.google.com/notebooks/data_table.ipynb>data table notebook</a>'\n",
              "            + ' to learn more about interactive tables.';\n",
              "          element.innerHTML = '';\n",
              "          dataTable['output_type'] = 'display_data';\n",
              "          await google.colab.output.renderOutput(dataTable, element);\n",
              "          const docLink = document.createElement('div');\n",
              "          docLink.innerHTML = docLinkHtml;\n",
              "          element.appendChild(docLink);\n",
              "        }\n",
              "      </script>\n",
              "    </div>\n",
              "  </div>\n",
              "  "
            ]
          },
          "metadata": {},
          "execution_count": 9
        }
      ]
    },
    {
      "cell_type": "markdown",
      "source": [
        "Data yang dimiliki adalah data dengan 100 fitur (genes) ditunjukkan oleh **KOLOM**. Dan 10 observasi data **BARIS**"
      ],
      "metadata": {
        "id": "46fmWbbO00B3"
      }
    },
    {
      "cell_type": "markdown",
      "source": [
        "# Perform PCA on the data"
      ],
      "metadata": {
        "id": "sfG1jg1m1BIw"
      }
    },
    {
      "cell_type": "markdown",
      "source": [
        "scale = $\\frac{(measure-mean)^2}{n.measurements}$"
      ],
      "metadata": {
        "id": "VJLt70OY1WVT"
      }
    },
    {
      "cell_type": "code",
      "source": [
        "# First center and scale the data\n",
        "scaled_data = preprocessing.scale(data)"
      ],
      "metadata": {
        "id": "J0N5c_Z30zio"
      },
      "execution_count": 10,
      "outputs": []
    },
    {
      "cell_type": "code",
      "source": [
        "scaled_data"
      ],
      "metadata": {
        "colab": {
          "base_uri": "https://localhost:8080/"
        },
        "id": "CxrmMcAamkKn",
        "outputId": "809c5054-2163-469b-e274-d528bda60129"
      },
      "execution_count": 11,
      "outputs": [
        {
          "output_type": "execute_result",
          "data": {
            "text/plain": [
              "array([[ 1.0519826 ,  0.94432398,  0.96953065,  1.00099584,  1.02020469,\n",
              "         0.66292536,  1.35450908,  1.26493045,  1.07246633,  0.95886371,\n",
              "         0.92015583,  0.99096632,  0.97285774,  0.95701008,  0.93172953,\n",
              "         0.77065245,  1.07237943,  0.98073023,  1.06387812,  0.99884646,\n",
              "         0.99024281,  1.00029087,  1.04117891,  0.78926706,  1.02623477,\n",
              "         1.05538132,  0.97484944,  1.21015639,  0.98121071,  0.89919814,\n",
              "         1.28416947,  1.05996813,  0.99402083,  0.95447147,  0.81313304,\n",
              "         0.85552524,  0.92514848,  1.12015603,  0.97632876,  1.12612226,\n",
              "         0.89640069,  1.04478076,  1.13463075,  0.91372189,  0.98079428,\n",
              "         1.07945768,  1.03110872,  1.06340827,  0.8455769 ,  0.90060442,\n",
              "         1.07327336,  1.07614192,  1.11556106,  0.94353836,  0.95876955,\n",
              "         0.98037628,  1.01676083,  0.94669581,  1.10781505,  0.66504327,\n",
              "         1.0161815 ,  0.54258628,  0.66799938,  0.99958543,  1.00424117,\n",
              "         0.6652167 ,  0.94161885,  1.162282  ,  1.0115068 ,  0.94538516,\n",
              "         0.95325851,  0.99898985,  1.09972264,  1.04321836,  0.99378177,\n",
              "         0.19935603,  1.15585912,  1.02285998,  1.09144934,  0.93539386,\n",
              "         1.08373218,  0.61996881,  1.26572169,  0.86580286,  0.93736177,\n",
              "         1.02312148,  1.05835543,  0.98949846,  1.00551161,  0.9566176 ,\n",
              "         0.77986471,  0.98171998,  0.88864309,  0.81964062,  1.07774477,\n",
              "         1.08597087,  0.92766052,  0.77854748,  1.00430267,  0.86714124],\n",
              "       [ 1.00388411,  0.95173045,  1.04246197,  1.02516719,  0.98591209,\n",
              "         1.03835253,  1.40449096,  1.28638813,  0.87273127,  1.03154896,\n",
              "         1.02570423,  1.07190117,  0.99644217,  0.89100939,  0.9143086 ,\n",
              "         1.29411449,  1.04234079,  0.90603638,  1.09416647,  0.98441226,\n",
              "         0.8995731 ,  0.93711461,  0.93790165,  1.24223773,  0.92086617,\n",
              "         0.99884304,  1.02802305,  0.57680351,  0.93596582,  0.93017446,\n",
              "         0.7560354 ,  1.00124414,  1.02009921,  1.07448638,  0.94341825,\n",
              "         1.12056548,  1.00012   ,  0.90422234,  1.03956249,  0.95048851,\n",
              "         1.09718409,  0.96448568,  0.82566645,  1.00800102,  0.94984354,\n",
              "         0.85630703,  1.03110872,  0.91908685,  1.05015195,  0.96831904,\n",
              "         0.99496082,  0.87090189,  0.94789156,  1.07886427,  1.09902842,\n",
              "         0.96788741,  0.94236955,  0.95801992,  1.01872503,  1.34751126,\n",
              "         0.99484212,  1.16598328,  0.52422468,  0.9274698 ,  0.99722587,\n",
              "         1.00728656,  1.15026644,  1.09135709,  0.92727838,  1.09279449,\n",
              "         0.97954321,  1.04268725,  0.84264462,  1.21161188,  0.83452187,\n",
              "         1.35352253,  0.74651069,  0.97284238,  0.99895363,  1.00772361,\n",
              "         0.99224063,  1.30985891,  1.07336277,  1.03730043,  1.07066921,\n",
              "         0.9760333 ,  1.08326768,  1.05721183,  1.06363366,  0.86721409,\n",
              "         1.11506227,  0.99300411,  0.75174563,  1.11910336,  1.00561224,\n",
              "         0.94665742,  1.0753921 ,  1.17634546,  1.08691276,  1.07779834],\n",
              "       [ 1.00159371,  1.32946004,  1.01283362,  0.93150322,  1.01163154,\n",
              "         1.1272695 ,  1.20456342,  0.76067488,  0.93930962,  1.02864155,\n",
              "         1.07847843,  0.91974365,  0.96342397,  0.88406195,  1.05367606,\n",
              "         1.21656456,  0.98726995,  0.96579146,  1.02601769,  1.06689339,\n",
              "         1.00967204,  1.00450263,  0.9715268 ,  1.03634197,  1.02900763,\n",
              "         1.07422742,  1.16095706,  0.83693059,  0.91786787,  1.17798497,\n",
              "         0.9454748 ,  1.23614012,  1.00706002,  0.97212073,  1.16822412,\n",
              "         1.0435189 ,  0.98512569,  0.82710316,  0.88358596,  0.97115131,\n",
              "         0.95793109,  1.0022716 ,  1.0208018 ,  1.11013675,  1.08052441,\n",
              "         1.03912925,  0.96417032,  1.01530113,  1.04297388,  1.06565881,\n",
              "         0.93622641,  1.10692793,  0.85846783,  1.0068824 ,  1.07899144,\n",
              "         1.03969842,  0.99516336,  0.95424522,  0.90639413,  0.50531672,\n",
              "         1.01191363,  0.77347406,  1.23203859,  1.09051385,  1.04282536,\n",
              "         1.25474135,  1.12321953,  0.71013568,  1.04596388,  1.01090042,\n",
              "         1.04963575,  1.11327536,  0.88834738,  0.8501819 ,  0.88229984,\n",
              "         0.76594686,  0.86095219,  0.9828459 ,  0.93235672,  1.03963379,\n",
              "         0.99519197,  1.13272497,  1.09259866,  1.02170974,  0.95841031,\n",
              "         1.05974562,  0.96701051,  0.90706479,  0.96002478,  1.02367024,\n",
              "         1.12779129,  0.94786756,  1.06125294,  1.25219791,  0.97591061,\n",
              "         0.93991644,  1.00035384,  0.96398714,  0.63845798,  1.04715731],\n",
              "       [ 0.83439421,  0.89988521,  0.94673962,  0.95265315,  0.9516195 ,\n",
              "         1.29522376, -0.0449837 ,  0.95379404,  1.01698437,  0.90071552,\n",
              "         1.0596305 ,  0.89708189,  1.0365357 ,  0.99174729,  0.98399233,\n",
              "         0.80942741,  0.85710251,  1.01060777,  0.95408287,  0.96791604,\n",
              "         0.97729   ,  1.12664341,  0.9763304 ,  0.96313459,  1.09832908,\n",
              "         0.82922818,  0.9039513 ,  1.37980449,  1.08074945,  1.03195378,\n",
              "         1.06602714,  0.78983775,  0.93317128,  1.02506848,  1.01494739,\n",
              "         0.99420909,  1.01136572,  0.9736296 ,  1.04799366,  1.04347109,\n",
              "         0.93850044,  1.0258878 ,  0.90697284,  0.85086914,  0.91201487,\n",
              "         1.12247467,  0.97189398,  0.98643685,  0.96760412,  1.1249091 ,\n",
              "         0.92447953,  0.85721922,  1.0037814 ,  0.99248603,  0.91535609,\n",
              "         0.99598737,  1.07195436,  1.0259646 ,  0.99161067,  1.27490828,\n",
              "         0.87107369,  1.21216084,  1.49746881,  1.06856561,  0.90251922,\n",
              "         0.92722765,  0.95707423,  1.07805867,  1.11487805,  0.98141855,\n",
              "         0.95763929,  0.87798166,  1.12828686,  1.03089689,  0.99378177,\n",
              "         1.33253769,  0.97539368,  0.99785118,  0.84356085,  1.02899707,\n",
              "         0.96567856,  0.9742367 ,  0.90023974,  1.03730043,  0.96542649,\n",
              "         0.96033724,  0.88812172,  1.05721183,  0.94233546,  1.15777551,\n",
              "         0.84775282,  0.9591517 ,  1.19219833,  0.61999879,  1.03107078,\n",
              "         1.02080813,  0.97924933,  1.00286965,  0.93349402,  0.95906434],\n",
              "       [ 1.09779068,  0.82582058,  1.02650824,  1.08559555,  1.02877783,\n",
              "         0.72220333,  0.15494384,  0.6104711 ,  1.08911092,  1.0751601 ,\n",
              "         0.90507749,  1.1107499 ,  1.02946037,  1.25227635,  1.10884234,\n",
              "         0.83850864,  1.03232791,  1.10024038,  0.83292949,  0.9802882 ,\n",
              "         1.11653277,  0.92447936,  1.07000047,  0.94025728,  0.91809331,\n",
              "         1.0114071 ,  0.86850223,  0.82562072,  1.07773312,  0.94345002,\n",
              "         0.90529068,  0.87205135,  1.04183119,  0.96859088,  1.04304813,\n",
              "         0.97571791,  1.07134293,  1.14714774,  1.03956249,  0.89538773,\n",
              "         1.10042253,  0.95976244,  1.08178159,  1.08656696,  1.0702075 ,\n",
              "         0.88856977,  1.00021407,  1.01289577,  1.08245328,  0.93022957,\n",
              "         1.0654421 ,  1.07272125,  1.06246572,  0.97521038,  0.93539307,\n",
              "         1.01472068,  0.97116617,  1.10523338,  0.9683698 ,  0.99901697,\n",
              "         1.09727116,  0.75038528,  0.81177408,  0.90552156,  1.04633301,\n",
              "         1.08734546,  0.80252046,  0.92291042,  0.88899273,  0.96503974,\n",
              "         1.03649339,  0.95865378,  1.01402996,  0.83786042,  1.25656061,\n",
              "         1.03874985,  1.21307987,  1.02285998,  1.11734814,  0.98645015,\n",
              "         0.95977588,  0.88100831,  0.47705012,  1.03210353,  1.06365303,\n",
              "         0.97864931,  0.9960748 ,  0.98361034,  1.02572797,  0.97896848,\n",
              "         1.09809024,  1.10584549,  1.067205  ,  1.08582972,  0.90377809,\n",
              "         1.0028322 ,  1.01442351,  1.05670697,  1.21672861,  1.03566692],\n",
              "       [-0.97273462, -0.88507228, -1.01784765, -0.97199023, -1.02449126,\n",
              "        -0.92770031, -0.89467574, -1.14905896, -0.98591447, -0.97747114,\n",
              "        -1.03625907, -0.95147011, -1.02474349, -0.96395753, -0.95844163,\n",
              "        -0.94513979, -0.99528026, -0.71482013, -1.12445481, -1.00750698,\n",
              "        -1.02068193, -0.96238512, -0.99314297, -1.00431374, -0.95635875,\n",
              "        -1.14332977, -0.86850223, -0.67859237, -1.00353152, -1.02575851,\n",
              "        -1.01206561, -0.98949934, -0.99228227, -0.94811774, -0.99808695,\n",
              "        -1.0120839 , -0.93789364, -1.00447727, -1.07244403, -0.9918141 ,\n",
              "        -0.96246491, -0.94370342, -1.05657661, -1.12899257, -1.03444221,\n",
              "        -0.98804657, -0.9873413 , -1.00760399, -0.92740692, -1.01233354,\n",
              "        -0.98243081, -0.99678244, -0.97192419, -0.99709287, -0.99149662,\n",
              "        -1.01159846, -0.9846046 , -1.00105155, -0.9490024 , -1.22263414,\n",
              "        -0.92997039, -0.01154439, -1.02411825, -1.00397508, -0.99161362,\n",
              "        -1.05241067, -1.09462708, -1.0496887 , -0.94871834, -1.04955442,\n",
              "        -1.11885213, -1.02453602, -1.01974281, -0.95286087, -1.14030088,\n",
              "        -0.89185593, -1.05374209, -0.97534326, -0.99895363, -1.00687267,\n",
              "        -0.98220607, -0.98355954, -1.23494426, -0.98948899, -1.03067698,\n",
              "        -1.00690222, -1.00105725, -1.0360146 , -0.97569246, -1.09221293,\n",
              "        -0.95552521, -0.83502619, -1.14696265, -1.07695675, -0.95045208,\n",
              "        -0.97452011, -0.99050507, -0.97116545, -1.26157409, -0.99430153],\n",
              "       [-1.0162523 , -1.08504677, -1.00189392, -0.99918299, -0.99448524,\n",
              "        -0.83878335, -1.44447647, -1.11687243, -0.98591447, -1.01817487,\n",
              "        -0.98725446, -1.00003102, -0.98936684, -1.03690566, -1.00489745,\n",
              "        -1.02268973, -0.99027382, -0.93143229, -1.07523625, -0.99307278,\n",
              "        -1.01096732, -1.00871438, -1.00515196, -0.96771005, -1.01181591,\n",
              "        -0.97999694, -1.28502881, -1.25539589, -1.02464579, -1.01690814,\n",
              "        -1.00632503, -0.88966854, -1.06617101, -0.95870729, -0.9878685 ,\n",
              "        -1.03057508, -0.96038509, -1.08159644, -0.97970123, -1.05380248,\n",
              "        -0.99161088, -1.02872175, -0.95900894, -1.0975662 , -1.01724736,\n",
              "        -1.00955507, -0.98991586, -1.01000934, -1.05661222, -1.05465518,\n",
              "        -0.99417769, -1.03440978, -0.99986911, -0.97405867, -0.87461423,\n",
              "        -0.9834985 , -0.99180375, -1.03124918, -0.99548415, -1.15003116,\n",
              "        -1.02386368, -1.6739364 , -0.53749619, -1.06354887, -1.09684322,\n",
              "        -0.84862437, -0.95939254, -0.96103256, -1.02146107, -0.96110882,\n",
              "        -1.12323291, -1.02453602, -1.05973272, -1.07196848, -1.04474494,\n",
              "        -1.39549223, -1.12416763, -1.00285294, -0.92125724, -0.99836329,\n",
              "        -0.98810875, -1.14204781, -0.98487767, -1.02067036, -0.99559607,\n",
              "        -0.98597414, -1.05088175, -0.99774182, -1.02623338, -1.01771   ,\n",
              "        -0.96825423, -1.05506687, -0.98030487, -0.88840614, -0.96318135,\n",
              "        -1.00597799, -1.00457474, -1.02201181, -1.178964  , -0.93301946],\n",
              "       [-0.98418664, -0.9813563 , -1.00645213, -1.02335433, -0.98591209,\n",
              "        -0.96721896, -0.84469385, -0.93448212, -0.95817349, -0.98619336,\n",
              "        -1.08903327, -1.02916757, -0.99880062, -1.0264845 , -0.98747651,\n",
              "        -0.90636483, -0.9502223 , -1.05094244, -0.78749697, -1.009569  ,\n",
              "        -0.96239426, -0.99607912, -1.01475915, -0.99516282, -0.96745018,\n",
              "        -0.85435631, -0.93053811, -0.80300097, -0.97336826, -0.89742807,\n",
              "        -1.00632503, -0.89554094, -1.00097506, -1.01871475, -0.9878685 ,\n",
              "        -0.99359272, -0.96788224, -0.98519747, -0.89538959, -0.90571913,\n",
              "        -1.00456465, -1.0239985 , -0.84517998, -0.79115903, -0.9553459 ,\n",
              "        -1.00148938, -0.98476675, -0.99076649, -1.01713282, -0.98694056,\n",
              "        -1.01375583, -1.02072711, -0.99428013, -1.02588562, -1.04158907,\n",
              "        -1.01472068, -1.01580094, -1.0501227 , -1.0613333 , -0.81605746,\n",
              "        -1.03666731, -0.45023117, -0.74762844, -0.97262046, -0.99161362,\n",
              "        -0.97235176, -1.0173502 , -1.02752467, -0.98317542, -0.98731493,\n",
              "        -0.76400866, -0.98083862, -0.95118867, -0.98571814, -0.90937403,\n",
              "        -0.91284078, -0.91729262, -1.00035206, -0.96565518, -1.00261798,\n",
              "        -0.98810875, -0.86236263, -1.21570837, -1.00507968, -1.00962843,\n",
              "        -1.01475025, -1.0052093 , -0.98007747, -0.99843588, -0.93575678,\n",
              "        -0.93431017, -1.0324986 , -0.98030487, -0.71094673, -1.01834151,\n",
              "        -1.01496595, -0.9975399 , -0.99210218, -1.02554526, -1.07856437],\n",
              "       [-0.99563866, -0.89988521, -0.96998647, -0.99314015, -1.03306441,\n",
              "        -1.4315631 ,  0.15494384, -0.97739749, -1.04139643, -0.997823  ,\n",
              "        -0.91563233, -0.99031884, -0.99172529, -0.97785241, -1.02522187,\n",
              "        -1.12932088, -1.0002867 , -1.10322814, -1.04494791, -0.98482467,\n",
              "        -1.01420552, -1.00029087, -0.99074118, -0.95398367, -1.00627019,\n",
              "        -1.14332977, -0.71784368, -1.19884652, -1.01559682, -0.96823107,\n",
              "        -1.04650914, -1.05409573, -1.00097506, -0.99047595, -0.99808695,\n",
              "        -0.94736477, -1.09533382, -0.842527  , -1.10616869, -1.08479667,\n",
              "        -1.00132621, -1.0239985 , -1.15820961, -0.94043431, -1.01380839,\n",
              "        -0.99611226, -1.03883238, -0.99798256, -0.98842053, -0.96154758,\n",
              "        -1.03724959, -0.98652044, -1.06693691, -0.9826965 , -1.03491008,\n",
              "        -0.96788741, -0.99420347, -1.03502389, -0.98773719, -0.58372794,\n",
              "        -1.02813156, -1.00436184, -1.1015354 , -0.98829777, -0.97407535,\n",
              "        -1.1179134 , -0.99416713, -1.00092783, -0.9525469 , -1.01352103,\n",
              "        -0.97866705, -0.9875613 , -1.10543548, -0.99393246, -1.00492997,\n",
              "        -0.76594686, -0.88648144, -1.00535382, -1.08034986, -1.00687267,\n",
              "        -1.05303824, -1.04881941, -0.9079341 , -0.99468588, -0.97103944,\n",
              "        -0.97027808, -0.97199296, -1.0360146 , -0.99085474, -0.93203164,\n",
              "        -1.02765633, -1.04378273, -0.96840074, -1.22114252, -1.04804314,\n",
              "        -1.00597799, -1.00222979, -1.00406603, -0.61249481, -0.91003869],\n",
              "       [-1.0208331 , -1.0998597 , -1.00189392, -1.00824724, -0.96019265,\n",
              "        -0.68070875, -1.04462139, -0.6984476 , -1.01920365, -1.01526746,\n",
              "        -0.96086736, -1.01945539, -0.99408373, -0.97090497, -1.0165114 ,\n",
              "        -0.92575231, -1.05535754, -1.16298322, -0.9389387 , -1.00338292,\n",
              "        -0.98506169, -1.02556138, -0.99314297, -1.05006835, -1.05063592,\n",
              "        -0.84807428, -1.13437026, -0.89347995, -0.97638459, -1.07443558,\n",
              "        -0.88577268, -1.13043693, -0.93577912, -1.0787222 , -1.01086001,\n",
              "        -1.00592017, -1.03160803, -1.05846069, -0.93332983, -0.95048851,\n",
              "        -1.03047219, -0.9767661 , -0.9508783 , -1.01114366, -0.97254075,\n",
              "        -0.99073513, -0.99763952, -0.99076649, -0.99918764, -0.97424407,\n",
              "        -0.9667683 , -0.94547243, -0.95515724, -1.01724779, -1.04492857,\n",
              "        -1.02096511, -1.0110015 , -0.87271161, -0.99935763, -1.0193458 ,\n",
              "        -0.97264916, -1.30451595, -1.32272725, -0.96321407, -0.93899882,\n",
              "        -0.95051752, -0.90916256, -0.92557011, -1.08271811, -0.98403916,\n",
              "        -0.9918094 , -0.97411594, -0.83693177, -0.9692895 , -0.86159606,\n",
              "        -0.72397717, -0.97011177, -1.01535734, -1.01745278, -0.98347187,\n",
              "        -0.98515741, -0.88100831, -0.46550858, -0.98429209, -0.98857989,\n",
              "        -1.01998227, -0.96368888, -0.94474875, -1.00601701, -1.00653457,\n",
              "        -1.08281542, -1.02121446, -0.88507185, -0.99931826, -1.01409842,\n",
              "        -0.99474303, -1.00222979, -0.98911122, -0.80131787, -1.07090411]])"
            ]
          },
          "metadata": {},
          "execution_count": 11
        }
      ]
    },
    {
      "cell_type": "code",
      "source": [
        "pca = PCA() # create a PCA object\n",
        "pca.fit(scaled_data) # do the math\n",
        "pca_data = pca.transform(scaled_data) # get PCA coordinates for scaled_data"
      ],
      "metadata": {
        "id": "UIgtoxDf23ax"
      },
      "execution_count": 17,
      "outputs": []
    },
    {
      "cell_type": "markdown",
      "source": [
        "# Draw a scree plot and a PCA plot"
      ],
      "metadata": {
        "id": "0jbJQxa83I0Z"
      }
    },
    {
      "cell_type": "code",
      "source": [
        "#The following code constructs the Scree plot\n",
        "per_var = np.round(pca.explained_variance_ratio_* 100, decimals=1)\n",
        "labels = ['PC' + str(x) for x in range(1, len(per_var)+1)]\n",
        " \n",
        "plt.bar(x=range(1,len(per_var)+1), height=per_var, tick_label=labels)\n",
        "plt.ylabel('Percentage of Explained Variance')\n",
        "plt.xlabel('Principal Component')\n",
        "plt.title('Scree Plot')\n",
        "plt.show()"
      ],
      "metadata": {
        "colab": {
          "base_uri": "https://localhost:8080/",
          "height": 295
        },
        "id": "dB3bxqO83Jjc",
        "outputId": "32bee2de-6bf8-4bf5-9c2f-798f333e6688"
      },
      "execution_count": 18,
      "outputs": [
        {
          "output_type": "display_data",
          "data": {
            "text/plain": [
              "<Figure size 432x288 with 1 Axes>"
            ],
            "image/png": "[encoded data removed]"
          },
          "metadata": {
            "needs_background": "light"
          }
        }
      ]
    },
    {
      "cell_type": "code",
      "source": [
        "np.round(pca.explained_variance_ratio_* 100, decimals=1)"
      ],
      "metadata": {
        "colab": {
          "base_uri": "https://localhost:8080/"
        },
        "id": "2POKkl_9CBCX",
        "outputId": "f976df0e-093b-43b5-e410-4006abd68e6e"
      },
      "execution_count": 20,
      "outputs": [
        {
          "output_type": "execute_result",
          "data": {
            "text/plain": [
              "array([98.3,  0.5,  0.4,  0.2,  0.2,  0.2,  0.1,  0.1,  0.1,  0. ])"
            ]
          },
          "metadata": {},
          "execution_count": 20
        }
      ]
    },
    {
      "cell_type": "code",
      "source": [
        "\n",
        "#the following code makes a fancy looking plot using PC1 and PC2\n",
        "pca_df = pd.DataFrame(pca_data, index=[*wt, *ko], columns=labels)\n",
        " \n",
        "plt.scatter(pca_df.PC1, pca_df.PC2)\n",
        "plt.title('My PCA Graph')\n",
        "plt.xlabel('PC1 - {0}%'.format(per_var[0]))\n",
        "plt.ylabel('PC2 - {0}%'.format(per_var[1]))\n",
        " \n",
        "for sample in pca_df.index:\n",
        "    plt.annotate(sample, (pca_df.PC1.loc[sample], pca_df.PC2.loc[sample]))\n",
        " \n",
        "plt.show()"
      ],
      "metadata": {
        "colab": {
          "base_uri": "https://localhost:8080/",
          "height": 295
        },
        "id": "xkdrH4To65uR",
        "outputId": "1ad28cde-312e-4710-b2d2-4cd510b2da67"
      },
      "execution_count": 22,
      "outputs": [
        {
          "output_type": "display_data",
          "data": {
            "text/plain": [
              "<Figure size 432x288 with 1 Axes>"
            ],
            "image/png": "[encoded data removed]"
          },
          "metadata": {
            "needs_background": "light"
          }
        }
      ]
    },
    {
      "cell_type": "markdown",
      "source": [
        "**Insight**\n",
        "\n",
        "\n",
        "\n",
        "*   Secara umum data terdiri atas 2 cluster yaitu ko dan wt\n",
        "*   Semakin jauh jarak titik observasi semakin jauh karakteristiknya\n",
        "*   Nilai informasi yang ditangkap oleh visualisi diatas PC 1 sebesar 98.3%\n",
        " \n",
        "\n",
        "\n",
        "\n"
      ],
      "metadata": {
        "id": "zx45UoT7CZgw"
      }
    },
    {
      "cell_type": "markdown",
      "source": [
        "# Determine which genes had the biggest influence on PC1"
      ],
      "metadata": {
        "id": "tZIi605X-o_W"
      }
    },
    {
      "cell_type": "code",
      "source": [
        "## get the name of the top 10 measurements (genes) that contribute\n",
        "## most to pc1.\n",
        "## first, get the loading scores\n",
        "loading_scores = pd.Series(pca.components_[0], index=genes)\n",
        "loading_scores"
      ],
      "metadata": {
        "colab": {
          "base_uri": "https://localhost:8080/"
        },
        "id": "sUP9UA1F-pzG",
        "outputId": "7aa77bf3-72c7-41bb-ffcd-dc50c2946ad8"
      },
      "execution_count": null,
      "outputs": [
        {
          "output_type": "execute_result",
          "data": {
            "text/plain": [
              "gene1      0.100463\n",
              "gene2      0.100608\n",
              "gene3      0.100002\n",
              "gene4      0.100655\n",
              "gene5      0.100536\n",
              "             ...   \n",
              "gene96     0.100472\n",
              "gene97     0.100629\n",
              "gene98     0.099627\n",
              "gene99     0.092561\n",
              "gene100    0.098719\n",
              "Length: 100, dtype: float64"
            ]
          },
          "metadata": {},
          "execution_count": 39
        }
      ]
    },
    {
      "cell_type": "markdown",
      "source": [
        "Loading score menunjukkan nilai korelasi fitur terhadap PC, semakin besar loading score semakin memberi kontribusi yang besar terhadap PC"
      ],
      "metadata": {
        "id": "rMCsUT-L_pYD"
      }
    },
    {
      "cell_type": "code",
      "source": [
        "## now sort the loading scores based on their magnitude (besar ke kecil)\n",
        "sorted_loading_scores = loading_scores.abs().sort_values(ascending=False)\n",
        "sorted_loading_scores"
      ],
      "metadata": {
        "colab": {
          "base_uri": "https://localhost:8080/"
        },
        "id": "u-rO5Rh3_Fpo",
        "outputId": "c69ecb6d-f9fa-4153-9a0b-b5d3f5aaf755"
      },
      "execution_count": null,
      "outputs": [
        {
          "output_type": "execute_result",
          "data": {
            "text/plain": [
              "gene81    0.100715\n",
              "gene57    0.100691\n",
              "gene37    0.100673\n",
              "gene68    0.100672\n",
              "gene78    0.100670\n",
              "            ...   \n",
              "gene11    0.098077\n",
              "gene7     0.097659\n",
              "gene75    0.093923\n",
              "gene99    0.092561\n",
              "gene56    0.090661\n",
              "Length: 100, dtype: float64"
            ]
          },
          "metadata": {},
          "execution_count": 40
        }
      ]
    },
    {
      "cell_type": "code",
      "source": [
        "# get the names of the top 10 genes\n",
        "top_10_genes = sorted_loading_scores[0:10].index.values"
      ],
      "metadata": {
        "id": "yTqZCYP2ABvu"
      },
      "execution_count": null,
      "outputs": []
    },
    {
      "cell_type": "code",
      "source": [
        "## print the gene names and their scores (and +/- sign)\n",
        "print(loading_scores[top_10_genes])"
      ],
      "metadata": {
        "colab": {
          "base_uri": "https://localhost:8080/"
        },
        "id": "4lK7WJkbADJX",
        "outputId": "4d1ac5bc-aa79-4125-af83-a98a505730ae"
      },
      "execution_count": null,
      "outputs": [
        {
          "output_type": "stream",
          "name": "stdout",
          "text": [
            "gene81    0.100715\n",
            "gene57    0.100691\n",
            "gene37    0.100673\n",
            "gene68    0.100672\n",
            "gene78    0.100670\n",
            "gene85    0.100668\n",
            "gene29    0.100666\n",
            "gene18    0.100665\n",
            "gene44    0.100658\n",
            "gene4     0.100655\n",
            "dtype: float64\n"
          ]
        }
      ]
    },
    {
      "cell_type": "markdown",
      "source": [
        "10 variabel yang memberikan impact tertinggi pada PC10 variabel yang memberikan impact tertinggi pada PC"
      ],
      "metadata": {
        "id": "IfTOSKZKqSDG"
      }
    },
    {
      "cell_type": "markdown",
      "source": [
        "PCA bagian dari Unsupervised Learning\n",
        "\n",
        "PCA dapat Melihat karakteristik data high dimensi\n",
        "\n"
      ],
      "metadata": {
        "id": "lVIcq8IeBwKZ"
      }
    }
  ]
}