{
 "cells": [
  {
   "cell_type": "markdown",
   "metadata": {
    "slideshow": {
     "slide_type": "slide"
    }
   },
   "source": [
    "# Module 1: Introduction to everything"
   ]
  },
  {
   "cell_type": "markdown",
   "metadata": {},
   "source": [
    "## Lab 3: Exception Handling and File Handling\n",
    "\n"
   ]
  },
  {
   "cell_type": "markdown",
   "metadata": {
    "slideshow": {
     "slide_type": "slide"
    }
   },
   "source": [
    "# Objective\n",
    "***\n",
    " - **Exception Handling**\n",
    "      - try and except\n",
    " - **File Handling**\n",
    "\n",
    "      \n",
    "\n",
    "\n",
    "\n",
    "\n",
    "    "
   ]
  },
  {
   "cell_type": "markdown",
   "metadata": {
    "slideshow": {
     "slide_type": "subslide"
    }
   },
   "source": [
    "\n",
    "\n",
    "## Exception Handling\n",
    "***\n",
    "\n",
    "Exceptions are raised when the program is syntactically correct, but the code resulted in an error. This error does not stop the execution of the program, however, it changes the normal flow of the program. \n",
    "\n",
    "#### try and except\n",
    "\n",
    "The basic terminology and syntax used to handle errors in Python is the **try** and **except** statements. The code which can cause an exception to occue is put in the *try* block and the handling of the exception is the implemented in the *except* block of code. The syntax form is:\n",
    "\n",
    "    try:\n",
    "       You do your operations here...\n",
    "       ...\n",
    "    except ExceptionI:\n",
    "    \n",
    "       \n",
    "       If there is ExceptionI, then execute this block.\n",
    "    \n",
    "    except ExceptionII:\n",
    "       \n",
    "       If there is ExceptionII, then execute this block.\n",
    "       ...\n",
    "    \n",
    "    else:\n",
    "       \n",
    "       If there is no exception then execute this block. \n",
    "\n",
    "We can also just check for any exception with just using except: To get a better understanding of all this lets check out an example: We will look at some code that opens and writes a file:"
   ]
  },
  {
   "cell_type": "code",
   "execution_count": 1,
   "metadata": {
    "ExecuteTime": {
     "end_time": "2017-09-25T05:49:25.844203Z",
     "start_time": "2017-09-25T05:49:25.831637Z"
    },
    "slideshow": {
     "slide_type": "fragment"
    }
   },
   "outputs": [
    {
     "name": "stdout",
     "output_type": "stream",
     "text": [
      "divided by zero\n",
      "executed when exception occurs\n",
      "finally block, always executed\n"
     ]
    }
   ],
   "source": [
    "try:\n",
    "    x = 1 / 0\n",
    "except ZeroDivisionError:\n",
    "    print('divided by zero')\n",
    "    print('executed when exception occurs')\n",
    "else:\n",
    "    print('executed only when exception does not occur')\n",
    "finally:\n",
    "    print('finally block, always executed')"
   ]
  },
  {
   "cell_type": "markdown",
   "metadata": {},
   "source": [
    "## File Handling\n",
    "***\n",
    "\n",
    "File Handling: File handling is the process of applying various operations on the file such as create , update , delete etc.\n",
    "File Handling in python: Python provides a number of in-built operations to manipulate the files."
   ]
  },
  {
   "cell_type": "markdown",
   "metadata": {
    "ExecuteTime": {
     "end_time": "2017-09-19T10:03:27.500870Z",
     "start_time": "2017-09-19T10:03:27.495827Z"
    },
    "slideshow": {
     "slide_type": "subslide"
    }
   },
   "source": [
    "\n",
    "## File I/O : Helps you read your files\n",
    "***\n",
    "- Python provides a `file` object to read text/binary files.\n",
    "- This is similar to the `FileStream` object in other languages.\n",
    "- Since a `file` is a resource, it must be closed after use. This can be done manually, or using a context manager (**`with`** statement)"
   ]
  },
  {
   "cell_type": "markdown",
   "metadata": {
    "slideshow": {
     "slide_type": "subslide"
    }
   },
   "source": [
    "<div class=\"alert alert-block alert-info\">Create a file in the current directory</div>"
   ]
  },
  {
   "cell_type": "code",
   "execution_count": 2,
   "metadata": {
    "ExecuteTime": {
     "end_time": "2017-09-25T05:46:48.444281Z",
     "start_time": "2017-09-25T05:46:48.404481Z"
    },
    "slideshow": {
     "slide_type": "fragment"
    }
   },
   "outputs": [
    {
     "name": "stdout",
     "output_type": "stream",
     "text": [
      "C:\\Users\\anshu\\Downloads\n"
     ]
    }
   ],
   "source": [
    "with open('myfile.txt', 'w') as f:\n",
    "    f.write(\"This is my first file!\\n\")\n",
    "    f.write(\"Second line!\\n\")\n",
    "    f.write(\"Last line!\\n\")\n",
    "\n",
    "\n",
    "# let's verify if it was really created.\n",
    "# For that, let's find out which directory we're working from\n",
    "import os\n",
    "print(os.path.abspath(os.curdir))"
   ]
  },
  {
   "cell_type": "markdown",
   "metadata": {
    "slideshow": {
     "slide_type": "subslide"
    }
   },
   "source": [
    "<div class=\"alert alert-block alert-info\">Read the newly created file</div>"
   ]
  },
  {
   "cell_type": "code",
   "execution_count": 3,
   "metadata": {
    "ExecuteTime": {
     "end_time": "2017-09-21T07:13:26.917607Z",
     "start_time": "2017-09-21T07:13:26.909666Z"
    },
    "slideshow": {
     "slide_type": "fragment"
    }
   },
   "outputs": [
    {
     "name": "stdout",
     "output_type": "stream",
     "text": [
      "This is my first file!\n",
      "\n",
      "Second line!\n",
      "\n",
      "Last line!\n",
      "\n"
     ]
    }
   ],
   "source": [
    "# read the file we just created\n",
    "with open('myfile.txt', 'r') as f:\n",
    "    for line in f:\n",
    "        print(line)\n"
   ]
  },
  {
   "cell_type": "markdown",
   "metadata": {
    "collapsed": true,
    "slideshow": {
     "slide_type": "slide"
    }
   },
   "source": [
    "## Thank You !!!\n"
   ]
  }
 ],
 "metadata": {
  "celltoolbar": "Slideshow",
  "kernelspec": {
   "display_name": "Python 3",
   "language": "python",
   "name": "python3"
  },
  "language_info": {
   "codemirror_mode": {
    "name": "ipython",
    "version": 3
   },
   "file_extension": ".py",
   "mimetype": "text/x-python",
   "name": "python",
   "nbconvert_exporter": "python",
   "pygments_lexer": "ipython3",
   "version": "3.8.8"
  },
  "toc": {
   "colors": {
    "hover_highlight": "#DAA520",
    "running_highlight": "#FF0000",
    "selected_highlight": "#FFD700"
   },
   "moveMenuLeft": true,
   "nav_menu": {
    "height": "386px",
    "width": "268px"
   },
   "navigate_menu": true,
   "number_sections": true,
   "sideBar": true,
   "threshold": 4,
   "toc_cell": false,
   "toc_position": {
    "height": "664px",
    "left": "0px",
    "right": "1388px",
    "top": "107px",
    "width": "233px"
   },
   "toc_section_display": "block",
   "toc_window_display": true
  }
 },
 "nbformat": 4,
 "nbformat_minor": 2
}
