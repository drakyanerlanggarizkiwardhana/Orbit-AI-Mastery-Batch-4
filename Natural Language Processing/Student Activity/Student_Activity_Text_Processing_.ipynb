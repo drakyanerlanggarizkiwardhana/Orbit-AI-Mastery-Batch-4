{
  "nbformat": 4,
  "nbformat_minor": 0,
  "metadata": {
    "colab": {
      "provenance": []
    },
    "kernelspec": {
      "name": "python3",
      "display_name": "Python 3"
    },
    "language_info": {
      "name": "python"
    }
  },
  "cells": [
    {
      "cell_type": "code",
      "execution_count": 3,
      "metadata": {
        "colab": {
          "base_uri": "https://localhost:8080/"
        },
        "id": "vPWzN3RXcx-D",
        "outputId": "124a562e-5f75-44bd-fc2c-e19a5570bdbf"
      },
      "outputs": [
        {
          "output_type": "stream",
          "name": "stdout",
          "text": [
            "Hi Nama Teman Anda,\n",
            "\n",
            "Saya menerima SMS dan email dari +08004398499 dan debtcollector@pinjolninuninu.com terkait pinjaman online dari perusahaan Pinjol. Ternyata, nomor telepon dan email saya digunakan sebagai penjamin pinjaman tanpa persetujuan saya. Pagi tadi, seorang pria dengan postur tubuh besar datang ke rumah saya dengan menggunakan motor (dengan plat nomor PO 3030 AY). Ia mencari Anda, namun saya tidak tahu harus memberi jawaban apa karena saya tidak tahu keberadaan Anda saat ini.\n",
            "\n",
            "Mohon penjelasan tentang apa yang terjadi dan mengapa nomor telepon dan email saya digunakan sebagai penjamin pinjaman. Juga, harap beritahu saya apakah ada pinjaman tertunda yang perlu dibayar.\n",
            "\n",
            "Salam,\n",
            "Nama Anda\n",
            "\n"
          ]
        }
      ],
      "source": [
        "import re\n",
        "\n",
        "# Isi pesan\n",
        "pesan = \"\"\"\\\n",
        "Hi {nama_teman},\n",
        "\n",
        "Saya menerima SMS dan email dari {nomor_debtcollector} dan {email_debtcollector} terkait pinjaman online dari perusahaan Pinjol. Ternyata, nomor telepon dan email saya digunakan sebagai penjamin pinjaman tanpa persetujuan saya. Pagi tadi, seorang pria dengan postur tubuh besar datang ke rumah saya dengan menggunakan motor (dengan plat nomor {plat_nomor}). Ia mencari Anda, namun saya tidak tahu harus memberi jawaban apa karena saya tidak tahu keberadaan Anda saat ini.\n",
        "\n",
        "Mohon penjelasan tentang apa yang terjadi dan mengapa nomor telepon dan email saya digunakan sebagai penjamin pinjaman. Juga, harap beritahu saya apakah ada pinjaman tertunda yang perlu dibayar.\n",
        "\n",
        "Salam,\n",
        "{nama_anda}\n",
        "\"\"\"\n",
        "\n",
        "# Pengaturan data yang dibutuhkan dalam pesan\n",
        "nama_teman = \"Nama Teman Anda\"\n",
        "nomor_debtcollector = \"+08004398499\"\n",
        "email_debtcollector = \"debtcollector@pinjolninuninu.com\"\n",
        "plat_nomor = \"PO 3030 AY\"\n",
        "nama_anda = \"Nama Anda\"\n",
        "\n",
        "# Penggantian data dalam pesan menggunakan regex\n",
        "pesan = re.sub(r\"\\{nama_teman\\}\", nama_teman, pesan)\n",
        "pesan = re.sub(r\"\\{nomor_debtcollector\\}\", nomor_debtcollector, pesan)\n",
        "pesan = re.sub(r\"\\{email_debtcollector\\}\", email_debtcollector, pesan)\n",
        "pesan = re.sub(r\"\\{plat_nomor\\}\", plat_nomor, pesan)\n",
        "pesan = re.sub(r\"\\{nama_anda\\}\", nama_anda, pesan)\n",
        "\n",
        "# Output pesan setelah penggantian data\n",
        "print(pesan)\n"
      ]
    }
  ]
}