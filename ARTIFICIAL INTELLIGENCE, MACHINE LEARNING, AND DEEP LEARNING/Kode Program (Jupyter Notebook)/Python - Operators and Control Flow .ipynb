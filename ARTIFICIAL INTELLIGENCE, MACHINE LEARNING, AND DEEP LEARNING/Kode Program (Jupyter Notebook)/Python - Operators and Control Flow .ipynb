{
  "nbformat": 4,
  "nbformat_minor": 0,
  "metadata": {
    "colab": {
      "name": "Modul python operators & control flow.ipynb",
      "private_outputs": true,
      "provenance": [],
      "collapsed_sections": []
    },
    "kernelspec": {
      "name": "python3",
      "display_name": "Python 3"
    },
    "language_info": {
      "name": "python"
    }
  },
  "cells": [
    {
      "cell_type": "markdown",
      "source": [
        "# Modul python operators & control flow"
      ],
      "metadata": {
        "id": "byba0Si9pirK"
      }
    },
    {
      "cell_type": "markdown",
      "source": [
        "## Operator Aritmatika"
      ],
      "metadata": {
        "id": "YY75TfETpuZ_"
      }
    },
    {
      "cell_type": "code",
      "execution_count": null,
      "metadata": {
        "id": "IxpGkhV6pGKi"
      },
      "outputs": [],
      "source": [
        "x = 5\n",
        "y = 2"
      ]
    },
    {
      "cell_type": "code",
      "source": [
        "print('x + y =', x+y) # Addition\n",
        "print('x - y =', x-y) # Subtraction\n",
        "print('x * y =', x*y) # Multiplication\n",
        "print('x / y =', x/y) # Division\n",
        "print('x // y =', x//y) # Floor Division\n",
        "print('x ** y =', x**y) # Exponent"
      ],
      "metadata": {
        "id": "sh1LuZXtp7WV"
      },
      "execution_count": null,
      "outputs": []
    },
    {
      "cell_type": "markdown",
      "source": [
        "# Comparison operators\n",
        "\n"
      ],
      "metadata": {
        "id": "tQJMuvCLqxoQ"
      }
    },
    {
      "cell_type": "code",
      "source": [
        "x = 5\n",
        "y = 3"
      ],
      "metadata": {
        "id": "QjAF5xyerDJ3"
      },
      "execution_count": null,
      "outputs": []
    },
    {
      "cell_type": "code",
      "source": [
        "print('x > y =', x>y) # Greater than\n",
        "print('x < y =', x<y) # Less than\n",
        "print('x == y =', x==y) # Equal to\n",
        "print('x != y =', x!=y) # Not equal to\n",
        "print('x >= y =', x>=y) # Greater than or equal to\n",
        "print('x <= y =', x<=y) # Less than or equal to"
      ],
      "metadata": {
        "id": "lOPLEqjPrKcu"
      },
      "execution_count": null,
      "outputs": []
    },
    {
      "cell_type": "markdown",
      "source": [
        "# Logical operators"
      ],
      "metadata": {
        "id": "7eDxskPAy5Q0"
      }
    },
    {
      "cell_type": "code",
      "source": [
        "x = True\n",
        "y = False"
      ],
      "metadata": {
        "id": "0LIadW6fy94z"
      },
      "execution_count": null,
      "outputs": []
    },
    {
      "cell_type": "code",
      "source": [
        "print('x and y is', x and y) # AND logic\n",
        "\n",
        "print('x or y is', x or y) # OR logic\n",
        "\n",
        "print('not x is', not x) # NOT logic"
      ],
      "metadata": {
        "id": "qWqnn0ldzEsZ"
      },
      "execution_count": null,
      "outputs": []
    },
    {
      "cell_type": "markdown",
      "source": [
        "# Identity operators"
      ],
      "metadata": {
        "id": "DOhL0ww9zk4m"
      }
    },
    {
      "cell_type": "code",
      "source": [
        "x1 = 5\n",
        "y1 = 5\n",
        "x2 = 'Hello'\n",
        "y2 = 'Hello'\n",
        "x3 = [1,2,3]\n",
        "y3 = [1,2,3]"
      ],
      "metadata": {
        "id": "iSTL6O_Nzn_W"
      },
      "execution_count": null,
      "outputs": []
    },
    {
      "cell_type": "code",
      "source": [
        "print(x1 is not y1) # Identity is not same?\n",
        "\n",
        "print(x2 is y2) # Identity is same?\n",
        "\n",
        "print(x3 is y3) # Identity is same?"
      ],
      "metadata": {
        "id": "vVSGcElg0NwA"
      },
      "execution_count": null,
      "outputs": []
    },
    {
      "cell_type": "markdown",
      "source": [
        "# Membership operators"
      ],
      "metadata": {
        "id": "-0HCkbm60iHY"
      }
    },
    {
      "cell_type": "code",
      "source": [
        "x = 'Hello world'\n",
        "y = {1:'a', 2:'b'}"
      ],
      "metadata": {
        "id": "vVIsnq8F3kfW"
      },
      "execution_count": null,
      "outputs": []
    },
    {
      "cell_type": "code",
      "source": [
        "print('H' in x) # Is member?\n",
        "\n",
        "print('hello' not in x) # Is not member?\n",
        "\n",
        "print(1 in y) # Is member?\n",
        "\n",
        "print('a' in y) # is member?"
      ],
      "metadata": {
        "id": "ysVfi9mx4rsN"
      },
      "execution_count": null,
      "outputs": []
    },
    {
      "cell_type": "markdown",
      "source": [
        "# Input function di python"
      ],
      "metadata": {
        "id": "pb3VrDz05lCK"
      }
    },
    {
      "cell_type": "code",
      "source": [
        "# Taking input from the user\n",
        "name = input(\"Enter your name: \")\n",
        "\n",
        "# Output\n",
        "print(\"Hello\", name)"
      ],
      "metadata": {
        "id": "rfP3-vf05rdX"
      },
      "execution_count": null,
      "outputs": []
    },
    {
      "cell_type": "markdown",
      "source": [
        "# Control Flow: if else (nested if else)"
      ],
      "metadata": {
        "id": "SWKteBlm6XMR"
      }
    },
    {
      "cell_type": "code",
      "source": [
        "nilai = int(input(\"Masukkan nilai mata kuliah: \"))\n",
        "\n",
        "if nilai >= 80:\n",
        "    print(\"Nilai anda adalah A\")\n",
        "elif nilai >= 70:\n",
        "    print(\"Nilai anda adalah B\")\n",
        "elif nilai >= 50:\n",
        "    print(\"Nilai anda adalah C\")\n",
        "elif nilai >= 20:\n",
        "    print(\"Nilai anda adalah D\")\n",
        "elif nilai < 20 and nilai != 0:\n",
        "    print(\"Nilai anda adalah E\")\n",
        "elif nilai == 0:\n",
        "    print(\"Nilai anda adalah F\")"
      ],
      "metadata": {
        "id": "6LgsCA55_BzV"
      },
      "execution_count": null,
      "outputs": []
    },
    {
      "cell_type": "code",
      "source": [
        "var = int(input(\"Input nilai: \"))\n",
        "\n",
        "if var < 200:\n",
        "    print(\"Expression value is less than 200\")\n",
        "    if var == 150:\n",
        "        print(\"Which is 150\")\n",
        "    elif var == 100:\n",
        "        print(\"Which is 100\")\n",
        "    elif var == 50:\n",
        "        print(\"Which is 50\")\n",
        "    elif var < 50:\n",
        "        print(\"Expression value is less than 50\")\n",
        "else:\n",
        "    print(\"Could not find true expression\")\n",
        "\n",
        "print(\"Good bye\")"
      ],
      "metadata": {
        "id": "u7SaT-q_6c_M"
      },
      "execution_count": null,
      "outputs": []
    },
    {
      "cell_type": "markdown",
      "source": [
        "# Loop: for loop"
      ],
      "metadata": {
        "id": "zlV7eIn4DXyX"
      }
    },
    {
      "cell_type": "code",
      "source": [
        "lst = [\"Wiley\", 'python', \"pyspark\", \"data\", \"Engineering\"]\n",
        "\n",
        "for i in range (len(lst)):\n",
        "    print(lst[i])"
      ],
      "metadata": {
        "id": "JZHquAql_kYf"
      },
      "execution_count": null,
      "outputs": []
    },
    {
      "cell_type": "code",
      "source": [
        "for j in range (0,10):\n",
        "  print(j)"
      ],
      "metadata": {
        "id": "0xFg5Kp7EMaA"
      },
      "execution_count": null,
      "outputs": []
    },
    {
      "cell_type": "markdown",
      "source": [
        "# Loop break"
      ],
      "metadata": {
        "id": "rF2-1wy_Eh02"
      }
    },
    {
      "cell_type": "code",
      "source": [
        "for letter in 'for loop python':\n",
        "\n",
        "    # break the loop as soon it sees 'p'\n",
        "    if letter == 'p':\n",
        "        break\n",
        "\n",
        "    print('Current Letter :', letter)"
      ],
      "metadata": {
        "id": "kxV8L-l9EkQE"
      },
      "execution_count": null,
      "outputs": []
    },
    {
      "cell_type": "markdown",
      "source": [
        "# Loop: continue"
      ],
      "metadata": {
        "id": "ZSpXrLUJFCVT"
      }
    },
    {
      "cell_type": "code",
      "source": [
        "for letter in 'for loop python':\n",
        "\n",
        "    # break the loop as soon it sees 'p'\n",
        "    if letter == 'p':\n",
        "        continue\n",
        "\n",
        "    print('Current Letter :', letter)"
      ],
      "metadata": {
        "id": "KF1qaNIQFFns"
      },
      "execution_count": null,
      "outputs": []
    },
    {
      "cell_type": "markdown",
      "source": [
        "# Loop: pass\n"
      ],
      "metadata": {
        "id": "oSESJY8OFRnK"
      }
    },
    {
      "cell_type": "code",
      "source": [
        "for letter in 'for loop python':\n",
        "    pass\n",
        "\n",
        "print(\"Hello from Python\")"
      ],
      "metadata": {
        "id": "PtHTRs6QFTyF"
      },
      "execution_count": null,
      "outputs": []
    },
    {
      "cell_type": "markdown",
      "source": [
        "# List comprehension"
      ],
      "metadata": {
        "id": "ucchoBsgGQaX"
      }
    },
    {
      "cell_type": "code",
      "source": [
        "# List comprehension without condition\n",
        "# [f(x)] for x in sequence]\n",
        "\n",
        "mylist = [2,3,6,5,9]\n",
        "sqlist = [x**2 for x in mylist]\n",
        "print(sqlist)"
      ],
      "metadata": {
        "id": "zB9zGZLTGVMy"
      },
      "execution_count": null,
      "outputs": []
    },
    {
      "cell_type": "code",
      "source": [
        "# List comprehension with if condition\n",
        "# [f(x)] for x in sequence condition]\n",
        "\n",
        "sqevenlist = [x**2 for x in mylist if x%2==0]\n",
        "print(sqevenlist)"
      ],
      "metadata": {
        "id": "gu8NrrulHGAY"
      },
      "execution_count": null,
      "outputs": []
    },
    {
      "cell_type": "code",
      "source": [
        "# List comprehension with if condition and else\n",
        "# template 3: [f(x)] if condition else g(x) for x in sequence]\n",
        "# for even numbers - get square, odd nymber get cube\n",
        "\n",
        "customlist = [x**2 if x%2==0 else x**3 for x in mylist]\n",
        "print(customlist)"
      ],
      "metadata": {
        "id": "qEFfopjLHh8K"
      },
      "execution_count": null,
      "outputs": []
    },
    {
      "cell_type": "markdown",
      "source": [
        "# Dictionary comprehension"
      ],
      "metadata": {
        "id": "bcoIT1pKMtan"
      }
    },
    {
      "cell_type": "code",
      "source": [
        "# Dictionary comprehension\n",
        "# without condition: {key:value for vars in sequence}\n",
        "mydic = {\"apple\":20, \"mango\":30, 'banan':50, 'grapes':40, 'watermelon':80}\n",
        "# add 10 with price of each fruit\n",
        "newdic = {key:value+10 for (key,value) in mydic.items()}\n",
        "print(newdic)"
      ],
      "metadata": {
        "id": "mBU0zGpsMzBd"
      },
      "execution_count": null,
      "outputs": []
    },
    {
      "cell_type": "code",
      "source": [
        "# Adding conditions: {key:value for vars in sequence if condition}\n",
        "# extracting dictionary of fruits having price more than 50\n",
        "newdic = {key:value for (key,value) in mydic.items() if value>50}\n",
        "print(newdic)"
      ],
      "metadata": {
        "id": "kVIP4UjhQUEp"
      },
      "execution_count": null,
      "outputs": []
    },
    {
      "cell_type": "code",
      "source": [
        "# Adding conditions: {key:(value if condition else value2) for vars in sequence}\n",
        "# increasing prices for fruits having price less than 50\n",
        "newdic = {key:(value+10 if value<50 else value) for (key,value) in mydic.items()}\n",
        "print(newdic)"
      ],
      "metadata": {
        "id": "68YHVxf0RgXg"
      },
      "execution_count": null,
      "outputs": []
    }
  ]
}