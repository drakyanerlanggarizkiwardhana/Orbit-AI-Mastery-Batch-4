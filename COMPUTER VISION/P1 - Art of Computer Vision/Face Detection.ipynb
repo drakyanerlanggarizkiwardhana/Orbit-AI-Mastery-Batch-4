{
 "cells": [
  {
   "cell_type": "code",
   "execution_count": 1,
   "id": "fc7acb67",
   "metadata": {},
   "outputs": [],
   "source": [
    "import cv2"
   ]
  },
  {
   "cell_type": "code",
   "execution_count": null,
   "id": "a21fec68",
   "metadata": {},
   "outputs": [],
   "source": [
    "\n",
    "\n",
    "# define a video capture object\n",
    "vid = cv2.VideoCapture(0)\n",
    "  \n",
    "while(True):\n",
    "      \n",
    "    # Capture the video frame\n",
    "    # by frame\n",
    "    ret, frame = vid.read()\n",
    "  \n",
    "    # Display the resulting frame\n",
    "    \n",
    "    # Converting image to grayscale\n",
    "    gray_img = cv2.cvtColor(frame, cv2.COLOR_BGR2GRAY)\n",
    "\n",
    "    # Loading the required haar-cascade xml classifier file\n",
    "    haar_cascade = cv2.CascadeClassifier('XML File\\\\haarcascade_smile.xml')\n",
    "\n",
    "    # Applying the face detection method on the grayscale image\n",
    "    faces_rect = haar_cascade.detectMultiScale(gray_img, 2, 9)\n",
    "\n",
    "    # Iterating through rectangles of detected faces\n",
    "    for (x, y, w, h) in faces_rect:\n",
    "        cv2.rectangle(frame, (x, y), (x+w, y+h), (0, 255, 0), 2)\n",
    "        \n",
    "    cv2.imshow('frame', frame)\n",
    "      \n",
    "    # the 'q' button is set as the\n",
    "    # quitting button you may use any\n",
    "    # desired button of your choice\n",
    "    if cv2.waitKey(1) & 0xFF == ord('q'):\n",
    "        break\n",
    "  \n",
    "# After the loop release the cap object\n",
    "vid.release()\n",
    "# Destroy all the windows\n",
    "cv2.destroyAllWindows()"
   ]
  },
  {
   "cell_type": "code",
   "execution_count": null,
   "id": "e4bc4c2b",
   "metadata": {},
   "outputs": [],
   "source": []
  }
 ],
 "metadata": {
  "kernelspec": {
   "display_name": "Python 3 (ipykernel)",
   "language": "python",
   "name": "python3"
  },
  "language_info": {
   "codemirror_mode": {
    "name": "ipython",
    "version": 3
   },
   "file_extension": ".py",
   "mimetype": "text/x-python",
   "name": "python",
   "nbconvert_exporter": "python",
   "pygments_lexer": "ipython3",
   "version": "3.9.11"
  }
 },
 "nbformat": 4,
 "nbformat_minor": 5
}
