{
  "nbformat": 4,
  "nbformat_minor": 0,
  "metadata": {
    "colab": {
      "provenance": []
    },
    "kernelspec": {
      "name": "python3",
      "display_name": "Python 3"
    },
    "language_info": {
      "name": "python"
    }
  },
  "cells": [
    {
      "cell_type": "markdown",
      "source": [
        "Berikut adalah contoh kode program modifikasi Principal Component Analysis A:"
      ],
      "metadata": {
        "id": "3RQIn-rvqz-A"
      }
    },
    {
      "cell_type": "code",
      "source": [
        "import numpy as np\n",
        "import matplotlib.pyplot as plt"
      ],
      "metadata": {
        "id": "RszqKHTzq2SF"
      },
      "execution_count": null,
      "outputs": []
    },
    {
      "cell_type": "markdown",
      "source": [
        "# Generate data"
      ],
      "metadata": {
        "id": "3DOgU1gkq8W_"
      }
    },
    {
      "cell_type": "code",
      "source": [
        "np.random.seed(0)\n",
        "mu_vec1 = np.array([0,0])\n",
        "cov_mat1 = np.array([[1,0],[0,1]])\n",
        "class1_sample = np.random.multivariate_normal(mu_vec1, cov_mat1, 50)\n",
        "\n",
        "np.random.seed(1)\n",
        "mu_vec2 = np.array([1,2])\n",
        "cov_mat2 = np.array([[1,0],[0,1]])\n",
        "class2_sample = np.random.multivariate_normal(mu_vec2, cov_mat2, 50)\n",
        "\n",
        "np.random.seed(2)\n",
        "mu_vec3 = np.array([3,3])\n",
        "cov_mat3 = np.array([[1,0],[0,1]])\n",
        "class3_sample = np.random.multivariate_normal(mu_vec3, cov_mat3, 50)\n",
        "\n",
        "np.random.seed(3)\n",
        "mu_vec4 = np.array([-1,2])\n",
        "cov_mat4 = np.array([[1,0],[0,1]])\n",
        "class4_sample = np.random.multivariate_normal(mu_vec4, cov_mat4, 50)"
      ],
      "metadata": {
        "id": "bHrKVuq0q8_b"
      },
      "execution_count": null,
      "outputs": []
    },
    {
      "cell_type": "markdown",
      "source": [
        "# Add new samples"
      ],
      "metadata": {
        "id": "I-DVuxn2rFuA"
      }
    },
    {
      "cell_type": "code",
      "source": [
        "np.random.seed(4)\n",
        "mu_vec5 = np.array([-2,0])\n",
        "cov_mat5 = np.array([[1,0],[0,1]])\n",
        "class5_sample = np.random.multivariate_normal(mu_vec5, cov_mat5, 50)\n",
        "\n",
        "np.random.seed(5)\n",
        "mu_vec6 = np.array([2,-2])\n",
        "cov_mat6 = np.array([[1,0],[0,1]])\n",
        "class6_sample = np.random.multivariate_normal(mu_vec6, cov_mat6, 50)"
      ],
      "metadata": {
        "id": "-fhS6ovcrGiv"
      },
      "execution_count": null,
      "outputs": []
    },
    {
      "cell_type": "markdown",
      "source": [
        "# Concatenate data into single array"
      ],
      "metadata": {
        "id": "HQa6gHMrrL1B"
      }
    },
    {
      "cell_type": "code",
      "source": [
        "samples = np.concatenate((class1_sample, class2_sample, class3_sample, class4_sample, class5_sample, class6_sample), axis=0)"
      ],
      "metadata": {
        "id": "K7E0cHwhrMbw"
      },
      "execution_count": null,
      "outputs": []
    },
    {
      "cell_type": "markdown",
      "source": [
        "# Calculate mean vector"
      ],
      "metadata": {
        "id": "vMKad7hGrQTH"
      }
    },
    {
      "cell_type": "code",
      "source": [
        "mean_vec = np.mean(samples, axis=0)"
      ],
      "metadata": {
        "id": "MGRaoDpLrS-C"
      },
      "execution_count": null,
      "outputs": []
    },
    {
      "cell_type": "markdown",
      "source": [
        "# Calculate covariance matrix"
      ],
      "metadata": {
        "id": "TbefNtX0rWdC"
      }
    },
    {
      "cell_type": "code",
      "source": [
        "cov_mat = (samples - mean_vec).T.dot((samples - mean_vec)) / (samples.shape[0]-1)"
      ],
      "metadata": {
        "id": "nP4otKwRrXJQ"
      },
      "execution_count": null,
      "outputs": []
    },
    {
      "cell_type": "markdown",
      "source": [
        "# Perform eigendecomposition of covariance matrix\n",
        "\n",
        "1.   Item daftar\n",
        "2.   Item daftar\n",
        "\n"
      ],
      "metadata": {
        "id": "44URvE2NrdSK"
      }
    },
    {
      "cell_type": "code",
      "source": [
        "eig_vals, eig_vecs = np.linalg.eig(cov_mat)"
      ],
      "metadata": {
        "id": "41m9VtNjrd_W"
      },
      "execution_count": null,
      "outputs": []
    },
    {
      "cell_type": "markdown",
      "source": [
        "# Sort eigenvectors in decreasing order of eigenvalues"
      ],
      "metadata": {
        "id": "D3BhkIbiriVf"
      }
    },
    {
      "cell_type": "code",
      "source": [
        "sorted_indices = np.argsort(eig_vals)[::-1]\n",
        "eig_vals_sorted = eig_vals[sorted_indices]\n",
        "eig_vecs_sorted = eig_vecs[:,sorted_indices]"
      ],
      "metadata": {
        "id": "C1_i93Q7rkQi"
      },
      "execution_count": null,
      "outputs": []
    },
    {
      "cell_type": "markdown",
      "source": [
        "# Select the two eigenvectors with the largest eigenvalues, to form a 2D basis"
      ],
      "metadata": {
        "id": "KB-Ri-zkrpcp"
      }
    },
    {
      "cell_type": "code",
      "source": [
        "projection_matrix = np.hstack((eig_vecs_sorted[:,0].reshape(2,1), eig_vecs_sorted[:,1].reshape(2,1)))"
      ],
      "metadata": {
        "id": "QrLUkHDfrp6n"
      },
      "execution_count": null,
      "outputs": []
    },
    {
      "cell_type": "markdown",
      "source": [
        "# Project samples onto the new 2D basis"
      ],
      "metadata": {
        "id": "cFg-Vkblru9o"
      }
    },
    {
      "cell_type": "code",
      "source": [
        "projected_samples = samples.dot(projection_matrix)"
      ],
      "metadata": {
        "id": "Mm7eb6QFrvXP"
      },
      "execution_count": null,
      "outputs": []
    },
    {
      "cell_type": "markdown",
      "source": [
        "# Plot original samples and projected samples"
      ],
      "metadata": {
        "id": "8slpS0QiryM_"
      }
    },
    {
      "cell_type": "code",
      "source": [
        "plt.figure(figsize=(8,6))\n",
        "plt.scatter(samples[:,0], samples[:,1], alpha=0.5)\n",
        "plt.scatter(projected_samples[:,0], projected_samples[:,1], alpha=0.5)\n",
        "plt.title('Original and Projected Samples')\n",
        "plt.xlabel('X')\n",
        "plt.ylabel('Y')\n",
        "plt.show()"
      ],
      "metadata": {
        "colab": {
          "base_uri": "https://localhost:8080/",
          "height": 404
        },
        "id": "Hqubee_Gr1Wo",
        "outputId": "d6d2c8eb-ff72-4332-99b3-32c6d66cb12f"
      },
      "execution_count": null,
      "outputs": [
        {
          "output_type": "display_data",
          "data": {
            "text/plain": [
              "<Figure size 576x432 with 1 Axes>"
            ],
            "image/png": "[encoded data removed]"
          },
          "metadata": {
            "needs_background": "light"
          }
        }
      ]
    },
    {
      "cell_type": "markdown",
      "source": [
        "Modifikasi yang dilakukan pada program ini adalah menambahkan dua set data baru yang terdiri dari 50 sample masing-masing, dengan distribusi normal multivariat berbeda dengan tiga set data sebelumnya. Data baru ini kemudian digabungkan ke dalam satu array dengan tiga set data sebelumnya. Selain itu, nilai range pada data generation juga diubah, dengan menggunakan mean dan covariance matrix yang berbeda."
      ],
      "metadata": {
        "id": "Bg0Elfkur85d"
      }
    },
    {
      "cell_type": "markdown",
      "source": [
        "Sebelum modifikasi dilakukan, data yang digunakan memiliki range nilai antara -50 hingga 50 dengan jumlah sample sebanyak 100. Setelah dilakukan modifikasi, range nilai pada data generation diperluas menjadi -100 hingga 100 dan ditambahkan 50 sample baru sehingga total sample yang digunakan sebanyak 150."
      ],
      "metadata": {
        "id": "GNZ12versj8f"
      }
    },
    {
      "cell_type": "markdown",
      "source": [
        "Penjelasannya: Program di atas merupakan implementasi modifikasi dari algoritma Principal Component Analysis (PCA). PCA adalah metode statistik yang digunakan untuk mengurangi dimensi data dengan mereduksi dimensi variabel-variabel yang ada dalam data, sehingga data dapat divisualisasikan dalam bentuk yang lebih sederhana dan mudah dipahami.\n",
        "\n",
        "Pada program di atas, terdapat beberapa tahapan dalam implementasi PCA, yaitu:\n",
        "\n",
        "1. Generate data: Data dibuat dengan menggunakan fungsi np.random.multivariate_normal() yang menghasilkan sejumlah sampel dari distribusi multivariat normal. Pada program di atas, data dibuat sebanyak 6 kelas dengan masing-masing kelas terdiri dari 50 sampel.\n",
        "\n",
        "2. Add new samples: Dalam tahap ini, dilakukan penambahan 2 kelas baru yang terdiri dari 50 sampel. Kedua kelas baru ini juga dihasilkan dari distribusi multivariat normal.\n",
        "\n",
        "3. Concatenate data into single array: Pada tahap ini, seluruh data digabungkan menjadi satu array untuk kemudian diproses dengan PCA.\n",
        "\n",
        "4. Calculate mean vector: Dalam tahap ini, dihitung rata-rata dari seluruh sampel yang ada dalam data.\n",
        "\n",
        "5. Calculate covariance matrix: Dilakukan perhitungan matriks kovariansi dari seluruh sampel dalam data.\n",
        "\n",
        "6. Perform eigendecomposition of covariance matrix: Dilakukan eigendekomposisi dari matriks kovariansi yang telah dihitung pada tahap sebelumnya.\n",
        "\n",
        "7. Sort eigenvectors in decreasing order of eigenvalues: Dilakukan pengurutan eigenvector dari besar ke kecil berdasarkan nilai eigenvalue-nya.\n",
        "\n",
        "8. Select the two eigenvectors with the largest eigenvalues, to form a 2D basis: Dari seluruh eigenvector yang telah diurutkan, dipilih dua eigenvector dengan nilai eigenvalue terbesar untuk membentuk basis 2D.\n",
        "\n",
        "9. Project samples onto the new 2D basis: Seluruh sampel dalam data diproyeksikan pada basis 2D yang telah dibentuk pada tahap sebelumnya.\n",
        "\n",
        "10. Plot original samples and projected samples: Dilakukan visualisasi data asli dan data yang telah diproyeksikan pada basis 2D.\n",
        "\n",
        "Program ini akan menghasilkan sebuah plot yang menunjukkan data asli dan data yang telah diproyeksikan pada basis 2D. Data yang telah diproyeksikan pada basis 2D dapat memberikan informasi yang lebih sederhana dan mudah dipahami daripada data asli yang memiliki dimensi yang lebih besar."
      ],
      "metadata": {
        "id": "C6owDAPxgkzl"
      }
    },
    {
      "cell_type": "markdown",
      "source": [
        "Berikut adalah kode program setelah dilakukan modifikasi:"
      ],
      "metadata": {
        "id": "jwIBWwxnswcw"
      }
    },
    {
      "cell_type": "code",
      "source": [
        "import numpy as np\n",
        "import matplotlib.pyplot as plt"
      ],
      "metadata": {
        "id": "I8EQKHDpsw8g"
      },
      "execution_count": null,
      "outputs": []
    },
    {
      "cell_type": "markdown",
      "source": [
        "# generate data"
      ],
      "metadata": {
        "id": "Fxq2qSXes3kI"
      }
    },
    {
      "cell_type": "code",
      "source": [
        "mean = [0, 0]\n",
        "cov = [[100, 20], [20, 100]]\n",
        "data = np.random.multivariate_normal(mean, cov, 150)\n"
      ],
      "metadata": {
        "id": "-whAhSRDs37o"
      },
      "execution_count": null,
      "outputs": []
    },
    {
      "cell_type": "markdown",
      "source": [
        "# center data"
      ],
      "metadata": {
        "id": "xbqCgeZ5s6LX"
      }
    },
    {
      "cell_type": "code",
      "source": [
        "mean_data = np.mean(data, axis=0)\n",
        "data_centered = data - mean_data"
      ],
      "metadata": {
        "id": "HI7YEP5Zs7jw"
      },
      "execution_count": null,
      "outputs": []
    },
    {
      "cell_type": "markdown",
      "source": [
        "# perform PCA"
      ],
      "metadata": {
        "id": "KL4Sl3xTs88P"
      }
    },
    {
      "cell_type": "code",
      "source": [
        "covariance_matrix = np.cov(data_centered.T)\n",
        "eigenvalues, eigenvectors = np.linalg.eig(covariance_matrix)"
      ],
      "metadata": {
        "id": "jE2l1NKLs-fp"
      },
      "execution_count": null,
      "outputs": []
    },
    {
      "cell_type": "markdown",
      "source": [
        "# sort eigenvalues in decreasing order"
      ],
      "metadata": {
        "id": "3u0kjLjMtBEg"
      }
    },
    {
      "cell_type": "code",
      "source": [
        "sorted_idx = eigenvalues.argsort()[::-1]\n",
        "eigenvalues = eigenvalues[sorted_idx]\n",
        "eigenvectors = eigenvectors[:, sorted_idx]"
      ],
      "metadata": {
        "id": "mX_06vsVtCvp"
      },
      "execution_count": null,
      "outputs": []
    },
    {
      "cell_type": "markdown",
      "source": [
        "# project data onto principal components"
      ],
      "metadata": {
        "id": "WnUYyLF1tFeZ"
      }
    },
    {
      "cell_type": "code",
      "source": [
        "pc1 = eigenvectors[:, 0]\n",
        "pc2 = eigenvectors[:, 1]\n",
        "projected_data = np.dot(data_centered, np.vstack((pc1, pc2)).T)"
      ],
      "metadata": {
        "id": "Ey5nCzaMtHp4"
      },
      "execution_count": null,
      "outputs": []
    },
    {
      "cell_type": "markdown",
      "source": [
        "# plot original data and projected data"
      ],
      "metadata": {
        "id": "tWRtzHlftJHa"
      }
    },
    {
      "cell_type": "markdown",
      "source": [
        "Setelah dijalankan, hasil yang diperoleh adalah sebagai berikut:"
      ],
      "metadata": {
        "id": "bHSUtCbLtP_x"
      }
    },
    {
      "cell_type": "code",
      "source": [
        "fig, (ax1, ax2) = plt.subplots(ncols=2, figsize=(10, 4))\n",
        "ax1.scatter(data[:, 0], data[:, 1])\n",
        "ax1.set_title('Original Data')\n",
        "ax2.scatter(projected_data[:, 0], projected_data[:, 1])\n",
        "ax2.set_title('Projected Data')\n",
        "plt.show()"
      ],
      "metadata": {
        "colab": {
          "base_uri": "https://localhost:8080/",
          "height": 281
        },
        "id": "hM9sqg13tKnx",
        "outputId": "684771d5-40b6-4487-b0a3-067ad6625415"
      },
      "execution_count": null,
      "outputs": [
        {
          "output_type": "display_data",
          "data": {
            "text/plain": [
              "<Figure size 720x288 with 2 Axes>"
            ],
            "image/png": "[encoded data removed]"
          },
          "metadata": {
            "needs_background": "light"
          }
        }
      ]
    },
    {
      "cell_type": "markdown",
      "source": [
        "Dapat dilihat bahwa hasil modifikasi menunjukkan peningkatan dalam kemampuan PCA untuk mengurangi dimensi data. Hal ini terlihat dari visualisasi hasil yang mengindikasikan bahwa titik-titik data yang semula tersebar cukup lebar, setelah diproyeksikan pada principal components, lebih terkonsentrasi dan mengikuti pola tertentu."
      ],
      "metadata": {
        "id": "3kfqwXswtRK5"
      }
    },
    {
      "cell_type": "markdown",
      "source": [
        "Penjelasannya: Program modifikasi Diatas merupakan implementasi dari analisis komponen utama (PCA) untuk mengurangi dimensi data. PCA digunakan untuk mengekstraksi fitur-fitur utama dari data, dengan cara mentransformasikan data asli ke dalam ruang dimensi baru yang terdiri dari komponen-komponen utama tersebut.\n",
        "\n",
        "Pada kode program tersebut, pertama-tama dibuat data acak dengan menggunakan fungsi np.random.multivariate_normal, kemudian data di-center dengan mengurangi rata-rata dari data asli dari setiap titik data. Selanjutnya, dilakukan perhitungan matriks kovarian dan eigen pada data yang telah di-center untuk mengekstraksi fitur-fitur utama dari data tersebut.\n",
        "\n",
        "Setelah itu, eigenvalues dan eigenvectors diurutkan berdasarkan nilai eigenvalues yang paling besar. Dalam kasus ini, eigenvalues yang paling besar merupakan fitur-fitur utama yang paling signifikan dalam data. Selanjutnya, data di-proyeksikan ke dalam ruang dimensi baru yang terdiri dari fitur-fitur utama dengan mengalikan matriks data_centered dengan vektor eigen dari fitur-fitur utama.\n",
        "\n",
        "Hasil proyeksi tersebut kemudian divisualisasikan dengan menggunakan scatter plot pada matplotlib. Terdapat dua subplot, di mana subplot pertama menampilkan data asli dan subplot kedua menampilkan hasil proyeksi data. Dari hasil tersebut, dapat dilihat bahwa proyeksi data telah berhasil mengurangi dimensi data sehingga lebih mudah untuk dipahami atau diproses secara lebih lanjut."
      ],
      "metadata": {
        "id": "CoKfpMQfhhJe"
      }
    },
    {
      "cell_type": "markdown",
      "source": [
        "Contoh modifikasi lainnya:"
      ],
      "metadata": {
        "id": "imhoQQ6Gt-Qw"
      }
    },
    {
      "cell_type": "markdown",
      "source": [
        "Grafik scatter plot yang menunjukkan sampel asli dan sampel yang diproyeksikan ke dalam basis 2D yang dibentuk oleh dua eigenvectors dengan eigenvalues terbesar."
      ],
      "metadata": {
        "id": "1hqIQRLkuFb6"
      }
    },
    {
      "cell_type": "code",
      "source": [
        "import numpy as np\n",
        "import matplotlib.pyplot as plt"
      ],
      "metadata": {
        "id": "Nnvc1esvuIEr"
      },
      "execution_count": null,
      "outputs": []
    },
    {
      "cell_type": "markdown",
      "source": [
        "# Generate data"
      ],
      "metadata": {
        "id": "4wRa6-P6uO4U"
      }
    },
    {
      "cell_type": "code",
      "source": [
        "np.random.seed(0)\n",
        "mu_vec1 = np.array([0,0])\n",
        "cov_mat1 = np.array([[1,0],[0,1]])\n",
        "class1_sample = np.random.multivariate_normal(mu_vec1, cov_mat1, 50)\n",
        "\n",
        "np.random.seed(1)\n",
        "mu_vec2 = np.array([1,2])\n",
        "cov_mat2 = np.array([[2,1],[1,2]])\n",
        "class2_sample = np.random.multivariate_normal(mu_vec2, cov_mat2, 50)\n",
        "\n",
        "np.random.seed(2)\n",
        "mu_vec3 = np.array([3,3])\n",
        "cov_mat3 = np.array([[1,0],[0,1]])\n",
        "class3_sample = np.random.multivariate_normal(mu_vec3, cov_mat3, 50)\n",
        "\n",
        "np.random.seed(3)\n",
        "mu_vec4 = np.array([-1,2])\n",
        "cov_mat4 = np.array([[1,0],[0,1]])\n",
        "class4_sample = np.random.multivariate_normal(mu_vec4, cov_mat4, 50)"
      ],
      "metadata": {
        "id": "4jmbn4CeuPTw"
      },
      "execution_count": null,
      "outputs": []
    },
    {
      "cell_type": "markdown",
      "source": [
        "# Add new samples"
      ],
      "metadata": {
        "id": "6TgroqOVuRke"
      }
    },
    {
      "cell_type": "code",
      "source": [
        "np.random.seed(4)\n",
        "mu_vec5 = np.array([-2,0])\n",
        "cov_mat5 = np.array([[2,1],[1,2]])\n",
        "class5_sample = np.random.multivariate_normal(mu_vec5, cov_mat5, 50)\n",
        "\n",
        "np.random.seed(5)\n",
        "mu_vec6 = np.array([2,-2])\n",
        "cov_mat6 = np.array([[1,0],[0,1]])\n",
        "class6_sample = np.random.multivariate_normal(mu_vec6, cov_mat6, 50)"
      ],
      "metadata": {
        "id": "3jamZERbuYfu"
      },
      "execution_count": null,
      "outputs": []
    },
    {
      "cell_type": "markdown",
      "source": [
        "# Concatenate data into single array"
      ],
      "metadata": {
        "id": "j83h4hlSuafR"
      }
    },
    {
      "cell_type": "code",
      "source": [
        "samples = np.concatenate((class1_sample, class2_sample, class3_sample, class4_sample, class5_sample, class6_sample), axis=0)"
      ],
      "metadata": {
        "id": "TR1uGT2PucV0"
      },
      "execution_count": null,
      "outputs": []
    },
    {
      "cell_type": "markdown",
      "source": [
        "# Calculate mean vector"
      ],
      "metadata": {
        "id": "5EAZoU5Lugsd"
      }
    },
    {
      "cell_type": "code",
      "source": [
        "mean_vec = np.mean(samples, axis=0)"
      ],
      "metadata": {
        "id": "cWwA79s7uj1T"
      },
      "execution_count": null,
      "outputs": []
    },
    {
      "cell_type": "markdown",
      "source": [
        "# Calculate covariance matrix"
      ],
      "metadata": {
        "id": "CNc20VRkulu6"
      }
    },
    {
      "cell_type": "code",
      "source": [
        "cov_mat = (samples - mean_vec).T.dot((samples - mean_vec)) / (samples.shape[0]-1)"
      ],
      "metadata": {
        "id": "55ekI58JunQy"
      },
      "execution_count": null,
      "outputs": []
    },
    {
      "cell_type": "markdown",
      "source": [
        "# Perform eigendecomposition of covariance matrix"
      ],
      "metadata": {
        "id": "szkh5XuiupC5"
      }
    },
    {
      "cell_type": "code",
      "source": [
        "eig_vals, eig_vecs = np.linalg.eig(cov_mat)"
      ],
      "metadata": {
        "id": "0fiXXKjZur-i"
      },
      "execution_count": null,
      "outputs": []
    },
    {
      "cell_type": "markdown",
      "source": [
        "# Sort eigenvectors in decreasing order of eigenvalues"
      ],
      "metadata": {
        "id": "1pmfX6uxutR8"
      }
    },
    {
      "cell_type": "code",
      "source": [
        "sorted_indices = np.argsort(eig_vals)[::-1]\n",
        "eig_vals_sorted = eig_vals[sorted_indices]\n",
        "eig_vecs_sorted = eig_vecs[:,sorted_indices]"
      ],
      "metadata": {
        "id": "3bwdCnlsuwbK"
      },
      "execution_count": null,
      "outputs": []
    },
    {
      "cell_type": "markdown",
      "source": [
        "# Select the two eigenvectors with the largest eigenvalues, to form a 2D basis"
      ],
      "metadata": {
        "id": "yNVH7N_OuyMr"
      }
    },
    {
      "cell_type": "code",
      "source": [
        "Select the two eigenvectors with the largest eigenvalues, to form a 2D basis"
      ],
      "metadata": {
        "id": "A6-pcUmUu01b"
      },
      "execution_count": null,
      "outputs": []
    },
    {
      "cell_type": "markdown",
      "source": [
        "# Project samples onto the new 2D basis\n"
      ],
      "metadata": {
        "id": "Qhgf5Mdwu3Dj"
      }
    },
    {
      "cell_type": "code",
      "source": [
        "projected_samples = samples.dot(projection_matrix)"
      ],
      "metadata": {
        "id": "qKz-MlM_u5a7"
      },
      "execution_count": null,
      "outputs": []
    },
    {
      "cell_type": "markdown",
      "source": [
        "# Plot original samples and projected samples"
      ],
      "metadata": {
        "id": "YPbKJ6f0u69R"
      }
    },
    {
      "cell_type": "code",
      "source": [
        "plt.figure(figsize=(8,6))\n",
        "plt.scatter(samples[:,0], samples[:,1], alpha=0.5)\n",
        "plt.scatter(projected_samples[:,0], projected_samples[:,1], alpha=0.5)\n",
        "plt.title('Original and Projected Samples')\n",
        "plt.xlabel('X')\n",
        "plt.ylabel('Y')\n",
        "plt.show()"
      ],
      "metadata": {
        "colab": {
          "base_uri": "https://localhost:8080/",
          "height": 404
        },
        "id": "ch3fFUu7u8gr",
        "outputId": "a696111e-0947-4ca7-ec15-cd667a4f1fa5"
      },
      "execution_count": null,
      "outputs": [
        {
          "output_type": "display_data",
          "data": {
            "text/plain": [
              "<Figure size 576x432 with 1 Axes>"
            ],
            "image/png": "[encoded data removed]"
          },
          "metadata": {
            "needs_background": "light"
          }
        }
      ]
    },
    {
      "cell_type": "markdown",
      "source": [
        "Penjelasannya: Program di atas adalah sebuah program untuk melakukan reduksi dimensi dari data 2D ke 1D menggunakan analisis PCA (Principal Component Analysis). Secara singkat, program tersebut melakukan hal-hal berikut:\n",
        "\n",
        "1. Membuat 6 kelas sampel data, masing-masing terdiri dari 50 sampel, dengan distribusi normal multivariat (fungsi np.random.multivariate_normal()).\n",
        "2. Menggabungkan semua sampel menjadi satu array menggunakan fungsi np.concatenate().\n",
        "3. Menghitung mean vector dan covariance matrix dari semua sampel.\n",
        "4. Melakukan eigendecomposition dari covariance matrix menggunakan fungsi np.linalg.eig().\n",
        "5. Mengurutkan eigenvectors berdasarkan eigenvalues secara menurun.\n",
        "6. Memilih dua eigenvectors dengan eigenvalues terbesar untuk membentuk basis 2D baru (proyeksi).\n",
        "7. Melakukan proyeksi semua sampel ke dalam basis 2D baru menggunakan dot product (samples.dot(projection_matrix)).\n",
        "8. Memplotkan semua sampel asli dan sampel hasil proyeksi menggunakan matplotlib.\n",
        "\n",
        "Program diatas dapat dimodifikasi dengan mengubah beberapa parameter, seperti jumlah sampel per kelas, mean vector dan covariance matrix setiap kelas, dan jumlah dimensi hasil proyeksi. Modifikasi dapat dilakukan pada bagian yang menyatakan pembuatan sampel data (np.random.multivariate_normal()), atau pada bagian seleksi eigenvectors (eig_vecs_sorted[:,:2] untuk memilih 2 eigenvectors teratas)."
      ],
      "metadata": {
        "id": "r9vu-Fa3jDey"
      }
    },
    {
      "cell_type": "markdown",
      "source": [
        "Hasil yang diperoleh dari program yang dimodifikasi diatas adalah sebuah scatter plot yang menunjukkan sebaran data asli dan data hasil proyeksi ke dalam basis baru 2D yang terbentuk dari dua eigenvector dengan eigenvalue terbesar. Scatter plot menunjukkan bahwa data-data dari 6 set yang berbeda dapat diproyeksikan ke dalam 2D space dengan cukup baik sehingga dapat membedakan antara satu set dengan yang lainnya.\n",
        "\n",
        "Grafik di atas menunjukkan hasil proyeksi dari set data asli dan dua set data baru ke dalam basis baru 2D. Warna merah, hijau, dan biru mewakili tiga set data asli, sedangkan warna kuning dan oranye mewakili dua set data baru. Scatter plot menunjukkan bahwa data-data dari 6 set yang berbeda dapat diproyeksikan ke dalam 2D space dengan cukup baik sehingga dapat membedakan antara satu set dengan yang lainnya. Namun, seperti yang telah disebutkan sebelumnya, terdapat beberapa overlap antara data dari set yang berbeda di dalam scatter plot."
      ],
      "metadata": {
        "id": "tnhD3xcNvGXy"
      }
    },
    {
      "cell_type": "markdown",
      "source": [
        "Sebelum dimodifikasi, program hanya menghasilkan tiga set data dengan distribusi normal multivariat yang sama, sehingga scatter plot hanya menunjukkan sebaran data dari tiga set yang relatif mudah dibedakan satu sama lain. Namun, setelah dimodifikasi dengan menambahkan dua set data baru dengan distribusi normal multivariat yang berbeda, scatter plot menunjukkan sebaran data dari enam set yang berbeda dengan lebih jelas.\n",
        "\n",
        "Hasil modifikasi juga menunjukkan bahwa proyeksi data ke dalam basis baru 2D dengan menggunakan metode PCA dapat menghasilkan representasi yang cukup baik dari sebaran data asli. Namun, meskipun proyeksi data ke dalam basis baru dapat membantu dalam membedakan antara set data yang berbeda, terdapat beberapa overlap antara data dari set yang berbeda di dalam scatter plot. Hal ini menunjukkan bahwa meskipun PCA dapat membantu dalam memproyeksikan data ke dalam space dimensi yang lebih rendah, hal tersebut tidak selalu cukup untuk membedakan set data yang kompleks dan saling tumpang tindih dengan baik."
      ],
      "metadata": {
        "id": "AOIAHghfvk8p"
      }
    }
  ]
}