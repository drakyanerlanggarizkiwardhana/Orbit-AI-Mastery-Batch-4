{
  "cells": [
    {
      "cell_type": "markdown",
      "metadata": {
        "id": "evrTRyoErpH0"
      },
      "source": [
        "# Module 2: Data Analytics with Python - Advanced Statistics"
      ]
    },
    {
      "cell_type": "markdown",
      "metadata": {
        "id": "GSYqik3rrpIA"
      },
      "source": [
        "## Lab 2.1: Advance Statistics\n"
      ]
    },
    {
      "cell_type": "markdown",
      "metadata": {
        "id": "q2eWlRu-rpIC"
      },
      "source": [
        "## Objevtive\n",
        "***\n",
        "- **Hypothesis testing**\n",
        "    - Level of significance\n",
        "    - One Tail Test\n",
        "    - Two-tailed test\n",
        "    - p-value\n",
        "    \n",
        "\n",
        "- **Compute the test statistic**\n",
        "\n",
        "     - z-Test\n",
        "         - One sampled test\n",
        "         - Two sampled test\n",
        "     - t-Test\n",
        "         - One sampled test\n",
        "         - Two sampled test\n",
        "         - Paired test\n",
        "     - Chi-Square Test\n",
        "     - ANOVA(Analysis Of Varience Test)\n",
        "\n",
        "\n"
      ]
    },
    {
      "cell_type": "markdown",
      "metadata": {
        "id": "dKG4MAPgjLDx"
      },
      "source": [
        "<br><br>\n",
        "## **z-Test in hypothesis testing**\n",
        "***\n",
        "\n",
        "   The z-test is a hypothesis test in which the z-statistic follows a normal distribution. The z-test is best used for greater-than-30 samples because, under the central limit theorem, as the number of samples gets larger, the samples are approximately normally distributed.\n",
        "    Z test is performed when standard deviation is known.\n",
        "\n",
        "**One Sample Z test:**\n",
        "    \n",
        "   In one sample z-test, we are checking one data group and deciding whether sample mean is equal to population mean or not.\n",
        "   Blood pressure can be measured with a person's arm or finger. The dataset used here has two columns which are the readings of systolic blood pressure of patients using these two methods. The two columns are named: armsys, fingsys.\n",
        "   \n",
        "  In the one sample z-test we are using armsys group and deciding whether the sample mean is same as the population mean or not.\n"
      ]
    },
    {
      "cell_type": "markdown",
      "metadata": {
        "id": "4VbeakaYrpIG"
      },
      "source": [
        "## **Hypothesis Testing**\n",
        "***\n",
        "Hypothesis testing or significance testing is a statistical method for testing a claim or hypothesis about a parameter in a population, using data measured in a sample.\n",
        "Hypothesis Testing is basically an assumption that we make about the population parameter. E.g., Average marks obtained by students is 60.\n",
        "\n",
        "Steps to follow in Hypothesis Testing:\n",
        "\n",
        "**1.\tState the hypothesis**\n",
        "\n",
        "We have two parameters here: Null Hypothesis and Alternate Hypothesis.\n",
        "The Null Hypothesis assumes that there is no relation between two variables i.e., one variable has no effect on another variable. The Null Hypothesis is a basic assumption made based on domain or problem knowledge.\n",
        "The alternative hypothesis is the hypothesis used in hypothesis testing that is contrary to the null hypothesis.\n",
        "NOTE: If the null hypothesis is rejected, then we accept the alternative hypothesis. If the null hypothesis is not rejected, then we do not accept the alternative hypothesis.\n",
        "\n",
        "**2.\tSet the criteria for a decision**\n",
        "\n",
        "To set the criteria for a decision, we state the level of significance for a test.\n",
        "Confidence level is something that how confident we are regarding the given statement. Generally, we won’t be 100% sure so it will be less than 100%. \n",
        "\n",
        "   Level of significance:\n",
        "        Refers to the degree of significance in which we accept or reject the null-hypothesis. Level of significance is denoted by α.\n",
        "        α= 1-confidence level\n",
        "\n",
        "   One Tail Test:\n",
        "\n",
        "        A test of a statistical hypothesis, where the region of rejection is on only one side of the sampling distribution, is called a one-tailed test.\n",
        "        Ex:  Average marks of students <= 40\n",
        "\n",
        "   Two-tailed test:\n",
        "\n",
        "        A two-tailed test is a statistical test in which the critical area of a distribution is two-sided and tests whether a sample is greater than or less than a certain range of values. If the sample being tested falls into either of the critical areas, the alternative hypothesis is accepted instead of the null hypothesis.\n",
        "        Example: Average marks of students! = 40 students\n",
        "\n",
        "   p-value:\n",
        "\n",
        "        A p value is used in hypothesis testing to help you support or reject the null hypothesis. The p value is the evidence against a null hypothesis. The smaller the p-value, the stronger the evidence that you should reject the null hypothesis.\n",
        "\n",
        "**NOTE: If your P value is less than the chosen significance level then you reject the null hypothesis i.e., accept that your sample gives reasonable evidence to support the alternative hypothesis.**\n",
        "<br><br>\n",
        "**3.\tCompute the test statistic**\n",
        "\n",
        "These are most widely used Tests for Hypothesis Testing.\n",
        "- Z Test\n",
        "- T Test\n",
        "- ANOVA Test\n",
        "- Chi-Square Test\n",
        "\n",
        "**4.\tMake a decision based on test results.**\n"
      ]
    },
    {
      "cell_type": "code",
      "execution_count": 1,
      "metadata": {
        "id": "iGYVNJ9aUTNH"
      },
      "outputs": [],
      "source": [
        "import pandas as pd\n",
        "from scipy import stats\n",
        "\n",
        "url = \"https://raw.githubusercontent.com/bluedataconsulting/AIMasteryProgram/main/Lab_Exercises/Module2/systolic%20blood%20pressure.csv\"\n",
        "df = pd.read_csv(url)\n",
        "\n"
      ]
    },
    {
      "cell_type": "code",
      "execution_count": 2,
      "metadata": {
        "colab": {
          "base_uri": "https://localhost:8080/",
          "height": 206
        },
        "id": "tHKfzYfLFAn_",
        "outputId": "1f746e80-ea80-43d9-e794-703c796b8842"
      },
      "outputs": [
        {
          "data": {
            "text/html": [
              "<div>\n",
              "<style scoped>\n",
              "    .dataframe tbody tr th:only-of-type {\n",
              "        vertical-align: middle;\n",
              "    }\n",
              "\n",
              "    .dataframe tbody tr th {\n",
              "        vertical-align: top;\n",
              "    }\n",
              "\n",
              "    .dataframe thead th {\n",
              "        text-align: right;\n",
              "    }\n",
              "</style>\n",
              "<table border=\"1\" class=\"dataframe\">\n",
              "  <thead>\n",
              "    <tr style=\"text-align: right;\">\n",
              "      <th></th>\n",
              "      <th>armsys</th>\n",
              "      <th>fingsys</th>\n",
              "    </tr>\n",
              "  </thead>\n",
              "  <tbody>\n",
              "    <tr>\n",
              "      <th>195</th>\n",
              "      <td>122</td>\n",
              "      <td>136</td>\n",
              "    </tr>\n",
              "    <tr>\n",
              "      <th>196</th>\n",
              "      <td>100</td>\n",
              "      <td>112</td>\n",
              "    </tr>\n",
              "    <tr>\n",
              "      <th>197</th>\n",
              "      <td>136</td>\n",
              "      <td>124</td>\n",
              "    </tr>\n",
              "    <tr>\n",
              "      <th>198</th>\n",
              "      <td>124</td>\n",
              "      <td>120</td>\n",
              "    </tr>\n",
              "    <tr>\n",
              "      <th>199</th>\n",
              "      <td>100</td>\n",
              "      <td>106</td>\n",
              "    </tr>\n",
              "  </tbody>\n",
              "</table>\n",
              "</div>"
            ],
            "text/plain": [
              "     armsys  fingsys\n",
              "195     122      136\n",
              "196     100      112\n",
              "197     136      124\n",
              "198     124      120\n",
              "199     100      106"
            ]
          },
          "execution_count": 2,
          "metadata": {},
          "output_type": "execute_result"
        }
      ],
      "source": [
        "df.tail(5)"
      ]
    },
    {
      "cell_type": "code",
      "execution_count": 3,
      "metadata": {
        "colab": {
          "base_uri": "https://localhost:8080/"
        },
        "id": "0fa8eKdAFgWi",
        "outputId": "fec560fe-45c1-4064-b51e-ee3cf64fb504"
      },
      "outputs": [
        {
          "name": "stdout",
          "output_type": "stream",
          "text": [
            "Mean   : 128.52\n",
            "Median : 125.0\n",
            "Min    : 79\n",
            "Max    : 220\n"
          ]
        }
      ],
      "source": [
        "print(\"Mean   : {}\".format(df[\"armsys\"].mean()))\n",
        "print(\"Median : {}\".format(df[\"armsys\"].median()))\n",
        "print(\"Min    : {}\".format(df[\"armsys\"].min()))\n",
        "print(\"Max    : {}\".format(df[\"armsys\"].max()))"
      ]
    },
    {
      "cell_type": "code",
      "execution_count": 4,
      "metadata": {
        "colab": {
          "base_uri": "https://localhost:8080/"
        },
        "id": "wW-sHSc_E2mV",
        "outputId": "5fd00b85-35e1-4a5e-dd02-acbd382078b4"
      },
      "outputs": [
        {
          "name": "stdout",
          "output_type": "stream",
          "text": [
            "0.032546442541153964\n",
            "Mean is not 125\n"
          ]
        }
      ],
      "source": [
        "from statsmodels.stats import weightstats as stests\n",
        "\n",
        "ztest, pval = stests.ztest(df['armsys'], value=125)#value = mean of 'armsys' under null hypothesis\n",
        "print(pval)\n",
        "\n",
        "if pval<0.05:                                # 0.05 is the value of α\n",
        "    print(\"Mean is not 125\")\n",
        "else:\n",
        "    print(\"Mean is 125\")\n",
        "\n",
        "import numpy as np"
      ]
    },
    {
      "cell_type": "markdown",
      "metadata": {
        "id": "tkSGSQP3rpIO"
      },
      "source": [
        "**Conclusion: Hence, we accept the alternative hypothesis.**"
      ]
    },
    {
      "cell_type": "markdown",
      "metadata": {
        "id": "woGhkzWApbfZ"
      },
      "source": [
        "<br><br>\n",
        "**Two Sample z-test**\n",
        "\n",
        "In two sample z-test, we are checking two independent data groups and deciding whether sample mean of two group is equal or not."
      ]
    },
    {
      "cell_type": "code",
      "execution_count": 5,
      "metadata": {
        "colab": {
          "base_uri": "https://localhost:8080/"
        },
        "id": "jXvFKFVnnLXX",
        "outputId": "acf09a2d-d489-4bd4-b21f-482ba764ea82"
      },
      "outputs": [
        {
          "name": "stdout",
          "output_type": "stream",
          "text": [
            "0.07954652069053099\n",
            "Mean of two samples is 0\n"
          ]
        }
      ],
      "source": [
        "import pandas as pd\n",
        "from scipy import stats\n",
        "\n",
        "url = \"https://raw.githubusercontent.com/bluedataconsulting/AIMasteryProgram/main/Lab_Exercises/Module2/systolic%20blood%20pressure.csv\"\n",
        "df = pd.read_csv(url)\n",
        "\n",
        "from statsmodels.stats import weightstats as stests\n",
        "\n",
        "ztest, pval = stests.ztest(x1=df['armsys'], x2=df['fingsys'], value=0,alternative='two-sided')\n",
        "print(pval)\n",
        "\n",
        "if pval<0.05:\n",
        "  print(\"Mean of two samples is not 0\")\n",
        "else:\n",
        "  print(\"Mean of two samples is 0\")"
      ]
    },
    {
      "cell_type": "markdown",
      "metadata": {
        "id": "mCxruYYdrpIT"
      },
      "source": [
        "**Conclusion: Hence, we accept the null hypothesis.**"
      ]
    },
    {
      "cell_type": "markdown",
      "metadata": {
        "id": "7kLXDxD5wdWk"
      },
      "source": [
        "<br><br>\n",
        "## **t-Test in hypothesis testing**\n",
        "***\n",
        "\n",
        "A t-Test is a type of inferential statistic which is used to determine if there is a significant difference between the means of two groups which may be related in certain features.\n",
        "The t-Test is used to compare the mean of two given groups. The sample follows the Gaussian distribution. A t-Test is used when parameters like the standard deviation of the population are not known.\n"
      ]
    },
    {
      "cell_type": "markdown",
      "metadata": {
        "id": "-wjjAbyAwjyt"
      },
      "source": [
        "\n",
        " **One sample t-Test**\n",
        " \n",
        "The mass of a sample of n=20 are m = 8.8, 6.6, 9.5, 11.2, 10.2, 7.4, 8.0, 9.6, 9.9, 9.0, 7.6, 7.4, 10.4, 11.1, 8.5, 10.0, 11.6, 10.7, 10.3, and 7.0 g.We need to check if there is any difference between the average mass of this sample and the average mass of all acorns of μ = 10.0 g."
      ]
    },
    {
      "cell_type": "code",
      "execution_count": 6,
      "metadata": {
        "colab": {
          "base_uri": "https://localhost:8080/"
        },
        "id": "GTB70LYDQ_z9",
        "outputId": "86b190a2-d5eb-445a-8d3b-87af067653c3"
      },
      "outputs": [
        {
          "name": "stdout",
          "output_type": "stream",
          "text": [
            "t-statistic:  -2.2491611580763977\n",
            "t =  -2.2491611580763973 , p =  0.03655562279112415\n",
            "Reject null hypothesis\n"
          ]
        }
      ],
      "source": [
        "#One Sample t test\n",
        "x = [8.8, 6.6, 9.5, 11.2, 10.2, 7.4, 8.0, 9.6, 9.9, 9.0,\n",
        "     7.6, 7.4, 10.4, 11.1, 8.5, 10.0, 11.6, 10.7, 10.3, 7.0]\n",
        "mu = 10\n",
        "t_critical = 2.093\n",
        "x_bar = np.array(x).mean()\n",
        "s = np.array(x).std(ddof=1) # subtract 1 from N to get unbiased estimate of sample standard deviation\n",
        "N = len(x)\n",
        "SE = s/np.sqrt(N)\n",
        "t = (x_bar - mu)/SE\n",
        "print(\"t-statistic: \",t)\n",
        "# A one sample t-test that gives you the p-value too can be done with scipy as follows:\n",
        "t, p = stats.ttest_1samp(x, mu)\n",
        "print(\"t = \", t, \", p = \", p)\n",
        "if p<0.05:\n",
        "    print(\"Reject null hypothesis\")\n",
        "else:\n",
        "    print(\"Accept null hypothesis\")\n"
      ]
    },
    {
      "cell_type": "markdown",
      "metadata": {
        "id": "H2fr6kT8rpIZ"
      },
      "source": [
        "**Conclusion: We reject the null hypothesis.**"
      ]
    },
    {
      "cell_type": "markdown",
      "metadata": {
        "id": "bnH_be9GaTn1"
      },
      "source": [
        "<br><br>\n",
        "### Two sample t-test\n",
        "***\n",
        " \n",
        "Null Hypothesis: There is no difference between the two-sample means\n",
        "\n",
        "Alternate Hypothesis: There is a difference between the two-sample means\n",
        "\n",
        "Suppose we take N1 = 20 samples and N2 = 30 samples of the weight of acorns\n"
      ]
    },
    {
      "cell_type": "code",
      "execution_count": 7,
      "metadata": {
        "colab": {
          "base_uri": "https://localhost:8080/"
        },
        "id": "YcRIewgxNAVM",
        "outputId": "8ed477ef-0ed3-4f4b-d301-861b45f34724"
      },
      "outputs": [
        {
          "name": "stdout",
          "output_type": "stream",
          "text": [
            "t-statistic -3.5981947686898033\n",
            "t =  -3.5981947686898033 , p_twosided =  0.0007560337478801464 , p_onesided = 0.0003780168739400732\n",
            "Reject null hypothesis\n"
          ]
        }
      ],
      "source": [
        "x1 = [10.8, 10.0, 8.2, 9.9, 11.6, 10.1, 11.3, 10.3, 10.7, 9.7, \n",
        "      7.8, 9.6, 9.7, 11.6, 10.3, 9.8, 12.3, 11.0, 10.4, 10.4]\n",
        "\n",
        "x2 = [7.8, 7.5, 9.5, 11.7, 8.1, 8.8, 8.8, 7.7, 9.7, 7.0, \n",
        "      9.0, 9.7, 11.3, 8.7, 8.8, 10.9, 10.3, 9.6, 8.4, 6.6,\n",
        "      7.2, 7.6, 11.5, 6.6, 8.6, 10.5, 8.4, 8.5, 10.2, 9.2]\n",
        "\n",
        "t_critical = 1.677    #given\n",
        "\n",
        "X1 = len(x1)\n",
        "X2 = len(x2)\n",
        "\n",
        "t1 = X1-1\n",
        "t2 = X2-1\n",
        "\n",
        "df = t1+t2\n",
        "\n",
        "s1 = np.std(x1,ddof=1)\n",
        "s2 = np.std(x2,ddof=1)\n",
        "\n",
        "x1_bar = np.mean(x1)\n",
        "x2_bar = np.mean(x2)\n",
        "sp = np.sqrt((t1*s1**2 + t2*s2**2)/df)\n",
        "se = sp*np.sqrt(1/X1 + 1/X2)\n",
        "t = (x2_bar - x1_bar)/(se)\n",
        "print(\"t-statistic\", t)\n",
        "\n",
        "# NOTE: the p-value given is two-sided so the one-sided p value would be p/2\n",
        "t, p_twosided = stats.ttest_ind(x2, x1, equal_var=True)\n",
        "print(\"t = \",t, \", p_twosided = \", p_twosided, \", p_onesided =\", p_twosided/2)\n",
        "\n",
        "if p<0.05:\n",
        "    print(\"Reject null hypothesis\")\n",
        "else:\n",
        "    print(\"Accept null hypothesis\")\n",
        "\n"
      ]
    },
    {
      "cell_type": "markdown",
      "metadata": {
        "id": "enXiGqFcrpIb"
      },
      "source": [
        "\n",
        "**Conclusion: We reject the null hypothesis.**\n",
        "<br><br>"
      ]
    },
    {
      "cell_type": "markdown",
      "metadata": {
        "id": "bjft27TqoJ5k"
      },
      "source": [
        "### Paired t-test\n",
        "***\n",
        "\n",
        "The paired sample t-test is also called a dependent sample t-test. Let’s take an example from a blood pressure dataset. We need to check the sample means of blood pressure of an individual before and after treatment.\n",
        "\n",
        "Null hypothesis: The mean difference between the two samples is 0.\n",
        "\n",
        "Alternate hypothesis: The mean difference between the two samples is not 0.\n"
      ]
    },
    {
      "cell_type": "code",
      "execution_count": 8,
      "metadata": {
        "colab": {
          "base_uri": "https://localhost:8080/"
        },
        "id": "jLSssppDxkYv",
        "outputId": "e6703f4c-e32a-49a7-93b6-93c5dbea3203"
      },
      "outputs": [
        {
          "name": "stdout",
          "output_type": "stream",
          "text": [
            "reject null hypothesis\n"
          ]
        }
      ],
      "source": [
        "import pandas as pd\n",
        "from scipy import stats\n",
        "\n",
        "x1 = [10.8, 10.0, 8.2, 9.9, 11.6, 10.1, 11.3, 10.3, 10.7, 9.7, \n",
        "      7.8, 9.6, 9.7, 11.6, 10.3, 9.8, 12.3, 11.0, 10.4, 10.4]\n",
        "\n",
        "x2 = [7.8, 7.5, 9.5, 11.7, 8.1, 8.8, 8.8, 7.7, 9.7, 7.0, \n",
        "      9.0, 9.7, 11.3, 8.7, 8.8, 10.9, 10.3, 9.6, 8.4, 6.6]\n",
        "\n",
        "ttest,pval = stats.ttest_rel(x1,x2)\n",
        "\n",
        "if pval<0.05:\n",
        "    print(\"reject null hypothesis\")\n",
        "else:\n",
        "    print(\"accept null hypothesis\")\n"
      ]
    },
    {
      "cell_type": "markdown",
      "metadata": {
        "id": "8S633S_brpId"
      },
      "source": [
        "**Conclusion: Here, we reject Null Hypothesis.**"
      ]
    },
    {
      "cell_type": "markdown",
      "metadata": {
        "id": "-QuAJNApDBzZ"
      },
      "source": [
        "\n",
        "### **Chi-Square Test**\n",
        "***\n",
        "\n",
        "A chi-square statistic is one way to show a relationship between twocategoricalvariables.The distribution of the chi-square statistic is called thechi-square distribution. Thechi-squaredistributionis defined by the following probability density function:\n",
        "\n",
        "This tests whether two categorical variables are related or independent.\n",
        "\n",
        "Here we are taking a 2x3 table for chi-square test.\n",
        "\n",
        "\n"
      ]
    },
    {
      "cell_type": "code",
      "execution_count": 9,
      "metadata": {
        "id": "fzV4FSNvDSDz"
      },
      "outputs": [
        {
          "name": "stdout",
          "output_type": "stream",
          "text": [
            "P value: 0.873028283380073\n",
            "Independent\n"
          ]
        }
      ],
      "source": [
        "from scipy.stats import chi2_contingency\n",
        "table = [[10, 20, 30],[6,  9,  17]]\n",
        "stat, p, dof, expected = chi2_contingency(table)\n",
        "print('P value:', p)\n",
        "if p > 0.05:\n",
        "    print('Independent')\n",
        "else:\n",
        "    print('Dependent')"
      ]
    },
    {
      "cell_type": "markdown",
      "metadata": {
        "id": "3imxmXyqDS_K"
      },
      "source": [
        "**Conclusion: As p>0.05, the variables are independent of each other.**"
      ]
    },
    {
      "cell_type": "markdown",
      "metadata": {
        "id": "AS_-tvoHEUHh"
      },
      "source": [
        "### **ANOVA (Analysis Of Variance) F-test**\n",
        "***\n",
        "\n",
        "This test works well when dealing with two groups, but sometimes we want to compare more than two groups at the same time. \n",
        "The Analysis of Variance (ANOVA) is a statistical inference test that lets you compare multiple groups at the same time.\n",
        "F = Variability between groups or Variability within groups\n",
        "\n",
        "Unlike the z and t-distributions, the F-distribution does not have any negative values because between and within-group variability are always positive due to squaring each deviation.\n",
        "\n",
        "**One Way F-test (Anova)**\n",
        "\n",
        "It tells whether two or more groups are similar or not based on their mean similarity and f-score.\n",
        "\n",
        "p> 0.05 implies they are similar\n",
        "\n",
        "p< 0.05 implies they are not similar\n"
      ]
    },
    {
      "cell_type": "code",
      "execution_count": 10,
      "metadata": {
        "id": "otRCPCRAEVJN"
      },
      "outputs": [
        {
          "name": "stdout",
          "output_type": "stream",
          "text": [
            "            df    sum_sq   mean_sq         F   PR(>F)\n",
            "group      2.0   3.76634  1.883170  4.846088  0.01591\n",
            "Residual  27.0  10.49209  0.388596       NaN      NaN\n"
          ]
        }
      ],
      "source": [
        "%matplotlib inline\n",
        "import pandas as pd\n",
        "import statsmodels.api as sm\n",
        "from statsmodels.formula.api import ols\n",
        "url = \"https://raw.githubusercontent.com/bluedataconsulting/AIMasteryProgram/main/Lab_Exercises/Module2/PlantGrowth.csv\"\n",
        "data = pd.read_csv(url)\n",
        "mod = ols('weight ~ group', data=data).fit()      #we use ols to set up model\n",
        "aov_table = sm.stats.anova_lm(mod,type=2)\n",
        "\n",
        "print(aov_table)"
      ]
    },
    {
      "cell_type": "markdown",
      "metadata": {
        "id": "APwx7yNSEYSY"
      },
      "source": [
        "**Conclusion: From AOV_Table we observe that value of p=0.01591 > 0.05 and therefore both groups are similar.**"
      ]
    },
    {
      "cell_type": "markdown",
      "metadata": {
        "id": "DDrZFH9HrpIe"
      },
      "source": [
        "### Thank You !!!\n"
      ]
    },
    {
      "cell_type": "code",
      "execution_count": null,
      "metadata": {
        "id": "Ru7cxOmurpIe"
      },
      "outputs": [],
      "source": []
    }
  ],
  "metadata": {
    "colab": {
      "collapsed_sections": [],
      "name": "Module2_Section2_Lab1_Advance_Statistics.ipynb",
      "provenance": []
    },
    "kernelspec": {
      "display_name": "Python 3.8.13 ('tf26p38gpu-riset')",
      "language": "python",
      "name": "python3"
    },
    "language_info": {
      "codemirror_mode": {
        "name": "ipython",
        "version": 3
      },
      "file_extension": ".py",
      "mimetype": "text/x-python",
      "name": "python",
      "nbconvert_exporter": "python",
      "pygments_lexer": "ipython3",
      "version": "3.8.13"
    },
    "vscode": {
      "interpreter": {
        "hash": "1f25b7125f6d016f1a2196ebcb79236770b2f4743b020ee153e77d05bf60e445"
      }
    }
  },
  "nbformat": 4,
  "nbformat_minor": 0
}
