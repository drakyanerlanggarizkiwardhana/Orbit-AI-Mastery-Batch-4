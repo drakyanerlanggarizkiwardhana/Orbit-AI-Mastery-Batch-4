{
  "cells": [
    {
      "cell_type": "code",
      "execution_count": null,
      "metadata": {
        "id": "7EOhMJuumxzg"
      },
      "outputs": [],
      "source": [
        "import pandas as pd\n",
        "from mlxtend.preprocessing import TransactionEncoder\n",
        "from mlxtend.frequent_patterns import apriori, association_rules"
      ]
    },
    {
      "cell_type": "code",
      "source": [
        "# Load the dataset\n",
        "df = pd.read_csv('BreadBasket_DMS.csv')\n",
        "df.info()"
      ],
      "metadata": {
        "colab": {
          "base_uri": "https://localhost:8080/"
        },
        "id": "lAKVx7bDpR6f",
        "outputId": "7f0e7a5a-c4b5-490a-810f-54cfca2a4918"
      },
      "execution_count": null,
      "outputs": [
        {
          "output_type": "stream",
          "name": "stdout",
          "text": [
            "<class 'pandas.core.frame.DataFrame'>\n",
            "RangeIndex: 21293 entries, 0 to 21292\n",
            "Data columns (total 4 columns):\n",
            " #   Column       Non-Null Count  Dtype \n",
            "---  ------       --------------  ----- \n",
            " 0   Date         21293 non-null  object\n",
            " 1   Time         21293 non-null  object\n",
            " 2   Transaction  21293 non-null  int64 \n",
            " 3   Item         21293 non-null  object\n",
            "dtypes: int64(1), object(3)\n",
            "memory usage: 665.5+ KB\n"
          ]
        }
      ]
    },
    {
      "cell_type": "code",
      "source": [
        "df.head()"
      ],
      "metadata": {
        "colab": {
          "base_uri": "https://localhost:8080/",
          "height": 206
        },
        "id": "Hn7hEx94pa1l",
        "outputId": "d8c85729-b84a-4012-b3cc-3502543909dd"
      },
      "execution_count": null,
      "outputs": [
        {
          "output_type": "execute_result",
          "data": {
            "text/plain": [
              "         Date      Time  Transaction           Item\n",
              "0  2016-10-30  09:58:11            1          Bread\n",
              "1  2016-10-30  10:05:34            2   Scandinavian\n",
              "2  2016-10-30  10:05:34            2   Scandinavian\n",
              "3  2016-10-30  10:07:57            3  Hot chocolate\n",
              "4  2016-10-30  10:07:57            3            Jam"
            ],
            "text/html": [
              "\n",
              "  <div id=\"df-aad075c6-9593-4032-816f-be8fe2f0714f\">\n",
              "    <div class=\"colab-df-container\">\n",
              "      <div>\n",
              "<style scoped>\n",
              "    .dataframe tbody tr th:only-of-type {\n",
              "        vertical-align: middle;\n",
              "    }\n",
              "\n",
              "    .dataframe tbody tr th {\n",
              "        vertical-align: top;\n",
              "    }\n",
              "\n",
              "    .dataframe thead th {\n",
              "        text-align: right;\n",
              "    }\n",
              "</style>\n",
              "<table border=\"1\" class=\"dataframe\">\n",
              "  <thead>\n",
              "    <tr style=\"text-align: right;\">\n",
              "      <th></th>\n",
              "      <th>Date</th>\n",
              "      <th>Time</th>\n",
              "      <th>Transaction</th>\n",
              "      <th>Item</th>\n",
              "    </tr>\n",
              "  </thead>\n",
              "  <tbody>\n",
              "    <tr>\n",
              "      <th>0</th>\n",
              "      <td>2016-10-30</td>\n",
              "      <td>09:58:11</td>\n",
              "      <td>1</td>\n",
              "      <td>Bread</td>\n",
              "    </tr>\n",
              "    <tr>\n",
              "      <th>1</th>\n",
              "      <td>2016-10-30</td>\n",
              "      <td>10:05:34</td>\n",
              "      <td>2</td>\n",
              "      <td>Scandinavian</td>\n",
              "    </tr>\n",
              "    <tr>\n",
              "      <th>2</th>\n",
              "      <td>2016-10-30</td>\n",
              "      <td>10:05:34</td>\n",
              "      <td>2</td>\n",
              "      <td>Scandinavian</td>\n",
              "    </tr>\n",
              "    <tr>\n",
              "      <th>3</th>\n",
              "      <td>2016-10-30</td>\n",
              "      <td>10:07:57</td>\n",
              "      <td>3</td>\n",
              "      <td>Hot chocolate</td>\n",
              "    </tr>\n",
              "    <tr>\n",
              "      <th>4</th>\n",
              "      <td>2016-10-30</td>\n",
              "      <td>10:07:57</td>\n",
              "      <td>3</td>\n",
              "      <td>Jam</td>\n",
              "    </tr>\n",
              "  </tbody>\n",
              "</table>\n",
              "</div>\n",
              "      <button class=\"colab-df-convert\" onclick=\"convertToInteractive('df-aad075c6-9593-4032-816f-be8fe2f0714f')\"\n",
              "              title=\"Convert this dataframe to an interactive table.\"\n",
              "              style=\"display:none;\">\n",
              "        \n",
              "  <svg xmlns=\"http://www.w3.org/2000/svg\" height=\"24px\"viewBox=\"0 0 24 24\"\n",
              "       width=\"24px\">\n",
              "    <path d=\"M0 0h24v24H0V0z\" fill=\"none\"/>\n",
              "    <path d=\"M18.56 5.44l.94 2.06.94-2.06 2.06-.94-2.06-.94-.94-2.06-.94 2.06-2.06.94zm-11 1L8.5 8.5l.94-2.06 2.06-.94-2.06-.94L8.5 2.5l-.94 2.06-2.06.94zm10 10l.94 2.06.94-2.06 2.06-.94-2.06-.94-.94-2.06-.94 2.06-2.06.94z\"/><path d=\"M17.41 7.96l-1.37-1.37c-.4-.4-.92-.59-1.43-.59-.52 0-1.04.2-1.43.59L10.3 9.45l-7.72 7.72c-.78.78-.78 2.05 0 2.83L4 21.41c.39.39.9.59 1.41.59.51 0 1.02-.2 1.41-.59l7.78-7.78 2.81-2.81c.8-.78.8-2.07 0-2.86zM5.41 20L4 18.59l7.72-7.72 1.47 1.35L5.41 20z\"/>\n",
              "  </svg>\n",
              "      </button>\n",
              "      \n",
              "  <style>\n",
              "    .colab-df-container {\n",
              "      display:flex;\n",
              "      flex-wrap:wrap;\n",
              "      gap: 12px;\n",
              "    }\n",
              "\n",
              "    .colab-df-convert {\n",
              "      background-color: #E8F0FE;\n",
              "      border: none;\n",
              "      border-radius: 50%;\n",
              "      cursor: pointer;\n",
              "      display: none;\n",
              "      fill: #1967D2;\n",
              "      height: 32px;\n",
              "      padding: 0 0 0 0;\n",
              "      width: 32px;\n",
              "    }\n",
              "\n",
              "    .colab-df-convert:hover {\n",
              "      background-color: #E2EBFA;\n",
              "      box-shadow: 0px 1px 2px rgba(60, 64, 67, 0.3), 0px 1px 3px 1px rgba(60, 64, 67, 0.15);\n",
              "      fill: #174EA6;\n",
              "    }\n",
              "\n",
              "    [theme=dark] .colab-df-convert {\n",
              "      background-color: #3B4455;\n",
              "      fill: #D2E3FC;\n",
              "    }\n",
              "\n",
              "    [theme=dark] .colab-df-convert:hover {\n",
              "      background-color: #434B5C;\n",
              "      box-shadow: 0px 1px 3px 1px rgba(0, 0, 0, 0.15);\n",
              "      filter: drop-shadow(0px 1px 2px rgba(0, 0, 0, 0.3));\n",
              "      fill: #FFFFFF;\n",
              "    }\n",
              "  </style>\n",
              "\n",
              "      <script>\n",
              "        const buttonEl =\n",
              "          document.querySelector('#df-aad075c6-9593-4032-816f-be8fe2f0714f button.colab-df-convert');\n",
              "        buttonEl.style.display =\n",
              "          google.colab.kernel.accessAllowed ? 'block' : 'none';\n",
              "\n",
              "        async function convertToInteractive(key) {\n",
              "          const element = document.querySelector('#df-aad075c6-9593-4032-816f-be8fe2f0714f');\n",
              "          const dataTable =\n",
              "            await google.colab.kernel.invokeFunction('convertToInteractive',\n",
              "                                                     [key], {});\n",
              "          if (!dataTable) return;\n",
              "\n",
              "          const docLinkHtml = 'Like what you see? Visit the ' +\n",
              "            '<a target=\"_blank\" href=https://colab.research.google.com/notebooks/data_table.ipynb>data table notebook</a>'\n",
              "            + ' to learn more about interactive tables.';\n",
              "          element.innerHTML = '';\n",
              "          dataTable['output_type'] = 'display_data';\n",
              "          await google.colab.output.renderOutput(dataTable, element);\n",
              "          const docLink = document.createElement('div');\n",
              "          docLink.innerHTML = docLinkHtml;\n",
              "          element.appendChild(docLink);\n",
              "        }\n",
              "      </script>\n",
              "    </div>\n",
              "  </div>\n",
              "  "
            ]
          },
          "metadata": {},
          "execution_count": 5
        }
      ]
    },
    {
      "cell_type": "code",
      "source": [
        "# mencetak 10 data pertama\n",
        "print('First Ten Rows of the DataFrame: \\n')\n",
        "print(df.head(10))"
      ],
      "metadata": {
        "colab": {
          "base_uri": "https://localhost:8080/"
        },
        "id": "ANbZvN88rC2h",
        "outputId": "bb7d156d-d8bd-4c31-9a2f-37014fb50f55"
      },
      "execution_count": null,
      "outputs": [
        {
          "output_type": "stream",
          "name": "stdout",
          "text": [
            "First Ten Rows of the DataFrame: \n",
            "\n",
            "         Date      Time  Transaction           Item\n",
            "0  2016-10-30  09:58:11            1          Bread\n",
            "1  2016-10-30  10:05:34            2   Scandinavian\n",
            "2  2016-10-30  10:05:34            2   Scandinavian\n",
            "3  2016-10-30  10:07:57            3  Hot chocolate\n",
            "4  2016-10-30  10:07:57            3            Jam\n",
            "5  2016-10-30  10:07:57            3        Cookies\n",
            "6  2016-10-30  10:08:41            4         Muffin\n",
            "7  2016-10-30  10:13:03            5         Coffee\n",
            "8  2016-10-30  10:13:03            5         Pastry\n",
            "9  2016-10-30  10:13:03            5          Bread\n"
          ]
        }
      ]
    },
    {
      "cell_type": "code",
      "source": [
        "# Create a list of unique transactions\n",
        "transaction_list = []\n",
        "for i in df['Transaction'].unique():\n",
        "    tlist = list(set(df[df['Transaction']==i]['Item']))\n",
        "    if len(tlist) > 0:\n",
        "        transaction_list.append(tlist)\n",
        "print(\"Number of unique transactions: \", len(transaction_list))"
      ],
      "metadata": {
        "colab": {
          "base_uri": "https://localhost:8080/"
        },
        "id": "_coY1IQ9peYq",
        "outputId": "fc467984-1572-474c-d82a-47ce2b94add9"
      },
      "execution_count": null,
      "outputs": [
        {
          "output_type": "stream",
          "name": "stdout",
          "text": [
            "Number of unique transactions:  9531\n"
          ]
        }
      ]
    },
    {
      "cell_type": "code",
      "source": [
        "print('Unique Items: ', df['Item'].nunique())"
      ],
      "metadata": {
        "colab": {
          "base_uri": "https://localhost:8080/"
        },
        "id": "OZqKamEcrOmm",
        "outputId": "d4e3302c-9889-4864-c32b-f4fb85ae48d2"
      },
      "execution_count": null,
      "outputs": [
        {
          "output_type": "stream",
          "name": "stdout",
          "text": [
            "Unique Items:  95\n"
          ]
        }
      ]
    },
    {
      "cell_type": "code",
      "source": [
        "#Mencetak data item yang unik (memiliki nilai item berbeda)\n",
        "print('Unique Items: ', df['Item'].nunique())\n",
        "print( '\\n', df['Item'].unique())"
      ],
      "metadata": {
        "colab": {
          "base_uri": "https://localhost:8080/"
        },
        "id": "eZE5uj11rR7H",
        "outputId": "057785a3-44c5-43a1-bad4-7d0d9877b3b3"
      },
      "execution_count": null,
      "outputs": [
        {
          "output_type": "stream",
          "name": "stdout",
          "text": [
            "Unique Items:  95\n",
            "\n",
            " ['Bread' 'Scandinavian' 'Hot chocolate' 'Jam' 'Cookies' 'Muffin' 'Coffee'\n",
            " 'Pastry' 'Medialuna' 'Tea' 'NONE' 'Tartine' 'Basket' 'Mineral water'\n",
            " 'Farm House' 'Fudge' 'Juice' \"Ella's Kitchen Pouches\" 'Victorian Sponge'\n",
            " 'Frittata' 'Hearty & Seasonal' 'Soup' 'Pick and Mix Bowls' 'Smoothies'\n",
            " 'Cake' 'Mighty Protein' 'Chicken sand' 'Coke' 'My-5 Fruit Shoot'\n",
            " 'Focaccia' 'Sandwich' 'Alfajores' 'Eggs' 'Brownie' 'Dulce de Leche'\n",
            " 'Honey' 'The BART' 'Granola' 'Fairy Doors' 'Empanadas' 'Keeping It Local'\n",
            " 'Art Tray' 'Bowl Nic Pitt' 'Bread Pudding' 'Adjustment' 'Truffles'\n",
            " 'Chimichurri Oil' 'Bacon' 'Spread' 'Kids biscuit' 'Siblings'\n",
            " 'Caramel bites' 'Jammie Dodgers' 'Tiffin' 'Olum & polenta' 'Polenta'\n",
            " 'The Nomad' 'Hack the stack' 'Bakewell' 'Lemon and coconut' 'Toast'\n",
            " 'Scone' 'Crepes' 'Vegan mincepie' 'Bare Popcorn' 'Muesli' 'Crisps'\n",
            " 'Pintxos' 'Gingerbread syrup' 'Panatone' 'Brioche and salami'\n",
            " 'Afternoon with the baker' 'Salad' 'Chicken Stew' 'Spanish Brunch'\n",
            " 'Raspberry shortbread sandwich' 'Extra Salami or Feta' 'Duck egg'\n",
            " 'Baguette' \"Valentine's card\" 'Tshirt' 'Vegan Feast' 'Postcard'\n",
            " 'Nomad bag' 'Chocolates' 'Coffee granules ' 'Drinking chocolate spoons '\n",
            " 'Christmas common' 'Argentina Night' 'Half slice Monster ' 'Gift voucher'\n",
            " 'Cherry me Dried fruit' 'Mortimer' 'Raw bars' 'Tacos/Fajita']\n"
          ]
        }
      ]
    },
    {
      "cell_type": "code",
      "source": [
        "# Cek missing value dan zeros\n",
        "print(df.isnull().sum().sort_values(ascending=False))"
      ],
      "metadata": {
        "colab": {
          "base_uri": "https://localhost:8080/"
        },
        "id": "l0zjWlmqrZSr",
        "outputId": "a22ba3b1-7140-407e-fd48-9124ef7e5034"
      },
      "execution_count": null,
      "outputs": [
        {
          "output_type": "stream",
          "name": "stdout",
          "text": [
            "Date           0\n",
            "Time           0\n",
            "Transaction    0\n",
            "Item           0\n",
            "dtype: int64\n"
          ]
        }
      ]
    },
    {
      "cell_type": "code",
      "source": [
        "# cek nilai \"NONE\" pada kolom Item\n",
        "print(df[df['Item']=='NONE'])"
      ],
      "metadata": {
        "colab": {
          "base_uri": "https://localhost:8080/"
        },
        "id": "kNooVSTYrh9l",
        "outputId": "68bae265-8f2d-473a-c8d9-24512996c81e"
      },
      "execution_count": null,
      "outputs": [
        {
          "output_type": "stream",
          "name": "stdout",
          "text": [
            "             Date      Time  Transaction  Item\n",
            "26     2016-10-30  10:27:21           11  NONE\n",
            "38     2016-10-30  10:34:36           15  NONE\n",
            "39     2016-10-30  10:34:36           15  NONE\n",
            "66     2016-10-30  11:05:30           29  NONE\n",
            "80     2016-10-30  11:37:10           37  NONE\n",
            "...           ...       ...          ...   ...\n",
            "21108  2017-04-08  11:54:22         9590  NONE\n",
            "21122  2017-04-08  12:58:25         9599  NONE\n",
            "21254  2017-04-09  12:01:07         9666  NONE\n",
            "21255  2017-04-09  12:04:13         9667  NONE\n",
            "21266  2017-04-09  12:31:28         9672  NONE\n",
            "\n",
            "[786 rows x 4 columns]\n"
          ]
        }
      ]
    },
    {
      "cell_type": "code",
      "source": [
        "# menghapus baris dengan nilai Item = None\n",
        "df.drop(df[df['Item']=='NONE'].index, inplace=True)"
      ],
      "metadata": {
        "id": "hIaEIrJrrlpn"
      },
      "execution_count": null,
      "outputs": []
    },
    {
      "cell_type": "code",
      "source": [
        "# cek perubahan yang terjadi\n",
        "print(df.info())"
      ],
      "metadata": {
        "colab": {
          "base_uri": "https://localhost:8080/"
        },
        "id": "c5iwEmlkr3zB",
        "outputId": "9093d271-c7d2-4909-bc75-c55b142b3843"
      },
      "execution_count": null,
      "outputs": [
        {
          "output_type": "stream",
          "name": "stdout",
          "text": [
            "<class 'pandas.core.frame.DataFrame'>\n",
            "Int64Index: 20507 entries, 0 to 21292\n",
            "Data columns (total 4 columns):\n",
            " #   Column       Non-Null Count  Dtype \n",
            "---  ------       --------------  ----- \n",
            " 0   Date         20507 non-null  object\n",
            " 1   Time         20507 non-null  object\n",
            " 2   Transaction  20507 non-null  int64 \n",
            " 3   Item         20507 non-null  object\n",
            "dtypes: int64(1), object(3)\n",
            "memory usage: 801.1+ KB\n",
            "None\n"
          ]
        }
      ]
    },
    {
      "cell_type": "code",
      "source": [
        "# Year (ingat kembali penulisan function lambda)\n",
        "df['Year'] = df['Date'].apply(lambda x: x.split(\"-\")[0])\n",
        "# Month\n",
        "df['Month'] = df['Date'].apply(lambda x: x.split(\"-\")[1])\n",
        "# Day\n",
        "df['Day'] = df['Date'].apply(lambda x: x.split(\"-\")[2])"
      ],
      "metadata": {
        "id": "ZsRzCAM8r-lE"
      },
      "execution_count": null,
      "outputs": []
    },
    {
      "cell_type": "code",
      "source": [
        "# cek kembali perubahan yang terjadi setelah nilai tahun, bulan dan hari ditampung di fitur baru (year, month, day)\n",
        "print(df.info())\n",
        "print(df.head())"
      ],
      "metadata": {
        "colab": {
          "base_uri": "https://localhost:8080/"
        },
        "id": "OLVRJrCEsBYW",
        "outputId": "11682b5e-005c-4dd3-de1e-822cd66cc8b2"
      },
      "execution_count": null,
      "outputs": [
        {
          "output_type": "stream",
          "name": "stdout",
          "text": [
            "<class 'pandas.core.frame.DataFrame'>\n",
            "Int64Index: 20507 entries, 0 to 21292\n",
            "Data columns (total 7 columns):\n",
            " #   Column       Non-Null Count  Dtype \n",
            "---  ------       --------------  ----- \n",
            " 0   Date         20507 non-null  object\n",
            " 1   Time         20507 non-null  object\n",
            " 2   Transaction  20507 non-null  int64 \n",
            " 3   Item         20507 non-null  object\n",
            " 4   Year         20507 non-null  object\n",
            " 5   Month        20507 non-null  object\n",
            " 6   Day          20507 non-null  object\n",
            "dtypes: int64(1), object(6)\n",
            "memory usage: 1.3+ MB\n",
            "None\n",
            "         Date      Time  Transaction           Item  Year Month Day\n",
            "0  2016-10-30  09:58:11            1          Bread  2016    10  30\n",
            "1  2016-10-30  10:05:34            2   Scandinavian  2016    10  30\n",
            "2  2016-10-30  10:05:34            2   Scandinavian  2016    10  30\n",
            "3  2016-10-30  10:07:57            3  Hot chocolate  2016    10  30\n",
            "4  2016-10-30  10:07:57            3            Jam  2016    10  30\n"
          ]
        }
      ]
    },
    {
      "cell_type": "code",
      "source": [
        "# Mencetak 20 data penjualan item terbanyak\n",
        "most_sold = df['Item'].value_counts().head(20)\n",
        "\n",
        "print('Most Sold Items: \\n')\n",
        "print(most_sold)"
      ],
      "metadata": {
        "colab": {
          "base_uri": "https://localhost:8080/"
        },
        "id": "z4mCOltzsGis",
        "outputId": "7c489753-24d7-43b1-eba7-e99deac69746"
      },
      "execution_count": null,
      "outputs": [
        {
          "output_type": "stream",
          "name": "stdout",
          "text": [
            "Most Sold Items: \n",
            "\n",
            "Coffee           5471\n",
            "Bread            3325\n",
            "Tea              1435\n",
            "Cake             1025\n",
            "Pastry            856\n",
            "Sandwich          771\n",
            "Medialuna         616\n",
            "Hot chocolate     590\n",
            "Cookies           540\n",
            "Brownie           379\n",
            "Farm House        374\n",
            "Muffin            370\n",
            "Alfajores         369\n",
            "Juice             369\n",
            "Soup              342\n",
            "Scone             327\n",
            "Toast             318\n",
            "Scandinavian      277\n",
            "Truffles          193\n",
            "Coke              185\n",
            "Name: Item, dtype: int64\n"
          ]
        }
      ]
    },
    {
      "cell_type": "code",
      "source": [
        "transaction_count = df.groupby(by='Item')[['Transaction']].count().sort_values(by='Transaction', ascending=False)\n",
        "def convert_to_percentage(x):\n",
        "    return 100 * x / float(x.sum())\n",
        "\n",
        "transaction_percentage = transaction_count.apply(convert_to_percentage)\n",
        "transaction_percentage.head()"
      ],
      "metadata": {
        "colab": {
          "base_uri": "https://localhost:8080/",
          "height": 238
        },
        "id": "gujXe2DQsMH4",
        "outputId": "198bb983-08cf-4f44-999c-a7835399a8f7"
      },
      "execution_count": null,
      "outputs": [
        {
          "output_type": "execute_result",
          "data": {
            "text/plain": [
              "        Transaction\n",
              "Item               \n",
              "Coffee    26.678695\n",
              "Bread     16.213976\n",
              "Tea        6.997611\n",
              "Cake       4.998293\n",
              "Pastry     4.174184"
            ],
            "text/html": [
              "\n",
              "  <div id=\"df-44e458b6-eb05-4520-9e5d-f6eea9be3e2f\">\n",
              "    <div class=\"colab-df-container\">\n",
              "      <div>\n",
              "<style scoped>\n",
              "    .dataframe tbody tr th:only-of-type {\n",
              "        vertical-align: middle;\n",
              "    }\n",
              "\n",
              "    .dataframe tbody tr th {\n",
              "        vertical-align: top;\n",
              "    }\n",
              "\n",
              "    .dataframe thead th {\n",
              "        text-align: right;\n",
              "    }\n",
              "</style>\n",
              "<table border=\"1\" class=\"dataframe\">\n",
              "  <thead>\n",
              "    <tr style=\"text-align: right;\">\n",
              "      <th></th>\n",
              "      <th>Transaction</th>\n",
              "    </tr>\n",
              "    <tr>\n",
              "      <th>Item</th>\n",
              "      <th></th>\n",
              "    </tr>\n",
              "  </thead>\n",
              "  <tbody>\n",
              "    <tr>\n",
              "      <th>Coffee</th>\n",
              "      <td>26.678695</td>\n",
              "    </tr>\n",
              "    <tr>\n",
              "      <th>Bread</th>\n",
              "      <td>16.213976</td>\n",
              "    </tr>\n",
              "    <tr>\n",
              "      <th>Tea</th>\n",
              "      <td>6.997611</td>\n",
              "    </tr>\n",
              "    <tr>\n",
              "      <th>Cake</th>\n",
              "      <td>4.998293</td>\n",
              "    </tr>\n",
              "    <tr>\n",
              "      <th>Pastry</th>\n",
              "      <td>4.174184</td>\n",
              "    </tr>\n",
              "  </tbody>\n",
              "</table>\n",
              "</div>\n",
              "      <button class=\"colab-df-convert\" onclick=\"convertToInteractive('df-44e458b6-eb05-4520-9e5d-f6eea9be3e2f')\"\n",
              "              title=\"Convert this dataframe to an interactive table.\"\n",
              "              style=\"display:none;\">\n",
              "        \n",
              "  <svg xmlns=\"http://www.w3.org/2000/svg\" height=\"24px\"viewBox=\"0 0 24 24\"\n",
              "       width=\"24px\">\n",
              "    <path d=\"M0 0h24v24H0V0z\" fill=\"none\"/>\n",
              "    <path d=\"M18.56 5.44l.94 2.06.94-2.06 2.06-.94-2.06-.94-.94-2.06-.94 2.06-2.06.94zm-11 1L8.5 8.5l.94-2.06 2.06-.94-2.06-.94L8.5 2.5l-.94 2.06-2.06.94zm10 10l.94 2.06.94-2.06 2.06-.94-2.06-.94-.94-2.06-.94 2.06-2.06.94z\"/><path d=\"M17.41 7.96l-1.37-1.37c-.4-.4-.92-.59-1.43-.59-.52 0-1.04.2-1.43.59L10.3 9.45l-7.72 7.72c-.78.78-.78 2.05 0 2.83L4 21.41c.39.39.9.59 1.41.59.51 0 1.02-.2 1.41-.59l7.78-7.78 2.81-2.81c.8-.78.8-2.07 0-2.86zM5.41 20L4 18.59l7.72-7.72 1.47 1.35L5.41 20z\"/>\n",
              "  </svg>\n",
              "      </button>\n",
              "      \n",
              "  <style>\n",
              "    .colab-df-container {\n",
              "      display:flex;\n",
              "      flex-wrap:wrap;\n",
              "      gap: 12px;\n",
              "    }\n",
              "\n",
              "    .colab-df-convert {\n",
              "      background-color: #E8F0FE;\n",
              "      border: none;\n",
              "      border-radius: 50%;\n",
              "      cursor: pointer;\n",
              "      display: none;\n",
              "      fill: #1967D2;\n",
              "      height: 32px;\n",
              "      padding: 0 0 0 0;\n",
              "      width: 32px;\n",
              "    }\n",
              "\n",
              "    .colab-df-convert:hover {\n",
              "      background-color: #E2EBFA;\n",
              "      box-shadow: 0px 1px 2px rgba(60, 64, 67, 0.3), 0px 1px 3px 1px rgba(60, 64, 67, 0.15);\n",
              "      fill: #174EA6;\n",
              "    }\n",
              "\n",
              "    [theme=dark] .colab-df-convert {\n",
              "      background-color: #3B4455;\n",
              "      fill: #D2E3FC;\n",
              "    }\n",
              "\n",
              "    [theme=dark] .colab-df-convert:hover {\n",
              "      background-color: #434B5C;\n",
              "      box-shadow: 0px 1px 3px 1px rgba(0, 0, 0, 0.15);\n",
              "      filter: drop-shadow(0px 1px 2px rgba(0, 0, 0, 0.3));\n",
              "      fill: #FFFFFF;\n",
              "    }\n",
              "  </style>\n",
              "\n",
              "      <script>\n",
              "        const buttonEl =\n",
              "          document.querySelector('#df-44e458b6-eb05-4520-9e5d-f6eea9be3e2f button.colab-df-convert');\n",
              "        buttonEl.style.display =\n",
              "          google.colab.kernel.accessAllowed ? 'block' : 'none';\n",
              "\n",
              "        async function convertToInteractive(key) {\n",
              "          const element = document.querySelector('#df-44e458b6-eb05-4520-9e5d-f6eea9be3e2f');\n",
              "          const dataTable =\n",
              "            await google.colab.kernel.invokeFunction('convertToInteractive',\n",
              "                                                     [key], {});\n",
              "          if (!dataTable) return;\n",
              "\n",
              "          const docLinkHtml = 'Like what you see? Visit the ' +\n",
              "            '<a target=\"_blank\" href=https://colab.research.google.com/notebooks/data_table.ipynb>data table notebook</a>'\n",
              "            + ' to learn more about interactive tables.';\n",
              "          element.innerHTML = '';\n",
              "          dataTable['output_type'] = 'display_data';\n",
              "          await google.colab.output.renderOutput(dataTable, element);\n",
              "          const docLink = document.createElement('div');\n",
              "          docLink.innerHTML = docLinkHtml;\n",
              "          element.appendChild(docLink);\n",
              "        }\n",
              "      </script>\n",
              "    </div>\n",
              "  </div>\n",
              "  "
            ]
          },
          "metadata": {},
          "execution_count": 23
        }
      ]
    },
    {
      "cell_type": "code",
      "source": [
        "import matplotlib.pyplot as plt\n",
        "\n",
        "# visualisasikan data penjualan item terbanyak ke line chart dan bar chart\n",
        "fig, (ax1, ax2) = plt.subplots(1, 2, figsize=(20, 6))\n",
        "\n",
        "most_sold.plot(kind='line', ax=ax1)\n",
        "ax1.set_title('Items Most Sold (Line Chart)')\n",
        "\n",
        "most_sold.plot(kind='bar', ax=ax2)\n",
        "ax2.set_title('Items Most Sold (Bar Chart)')\n",
        "\n",
        "plt.show()\n"
      ],
      "metadata": {
        "colab": {
          "base_uri": "https://localhost:8080/",
          "height": 395
        },
        "id": "_gMtyfxjsNzK",
        "outputId": "b369a5bc-b75f-45e0-a5bc-d21646909129"
      },
      "execution_count": null,
      "outputs": [
        {
          "output_type": "display_data",
          "data": {
            "text/plain": [
              "<Figure size 1440x432 with 2 Axes>"
            ],
            "image/png": "[encoded data removed]"
          },
          "metadata": {
            "needs_background": "light"
          }
        }
      ]
    },
    {
      "cell_type": "markdown",
      "source": [
        "Modifiaksi yang dilakukan:\n",
        "\n",
        "1. Menggunakan fig, (ax1, ax2) = plt.subplots(1, 2, figsize=(20, 6)) untuk membuat dua plot sekaligus dalam satu gambar (figure) dengan ukuran yang telah ditentukan (figsize=(20, 6)).\n",
        "2. Menggunakan ax1 dan ax2 sebagai objek plot untuk masing-masing plot pada gambar.\n",
        "3. Menambahkan set_title pada masing-masing plot untuk memberikan judul plot yang jelas.\n",
        "4. Menghilangkan plt.subplot dan plt.plot pada kode karena tidak diperlukan saat menggunakan subplots dan ax pada matplotlib."
      ],
      "metadata": {
        "id": "mz3yaVDksqaV"
      }
    },
    {
      "cell_type": "code",
      "source": [
        "import matplotlib.pyplot as plt\n",
        "\n",
        "# visualisasikan data penjualan item terbanyak ke line chart dan bar chart\n",
        "fig, (ax1, ax2) = plt.subplots(1, 2, figsize=(20, 6))\n",
        "\n",
        "most_sold.plot(kind='line', ax=ax1, color='purple')\n",
        "ax1.set_title('Items Most Sold (Line Chart)')\n",
        "ax1.set_xlabel('Items')\n",
        "ax1.set_ylabel('Number of Sales')\n",
        "\n",
        "most_sold.plot(kind='bar', ax=ax2, color='orange')\n",
        "ax2.set_title('Items Most Sold (Bar Chart)')\n",
        "ax2.set_xlabel('Items')\n",
        "ax2.set_ylabel('Number of Sales')\n",
        "\n",
        "plt.show()\n"
      ],
      "metadata": {
        "colab": {
          "base_uri": "https://localhost:8080/",
          "height": 483
        },
        "id": "gzaJcW5-s-rm",
        "outputId": "efdc0eeb-bc9b-40b5-eb42-c870f67eb2bf"
      },
      "execution_count": null,
      "outputs": [
        {
          "output_type": "display_data",
          "data": {
            "text/plain": [
              "<Figure size 1440x432 with 2 Axes>"
            ],
            "image/png": "[encoded data removed]"
          },
          "metadata": {
            "needs_background": "light"
          }
        }
      ]
    },
    {
      "cell_type": "markdown",
      "source": [
        "Modifikasi tambahan:\n",
        "\n",
        "1. Menambahkan color pada setiap plot untuk memberikan warna yang berbeda pada masing-masing plot.\n",
        "2. Menambahkan ax1.set_xlabel dan ax1.set_ylabel untuk memberikan label pada sumbu x dan y pada line chart.\n",
        "3. Menambahkan ax2.set_xlabel dan ax2.set_ylabel untuk memberikan label pada sumbu x dan y pada bar chart."
      ],
      "metadata": {
        "id": "quzRTaEGtHjL"
      }
    },
    {
      "cell_type": "code",
      "source": [
        "df.groupby('Month')['Transaction'].nunique().plot(kind='bar', title='Monthly Sales')\n",
        "plt.show()"
      ],
      "metadata": {
        "colab": {
          "base_uri": "https://localhost:8080/",
          "height": 298
        },
        "id": "mlFKS0N0te6J",
        "outputId": "59e9c951-9534-4453-e373-a27105d6a7d3"
      },
      "execution_count": null,
      "outputs": [
        {
          "output_type": "display_data",
          "data": {
            "text/plain": [
              "<Figure size 432x288 with 1 Axes>"
            ],
            "image/png": "[encoded data removed]"
          },
          "metadata": {
            "needs_background": "light"
          }
        }
      ]
    },
    {
      "cell_type": "code",
      "source": [
        "import matplotlib.pyplot as plt\n",
        "\n",
        "# visualisasikan data penjualan per bulan ke line chart dan bar chart\n",
        "fig, (ax1, ax2) = plt.subplots(1, 2, figsize=(20, 6))\n",
        "\n",
        "# Line Chart\n",
        "df.groupby('Month')['Transaction'].nunique().plot(kind='line', ax=ax1, color='purple')\n",
        "ax1.set_title('Monthly Sales (Line Chart)')\n",
        "ax1.set_xlabel('Month')\n",
        "ax1.set_ylabel('Number of Transactions')\n",
        "\n",
        "# Bar Chart\n",
        "df.groupby('Month')['Transaction'].nunique().plot(kind='bar', ax=ax2, color='orange')\n",
        "ax2.set_title('Monthly Sales (Bar Chart)')\n",
        "ax2.set_xlabel('Month')\n",
        "ax2.set_ylabel('Number of Transactions')\n",
        "\n",
        "plt.show()\n"
      ],
      "metadata": {
        "colab": {
          "base_uri": "https://localhost:8080/",
          "height": 427
        },
        "id": "-gXFGs7jtjPR",
        "outputId": "52969444-ec7f-43f0-8d1f-94473117f9de"
      },
      "execution_count": null,
      "outputs": [
        {
          "output_type": "display_data",
          "data": {
            "text/plain": [
              "<Figure size 1440x432 with 2 Axes>"
            ],
            "image/png": "[encoded data removed]"
          },
          "metadata": {
            "needs_background": "light"
          }
        }
      ]
    },
    {
      "cell_type": "markdown",
      "source": [
        "Modifikasi yang dilakukan:\n",
        "\n",
        "1. Menggunakan fig, (ax1, ax2) = plt.subplots(1, 2, figsize=(20, 6)) untuk membuat dua plot sekaligus dalam satu gambar (figure) dengan ukuran yang telah ditentukan (figsize=(20, 6)).\n",
        "2. Menggunakan ax1 dan ax2 sebagai objek plot untuk masing-masing plot pada gambar.\n",
        "3. Mengganti kind='bar' menjadi kind='line' pada line chart.\n",
        "4. Menambahkan color pada setiap plot untuk memberikan warna yang berbeda pada masing-masing plot.\n",
        "5. Menambahkan ax1.set_xlabel dan ax1.set_ylabel untuk memberikan label pada sumbu x dan y pada line chart.\n",
        "6. Menambahkan ax2.set_xlabel dan ax2.set_ylabel untuk memberikan label pada sumbu x dan y pada bar chart."
      ],
      "metadata": {
        "id": "4w9I5dC3tmtL"
      }
    },
    {
      "cell_type": "code",
      "source": [
        "print(df.groupby('Month')['Day'].nunique())"
      ],
      "metadata": {
        "colab": {
          "base_uri": "https://localhost:8080/"
        },
        "id": "BJhCO452t7QA",
        "outputId": "9e51cd4d-6caf-4944-abe0-9e4a537705ba"
      },
      "execution_count": null,
      "outputs": [
        {
          "output_type": "stream",
          "name": "stdout",
          "text": [
            "Month\n",
            "01    30\n",
            "02    28\n",
            "03    31\n",
            "04     9\n",
            "10     2\n",
            "11    30\n",
            "12    29\n",
            "Name: Day, dtype: int64\n"
          ]
        }
      ]
    },
    {
      "cell_type": "code",
      "source": [
        "import matplotlib.pyplot as plt\n",
        "\n",
        "# Pengelompokkan data dan visualisasi plot\n",
        "month_day = df.groupby('Month')['Day'].nunique()\n",
        "\n",
        "fig, ax = plt.subplots(figsize=(10,6))\n",
        "ax.bar(month_day.index, month_day.values, color='orange')\n",
        "ax.set_title('Unique Days per Month')\n",
        "ax.set_xlabel('Month')\n",
        "ax.set_ylabel('Number of Unique Days')\n",
        "\n",
        "plt.show()\n"
      ],
      "metadata": {
        "colab": {
          "base_uri": "https://localhost:8080/",
          "height": 404
        },
        "id": "kRtMNPF2t-4y",
        "outputId": "9427eac4-8a2f-4933-9c10-c915b25061d0"
      },
      "execution_count": null,
      "outputs": [
        {
          "output_type": "display_data",
          "data": {
            "text/plain": [
              "<Figure size 720x432 with 1 Axes>"
            ],
            "image/png": "[encoded data removed]"
          },
          "metadata": {
            "needs_background": "light"
          }
        }
      ]
    },
    {
      "cell_type": "markdown",
      "source": [
        "Modifikasi yang dilakukan: \n",
        "\n",
        "1. Menambahkan import matplotlib.pyplot as plt untuk mengimport library matplotlib yang akan digunakan untuk membuat plot.\n",
        "2. Mengelompokkan data Day berdasarkan bulan (Month) dan menampilkannya menggunakan print diganti dengan membuat objek plot pada fig dan ax.\n",
        "3. Menggunakan fig, ax = plt.subplots(figsize=(10,6)) untuk membuat objek plot.\n",
        "4. Menggunakan ax.bar untuk membuat plot bar chart dari data pengelompokkan bulan dan hari.\n",
        "5. Menambahkan judul plot dengan ax.set_title, serta label sumbu x dan y dengan ax.set_xlabel dan ax.set_ylabel."
      ],
      "metadata": {
        "id": "XKbw6il6uDDg"
      }
    },
    {
      "cell_type": "code",
      "source": [
        "from mlxtend.preprocessing import TransactionEncoder\n",
        "from mlxtend.frequent_patterns import association_rules, apriori"
      ],
      "metadata": {
        "id": "EErbwftyuTBG"
      },
      "execution_count": null,
      "outputs": []
    },
    {
      "cell_type": "code",
      "source": [
        "transaction_list = []\n",
        "\n",
        "# For loop to create a list of the unique transactions throughout the dataset:\n",
        "for i in df['Transaction'].unique():\n",
        "    tlist = list(set(df[df['Transaction']==i]['Item']))\n",
        "    if len(tlist)>0:\n",
        "        transaction_list.append(tlist)\n",
        "print(len(transaction_list))"
      ],
      "metadata": {
        "colab": {
          "base_uri": "https://localhost:8080/"
        },
        "id": "X1qF6bc1uUNY",
        "outputId": "4d83977e-471b-4758-b06b-beb40c466282"
      },
      "execution_count": null,
      "outputs": [
        {
          "output_type": "stream",
          "name": "stdout",
          "text": [
            "9465\n"
          ]
        }
      ]
    },
    {
      "cell_type": "code",
      "source": [
        "def get_unique_transactions(df):\n",
        "    transaction_list = []\n",
        "\n",
        "    for i in df['Transaction'].unique():\n",
        "        tlist = list(set(df[df['Transaction']==i]['Item']))\n",
        "        if len(tlist)>0:\n",
        "            transaction_list.append(tlist)\n",
        "    \n",
        "    return transaction_list\n"
      ],
      "metadata": {
        "id": "2TqZQrhFwITS"
      },
      "execution_count": null,
      "outputs": []
    },
    {
      "cell_type": "markdown",
      "source": [
        "Fungsi get_unique_transactions akan menerima parameter df yang merupakan DataFrame yang akan diolah. Fungsi ini akan mengembalikan daftar item transaksi unik (transaction_list)."
      ],
      "metadata": {
        "id": "jMsg4hwywMPB"
      }
    },
    {
      "cell_type": "code",
      "source": [
        "unique_transactions = get_unique_transactions(df)\n",
        "print(len(unique_transactions))\n"
      ],
      "metadata": {
        "colab": {
          "base_uri": "https://localhost:8080/"
        },
        "id": "FCHnvDQ-wNAS",
        "outputId": "abf2e537-0005-4bc7-a9c9-618b22247361"
      },
      "execution_count": null,
      "outputs": [
        {
          "output_type": "stream",
          "name": "stdout",
          "text": [
            "9465\n"
          ]
        }
      ]
    },
    {
      "cell_type": "code",
      "source": [
        "te = TransactionEncoder()\n",
        "te_ary = te.fit(transaction_list).transform(transaction_list)\n",
        "df2 = pd.DataFrame(te_ary, columns=te.columns_)"
      ],
      "metadata": {
        "id": "Xr16E3f_vX9j"
      },
      "execution_count": null,
      "outputs": []
    },
    {
      "cell_type": "code",
      "source": [
        "from mlxtend.preprocessing import TransactionEncoder\n",
        "import pandas as pd\n",
        "\n",
        "def one_hot_encode_transactions(transaction_list):\n",
        "    # Inisialisasi objek TransactionEncoder\n",
        "    te = TransactionEncoder()\n",
        "    \n",
        "    # Transformasi one-hot encoding pada daftar transaksi unik\n",
        "    te_ary = te.fit(transaction_list).transform(transaction_list)\n",
        "    \n",
        "    # Buat DataFrame dari array yang dihasilkan oleh TransactionEncoder\n",
        "    df = pd.DataFrame(te_ary, columns=te.columns_)\n",
        "    \n",
        "    return df\n"
      ],
      "metadata": {
        "id": "cQmwNyczvo7q"
      },
      "execution_count": null,
      "outputs": []
    },
    {
      "cell_type": "code",
      "source": [
        "df2 = one_hot_encode_transactions(transaction_list)\n",
        "print(df2)\n"
      ],
      "metadata": {
        "colab": {
          "base_uri": "https://localhost:8080/"
        },
        "id": "J5vkiwKovrUW",
        "outputId": "cebf08e2-4212-4506-e526-f33049983798"
      },
      "execution_count": null,
      "outputs": [
        {
          "output_type": "stream",
          "name": "stdout",
          "text": [
            "      Adjustment  Afternoon with the baker  Alfajores  Argentina Night  \\\n",
            "0          False                     False      False            False   \n",
            "1          False                     False      False            False   \n",
            "2          False                     False      False            False   \n",
            "3          False                     False      False            False   \n",
            "4          False                     False      False            False   \n",
            "...          ...                       ...        ...              ...   \n",
            "9460       False                     False      False            False   \n",
            "9461       False                     False      False            False   \n",
            "9462       False                     False      False            False   \n",
            "9463       False                     False      False            False   \n",
            "9464       False                     False      False            False   \n",
            "\n",
            "      Art Tray  Bacon  Baguette  Bakewell  Bare Popcorn  Basket  ...  \\\n",
            "0        False  False     False     False         False   False  ...   \n",
            "1        False  False     False     False         False   False  ...   \n",
            "2        False  False     False     False         False   False  ...   \n",
            "3        False  False     False     False         False   False  ...   \n",
            "4        False  False     False     False         False   False  ...   \n",
            "...        ...    ...       ...       ...           ...     ...  ...   \n",
            "9460     False  False     False     False         False   False  ...   \n",
            "9461     False  False     False     False         False   False  ...   \n",
            "9462     False  False     False     False         False   False  ...   \n",
            "9463     False  False     False     False         False   False  ...   \n",
            "9464     False  False     False     False         False   False  ...   \n",
            "\n",
            "      The BART  The Nomad  Tiffin  Toast  Truffles  Tshirt  Valentine's card  \\\n",
            "0        False      False   False  False     False   False             False   \n",
            "1        False      False   False  False     False   False             False   \n",
            "2        False      False   False  False     False   False             False   \n",
            "3        False      False   False  False     False   False             False   \n",
            "4        False      False   False  False     False   False             False   \n",
            "...        ...        ...     ...    ...       ...     ...               ...   \n",
            "9460     False      False   False  False     False   False             False   \n",
            "9461     False      False   False  False      True   False             False   \n",
            "9462     False      False   False  False     False   False             False   \n",
            "9463     False      False   False  False     False   False             False   \n",
            "9464     False      False   False  False     False   False             False   \n",
            "\n",
            "      Vegan Feast  Vegan mincepie  Victorian Sponge  \n",
            "0           False           False             False  \n",
            "1           False           False             False  \n",
            "2           False           False             False  \n",
            "3           False           False             False  \n",
            "4           False           False             False  \n",
            "...           ...             ...               ...  \n",
            "9460        False           False             False  \n",
            "9461        False           False             False  \n",
            "9462        False           False             False  \n",
            "9463        False           False             False  \n",
            "9464        False           False             False  \n",
            "\n",
            "[9465 rows x 94 columns]\n"
          ]
        }
      ]
    },
    {
      "cell_type": "markdown",
      "source": [
        "Modifikasi yang dilakukan:\n",
        "\n",
        "Modifikasi yang dilakukan pada kode diatas adalah dengan membuat sebuah fungsi one_hot_encode_transactions yang menerima parameter transaction_list. Fungsi ini menggunakan TransactionEncoder dari library mlxtend untuk melakukan one-hot encoding pada daftar transaksi unik (transaction_list), kemudian menghasilkan sebuah DataFrame (df) yang berisi data dengan one-hot encoding.\n",
        "\n",
        "Dengan memodifikasi kode tersebut menjadi sebuah fungsi, maka proses one-hot encoding pada daftar transaksi unik dapat dilakukan secara reusable dan lebih mudah dipanggil saat diperlukan. Selain itu, modifikasi ini juga membuat kode menjadi lebih bersih dan terstruktur, sehingga lebih mudah dipahami dan dimodifikasi di masa yang akan datang."
      ],
      "metadata": {
        "id": "GIFGhqHyvvNF"
      }
    },
    {
      "cell_type": "code",
      "source": [
        "frequent_itemsets = apriori(df2, min_support=0.01, use_colnames=True)\n",
        "rules = association_rules(frequent_itemsets, metric='lift', min_threshold=1.0)\n",
        "metrix = pd.DataFrame(rules)\n",
        "metrix[['antecedents','consequents', 'support', 'confidence', 'lift']].sort_values('lift', ascending=False)"
      ],
      "metadata": {
        "colab": {
          "base_uri": "https://localhost:8080/",
          "height": 1000
        },
        "id": "kwTlR_XFwXy7",
        "outputId": "4c68f68a-9464-4c91-ec8f-d7a951186748"
      },
      "execution_count": null,
      "outputs": [
        {
          "output_type": "execute_result",
          "data": {
            "text/plain": [
              "         antecedents       consequents   support  confidence      lift\n",
              "40            (Cake)     (Coffee, Tea)  0.010037    0.096643  1.937977\n",
              "39     (Coffee, Tea)            (Cake)  0.010037    0.201271  1.937977\n",
              "8    (Hot chocolate)            (Cake)  0.011410    0.195652  1.883874\n",
              "9             (Cake)   (Hot chocolate)  0.011410    0.109868  1.883874\n",
              "11             (Tea)            (Cake)  0.023772    0.166667  1.604781\n",
              "10            (Cake)             (Tea)  0.023772    0.228891  1.604781\n",
              "30           (Toast)          (Coffee)  0.023666    0.704403  1.472431\n",
              "31          (Coffee)           (Toast)  0.023666    0.049470  1.472431\n",
              "37          (Pastry)   (Bread, Coffee)  0.011199    0.130061  1.444872\n",
              "36   (Bread, Coffee)          (Pastry)  0.011199    0.124413  1.444872\n",
              "32        (Sandwich)             (Tea)  0.014369    0.200000  1.402222\n",
              "33             (Tea)        (Sandwich)  0.014369    0.100741  1.402222\n",
              "41             (Tea)    (Coffee, Cake)  0.010037    0.070370  1.285822\n",
              "38    (Coffee, Cake)             (Tea)  0.010037    0.183398  1.285822\n",
              "29          (Coffee)  (Spanish Brunch)  0.010882    0.022747  1.251766\n",
              "28  (Spanish Brunch)          (Coffee)  0.010882    0.598837  1.251766\n",
              "18          (Coffee)       (Medialuna)  0.035182    0.073542  1.189878\n",
              "19       (Medialuna)          (Coffee)  0.035182    0.569231  1.189878\n",
              "23          (Coffee)          (Pastry)  0.047544    0.099382  1.154168\n",
              "22          (Pastry)          (Coffee)  0.047544    0.552147  1.154168\n",
              "1           (Coffee)       (Alfajores)  0.019651    0.041078  1.130235\n",
              "0        (Alfajores)          (Coffee)  0.019651    0.540698  1.130235\n",
              "17          (Coffee)           (Juice)  0.020602    0.043065  1.116750\n",
              "16           (Juice)          (Coffee)  0.020602    0.534247  1.116750\n",
              "24          (Coffee)        (Sandwich)  0.038246    0.079947  1.112792\n",
              "25        (Sandwich)          (Coffee)  0.038246    0.532353  1.112792\n",
              "7             (Cake)          (Coffee)  0.054728    0.526958  1.101515\n",
              "6           (Coffee)            (Cake)  0.054728    0.114399  1.101515\n",
              "26           (Scone)          (Coffee)  0.018067    0.522936  1.093107\n",
              "27          (Coffee)           (Scone)  0.018067    0.037765  1.093107\n",
              "12          (Coffee)         (Cookies)  0.028209    0.058966  1.083723\n",
              "13         (Cookies)          (Coffee)  0.028209    0.518447  1.083723\n",
              "34   (Bread, Coffee)            (Cake)  0.010037    0.111502  1.073621\n",
              "35            (Cake)   (Bread, Coffee)  0.010037    0.096643  1.073621\n",
              "14   (Hot chocolate)          (Coffee)  0.029583    0.507246  1.060311\n",
              "15          (Coffee)   (Hot chocolate)  0.029583    0.061837  1.060311\n",
              "3            (Bread)          (Pastry)  0.029160    0.089119  1.034977\n",
              "2           (Pastry)           (Bread)  0.029160    0.338650  1.034977\n",
              "5          (Brownie)          (Coffee)  0.019651    0.490765  1.025860\n",
              "4           (Coffee)         (Brownie)  0.019651    0.041078  1.025860\n",
              "20          (Coffee)          (Muffin)  0.018806    0.039311  1.022193\n",
              "21          (Muffin)          (Coffee)  0.018806    0.489011  1.022193"
            ],
            "text/html": [
              "\n",
              "  <div id=\"df-b32ef605-65d7-4827-8f05-1ccef0a3ec9e\">\n",
              "    <div class=\"colab-df-container\">\n",
              "      <div>\n",
              "<style scoped>\n",
              "    .dataframe tbody tr th:only-of-type {\n",
              "        vertical-align: middle;\n",
              "    }\n",
              "\n",
              "    .dataframe tbody tr th {\n",
              "        vertical-align: top;\n",
              "    }\n",
              "\n",
              "    .dataframe thead th {\n",
              "        text-align: right;\n",
              "    }\n",
              "</style>\n",
              "<table border=\"1\" class=\"dataframe\">\n",
              "  <thead>\n",
              "    <tr style=\"text-align: right;\">\n",
              "      <th></th>\n",
              "      <th>antecedents</th>\n",
              "      <th>consequents</th>\n",
              "      <th>support</th>\n",
              "      <th>confidence</th>\n",
              "      <th>lift</th>\n",
              "    </tr>\n",
              "  </thead>\n",
              "  <tbody>\n",
              "    <tr>\n",
              "      <th>40</th>\n",
              "      <td>(Cake)</td>\n",
              "      <td>(Coffee, Tea)</td>\n",
              "      <td>0.010037</td>\n",
              "      <td>0.096643</td>\n",
              "      <td>1.937977</td>\n",
              "    </tr>\n",
              "    <tr>\n",
              "      <th>39</th>\n",
              "      <td>(Coffee, Tea)</td>\n",
              "      <td>(Cake)</td>\n",
              "      <td>0.010037</td>\n",
              "      <td>0.201271</td>\n",
              "      <td>1.937977</td>\n",
              "    </tr>\n",
              "    <tr>\n",
              "      <th>8</th>\n",
              "      <td>(Hot chocolate)</td>\n",
              "      <td>(Cake)</td>\n",
              "      <td>0.011410</td>\n",
              "      <td>0.195652</td>\n",
              "      <td>1.883874</td>\n",
              "    </tr>\n",
              "    <tr>\n",
              "      <th>9</th>\n",
              "      <td>(Cake)</td>\n",
              "      <td>(Hot chocolate)</td>\n",
              "      <td>0.011410</td>\n",
              "      <td>0.109868</td>\n",
              "      <td>1.883874</td>\n",
              "    </tr>\n",
              "    <tr>\n",
              "      <th>11</th>\n",
              "      <td>(Tea)</td>\n",
              "      <td>(Cake)</td>\n",
              "      <td>0.023772</td>\n",
              "      <td>0.166667</td>\n",
              "      <td>1.604781</td>\n",
              "    </tr>\n",
              "    <tr>\n",
              "      <th>10</th>\n",
              "      <td>(Cake)</td>\n",
              "      <td>(Tea)</td>\n",
              "      <td>0.023772</td>\n",
              "      <td>0.228891</td>\n",
              "      <td>1.604781</td>\n",
              "    </tr>\n",
              "    <tr>\n",
              "      <th>30</th>\n",
              "      <td>(Toast)</td>\n",
              "      <td>(Coffee)</td>\n",
              "      <td>0.023666</td>\n",
              "      <td>0.704403</td>\n",
              "      <td>1.472431</td>\n",
              "    </tr>\n",
              "    <tr>\n",
              "      <th>31</th>\n",
              "      <td>(Coffee)</td>\n",
              "      <td>(Toast)</td>\n",
              "      <td>0.023666</td>\n",
              "      <td>0.049470</td>\n",
              "      <td>1.472431</td>\n",
              "    </tr>\n",
              "    <tr>\n",
              "      <th>37</th>\n",
              "      <td>(Pastry)</td>\n",
              "      <td>(Bread, Coffee)</td>\n",
              "      <td>0.011199</td>\n",
              "      <td>0.130061</td>\n",
              "      <td>1.444872</td>\n",
              "    </tr>\n",
              "    <tr>\n",
              "      <th>36</th>\n",
              "      <td>(Bread, Coffee)</td>\n",
              "      <td>(Pastry)</td>\n",
              "      <td>0.011199</td>\n",
              "      <td>0.124413</td>\n",
              "      <td>1.444872</td>\n",
              "    </tr>\n",
              "    <tr>\n",
              "      <th>32</th>\n",
              "      <td>(Sandwich)</td>\n",
              "      <td>(Tea)</td>\n",
              "      <td>0.014369</td>\n",
              "      <td>0.200000</td>\n",
              "      <td>1.402222</td>\n",
              "    </tr>\n",
              "    <tr>\n",
              "      <th>33</th>\n",
              "      <td>(Tea)</td>\n",
              "      <td>(Sandwich)</td>\n",
              "      <td>0.014369</td>\n",
              "      <td>0.100741</td>\n",
              "      <td>1.402222</td>\n",
              "    </tr>\n",
              "    <tr>\n",
              "      <th>41</th>\n",
              "      <td>(Tea)</td>\n",
              "      <td>(Coffee, Cake)</td>\n",
              "      <td>0.010037</td>\n",
              "      <td>0.070370</td>\n",
              "      <td>1.285822</td>\n",
              "    </tr>\n",
              "    <tr>\n",
              "      <th>38</th>\n",
              "      <td>(Coffee, Cake)</td>\n",
              "      <td>(Tea)</td>\n",
              "      <td>0.010037</td>\n",
              "      <td>0.183398</td>\n",
              "      <td>1.285822</td>\n",
              "    </tr>\n",
              "    <tr>\n",
              "      <th>29</th>\n",
              "      <td>(Coffee)</td>\n",
              "      <td>(Spanish Brunch)</td>\n",
              "      <td>0.010882</td>\n",
              "      <td>0.022747</td>\n",
              "      <td>1.251766</td>\n",
              "    </tr>\n",
              "    <tr>\n",
              "      <th>28</th>\n",
              "      <td>(Spanish Brunch)</td>\n",
              "      <td>(Coffee)</td>\n",
              "      <td>0.010882</td>\n",
              "      <td>0.598837</td>\n",
              "      <td>1.251766</td>\n",
              "    </tr>\n",
              "    <tr>\n",
              "      <th>18</th>\n",
              "      <td>(Coffee)</td>\n",
              "      <td>(Medialuna)</td>\n",
              "      <td>0.035182</td>\n",
              "      <td>0.073542</td>\n",
              "      <td>1.189878</td>\n",
              "    </tr>\n",
              "    <tr>\n",
              "      <th>19</th>\n",
              "      <td>(Medialuna)</td>\n",
              "      <td>(Coffee)</td>\n",
              "      <td>0.035182</td>\n",
              "      <td>0.569231</td>\n",
              "      <td>1.189878</td>\n",
              "    </tr>\n",
              "    <tr>\n",
              "      <th>23</th>\n",
              "      <td>(Coffee)</td>\n",
              "      <td>(Pastry)</td>\n",
              "      <td>0.047544</td>\n",
              "      <td>0.099382</td>\n",
              "      <td>1.154168</td>\n",
              "    </tr>\n",
              "    <tr>\n",
              "      <th>22</th>\n",
              "      <td>(Pastry)</td>\n",
              "      <td>(Coffee)</td>\n",
              "      <td>0.047544</td>\n",
              "      <td>0.552147</td>\n",
              "      <td>1.154168</td>\n",
              "    </tr>\n",
              "    <tr>\n",
              "      <th>1</th>\n",
              "      <td>(Coffee)</td>\n",
              "      <td>(Alfajores)</td>\n",
              "      <td>0.019651</td>\n",
              "      <td>0.041078</td>\n",
              "      <td>1.130235</td>\n",
              "    </tr>\n",
              "    <tr>\n",
              "      <th>0</th>\n",
              "      <td>(Alfajores)</td>\n",
              "      <td>(Coffee)</td>\n",
              "      <td>0.019651</td>\n",
              "      <td>0.540698</td>\n",
              "      <td>1.130235</td>\n",
              "    </tr>\n",
              "    <tr>\n",
              "      <th>17</th>\n",
              "      <td>(Coffee)</td>\n",
              "      <td>(Juice)</td>\n",
              "      <td>0.020602</td>\n",
              "      <td>0.043065</td>\n",
              "      <td>1.116750</td>\n",
              "    </tr>\n",
              "    <tr>\n",
              "      <th>16</th>\n",
              "      <td>(Juice)</td>\n",
              "      <td>(Coffee)</td>\n",
              "      <td>0.020602</td>\n",
              "      <td>0.534247</td>\n",
              "      <td>1.116750</td>\n",
              "    </tr>\n",
              "    <tr>\n",
              "      <th>24</th>\n",
              "      <td>(Coffee)</td>\n",
              "      <td>(Sandwich)</td>\n",
              "      <td>0.038246</td>\n",
              "      <td>0.079947</td>\n",
              "      <td>1.112792</td>\n",
              "    </tr>\n",
              "    <tr>\n",
              "      <th>25</th>\n",
              "      <td>(Sandwich)</td>\n",
              "      <td>(Coffee)</td>\n",
              "      <td>0.038246</td>\n",
              "      <td>0.532353</td>\n",
              "      <td>1.112792</td>\n",
              "    </tr>\n",
              "    <tr>\n",
              "      <th>7</th>\n",
              "      <td>(Cake)</td>\n",
              "      <td>(Coffee)</td>\n",
              "      <td>0.054728</td>\n",
              "      <td>0.526958</td>\n",
              "      <td>1.101515</td>\n",
              "    </tr>\n",
              "    <tr>\n",
              "      <th>6</th>\n",
              "      <td>(Coffee)</td>\n",
              "      <td>(Cake)</td>\n",
              "      <td>0.054728</td>\n",
              "      <td>0.114399</td>\n",
              "      <td>1.101515</td>\n",
              "    </tr>\n",
              "    <tr>\n",
              "      <th>26</th>\n",
              "      <td>(Scone)</td>\n",
              "      <td>(Coffee)</td>\n",
              "      <td>0.018067</td>\n",
              "      <td>0.522936</td>\n",
              "      <td>1.093107</td>\n",
              "    </tr>\n",
              "    <tr>\n",
              "      <th>27</th>\n",
              "      <td>(Coffee)</td>\n",
              "      <td>(Scone)</td>\n",
              "      <td>0.018067</td>\n",
              "      <td>0.037765</td>\n",
              "      <td>1.093107</td>\n",
              "    </tr>\n",
              "    <tr>\n",
              "      <th>12</th>\n",
              "      <td>(Coffee)</td>\n",
              "      <td>(Cookies)</td>\n",
              "      <td>0.028209</td>\n",
              "      <td>0.058966</td>\n",
              "      <td>1.083723</td>\n",
              "    </tr>\n",
              "    <tr>\n",
              "      <th>13</th>\n",
              "      <td>(Cookies)</td>\n",
              "      <td>(Coffee)</td>\n",
              "      <td>0.028209</td>\n",
              "      <td>0.518447</td>\n",
              "      <td>1.083723</td>\n",
              "    </tr>\n",
              "    <tr>\n",
              "      <th>34</th>\n",
              "      <td>(Bread, Coffee)</td>\n",
              "      <td>(Cake)</td>\n",
              "      <td>0.010037</td>\n",
              "      <td>0.111502</td>\n",
              "      <td>1.073621</td>\n",
              "    </tr>\n",
              "    <tr>\n",
              "      <th>35</th>\n",
              "      <td>(Cake)</td>\n",
              "      <td>(Bread, Coffee)</td>\n",
              "      <td>0.010037</td>\n",
              "      <td>0.096643</td>\n",
              "      <td>1.073621</td>\n",
              "    </tr>\n",
              "    <tr>\n",
              "      <th>14</th>\n",
              "      <td>(Hot chocolate)</td>\n",
              "      <td>(Coffee)</td>\n",
              "      <td>0.029583</td>\n",
              "      <td>0.507246</td>\n",
              "      <td>1.060311</td>\n",
              "    </tr>\n",
              "    <tr>\n",
              "      <th>15</th>\n",
              "      <td>(Coffee)</td>\n",
              "      <td>(Hot chocolate)</td>\n",
              "      <td>0.029583</td>\n",
              "      <td>0.061837</td>\n",
              "      <td>1.060311</td>\n",
              "    </tr>\n",
              "    <tr>\n",
              "      <th>3</th>\n",
              "      <td>(Bread)</td>\n",
              "      <td>(Pastry)</td>\n",
              "      <td>0.029160</td>\n",
              "      <td>0.089119</td>\n",
              "      <td>1.034977</td>\n",
              "    </tr>\n",
              "    <tr>\n",
              "      <th>2</th>\n",
              "      <td>(Pastry)</td>\n",
              "      <td>(Bread)</td>\n",
              "      <td>0.029160</td>\n",
              "      <td>0.338650</td>\n",
              "      <td>1.034977</td>\n",
              "    </tr>\n",
              "    <tr>\n",
              "      <th>5</th>\n",
              "      <td>(Brownie)</td>\n",
              "      <td>(Coffee)</td>\n",
              "      <td>0.019651</td>\n",
              "      <td>0.490765</td>\n",
              "      <td>1.025860</td>\n",
              "    </tr>\n",
              "    <tr>\n",
              "      <th>4</th>\n",
              "      <td>(Coffee)</td>\n",
              "      <td>(Brownie)</td>\n",
              "      <td>0.019651</td>\n",
              "      <td>0.041078</td>\n",
              "      <td>1.025860</td>\n",
              "    </tr>\n",
              "    <tr>\n",
              "      <th>20</th>\n",
              "      <td>(Coffee)</td>\n",
              "      <td>(Muffin)</td>\n",
              "      <td>0.018806</td>\n",
              "      <td>0.039311</td>\n",
              "      <td>1.022193</td>\n",
              "    </tr>\n",
              "    <tr>\n",
              "      <th>21</th>\n",
              "      <td>(Muffin)</td>\n",
              "      <td>(Coffee)</td>\n",
              "      <td>0.018806</td>\n",
              "      <td>0.489011</td>\n",
              "      <td>1.022193</td>\n",
              "    </tr>\n",
              "  </tbody>\n",
              "</table>\n",
              "</div>\n",
              "      <button class=\"colab-df-convert\" onclick=\"convertToInteractive('df-b32ef605-65d7-4827-8f05-1ccef0a3ec9e')\"\n",
              "              title=\"Convert this dataframe to an interactive table.\"\n",
              "              style=\"display:none;\">\n",
              "        \n",
              "  <svg xmlns=\"http://www.w3.org/2000/svg\" height=\"24px\"viewBox=\"0 0 24 24\"\n",
              "       width=\"24px\">\n",
              "    <path d=\"M0 0h24v24H0V0z\" fill=\"none\"/>\n",
              "    <path d=\"M18.56 5.44l.94 2.06.94-2.06 2.06-.94-2.06-.94-.94-2.06-.94 2.06-2.06.94zm-11 1L8.5 8.5l.94-2.06 2.06-.94-2.06-.94L8.5 2.5l-.94 2.06-2.06.94zm10 10l.94 2.06.94-2.06 2.06-.94-2.06-.94-.94-2.06-.94 2.06-2.06.94z\"/><path d=\"M17.41 7.96l-1.37-1.37c-.4-.4-.92-.59-1.43-.59-.52 0-1.04.2-1.43.59L10.3 9.45l-7.72 7.72c-.78.78-.78 2.05 0 2.83L4 21.41c.39.39.9.59 1.41.59.51 0 1.02-.2 1.41-.59l7.78-7.78 2.81-2.81c.8-.78.8-2.07 0-2.86zM5.41 20L4 18.59l7.72-7.72 1.47 1.35L5.41 20z\"/>\n",
              "  </svg>\n",
              "      </button>\n",
              "      \n",
              "  <style>\n",
              "    .colab-df-container {\n",
              "      display:flex;\n",
              "      flex-wrap:wrap;\n",
              "      gap: 12px;\n",
              "    }\n",
              "\n",
              "    .colab-df-convert {\n",
              "      background-color: #E8F0FE;\n",
              "      border: none;\n",
              "      border-radius: 50%;\n",
              "      cursor: pointer;\n",
              "      display: none;\n",
              "      fill: #1967D2;\n",
              "      height: 32px;\n",
              "      padding: 0 0 0 0;\n",
              "      width: 32px;\n",
              "    }\n",
              "\n",
              "    .colab-df-convert:hover {\n",
              "      background-color: #E2EBFA;\n",
              "      box-shadow: 0px 1px 2px rgba(60, 64, 67, 0.3), 0px 1px 3px 1px rgba(60, 64, 67, 0.15);\n",
              "      fill: #174EA6;\n",
              "    }\n",
              "\n",
              "    [theme=dark] .colab-df-convert {\n",
              "      background-color: #3B4455;\n",
              "      fill: #D2E3FC;\n",
              "    }\n",
              "\n",
              "    [theme=dark] .colab-df-convert:hover {\n",
              "      background-color: #434B5C;\n",
              "      box-shadow: 0px 1px 3px 1px rgba(0, 0, 0, 0.15);\n",
              "      filter: drop-shadow(0px 1px 2px rgba(0, 0, 0, 0.3));\n",
              "      fill: #FFFFFF;\n",
              "    }\n",
              "  </style>\n",
              "\n",
              "      <script>\n",
              "        const buttonEl =\n",
              "          document.querySelector('#df-b32ef605-65d7-4827-8f05-1ccef0a3ec9e button.colab-df-convert');\n",
              "        buttonEl.style.display =\n",
              "          google.colab.kernel.accessAllowed ? 'block' : 'none';\n",
              "\n",
              "        async function convertToInteractive(key) {\n",
              "          const element = document.querySelector('#df-b32ef605-65d7-4827-8f05-1ccef0a3ec9e');\n",
              "          const dataTable =\n",
              "            await google.colab.kernel.invokeFunction('convertToInteractive',\n",
              "                                                     [key], {});\n",
              "          if (!dataTable) return;\n",
              "\n",
              "          const docLinkHtml = 'Like what you see? Visit the ' +\n",
              "            '<a target=\"_blank\" href=https://colab.research.google.com/notebooks/data_table.ipynb>data table notebook</a>'\n",
              "            + ' to learn more about interactive tables.';\n",
              "          element.innerHTML = '';\n",
              "          dataTable['output_type'] = 'display_data';\n",
              "          await google.colab.output.renderOutput(dataTable, element);\n",
              "          const docLink = document.createElement('div');\n",
              "          docLink.innerHTML = docLinkHtml;\n",
              "          element.appendChild(docLink);\n",
              "        }\n",
              "      </script>\n",
              "    </div>\n",
              "  </div>\n",
              "  "
            ]
          },
          "metadata": {},
          "execution_count": 42
        }
      ]
    },
    {
      "cell_type": "code",
      "source": [
        "from mlxtend.frequent_patterns import apriori\n",
        "from mlxtend.frequent_patterns import association_rules\n",
        "import pandas as pd\n",
        "\n",
        "def perform_association_rule_mining(df, min_support=0.01, metric='lift', min_threshold=1.0):\n",
        "    # Melakukan Apriori Algorithm untuk menghasilkan frequent itemsets\n",
        "    frequent_itemsets = apriori(df, min_support=min_support, use_colnames=True)\n",
        "    \n",
        "    # Melakukan Association Rule Mining pada frequent itemsets dengan metric dan min_threshold tertentu\n",
        "    rules = association_rules(frequent_itemsets, metric=metric, min_threshold=min_threshold)\n",
        "    \n",
        "    # Buat DataFrame untuk menampilkan hasil Association Rule Mining\n",
        "    result = pd.DataFrame(rules[['antecedents', 'consequents', 'support', 'confidence', 'lift']])\n",
        "    result = result.sort_values('lift', ascending=False)\n",
        "    \n",
        "    return result\n"
      ],
      "metadata": {
        "id": "jgs243pcwg4W"
      },
      "execution_count": null,
      "outputs": []
    },
    {
      "cell_type": "markdown",
      "source": [
        "Fungsi perform_association_rule_mining menerima parameter df yang merupakan DataFrame hasil one-hot encoding dari daftar item transaksi unik, min_support yang merupakan nilai minimum support, metric yang merupakan metrik yang digunakan untuk Association Rule Mining, dan min_threshold yang merupakan nilai minimum threshold. Fungsi ini akan mengembalikan DataFrame yang berisi hasil Association Rule Mining."
      ],
      "metadata": {
        "id": "Pge0bjT8w9MG"
      }
    },
    {
      "cell_type": "code",
      "source": [
        "result = perform_association_rule_mining(df2, min_support=0.01, metric='lift', min_threshold=1.0)\n",
        "print(result)\n"
      ],
      "metadata": {
        "colab": {
          "base_uri": "https://localhost:8080/"
        },
        "id": "r4f5jmvaw-Mx",
        "outputId": "0eeadb7a-7824-41a6-a04c-6f01e126ad61"
      },
      "execution_count": null,
      "outputs": [
        {
          "output_type": "stream",
          "name": "stdout",
          "text": [
            "         antecedents       consequents   support  confidence      lift\n",
            "40            (Cake)     (Coffee, Tea)  0.010037    0.096643  1.937977\n",
            "39     (Coffee, Tea)            (Cake)  0.010037    0.201271  1.937977\n",
            "8    (Hot chocolate)            (Cake)  0.011410    0.195652  1.883874\n",
            "9             (Cake)   (Hot chocolate)  0.011410    0.109868  1.883874\n",
            "11             (Tea)            (Cake)  0.023772    0.166667  1.604781\n",
            "10            (Cake)             (Tea)  0.023772    0.228891  1.604781\n",
            "30           (Toast)          (Coffee)  0.023666    0.704403  1.472431\n",
            "31          (Coffee)           (Toast)  0.023666    0.049470  1.472431\n",
            "37          (Pastry)   (Bread, Coffee)  0.011199    0.130061  1.444872\n",
            "36   (Bread, Coffee)          (Pastry)  0.011199    0.124413  1.444872\n",
            "32        (Sandwich)             (Tea)  0.014369    0.200000  1.402222\n",
            "33             (Tea)        (Sandwich)  0.014369    0.100741  1.402222\n",
            "41             (Tea)    (Coffee, Cake)  0.010037    0.070370  1.285822\n",
            "38    (Coffee, Cake)             (Tea)  0.010037    0.183398  1.285822\n",
            "29          (Coffee)  (Spanish Brunch)  0.010882    0.022747  1.251766\n",
            "28  (Spanish Brunch)          (Coffee)  0.010882    0.598837  1.251766\n",
            "18          (Coffee)       (Medialuna)  0.035182    0.073542  1.189878\n",
            "19       (Medialuna)          (Coffee)  0.035182    0.569231  1.189878\n",
            "23          (Coffee)          (Pastry)  0.047544    0.099382  1.154168\n",
            "22          (Pastry)          (Coffee)  0.047544    0.552147  1.154168\n",
            "1           (Coffee)       (Alfajores)  0.019651    0.041078  1.130235\n",
            "0        (Alfajores)          (Coffee)  0.019651    0.540698  1.130235\n",
            "17          (Coffee)           (Juice)  0.020602    0.043065  1.116750\n",
            "16           (Juice)          (Coffee)  0.020602    0.534247  1.116750\n",
            "24          (Coffee)        (Sandwich)  0.038246    0.079947  1.112792\n",
            "25        (Sandwich)          (Coffee)  0.038246    0.532353  1.112792\n",
            "7             (Cake)          (Coffee)  0.054728    0.526958  1.101515\n",
            "6           (Coffee)            (Cake)  0.054728    0.114399  1.101515\n",
            "26           (Scone)          (Coffee)  0.018067    0.522936  1.093107\n",
            "27          (Coffee)           (Scone)  0.018067    0.037765  1.093107\n",
            "12          (Coffee)         (Cookies)  0.028209    0.058966  1.083723\n",
            "13         (Cookies)          (Coffee)  0.028209    0.518447  1.083723\n",
            "34   (Bread, Coffee)            (Cake)  0.010037    0.111502  1.073621\n",
            "35            (Cake)   (Bread, Coffee)  0.010037    0.096643  1.073621\n",
            "14   (Hot chocolate)          (Coffee)  0.029583    0.507246  1.060311\n",
            "15          (Coffee)   (Hot chocolate)  0.029583    0.061837  1.060311\n",
            "3            (Bread)          (Pastry)  0.029160    0.089119  1.034977\n",
            "2           (Pastry)           (Bread)  0.029160    0.338650  1.034977\n",
            "5          (Brownie)          (Coffee)  0.019651    0.490765  1.025860\n",
            "4           (Coffee)         (Brownie)  0.019651    0.041078  1.025860\n",
            "20          (Coffee)          (Muffin)  0.018806    0.039311  1.022193\n",
            "21          (Muffin)          (Coffee)  0.018806    0.489011  1.022193\n"
          ]
        }
      ]
    },
    {
      "cell_type": "markdown",
      "source": [
        "Kode di atas akan menghasilkan DataFrame (result) yang berisi hasil Association Rule Mining yang didapat dari DataFrame hasil one-hot encoding dari daftar item transaksi unik. Dalam modifikasi ini, proses Association Rule Mining dibuat menjadi sebuah fungsi yang dapat digunakan secara reusable dan mudah dipanggil saat diperlukan."
      ],
      "metadata": {
        "id": "eOZu3aYgxApc"
      }
    },
    {
      "cell_type": "markdown",
      "source": [
        "Penjelasan Modifikanya: \n",
        "\n",
        "Modifikasi yang dilakukan pada kode sebelumnya adalah dengan membuat sebuah fungsi perform_association_rule_mining yang menerima parameter df, min_support, metric, dan min_threshold. Fungsi ini digunakan untuk melakukan Association Rule Mining pada DataFrame hasil one-hot encoding dari daftar item transaksi unik (df2). Fungsi ini menggunakan fungsi apriori dan association_rules dari library mlxtend untuk melakukan Association Rule Mining pada DataFrame input dengan parameter yang diberikan. Kemudian fungsi mengembalikan sebuah DataFrame (result) yang berisi hasil Association Rule Mining.\n",
        "\n",
        "Dengan memodifikasi kode tersebut menjadi sebuah fungsi, maka proses Association Rule Mining pada DataFrame hasil one-hot encoding dari daftar item transaksi unik dapat dilakukan secara reusable dan lebih mudah dipanggil saat diperlukan. Selain itu, modifikasi ini juga membuat kode menjadi lebih bersih dan terstruktur, sehingga lebih mudah dipahami dan dimodifikasi di masa yang akan datang."
      ],
      "metadata": {
        "id": "dNm75ruGxIGz"
      }
    },
    {
      "cell_type": "markdown",
      "source": [
        "Modifikasi code pada bagian metrik:"
      ],
      "metadata": {
        "id": "HO6I63T2y9qf"
      }
    },
    {
      "cell_type": "markdown",
      "source": [
        "Tabel yang diberikan sebelumnya menampilkan hasil association rule mining dengan nilai support, confidence, dan lift untuk setiap aturan. Namun, mungkin kita ingin mengambil subset dari aturan dengan kriteria tertentu, misalnya aturan dengan nilai support dan confidence di atas ambang batas tertentu. Untuk itu, kita dapat melakukan modifikasi pada kode bagian metrik sehingga dapat mengambil subset dari aturan dengan kriteria tertentu."
      ],
      "metadata": {
        "id": "HR6lik-2zHoc"
      }
    },
    {
      "cell_type": "code",
      "source": [
        "threshold_support = 0.02\n",
        "threshold_confidence = 0.5\n",
        "\n",
        "frequent_itemsets = apriori(df2, min_support=0.01, use_colnames=True)\n",
        "rules = association_rules(frequent_itemsets, metric='lift', min_threshold=1.0)\n",
        "\n",
        "# mengambil subset aturan dengan support dan confidence di atas ambang batas tertentu\n",
        "subset_rules = rules[(rules['support'] >= threshold_support) & (rules['confidence'] >= threshold_confidence)]\n",
        "\n",
        "# menampilkan subset aturan dengan kolom support, confidence, dan lift\n",
        "subset_rules[['antecedents','consequents', 'support', 'confidence', 'lift']].sort_values('lift', ascending=False)\n"
      ],
      "metadata": {
        "colab": {
          "base_uri": "https://localhost:8080/",
          "height": 300
        },
        "id": "xGZVvJ4EzIML",
        "outputId": "00e59330-daac-4b95-c81a-0d00f90b86d7"
      },
      "execution_count": null,
      "outputs": [
        {
          "output_type": "execute_result",
          "data": {
            "text/plain": [
              "        antecedents consequents   support  confidence      lift\n",
              "30          (Toast)    (Coffee)  0.023666    0.704403  1.472431\n",
              "19      (Medialuna)    (Coffee)  0.035182    0.569231  1.189878\n",
              "22         (Pastry)    (Coffee)  0.047544    0.552147  1.154168\n",
              "16          (Juice)    (Coffee)  0.020602    0.534247  1.116750\n",
              "25       (Sandwich)    (Coffee)  0.038246    0.532353  1.112792\n",
              "7            (Cake)    (Coffee)  0.054728    0.526958  1.101515\n",
              "13        (Cookies)    (Coffee)  0.028209    0.518447  1.083723\n",
              "14  (Hot chocolate)    (Coffee)  0.029583    0.507246  1.060311"
            ],
            "text/html": [
              "\n",
              "  <div id=\"df-7bfee296-8677-4cb6-97d6-595b7c0305b0\">\n",
              "    <div class=\"colab-df-container\">\n",
              "      <div>\n",
              "<style scoped>\n",
              "    .dataframe tbody tr th:only-of-type {\n",
              "        vertical-align: middle;\n",
              "    }\n",
              "\n",
              "    .dataframe tbody tr th {\n",
              "        vertical-align: top;\n",
              "    }\n",
              "\n",
              "    .dataframe thead th {\n",
              "        text-align: right;\n",
              "    }\n",
              "</style>\n",
              "<table border=\"1\" class=\"dataframe\">\n",
              "  <thead>\n",
              "    <tr style=\"text-align: right;\">\n",
              "      <th></th>\n",
              "      <th>antecedents</th>\n",
              "      <th>consequents</th>\n",
              "      <th>support</th>\n",
              "      <th>confidence</th>\n",
              "      <th>lift</th>\n",
              "    </tr>\n",
              "  </thead>\n",
              "  <tbody>\n",
              "    <tr>\n",
              "      <th>30</th>\n",
              "      <td>(Toast)</td>\n",
              "      <td>(Coffee)</td>\n",
              "      <td>0.023666</td>\n",
              "      <td>0.704403</td>\n",
              "      <td>1.472431</td>\n",
              "    </tr>\n",
              "    <tr>\n",
              "      <th>19</th>\n",
              "      <td>(Medialuna)</td>\n",
              "      <td>(Coffee)</td>\n",
              "      <td>0.035182</td>\n",
              "      <td>0.569231</td>\n",
              "      <td>1.189878</td>\n",
              "    </tr>\n",
              "    <tr>\n",
              "      <th>22</th>\n",
              "      <td>(Pastry)</td>\n",
              "      <td>(Coffee)</td>\n",
              "      <td>0.047544</td>\n",
              "      <td>0.552147</td>\n",
              "      <td>1.154168</td>\n",
              "    </tr>\n",
              "    <tr>\n",
              "      <th>16</th>\n",
              "      <td>(Juice)</td>\n",
              "      <td>(Coffee)</td>\n",
              "      <td>0.020602</td>\n",
              "      <td>0.534247</td>\n",
              "      <td>1.116750</td>\n",
              "    </tr>\n",
              "    <tr>\n",
              "      <th>25</th>\n",
              "      <td>(Sandwich)</td>\n",
              "      <td>(Coffee)</td>\n",
              "      <td>0.038246</td>\n",
              "      <td>0.532353</td>\n",
              "      <td>1.112792</td>\n",
              "    </tr>\n",
              "    <tr>\n",
              "      <th>7</th>\n",
              "      <td>(Cake)</td>\n",
              "      <td>(Coffee)</td>\n",
              "      <td>0.054728</td>\n",
              "      <td>0.526958</td>\n",
              "      <td>1.101515</td>\n",
              "    </tr>\n",
              "    <tr>\n",
              "      <th>13</th>\n",
              "      <td>(Cookies)</td>\n",
              "      <td>(Coffee)</td>\n",
              "      <td>0.028209</td>\n",
              "      <td>0.518447</td>\n",
              "      <td>1.083723</td>\n",
              "    </tr>\n",
              "    <tr>\n",
              "      <th>14</th>\n",
              "      <td>(Hot chocolate)</td>\n",
              "      <td>(Coffee)</td>\n",
              "      <td>0.029583</td>\n",
              "      <td>0.507246</td>\n",
              "      <td>1.060311</td>\n",
              "    </tr>\n",
              "  </tbody>\n",
              "</table>\n",
              "</div>\n",
              "      <button class=\"colab-df-convert\" onclick=\"convertToInteractive('df-7bfee296-8677-4cb6-97d6-595b7c0305b0')\"\n",
              "              title=\"Convert this dataframe to an interactive table.\"\n",
              "              style=\"display:none;\">\n",
              "        \n",
              "  <svg xmlns=\"http://www.w3.org/2000/svg\" height=\"24px\"viewBox=\"0 0 24 24\"\n",
              "       width=\"24px\">\n",
              "    <path d=\"M0 0h24v24H0V0z\" fill=\"none\"/>\n",
              "    <path d=\"M18.56 5.44l.94 2.06.94-2.06 2.06-.94-2.06-.94-.94-2.06-.94 2.06-2.06.94zm-11 1L8.5 8.5l.94-2.06 2.06-.94-2.06-.94L8.5 2.5l-.94 2.06-2.06.94zm10 10l.94 2.06.94-2.06 2.06-.94-2.06-.94-.94-2.06-.94 2.06-2.06.94z\"/><path d=\"M17.41 7.96l-1.37-1.37c-.4-.4-.92-.59-1.43-.59-.52 0-1.04.2-1.43.59L10.3 9.45l-7.72 7.72c-.78.78-.78 2.05 0 2.83L4 21.41c.39.39.9.59 1.41.59.51 0 1.02-.2 1.41-.59l7.78-7.78 2.81-2.81c.8-.78.8-2.07 0-2.86zM5.41 20L4 18.59l7.72-7.72 1.47 1.35L5.41 20z\"/>\n",
              "  </svg>\n",
              "      </button>\n",
              "      \n",
              "  <style>\n",
              "    .colab-df-container {\n",
              "      display:flex;\n",
              "      flex-wrap:wrap;\n",
              "      gap: 12px;\n",
              "    }\n",
              "\n",
              "    .colab-df-convert {\n",
              "      background-color: #E8F0FE;\n",
              "      border: none;\n",
              "      border-radius: 50%;\n",
              "      cursor: pointer;\n",
              "      display: none;\n",
              "      fill: #1967D2;\n",
              "      height: 32px;\n",
              "      padding: 0 0 0 0;\n",
              "      width: 32px;\n",
              "    }\n",
              "\n",
              "    .colab-df-convert:hover {\n",
              "      background-color: #E2EBFA;\n",
              "      box-shadow: 0px 1px 2px rgba(60, 64, 67, 0.3), 0px 1px 3px 1px rgba(60, 64, 67, 0.15);\n",
              "      fill: #174EA6;\n",
              "    }\n",
              "\n",
              "    [theme=dark] .colab-df-convert {\n",
              "      background-color: #3B4455;\n",
              "      fill: #D2E3FC;\n",
              "    }\n",
              "\n",
              "    [theme=dark] .colab-df-convert:hover {\n",
              "      background-color: #434B5C;\n",
              "      box-shadow: 0px 1px 3px 1px rgba(0, 0, 0, 0.15);\n",
              "      filter: drop-shadow(0px 1px 2px rgba(0, 0, 0, 0.3));\n",
              "      fill: #FFFFFF;\n",
              "    }\n",
              "  </style>\n",
              "\n",
              "      <script>\n",
              "        const buttonEl =\n",
              "          document.querySelector('#df-7bfee296-8677-4cb6-97d6-595b7c0305b0 button.colab-df-convert');\n",
              "        buttonEl.style.display =\n",
              "          google.colab.kernel.accessAllowed ? 'block' : 'none';\n",
              "\n",
              "        async function convertToInteractive(key) {\n",
              "          const element = document.querySelector('#df-7bfee296-8677-4cb6-97d6-595b7c0305b0');\n",
              "          const dataTable =\n",
              "            await google.colab.kernel.invokeFunction('convertToInteractive',\n",
              "                                                     [key], {});\n",
              "          if (!dataTable) return;\n",
              "\n",
              "          const docLinkHtml = 'Like what you see? Visit the ' +\n",
              "            '<a target=\"_blank\" href=https://colab.research.google.com/notebooks/data_table.ipynb>data table notebook</a>'\n",
              "            + ' to learn more about interactive tables.';\n",
              "          element.innerHTML = '';\n",
              "          dataTable['output_type'] = 'display_data';\n",
              "          await google.colab.output.renderOutput(dataTable, element);\n",
              "          const docLink = document.createElement('div');\n",
              "          docLink.innerHTML = docLinkHtml;\n",
              "          element.appendChild(docLink);\n",
              "        }\n",
              "      </script>\n",
              "    </div>\n",
              "  </div>\n",
              "  "
            ]
          },
          "metadata": {},
          "execution_count": 45
        }
      ]
    },
    {
      "cell_type": "markdown",
      "source": [
        "Pada kode di atas, kita menetapkan nilai threshold untuk support dan confidence, yang kemudian digunakan untuk memfilter aturan-aturan yang memiliki nilai support dan confidence di atas ambang batas tersebut. Kita juga mengubah variabel metrix menjadi subset_rules agar lebih jelas bahwa ini adalah subset aturan yang diambil.\n",
        "\n",
        "Dengan modifikasi ini, kita dapat memperoleh subset dari aturan-aturan yang lebih relevan dan kuat dalam konteks analisis yang sedang dilakukan, sehingga memudahkan kita dalam memahami hubungan antara itemset yang ditemukan dalam dataset transaksi"
      ],
      "metadata": {
        "id": "L_WRYEPxzLyQ"
      }
    },
    {
      "cell_type": "markdown",
      "source": [
        "Hasil yang diperoleh dari modifikasi kode metrik adalah subset dari aturan-aturan yang memiliki nilai support dan confidence di atas ambang batas tertentu yang telah ditetapkan. Kriteria ini digunakan untuk memilih aturan-aturan yang paling relevan dan kuat dalam analisis yang sedang dilakukan.\n",
        "\n",
        "Subset aturan yang dihasilkan dari kode modifikasi tersebut ditampilkan dalam bentuk tabel yang terdiri dari kolom antecedents, consequents, support, confidence, dan lift. Kolom antecedents dan consequents menunjukkan itemset yang terlibat dalam aturan, sedangkan kolom support, confidence, dan lift masing-masing menunjukkan nilai support, confidence, dan lift dari aturan tersebut.\n",
        "\n",
        "Dengan memperhatikan nilai-nilai metrik tersebut, kita dapat menarik beberapa kesimpulan terkait hubungan antara itemset yang ditemukan dalam dataset transaksi. Sebagai contoh, jika nilai lift suatu aturan lebih besar dari 1, maka terdapat hubungan yang positif antara itemset antecedents dan consequents dalam aturan tersebut. Selain itu, jika nilai confidence suatu aturan tinggi, maka itemset consequents cenderung muncul bersamaan dengan itemset antecedents dalam transaksi, sementara jika nilai support suatu aturan tinggi, maka itemset antecedents dan consequents muncul bersamaan dalam jumlah transaksi yang relatif besar."
      ],
      "metadata": {
        "id": "6AneCK4p0RpW"
      }
    },
    {
      "cell_type": "markdown",
      "source": [
        "Kesimpulan:\n",
        "\n",
        "Tabel yang diberikan menunjukkan hasil Association Rule Mining yang didapat dari DataFrame hasil one-hot encoding dari daftar item transaksi unik. Pada tabel tersebut, terdapat beberapa kolom yang menunjukkan nilai-nilai metrik yang digunakan dalam Association Rule Mining, yaitu support, confidence, dan lift. Berikut adalah penjelasan dari masing-masing metrik tersebut:\n",
        "\n",
        "1. Support: Merupakan frekuensi kemunculan dari suatu aturan (rule) pada seluruh transaksi yang ada. Nilai support menunjukkan seberapa sering suatu kombinasi itemset muncul dalam seluruh transaksi. Nilai support yang lebih tinggi menunjukkan bahwa kombinasi itemset tersebut lebih sering muncul dalam transaksi. Pada tabel di atas, kolom 'support' menunjukkan nilai support dari suatu aturan.\n",
        "\n",
        "2. Confidence: Merupakan ukuran seberapa sering suatu aturan terbukti benar. Confidence menunjukkan seberapa besar probabilitas bahwa jika suatu itemset A muncul dalam sebuah transaksi, maka itemset B juga akan muncul dalam transaksi tersebut. Confidence dapat dihitung dengan membagi jumlah transaksi yang memuat kedua itemset (A dan B) dengan jumlah transaksi yang memuat itemset A saja. Pada tabel di atas, kolom 'confidence' menunjukkan nilai confidence dari suatu aturan.\n",
        "\n",
        "3. Lift: Merupakan ukuran seberapa kuat hubungan antara dua itemset A dan B dalam sebuah aturan. Lift menunjukkan seberapa besar probabilitas bahwa suatu aturan terbukti benar dibandingkan dengan probabilitas jika A dan B muncul secara acak dan independen. Nilai lift yang lebih besar dari 1 menunjukkan bahwa terdapat hubungan yang kuat antara kedua itemset, sedangkan nilai lift yang kurang dari 1 menunjukkan adanya hubungan yang lemah atau bahkan tidak terdapat hubungan antara kedua itemset. Pada tabel di atas, kolom 'lift' menunjukkan nilai lift dari suatu aturan.\n",
        "\n",
        "Dari tabel tersebut, kita dapat melihat bahwa nilai support, confidence, dan lift dari setiap aturan berbeda-beda. Aturan yang memiliki nilai support, confidence, dan lift yang lebih tinggi menunjukkan bahwa aturan tersebut lebih kuat dan lebih relevan dalam konteks analisis yang sedang dilakukan. Dalam pemilihan aturan, dapat digunakan berbagai nilai threshold untuk masing-masing metrik guna mendapatkan aturan yang paling relevan dan bermanfaat."
      ],
      "metadata": {
        "id": "dcOAjmjrxxKc"
      }
    }
  ],
  "metadata": {
    "colab": {
      "provenance": []
    },
    "kernelspec": {
      "display_name": "Python 3",
      "name": "python3"
    },
    "language_info": {
      "name": "python"
    }
  },
  "nbformat": 4,
  "nbformat_minor": 0
}