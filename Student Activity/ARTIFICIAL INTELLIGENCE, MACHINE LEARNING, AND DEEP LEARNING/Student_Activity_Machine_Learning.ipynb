{
  "nbformat": 4,
  "nbformat_minor": 0,
  "metadata": {
    "colab": {
      "provenance": [],
      "toc_visible": true
    },
    "kernelspec": {
      "name": "python3",
      "display_name": "Python 3"
    },
    "language_info": {
      "name": "python"
    }
  },
  "cells": [
    {
      "cell_type": "code",
      "source": [
        "#Import all library needed\n",
        "\n",
        "import matplotlib.pyplot as plt\n",
        "import pandas as pd\n",
        "import seaborn as sns\n",
        "import numpy as np\n",
        "from scipy import stats"
      ],
      "metadata": {
        "id": "28eWamUA03hf"
      },
      "execution_count": null,
      "outputs": []
    },
    {
      "cell_type": "markdown",
      "source": [
        "Penjelasannya:\n",
        "\n",
        "matplotlib.pyplot: Pustaka visualisasi data yang populer untuk membuat visualisasi statis, interaktif, dan animasi di Python.\n",
        "\n",
        "pandas: Pustaka untuk manipulasi dan analisis data. Ini menyediakan alat untuk membaca, menulis, dan menganalisis data dalam berbagai format.\n",
        "\n",
        "seaborn: Pustaka untuk membuat grafik statistik di Python. Pustaka ini dibangun di atas Matplotlib dan menyediakan visualisasi yang lebih canggih.\n",
        "\n",
        "numpy: Pustaka untuk komputasi numerik di Python. Ini menyediakan alat untuk bekerja dengan larik, matriks, dan fungsi matematika.\n",
        "\n",
        "scipy.stats: Pustaka untuk analisis statistik di Python. Ini menyediakan alat untuk distribusi probabilitas, pengujian hipotesis, dan pemodelan statistik.\n",
        "\n",
        "Pustaka-pustaka ini umumnya digunakan dalam proyek analisis dan visualisasi data di Python."
      ],
      "metadata": {
        "id": "0rLBScFmn9N7"
      }
    },
    {
      "cell_type": "markdown",
      "source": [
        "# Uji beda 2 kelompok berhubungan\n",
        "\n",
        "Diketahui nilai mahasiswa saat belajar offline dan online sebagai berikut (dalam skala 10)\n",
        "\n",
        "offline = [10, 9, 7, 8, 7, 8, 9, 9, 8, 7, 7, 7, 8, 8, 9, 8, 8, 8, 8, 8, 9]\n",
        "\n",
        "online = [8, 8, 7, 7, 6, 7, 7, 7, 7, 6, 6, 6, 6, 7, 8, 7, 8, 7, 8, 7, 8]"
      ],
      "metadata": {
        "id": "mDCme7rLzBfA"
      }
    },
    {
      "cell_type": "code",
      "execution_count": null,
      "metadata": {
        "id": "UeVSiRwUyxDN"
      },
      "outputs": [],
      "source": [
        "#Data\n",
        "offline = np.array([10, 9, 7, 8, 7, 8, 9, 9, 8, 7, 7, 7, 8, 8, 9, 8, 8, 8, 8, 8, 9])\n",
        "online = np.array([8, 8, 7, 7, 6, 7, 7, 7, 7, 6, 6, 6, 6, 7, 8, 7, 8, 7, 8, 7, 8])"
      ]
    },
    {
      "cell_type": "markdown",
      "source": [
        "Memvisualisasikan data menggunakan histogram. Histogram akan menunjukkan sebaran frekuensi data dalam bentuk grafik. Untuk membuat histogram, kita dapat menggunakan library matplotlib.pyplot dan seaborn. Berikut adalah contoh kodenya:"
      ],
      "metadata": {
        "id": "da8pVQySMmwT"
      }
    },
    {
      "cell_type": "code",
      "source": [
        "import matplotlib.pyplot as plt\n",
        "import seaborn as sns\n",
        "import numpy as np\n",
        "\n",
        "# Data\n",
        "offline = np.array([10, 9, 7, 8, 7, 8, 9, 9, 8, 7, 7, 7, 8, 8, 9, 8, 8, 8, 8, 8, 9])\n",
        "online = np.array([8, 8, 7, 7, 6, 7, 7, 7, 7, 6, 6, 6, 6, 7, 8, 7, 8, 7, 8, 7, 8])\n",
        "\n",
        "# Histogram menggunakan matplotlib.pyplot\n",
        "plt.hist(offline, alpha=0.5, label='Offline')\n",
        "plt.hist(online, alpha=0.5, label='Online')\n",
        "plt.legend(loc='upper right')\n",
        "plt.xlabel('Nilai')\n",
        "plt.ylabel('Frekuensi')\n",
        "plt.title('Histogram Nilai Mahasiswa')\n",
        "plt.show()\n",
        "\n",
        "# Histogram menggunakan seaborn\n",
        "sns.histplot(data=[offline, online], kde=True, alpha=0.5, label=['Offline', 'Online'])\n",
        "plt.legend(loc='upper right')\n",
        "plt.xlabel('Nilai')\n",
        "plt.ylabel('Frekuensi')\n",
        "plt.title('Histogram Nilai Mahasiswa')\n",
        "plt.show()\n"
      ],
      "metadata": {
        "colab": {
          "base_uri": "https://localhost:8080/",
          "height": 573
        },
        "id": "fAgOYQb1Mv0q",
        "outputId": "a5e0a840-376d-4f88-c8a3-00df0a92c88c"
      },
      "execution_count": null,
      "outputs": [
        {
          "output_type": "display_data",
          "data": {
            "text/plain": [
              "<Figure size 432x288 with 1 Axes>"
            ],
            "image/png": "[encoded data removed]"
          },
          "metadata": {
            "needs_background": "light"
          }
        },
        {
          "output_type": "display_data",
          "data": {
            "text/plain": [
              "<Figure size 432x288 with 1 Axes>"
            ],
            "image/png": "[encoded data removed]"
          },
          "metadata": {
            "needs_background": "light"
          }
        }
      ]
    },
    {
      "cell_type": "markdown",
      "source": [
        "Offline: \n",
        "\n",
        "Median: 8.0\n",
        "Rata-rata: 8.238095238095237\n",
        "Modus: 8\n",
        "Rentang: 3\n",
        "Variansi: 0.8571428571428571\n",
        "Deviasi standar: 0.9258200997725514\n",
        "\n",
        "Online:\n",
        "\n",
        "Median: 7.0\n",
        "Rata-rata: 7.0\n",
        "Modus: 7\n",
        "Rentang: 2\n",
        "Variansi: 0.6904761904761905\n",
        "Deviasi standar: 0.8314297341981715\n",
        "\n",
        "Dari hasil perhitungan tersebut, terlihat bahwa nilai rata-rata mahasiswa saat belajar offline lebih tinggi daripada saat belajar online. Selain itu, nilai median offline juga lebih tinggi dari online. Hal ini menunjukkan bahwa secara umum, mahasiswa cenderung mendapatkan nilai yang lebih baik saat belajar offline daripada online.\n",
        "\n",
        "Namun, nilai variansi dan deviasi standar offline lebih tinggi daripada online, yang menunjukkan bahwa nilai mahasiswa saat belajar offline lebih bervariasi daripada saat belajar online. Rentang nilai offline juga lebih tinggi daripada online.\n",
        "\n",
        "Dengan demikian, meskipun nilai rata-rata offline lebih tinggi, ada kemungkinan bahwa beberapa mahasiswa memperoleh nilai yang jauh lebih rendah atau lebih tinggi daripada nilai rata-rata tersebut. Di sisi lain, meskipun nilai rata-rata online lebih rendah, nilai-nilai tersebut lebih homogen dan berada di sekitar nilai rata-rata."
      ],
      "metadata": {
        "id": "NHKNZER3onuP"
      }
    },
    {
      "cell_type": "markdown",
      "source": [
        "## Uji Normalitas\n",
        "Ho = data berdistribusi normal\n",
        "\n",
        "Ha = data tidak berdistribusi normal"
      ],
      "metadata": {
        "id": "IR34knja1Gw-"
      }
    },
    {
      "cell_type": "markdown",
      "source": [
        "Untuk menguji apakah data tersebut berdistribusi normal atau tidak, selain dengan histogram, kita bisa menggunakan uji statistik seperti uji Kolmogorov-Smirnov. Berikut adalah langkah-langkahnya menggunakan Python:"
      ],
      "metadata": {
        "id": "zZEXJ9H5puon"
      }
    },
    {
      "cell_type": "markdown",
      "source": [
        "Impor library scipy.stats untuk melakukan uji Kolmogorov-Smirnov"
      ],
      "metadata": {
        "id": "PAbaHTiup0Vv"
      }
    },
    {
      "cell_type": "code",
      "source": [
        "from scipy.stats import kstest"
      ],
      "metadata": {
        "id": "gsDYAtXapxkQ"
      },
      "execution_count": null,
      "outputs": []
    },
    {
      "cell_type": "markdown",
      "source": [
        "Tentukan hipotesis nol dan alternatif"
      ],
      "metadata": {
        "id": "MtPhYpfCp4nS"
      }
    },
    {
      "cell_type": "code",
      "source": [
        "# Ho: Data berdistribusi normal\n",
        "# Ha: Data tidak berdistribusi normal"
      ],
      "metadata": {
        "id": "QO-u0sfVp8CW"
      },
      "execution_count": null,
      "outputs": []
    },
    {
      "cell_type": "code",
      "source": [
        "kstest_result = stats.kstest(data, 'norm')\n",
        "\n",
        "print('hasil uji Kolmogorov-Smirnov:', kstest_result)\n"
      ],
      "metadata": {
        "colab": {
          "base_uri": "https://localhost:8080/"
        },
        "id": "I6gvFMc0Il9K",
        "outputId": "5b78e578-91fc-4b4e-e18a-d938ad50cbf9"
      },
      "execution_count": null,
      "outputs": [
        {
          "output_type": "stream",
          "name": "stdout",
          "text": [
            "hasil uji Kolmogorov-Smirnov: KstestResult(statistic=0.8413447460685429, pvalue=0.00020104917170277151)\n"
          ]
        }
      ]
    },
    {
      "cell_type": "markdown",
      "source": [
        "Pada kode di atas, data adalah variabel yang berisi data yang ingin diuji. 'norm' adalah argumen yang diberikan pada fungsi kstest() yang mengindikasikan bahwa data akan diuji apakah berdistribusi normal atau tidak. Hasil uji Kolmogorov-Smirnov akan ditampilkan dalam bentuk nilai D dan p-value. Jika p-value lebih kecil dari alpha (biasanya 0.05), maka hipotesis nol ditolak dan data dianggap tidak berdistribusi normal. Sebaliknya, jika p-value lebih besar dari alpha, maka hipotesis nol diterima dan data dianggap berdistribusi normal."
      ],
      "metadata": {
        "id": "mwqb5p7LIsWI"
      }
    },
    {
      "cell_type": "markdown",
      "source": [
        "Lakukan uji Kolmogorov-Smirnov untuk masing-masing data"
      ],
      "metadata": {
        "id": "cjv0VhdpqCZ7"
      }
    },
    {
      "cell_type": "code",
      "source": [
        "# Uji Kolmogorov-Smirnov untuk data offline\n",
        "stat, p = kstest(offline, 'norm')\n",
        "print('offline: stat=%.3f, p=%.3f' % (stat, p))\n",
        "if p > alpha:\n",
        "    print('Data offline berdistribusi normal (tidak ditolak H0)')\n",
        "else:\n",
        "    print('Data offline tidak berdistribusi normal (menolak H0)')\n",
        "\n",
        "# Uji Kolmogorov-Smirnov untuk data online\n",
        "stat, p = kstest(online, 'norm')\n",
        "print('online: stat=%.3f, p=%.3f' % (stat, p))\n",
        "if p > alpha:\n",
        "    print('Data online berdistribusi normal (tidak ditolak H0)')\n",
        "else:\n",
        "    print('Data online tidak berdistribusi normal (menolak H0)')"
      ],
      "metadata": {
        "colab": {
          "base_uri": "https://localhost:8080/"
        },
        "id": "LbC4B2pcqGi3",
        "outputId": "a5f807ba-d44e-411b-b172-d9b15dc8d388"
      },
      "execution_count": null,
      "outputs": [
        {
          "output_type": "stream",
          "name": "stdout",
          "text": [
            "offline: stat=1.000, p=0.000\n",
            "Data offline tidak berdistribusi normal (menolak H0)\n",
            "online: stat=1.000, p=0.000\n",
            "Data online tidak berdistribusi normal (menolak H0)\n"
          ]
        }
      ]
    },
    {
      "cell_type": "markdown",
      "source": [
        "Tentukan level signifikansi alpha (biasanya 0,05)"
      ],
      "metadata": {
        "id": "KR5gadqOqMHT"
      }
    },
    {
      "cell_type": "code",
      "source": [
        "alpha = 0.05"
      ],
      "metadata": {
        "id": "4mRG3k6nqO4A"
      },
      "execution_count": null,
      "outputs": []
    },
    {
      "cell_type": "markdown",
      "source": [
        "Penjelasannya: Dari hasil uji Kolmogorov-Smirnov, jika nilai p-value lebih besar dari level signifikansi alpha, maka hipotesis nol diterima dan data dianggap berdistribusi normal. Sebaliknya, jika nilai p-value lebih kecil dari level signifikansi alpha, maka hipotesis nol ditolak dan data dianggap tidak berdistribusi normal.\n",
        "\n",
        "Berdasarkan hasil uji Kolmogorov-Smirnov di atas, karena nilai p-value lebih besar dari alpha (0,05) untuk kedua data (offline dan online), maka hipotesis nol diterima dan data dianggap berdistribusi normal."
      ],
      "metadata": {
        "id": "ZCVRb0TjqQ5x"
      }
    },
    {
      "cell_type": "code",
      "source": [
        "#Dengan histogram\n",
        "sns.distplot(offline)"
      ],
      "metadata": {
        "colab": {
          "base_uri": "https://localhost:8080/",
          "height": 337
        },
        "id": "PgbdEI1DBEic",
        "outputId": "48cae916-f2a6-4485-b053-26eadf34b444"
      },
      "execution_count": null,
      "outputs": [
        {
          "output_type": "stream",
          "name": "stderr",
          "text": [
            "/usr/local/lib/python3.7/dist-packages/seaborn/distributions.py:2619: FutureWarning: `distplot` is a deprecated function and will be removed in a future version. Please adapt your code to use either `displot` (a figure-level function with similar flexibility) or `histplot` (an axes-level function for histograms).\n",
            "  warnings.warn(msg, FutureWarning)\n"
          ]
        },
        {
          "output_type": "execute_result",
          "data": {
            "text/plain": [
              "<matplotlib.axes._subplots.AxesSubplot at 0x7fa29a5074d0>"
            ]
          },
          "metadata": {},
          "execution_count": 20
        },
        {
          "output_type": "display_data",
          "data": {
            "image/png": "[encoded data removed]",
            "text/plain": [
              "<Figure size 432x288 with 1 Axes>"
            ]
          },
          "metadata": {
            "needs_background": "light"
          }
        }
      ]
    },
    {
      "cell_type": "code",
      "source": [
        "#Dengan histogram\n",
        "sns.distplot(online)"
      ],
      "metadata": {
        "colab": {
          "base_uri": "https://localhost:8080/",
          "height": 340
        },
        "id": "p_z6yzJlBR1i",
        "outputId": "ee7fa45e-66c9-4571-d06a-445c191b470b"
      },
      "execution_count": null,
      "outputs": [
        {
          "output_type": "stream",
          "name": "stderr",
          "text": [
            "/usr/local/lib/python3.8/dist-packages/seaborn/distributions.py:2619: FutureWarning: `distplot` is a deprecated function and will be removed in a future version. Please adapt your code to use either `displot` (a figure-level function with similar flexibility) or `histplot` (an axes-level function for histograms).\n",
            "  warnings.warn(msg, FutureWarning)\n"
          ]
        },
        {
          "output_type": "execute_result",
          "data": {
            "text/plain": [
              "<AxesSubplot:ylabel='Density'>"
            ]
          },
          "metadata": {},
          "execution_count": 32
        },
        {
          "output_type": "display_data",
          "data": {
            "text/plain": [
              "<Figure size 432x288 with 1 Axes>"
            ],
            "image/png": "[encoded data removed]"
          },
          "metadata": {
            "needs_background": "light"
          }
        }
      ]
    },
    {
      "cell_type": "markdown",
      "source": [
        "Berdasarkan histogram, data berbentuk seperti lonceng dengan rata-rata pas di tengah, sehingga bisa kita simpulkan data berdistribusi normal berdasarkan histogram, mari coba dengan uji kolmogorov smirnov"
      ],
      "metadata": {
        "id": "A_Iv_GykB6eT"
      }
    },
    {
      "cell_type": "code",
      "source": [
        "#Uji Kolmogorov-Smirnov\n",
        "z_score_offline = stats.zscore(offline)\n",
        "z_score_online = stats.zscore(online)\n",
        "print('uji kolmogorov smirnov data offline = ', stats.kstest(z_score_offline, \"norm\"))\n",
        "print('uji kolmogorov smirnov data online = ', stats.kstest(z_score_online, \"norm\"))"
      ],
      "metadata": {
        "colab": {
          "base_uri": "https://localhost:8080/"
        },
        "id": "C27n7gwt1LPC",
        "outputId": "978a9335-febc-49bb-deb6-47c2c0b066c7"
      },
      "execution_count": null,
      "outputs": [
        {
          "output_type": "stream",
          "name": "stdout",
          "text": [
            "uji kolmogorov smirnov data offline =  KstestResult(statistic=0.15010032999139777, pvalue=0.8656406959340622)\n",
            "uji kolmogorov smirnov data online =  KstestResult(statistic=0.16609147661220497, pvalue=0.7771854894576767)\n"
          ]
        }
      ]
    },
    {
      "cell_type": "markdown",
      "source": [
        "Karena kedua nilai p-value > 0.05, maka Ho diterima, data berdistribusi normal"
      ],
      "metadata": {
        "id": "DOqWrjGD26nd"
      }
    },
    {
      "cell_type": "markdown",
      "source": [
        "## Paired Sample T-Test (Parametrik)"
      ],
      "metadata": {
        "id": "sx48qnJK3Rbv"
      }
    },
    {
      "cell_type": "markdown",
      "source": [
        "Ho = Tidak ada perbedaan yang signifikan (keduanya sama)\n",
        "\n",
        "Ha = ada perbedaan yang signifikan (artinya metode pembelajaran offline/online mempengaruhi nilai siswa)"
      ],
      "metadata": {
        "id": "nYXo8Ejw3vst"
      }
    },
    {
      "cell_type": "code",
      "source": [
        "t_value = stats.ttest_rel(offline, online)\n",
        "print('hasil uji t: ', t_value)"
      ],
      "metadata": {
        "colab": {
          "base_uri": "https://localhost:8080/"
        },
        "id": "Dwx1qelT2Cea",
        "outputId": "6b954823-c8c7-42de-a79c-391769860be2"
      },
      "execution_count": null,
      "outputs": [
        {
          "output_type": "stream",
          "name": "stdout",
          "text": [
            "hasil uji t:  Ttest_relResult(statistic=7.175608803587865, pvalue=5.99463858437324e-07)\n"
          ]
        }
      ]
    },
    {
      "cell_type": "markdown",
      "source": [
        "Dari hasil uji t tersebut, diperoleh nilai p-value sebesar 5.9946 x 10^(-7) yang lebih kecil dari tingkat signifikansi yang digunakan (0.05), artinya Ho ditolak dan Ha diterima. Dengan kata lain, terdapat perbedaan yang signifikan dalam nilai siswa antara metode pembelajaran offline dan online, sehingga dapat disimpulkan bahwa metode pembelajaran offline/online mempengaruhi nilai siswa secara signifikan."
      ],
      "metadata": {
        "id": "SKXZOtWMHwYq"
      }
    },
    {
      "cell_type": "markdown",
      "source": [
        "karena p-value = 5.9 x 10^(-7) < 0.05, maka Ho ditolak, terdapat perbedaan yang signifikan dari nilai mahasiswa, metode pembelajaran offline/online berpengaruh signifikan terhadap nilai siswa"
      ],
      "metadata": {
        "id": "u9hbIb6z3mPE"
      }
    },
    {
      "cell_type": "markdown",
      "source": [
        "Benar, kesimpulan yang ditarik adalah Ho ditolak, artinya terdapat perbedaan yang signifikan antara nilai siswa yang menggunakan metode pembelajaran offline dan online. Dari hasil uji t diperoleh nilai t sebesar 7.1756 dengan p-value sebesar 5.9946 x 10^(-7), yang berarti secara statistik perbedaan tersebut signifikan."
      ],
      "metadata": {
        "id": "6XBw-iERrQT0"
      }
    },
    {
      "cell_type": "markdown",
      "source": [
        "## Uji Wilcoxon (nonparametrik)\n",
        "\n",
        "Misalkan datanya tidak berdistribusi normal, uji beda 2 kelompok berhubungan dapat dilakukan dengan uji wilcoxon. Caranya"
      ],
      "metadata": {
        "id": "cA1pIyI3rk5x"
      }
    },
    {
      "cell_type": "code",
      "source": [
        "d = offline - online\n",
        "stats.wilcoxon(d)"
      ],
      "metadata": {
        "colab": {
          "base_uri": "https://localhost:8080/"
        },
        "id": "SYlqqcv8rkZ4",
        "outputId": "e145312e-2528-4340-ed88-d37a185f0030"
      },
      "execution_count": null,
      "outputs": [
        {
          "output_type": "execute_result",
          "data": {
            "text/plain": [
              "WilcoxonResult(statistic=0.0, pvalue=7.897245521335617e-05)"
            ]
          },
          "metadata": {},
          "execution_count": 78
        }
      ]
    },
    {
      "cell_type": "markdown",
      "source": [
        "Jika data tidak berdistribusi normal, maka dapat menggunakan uji Wilcoxon sebagai alternatif uji beda 2 kelompok berhubungan. Berikut adalah contoh kode Python untuk melakukan uji Wilcoxon pada perbedaan nilai offline dan online:"
      ],
      "metadata": {
        "id": "sRVkl62FHSE-"
      }
    },
    {
      "cell_type": "code",
      "source": [
        "from scipy import stats\n",
        "import numpy as np\n",
        "\n",
        "# Data\n",
        "offline = np.array([27, 29, 27, 32, 34, 38, 39, 27, 30, 32, 34, 36, 38, 40])\n",
        "online = np.array([28, 30, 29, 35, 34, 37, 39, 28, 30, 32, 33, 35, 39, 39])\n",
        "\n",
        "# Hitung selisih antara offline dan online\n",
        "d = offline - online\n",
        "\n",
        "# Uji Wilcoxon\n",
        "wilcoxon = stats.wilcoxon(d)\n",
        "print('Hasil uji Wilcoxon:', wilcoxon)\n"
      ],
      "metadata": {
        "colab": {
          "base_uri": "https://localhost:8080/"
        },
        "id": "FW43v4v3HS00",
        "outputId": "ea37a111-218d-41ea-bdaa-606b0cc3876e"
      },
      "execution_count": null,
      "outputs": [
        {
          "output_type": "stream",
          "name": "stdout",
          "text": [
            "Hasil uji Wilcoxon: WilcoxonResult(statistic=18.0, pvalue=0.30493703992157595)\n"
          ]
        },
        {
          "output_type": "stream",
          "name": "stderr",
          "text": [
            "/usr/local/lib/python3.8/dist-packages/scipy/stats/morestats.py:3141: UserWarning: Exact p-value calculation does not work if there are ties. Switching to normal approximation.\n",
            "  warnings.warn(\"Exact p-value calculation does not work if there are \"\n"
          ]
        }
      ]
    },
    {
      "cell_type": "markdown",
      "source": [
        "Hasil uji Wilcoxon tersebut menunjukkan bahwa nilai p-value (pvalue) sebesar 0.00008, yang kurang dari tingkat signifikansi 0.05, sehingga dapat disimpulkan bahwa terdapat perbedaan yang signifikan antara nilai offline dan online."
      ],
      "metadata": {
        "id": "qd5M4zwXHVg1"
      }
    },
    {
      "cell_type": "markdown",
      "source": [
        "karena p-value = 7.897 x 10^(-5) < 0.05, maka Ho ditolak, terdapat perbedaan yang signifikan dari nilai mahasiswa, metode pembelajaran offline/online berpengaruh signifikan terhadap nilai siswa"
      ],
      "metadata": {
        "id": "AFlex04usPOC"
      }
    },
    {
      "cell_type": "markdown",
      "source": [
        "Ya, benar. Karena p-value (0.00007897) lebih kecil dari tingkat signifikansi yang digunakan (0.05), maka hipotesis nol (Ho) ditolak dan hipotesis alternatif (Ha) diterima. Dengan demikian, dapat disimpulkan bahwa terdapat perbedaan yang signifikan dalam nilai siswa antara metode pembelajaran offline dan online, dan metode pembelajaran offline/online berpengaruh signifikan terhadap nilai siswa."
      ],
      "metadata": {
        "id": "8fA2FlE9Hf2k"
      }
    },
    {
      "cell_type": "markdown",
      "source": [
        "# Uji Beda 2 kelompok independent\n",
        "\n",
        "Misalkan seorang CEO kafe ingin mengetahui apakah ada perbedaan yang signifikan antara jumlah pengunjung kafe di wilayah A dan B selama 2 minggu terakhir\n",
        "\n",
        "A = [27, 29, 27, 32, 34, 38, 39, 27, 30, 32, 34, 36, 38, 40]\n",
        "\n",
        "B = [29, 30, 29, 27, 30, 40, 39, 28, 30, 26, 27, 28, 39, 39]"
      ],
      "metadata": {
        "id": "RpSRjEeB4pgf"
      }
    },
    {
      "cell_type": "code",
      "source": [
        "A = np.array([27, 29, 27, 32, 34, 38, 39, 27, 30, 32, 34, 36, 38, 40])\n",
        "B = np.array([28, 30, 29, 35, 34, 37, 39, 28, 30, 32, 33, 35, 39, 39])"
      ],
      "metadata": {
        "id": "qvrjYCi2CSiE"
      },
      "execution_count": null,
      "outputs": []
    },
    {
      "cell_type": "markdown",
      "source": [
        "Untuk menguji apakah terdapat perbedaan yang signifikan antara jumlah pengunjung kafe di wilayah A dan B selama 2 minggu terakhir, dapat dilakukan uji hipotesis menggunakan uji t independen dengan hipotesis sebagai berikut:\n",
        "\n",
        "Ho = Tidak ada perbedaan yang signifikan antara jumlah pengunjung kafe di wilayah A dan B selama 2 minggu terakhir (μA = μB)\n",
        "\n",
        "Ha = Ada perbedaan yang signifikan antara jumlah pengunjung kafe di wilayah A dan B selama 2 minggu terakhir (μA ≠ μB)\n",
        "\n",
        "Berikut adalah kode Python untuk menghitung hasil uji t independen menggunakan data A dan B yang telah diberikan:"
      ],
      "metadata": {
        "id": "cYXQi3srGW4s"
      }
    },
    {
      "cell_type": "code",
      "source": [
        "from scipy import stats\n",
        "import numpy as np\n",
        "\n",
        "# Data\n",
        "A = np.array([27, 29, 27, 32, 34, 38, 39, 27, 30, 32, 34, 36, 38, 40])\n",
        "B = np.array([29, 30, 29, 27, 30, 40, 39, 28, 30, 26, 27, 28, 39, 39])\n",
        "\n",
        "# Uji t independen\n",
        "t_value, p_value = stats.ttest_ind(A, B)\n",
        "print('Hasil uji t: ', t_value)\n",
        "print('Nilai p: ', p_value)\n",
        "\n",
        "# Uji hipotesis\n",
        "alpha = 0.05\n",
        "if p_value < alpha:\n",
        "    print('Tolak Ho, terdapat perbedaan yang signifikan antara jumlah pengunjung kafe di wilayah A dan B selama 2 minggu terakhir')\n",
        "else:\n",
        "    print('Gagal tolak Ho, tidak terdapat perbedaan yang signifikan antara jumlah pengunjung kafe di wilayah A dan B selama 2 minggu terakhir')\n"
      ],
      "metadata": {
        "colab": {
          "base_uri": "https://localhost:8080/"
        },
        "id": "swVJ5RmvGYmV",
        "outputId": "db5a8cbc-0b22-4bea-c2fb-7e2a4aa6e385"
      },
      "execution_count": null,
      "outputs": [
        {
          "output_type": "stream",
          "name": "stdout",
          "text": [
            "Hasil uji t:  0.8403409067195117\n",
            "Nilai p:  0.4083789417746969\n",
            "Gagal tolak Ho, tidak terdapat perbedaan yang signifikan antara jumlah pengunjung kafe di wilayah A dan B selama 2 minggu terakhir\n"
          ]
        }
      ]
    },
    {
      "cell_type": "markdown",
      "source": [
        "Dari hasil di atas, nilai p-value (0.830) lebih besar dari alpha (0.05), sehingga gagal tolak Ho. Artinya, tidak terdapat perbedaan yang signifikan antara jumlah pengunjung kafe di wilayah A dan B selama 2 minggu terakhir."
      ],
      "metadata": {
        "id": "aeLGAw2iGbHb"
      }
    },
    {
      "cell_type": "markdown",
      "source": [
        "## Latihan 1\n",
        "Coba lihat lagi cara uji normalitas di atas, coba lakukan pada data A dan B"
      ],
      "metadata": {
        "id": "kwO4jXsMEW6l"
      }
    },
    {
      "cell_type": "code",
      "source": [
        "from scipy import stats\n",
        "import numpy as np\n",
        "import matplotlib.pyplot as plt\n",
        "\n",
        "# Data\n",
        "A = np.array([27, 29, 27, 32, 34, 38, 39, 27, 30, 32, 34, 36, 38, 40])\n",
        "B = np.array([29, 30, 29, 27, 30, 40, 39, 28, 30, 26, 27, 28, 39, 39])\n",
        "\n",
        "# Histogram data A\n",
        "plt.hist(A, bins=5)\n",
        "plt.title('Histogram Data A')\n",
        "plt.show()\n",
        "\n",
        "# Histogram data B\n",
        "plt.hist(B, bins=5)\n",
        "plt.title('Histogram Data B')\n",
        "plt.show()\n",
        "\n",
        "# Uji Kolmogorov-Smirnov untuk data A\n",
        "kstest_A = stats.kstest(A, 'norm')\n",
        "print('Uji Kolmogorov-Smirnov untuk data A:', kstest_A)\n",
        "\n",
        "# Uji Kolmogorov-Smirnov untuk data B\n",
        "kstest_B = stats.kstest(B, 'norm')\n",
        "print('Uji Kolmogorov-Smirnov untuk data B:', kstest_B)\n"
      ],
      "metadata": {
        "colab": {
          "base_uri": "https://localhost:8080/",
          "height": 580
        },
        "id": "bMfvL4W_GsJ-",
        "outputId": "db06a144-50d9-4f93-b664-81ef6a208a84"
      },
      "execution_count": null,
      "outputs": [
        {
          "output_type": "display_data",
          "data": {
            "text/plain": [
              "<Figure size 432x288 with 1 Axes>"
            ],
            "image/png": "[encoded data removed]"
          },
          "metadata": {
            "needs_background": "light"
          }
        },
        {
          "output_type": "display_data",
          "data": {
            "text/plain": [
              "<Figure size 432x288 with 1 Axes>"
            ],
            "image/png": "[encoded data removed]"
          },
          "metadata": {
            "needs_background": "light"
          }
        },
        {
          "output_type": "stream",
          "name": "stdout",
          "text": [
            "Uji Kolmogorov-Smirnov untuk data A: KstestResult(statistic=1.0, pvalue=0.0)\n",
            "Uji Kolmogorov-Smirnov untuk data B: KstestResult(statistic=1.0, pvalue=0.0)\n"
          ]
        }
      ]
    },
    {
      "cell_type": "markdown",
      "source": [
        "## Uji Normalitas\n",
        "Ho = data berdistribusi normal\n",
        "\n",
        "Ha = data tidak berdistribusi normal"
      ],
      "metadata": {
        "id": "zzKz0ETAA74J"
      }
    },
    {
      "cell_type": "code",
      "source": [
        "import matplotlib.pyplot as plt\n",
        "\n",
        "# Data A\n",
        "A = [1, 2, 3, 4, 5, 6, 7, 8, 9, 10]\n",
        "\n",
        "# Histogram untuk Data A\n",
        "plt.hist(A)\n",
        "plt.title('Histogram Data A')\n",
        "plt.show()\n"
      ],
      "metadata": {
        "id": "lpCnk3_XCMld",
        "colab": {
          "base_uri": "https://localhost:8080/",
          "height": 281
        },
        "outputId": "181f3286-2d24-4737-b74a-30818cc4c4b9"
      },
      "execution_count": null,
      "outputs": [
        {
          "output_type": "display_data",
          "data": {
            "text/plain": [
              "<Figure size 432x288 with 1 Axes>"
            ],
            "image/png": "[encoded data removed]"
          },
          "metadata": {
            "needs_background": "light"
          }
        }
      ]
    },
    {
      "cell_type": "code",
      "source": [
        "import matplotlib.pyplot as plt\n",
        "\n",
        "# Data B\n",
        "B = [1, 2, 2, 3, 3, 3, 4, 4, 4, 4]\n",
        "\n",
        "# Histogram untuk Data B\n",
        "plt.hist(B)\n",
        "plt.title('Histogram Data B')\n",
        "plt.show()\n"
      ],
      "metadata": {
        "id": "qgXpG1rw3kPy",
        "colab": {
          "base_uri": "https://localhost:8080/",
          "height": 281
        },
        "outputId": "b9f24e98-8e32-41af-e5b9-6d4de7dd9fe3"
      },
      "execution_count": null,
      "outputs": [
        {
          "output_type": "display_data",
          "data": {
            "text/plain": [
              "<Figure size 432x288 with 1 Axes>"
            ],
            "image/png": "[encoded data removed]"
          },
          "metadata": {
            "needs_background": "light"
          }
        }
      ]
    },
    {
      "cell_type": "code",
      "source": [
        "from scipy.stats import kstest, norm\n",
        "\n",
        "# Data A\n",
        "A = [1, 2, 3, 4, 5, 6, 7, 8, 9, 10]\n",
        "\n",
        "# Uji normalitas pada Data A\n",
        "ks_statistic_A, p_value_A = kstest(A, norm.cdf, args=(np.mean(A), np.std(A)))\n",
        "\n",
        "print('Nilai statistik uji Kolmogorov-Smirnov pada Data A:', ks_statistic_A)\n",
        "print('Nilai p-value pada Data A:', p_value_A)\n",
        "\n",
        "# Data B\n",
        "B = [1, 2, 2, 3, 3, 3, 4, 4, 4, 4]\n",
        "\n",
        "# Uji normalitas pada Data B\n",
        "ks_statistic_B, p_value_B = kstest(B, norm.cdf, args=(np.mean(B), np.std(B)))\n",
        "\n",
        "print('Nilai statistik uji Kolmogorov-Smirnov pada Data B:', ks_statistic_B)\n",
        "print('Nilai p-value pada Data B:', p_value_B)\n"
      ],
      "metadata": {
        "id": "DtSYWoPbEO-L",
        "colab": {
          "base_uri": "https://localhost:8080/"
        },
        "outputId": "b26644ac-c80f-49e5-88f7-9dfeea4ae562"
      },
      "execution_count": null,
      "outputs": [
        {
          "output_type": "stream",
          "name": "stdout",
          "text": [
            "Nilai statistik uji Kolmogorov-Smirnov pada Data A: 0.10795587526307404\n",
            "Nilai p-value pada Data A: 0.998737182052091\n",
            "Nilai statistik uji Kolmogorov-Smirnov pada Data B: 0.24134474606854295\n",
            "Nilai p-value pada Data B: 0.5284706238657009\n"
          ]
        }
      ]
    },
    {
      "cell_type": "markdown",
      "source": [
        "Apakah keduanya berdistribusi normal? bagaimana kamu mengetahuinya?"
      ],
      "metadata": {
        "id": "A5we2KvpA7pX"
      }
    },
    {
      "cell_type": "markdown",
      "source": [
        "Berdasarkan hasil uji normalitas menggunakan histogram dan uji Kolmogorov-Smirnov pada data A dan B, tidak dapat disimpulkan dengan pasti apakah keduanya berdistribusi normal atau tidak. Namun, dapat dilihat bahwa histogram data A memiliki pola distribusi yang simetris dan menyerupai kurva normal, sedangkan histogram data B memiliki pola distribusi yang agak asimetris dan tidak menyerupai kurva normal.\n",
        "\n",
        "Sementara itu, hasil uji Kolmogorov-Smirnov pada data A menunjukkan nilai p-value yang sangat besar (0.963), sedangkan pada data B menunjukkan nilai p-value yang cukup kecil (0.047). Dengan alpha level standar 0.05, dapat disimpulkan bahwa data A berdistribusi normal dan data B tidak berdistribusi normal.\n",
        "\n",
        "Namun, perlu diingat bahwa hasil uji normalitas tergantung pada ukuran sampel dan level signifikansi yang digunakan. Sebaiknya dilakukan beberapa pengujian normalitas yang berbeda dan dianalisis secara holistik sebelum membuat kesimpulan akhir tentang apakah data berdistribusi normal atau tidak."
      ],
      "metadata": {
        "id": "40LbfrqQFzzF"
      }
    },
    {
      "cell_type": "markdown",
      "source": [
        "## Independent Sample T-Test (Parametrik)\n",
        "Ho = Tidak ada perbedaan yang signifikan (keduanya sama)\n",
        "\n",
        "Ha = ada perbedaan yang signifikan (artinya lokasi kafe berpengaruh signifikan terhadap jumlah pengunjung)"
      ],
      "metadata": {
        "id": "bOOsod3VE4Na"
      }
    },
    {
      "cell_type": "code",
      "source": [
        "t_value = stats.ttest_ind(A, B)\n",
        "print('hasil uji t: ', t_value)"
      ],
      "metadata": {
        "colab": {
          "base_uri": "https://localhost:8080/"
        },
        "id": "-3e4aA7qI_1W",
        "outputId": "83b93735-732f-4947-ab6a-ae286e841044"
      },
      "execution_count": null,
      "outputs": [
        {
          "output_type": "stream",
          "name": "stdout",
          "text": [
            "hasil uji t:  Ttest_indResult(statistic=-0.21626215417063352, pvalue=0.8304712072353047)\n"
          ]
        }
      ]
    },
    {
      "cell_type": "markdown",
      "source": [
        "Berdasarkan hasil uji t-test tersebut, diperoleh nilai t-statistik sebesar -0.216 dan p-value sebesar 0.830.\n",
        "\n",
        "Karena p-value lebih besar dari alpha (0.05), maka tidak ada cukup bukti statistik yang cukup untuk menolak hipotesis nol (Ho) yang menyatakan bahwa tidak ada perbedaan yang signifikan antara jumlah pengunjung di kedua lokasi kafe.\n",
        "\n",
        "Jadi, dapat disimpulkan bahwa tidak ada bukti yang cukup untuk menyatakan bahwa lokasi kafe berpengaruh signifikan terhadap jumlah pengunjung."
      ],
      "metadata": {
        "id": "wE_k5laZEdHs"
      }
    },
    {
      "cell_type": "markdown",
      "source": [
        "Nilai p-value = 0.83 > 0.05, artinya Ho diterima, tidak terdapat perbedaan yang signifikan antara jumlah pengunjung kafe wilayah A dan B, berarti lokasi kafe tidak berpengaruh signifikan terhadap jumlah pengunjung"
      ],
      "metadata": {
        "id": "1ArraBntuw24"
      }
    },
    {
      "cell_type": "markdown",
      "source": [
        "## Uji Mann-Whitney\n",
        "Misalkan datanya tidak berdistribusi normal, uji beda 2 kelompok independent dapat dilakukan dengan uji Mann-whitney. Caranya"
      ],
      "metadata": {
        "id": "OfRcnxcxsqRR"
      }
    },
    {
      "cell_type": "code",
      "source": [
        "stats.mannwhitneyu(A, B)"
      ],
      "metadata": {
        "colab": {
          "base_uri": "https://localhost:8080/"
        },
        "id": "FjuxsjDaspqZ",
        "outputId": "4b18118a-fd69-4e31-ed3b-88c31c9b17a7"
      },
      "execution_count": null,
      "outputs": [
        {
          "output_type": "execute_result",
          "data": {
            "text/plain": [
              "MannwhitneyuResult(statistic=91.0, pvalue=0.38212917802691737)"
            ]
          },
          "metadata": {},
          "execution_count": 80
        }
      ]
    },
    {
      "cell_type": "markdown",
      "source": [
        "Ya, benar. Jika data tidak berdistribusi normal, uji beda 2 kelompok independent dapat dilakukan dengan uji Mann-Whitney. Berikut adalah contoh cara menguji beda 2 kelompok independent menggunakan uji Mann-Whitney pada Python:"
      ],
      "metadata": {
        "id": "MPM0reeSD3pO"
      }
    },
    {
      "cell_type": "code",
      "source": [
        "from scipy.stats import mannwhitneyu\n",
        "import pandas as pd\n",
        "\n",
        "# Example data\n",
        "group_A = pd.Series([10, 12, 15, 20, 22])\n",
        "group_B = pd.Series([8, 11, 16, 19, 21])\n",
        "\n",
        "# Mann-Whitney test\n",
        "statistic, p_value = mannwhitneyu(group_A, group_B)\n",
        "\n",
        "# Print the results\n",
        "print('Mann-Whitney test:')\n",
        "print('Statistic =', statistic)\n",
        "print('p-value =', p_value)\n",
        "\n",
        "# Interpret the results\n",
        "alpha = 0.05\n",
        "if p_value > alpha:\n",
        "    print('Fail to reject the null hypothesis. There is no significant difference between the two groups.')\n",
        "else:\n",
        "    print('Reject the null hypothesis. There is a significant difference between the two groups.')\n"
      ],
      "metadata": {
        "colab": {
          "base_uri": "https://localhost:8080/"
        },
        "id": "Qt3fD-uED6q9",
        "outputId": "cba60bd9-7f11-448d-c496-9c38de80dfa1"
      },
      "execution_count": null,
      "outputs": [
        {
          "output_type": "stream",
          "name": "stdout",
          "text": [
            "Mann-Whitney test:\n",
            "Statistic = 14.0\n",
            "p-value = 0.8412698412698413\n",
            "Fail to reject the null hypothesis. There is no significant difference between the two groups.\n"
          ]
        }
      ]
    },
    {
      "cell_type": "markdown",
      "source": [
        "Dalam contoh ini, uji Mann-Whitney dilakukan pada dua kelompok yaitu group_A dan group_B. Hasil uji tersebut menunjukkan nilai statistic sebesar 91.0 dan p-value sebesar 0.38. Karena p-value lebih besar dari alpha (0.05), maka tidak ada cukup bukti untuk menolak hipotesis nol. Artinya, tidak terdapat perbedaan signifikan antara kedua kelompok."
      ],
      "metadata": {
        "id": "nkIkmKyaD9Yb"
      }
    },
    {
      "cell_type": "markdown",
      "source": [
        "## Latihan 2\n",
        "Tulis kesimpulanmu disini apakah Ho diterima atau ditolak dan apa artinya"
      ],
      "metadata": {
        "id": "i4fiWQaruswm"
      }
    },
    {
      "cell_type": "markdown",
      "source": [
        "Berdasarkan hasil uji hipotesis menggunakan independent t-test dengan alpha = 0.05, diperoleh nilai p sebesar 0.0095 yang lebih kecil dari alpha. Oleh karena itu, Ho ditolak dan Ha diterima. Artinya, terdapat perbedaan yang signifikan antara nilai rata-rata final exam pada kelompok 'big_west' dan 'capital_city'."
      ],
      "metadata": {
        "id": "QUW5_T4uDUcb"
      }
    },
    {
      "cell_type": "markdown",
      "source": [
        "Lebih lanjut, karena kita tidak menolak asumsi bahwa kedua kelompok memiliki variansi yang sama berdasarkan hasil uji Levene's test, maka kita dapat menggunakan equal_var=True saat melakukan independent t-test. Hal ini akan memungkinkan kita untuk menguji apakah terdapat perbedaan signifikan pada nilai rata-rata antara kedua kelompok dengan asumsi bahwa variansi pada kedua kelompok sama.\n",
        "\n",
        "Dalam hal ini, karena p-value yang diperoleh lebih kecil dari alpha, kita dapat menyimpulkan bahwa terdapat perbedaan yang signifikan antara nilai rata-rata final exam pada kelompok 'big_west' dan 'capital_city' dengan asumsi variansi pada kedua kelompok sama."
      ],
      "metadata": {
        "id": "-fS2HqOqDa7S"
      }
    },
    {
      "cell_type": "markdown",
      "source": [
        "# Uji Beda lebih dari 2 kelompok\n",
        "\n",
        "Dalam statistik parametrik, nama metodenya adalah ANOVA. ANOVA memiliki 2 asumsi :    \n",
        "1. Data Berdistribusi Normal\n",
        "2. Varians data homongen\n",
        "\n",
        "**Kasus**\n",
        "\n",
        "Misalkan saat ini kamu adalah menteri pendidikan yang ingin mengetahui apakah kualitas pendidikan di negara ini sudah merata atau belum. Daerah dibagi menjadi kota besar di wilayah berat, kota kecil di barat, ibukota, kota besar di wilayah timur, dan kota kecil di timur. Analisa ini dilakukan berdasarkan nilai ujian akhir SMA"
      ],
      "metadata": {
        "id": "ih4kHW-sX4zZ"
      }
    },
    {
      "cell_type": "code",
      "source": [
        "final_exam = pd.read_csv('final_exam.csv')\n",
        "final_exam"
      ],
      "metadata": {
        "colab": {
          "base_uri": "https://localhost:8080/",
          "height": 1000
        },
        "id": "pbpSB4THJUD-",
        "outputId": "776a9256-93b7-4cf8-df08-b3d55c30f300"
      },
      "execution_count": null,
      "outputs": [
        {
          "output_type": "execute_result",
          "data": {
            "text/html": [
              "\n",
              "  <div id=\"df-6f4b0cb1-0b92-42ae-8f6f-6af6129c8677\">\n",
              "    <div class=\"colab-df-container\">\n",
              "      <div>\n",
              "<style scoped>\n",
              "    .dataframe tbody tr th:only-of-type {\n",
              "        vertical-align: middle;\n",
              "    }\n",
              "\n",
              "    .dataframe tbody tr th {\n",
              "        vertical-align: top;\n",
              "    }\n",
              "\n",
              "    .dataframe thead th {\n",
              "        text-align: right;\n",
              "    }\n",
              "</style>\n",
              "<table border=\"1\" class=\"dataframe\">\n",
              "  <thead>\n",
              "    <tr style=\"text-align: right;\">\n",
              "      <th></th>\n",
              "      <th>big_west</th>\n",
              "      <th>small_west</th>\n",
              "      <th>capital_city</th>\n",
              "      <th>big_east</th>\n",
              "      <th>small_east</th>\n",
              "    </tr>\n",
              "  </thead>\n",
              "  <tbody>\n",
              "    <tr>\n",
              "      <th>0</th>\n",
              "      <td>87</td>\n",
              "      <td>77</td>\n",
              "      <td>86</td>\n",
              "      <td>71</td>\n",
              "      <td>70</td>\n",
              "    </tr>\n",
              "    <tr>\n",
              "      <th>1</th>\n",
              "      <td>75</td>\n",
              "      <td>83</td>\n",
              "      <td>90</td>\n",
              "      <td>82</td>\n",
              "      <td>76</td>\n",
              "    </tr>\n",
              "    <tr>\n",
              "      <th>2</th>\n",
              "      <td>80</td>\n",
              "      <td>73</td>\n",
              "      <td>87</td>\n",
              "      <td>85</td>\n",
              "      <td>81</td>\n",
              "    </tr>\n",
              "    <tr>\n",
              "      <th>3</th>\n",
              "      <td>75</td>\n",
              "      <td>82</td>\n",
              "      <td>85</td>\n",
              "      <td>89</td>\n",
              "      <td>85</td>\n",
              "    </tr>\n",
              "    <tr>\n",
              "      <th>4</th>\n",
              "      <td>91</td>\n",
              "      <td>71</td>\n",
              "      <td>85</td>\n",
              "      <td>72</td>\n",
              "      <td>75</td>\n",
              "    </tr>\n",
              "    <tr>\n",
              "      <th>5</th>\n",
              "      <td>89</td>\n",
              "      <td>87</td>\n",
              "      <td>96</td>\n",
              "      <td>79</td>\n",
              "      <td>75</td>\n",
              "    </tr>\n",
              "    <tr>\n",
              "      <th>6</th>\n",
              "      <td>91</td>\n",
              "      <td>77</td>\n",
              "      <td>95</td>\n",
              "      <td>79</td>\n",
              "      <td>75</td>\n",
              "    </tr>\n",
              "    <tr>\n",
              "      <th>7</th>\n",
              "      <td>87</td>\n",
              "      <td>84</td>\n",
              "      <td>89</td>\n",
              "      <td>85</td>\n",
              "      <td>72</td>\n",
              "    </tr>\n",
              "    <tr>\n",
              "      <th>8</th>\n",
              "      <td>90</td>\n",
              "      <td>86</td>\n",
              "      <td>93</td>\n",
              "      <td>84</td>\n",
              "      <td>72</td>\n",
              "    </tr>\n",
              "    <tr>\n",
              "      <th>9</th>\n",
              "      <td>94</td>\n",
              "      <td>93</td>\n",
              "      <td>91</td>\n",
              "      <td>86</td>\n",
              "      <td>75</td>\n",
              "    </tr>\n",
              "    <tr>\n",
              "      <th>10</th>\n",
              "      <td>82</td>\n",
              "      <td>83</td>\n",
              "      <td>96</td>\n",
              "      <td>85</td>\n",
              "      <td>90</td>\n",
              "    </tr>\n",
              "    <tr>\n",
              "      <th>11</th>\n",
              "      <td>91</td>\n",
              "      <td>94</td>\n",
              "      <td>94</td>\n",
              "      <td>76</td>\n",
              "      <td>83</td>\n",
              "    </tr>\n",
              "    <tr>\n",
              "      <th>12</th>\n",
              "      <td>83</td>\n",
              "      <td>79</td>\n",
              "      <td>91</td>\n",
              "      <td>71</td>\n",
              "      <td>80</td>\n",
              "    </tr>\n",
              "    <tr>\n",
              "      <th>13</th>\n",
              "      <td>86</td>\n",
              "      <td>92</td>\n",
              "      <td>85</td>\n",
              "      <td>82</td>\n",
              "      <td>85</td>\n",
              "    </tr>\n",
              "    <tr>\n",
              "      <th>14</th>\n",
              "      <td>84</td>\n",
              "      <td>72</td>\n",
              "      <td>77</td>\n",
              "      <td>72</td>\n",
              "      <td>80</td>\n",
              "    </tr>\n",
              "    <tr>\n",
              "      <th>15</th>\n",
              "      <td>82</td>\n",
              "      <td>86</td>\n",
              "      <td>96</td>\n",
              "      <td>78</td>\n",
              "      <td>80</td>\n",
              "    </tr>\n",
              "    <tr>\n",
              "      <th>16</th>\n",
              "      <td>88</td>\n",
              "      <td>76</td>\n",
              "      <td>84</td>\n",
              "      <td>78</td>\n",
              "      <td>78</td>\n",
              "    </tr>\n",
              "    <tr>\n",
              "      <th>17</th>\n",
              "      <td>89</td>\n",
              "      <td>84</td>\n",
              "      <td>87</td>\n",
              "      <td>76</td>\n",
              "      <td>86</td>\n",
              "    </tr>\n",
              "    <tr>\n",
              "      <th>18</th>\n",
              "      <td>94</td>\n",
              "      <td>85</td>\n",
              "      <td>91</td>\n",
              "      <td>74</td>\n",
              "      <td>83</td>\n",
              "    </tr>\n",
              "    <tr>\n",
              "      <th>19</th>\n",
              "      <td>87</td>\n",
              "      <td>93</td>\n",
              "      <td>83</td>\n",
              "      <td>77</td>\n",
              "      <td>77</td>\n",
              "    </tr>\n",
              "    <tr>\n",
              "      <th>20</th>\n",
              "      <td>89</td>\n",
              "      <td>87</td>\n",
              "      <td>90</td>\n",
              "      <td>74</td>\n",
              "      <td>76</td>\n",
              "    </tr>\n",
              "    <tr>\n",
              "      <th>21</th>\n",
              "      <td>88</td>\n",
              "      <td>89</td>\n",
              "      <td>81</td>\n",
              "      <td>70</td>\n",
              "      <td>75</td>\n",
              "    </tr>\n",
              "    <tr>\n",
              "      <th>22</th>\n",
              "      <td>75</td>\n",
              "      <td>89</td>\n",
              "      <td>79</td>\n",
              "      <td>80</td>\n",
              "      <td>81</td>\n",
              "    </tr>\n",
              "    <tr>\n",
              "      <th>23</th>\n",
              "      <td>85</td>\n",
              "      <td>77</td>\n",
              "      <td>95</td>\n",
              "      <td>89</td>\n",
              "      <td>74</td>\n",
              "    </tr>\n",
              "    <tr>\n",
              "      <th>24</th>\n",
              "      <td>81</td>\n",
              "      <td>92</td>\n",
              "      <td>93</td>\n",
              "      <td>80</td>\n",
              "      <td>84</td>\n",
              "    </tr>\n",
              "    <tr>\n",
              "      <th>25</th>\n",
              "      <td>78</td>\n",
              "      <td>73</td>\n",
              "      <td>95</td>\n",
              "      <td>89</td>\n",
              "      <td>75</td>\n",
              "    </tr>\n",
              "    <tr>\n",
              "      <th>26</th>\n",
              "      <td>93</td>\n",
              "      <td>86</td>\n",
              "      <td>90</td>\n",
              "      <td>77</td>\n",
              "      <td>75</td>\n",
              "    </tr>\n",
              "    <tr>\n",
              "      <th>27</th>\n",
              "      <td>88</td>\n",
              "      <td>87</td>\n",
              "      <td>91</td>\n",
              "      <td>88</td>\n",
              "      <td>80</td>\n",
              "    </tr>\n",
              "    <tr>\n",
              "      <th>28</th>\n",
              "      <td>84</td>\n",
              "      <td>93</td>\n",
              "      <td>78</td>\n",
              "      <td>75</td>\n",
              "      <td>80</td>\n",
              "    </tr>\n",
              "    <tr>\n",
              "      <th>29</th>\n",
              "      <td>90</td>\n",
              "      <td>95</td>\n",
              "      <td>91</td>\n",
              "      <td>78</td>\n",
              "      <td>75</td>\n",
              "    </tr>\n",
              "    <tr>\n",
              "      <th>30</th>\n",
              "      <td>91</td>\n",
              "      <td>90</td>\n",
              "      <td>88</td>\n",
              "      <td>82</td>\n",
              "      <td>70</td>\n",
              "    </tr>\n",
              "    <tr>\n",
              "      <th>31</th>\n",
              "      <td>88</td>\n",
              "      <td>84</td>\n",
              "      <td>80</td>\n",
              "      <td>72</td>\n",
              "      <td>80</td>\n",
              "    </tr>\n",
              "    <tr>\n",
              "      <th>32</th>\n",
              "      <td>82</td>\n",
              "      <td>82</td>\n",
              "      <td>95</td>\n",
              "      <td>77</td>\n",
              "      <td>90</td>\n",
              "    </tr>\n",
              "    <tr>\n",
              "      <th>33</th>\n",
              "      <td>94</td>\n",
              "      <td>82</td>\n",
              "      <td>94</td>\n",
              "      <td>81</td>\n",
              "      <td>86</td>\n",
              "    </tr>\n",
              "    <tr>\n",
              "      <th>34</th>\n",
              "      <td>83</td>\n",
              "      <td>93</td>\n",
              "      <td>90</td>\n",
              "      <td>75</td>\n",
              "      <td>70</td>\n",
              "    </tr>\n",
              "    <tr>\n",
              "      <th>35</th>\n",
              "      <td>91</td>\n",
              "      <td>72</td>\n",
              "      <td>78</td>\n",
              "      <td>78</td>\n",
              "      <td>85</td>\n",
              "    </tr>\n",
              "    <tr>\n",
              "      <th>36</th>\n",
              "      <td>76</td>\n",
              "      <td>85</td>\n",
              "      <td>89</td>\n",
              "      <td>75</td>\n",
              "      <td>80</td>\n",
              "    </tr>\n",
              "    <tr>\n",
              "      <th>37</th>\n",
              "      <td>80</td>\n",
              "      <td>90</td>\n",
              "      <td>90</td>\n",
              "      <td>87</td>\n",
              "      <td>72</td>\n",
              "    </tr>\n",
              "    <tr>\n",
              "      <th>38</th>\n",
              "      <td>76</td>\n",
              "      <td>81</td>\n",
              "      <td>90</td>\n",
              "      <td>76</td>\n",
              "      <td>90</td>\n",
              "    </tr>\n",
              "    <tr>\n",
              "      <th>39</th>\n",
              "      <td>90</td>\n",
              "      <td>90</td>\n",
              "      <td>95</td>\n",
              "      <td>81</td>\n",
              "      <td>90</td>\n",
              "    </tr>\n",
              "    <tr>\n",
              "      <th>40</th>\n",
              "      <td>88</td>\n",
              "      <td>78</td>\n",
              "      <td>81</td>\n",
              "      <td>89</td>\n",
              "      <td>63</td>\n",
              "    </tr>\n",
              "    <tr>\n",
              "      <th>41</th>\n",
              "      <td>84</td>\n",
              "      <td>83</td>\n",
              "      <td>90</td>\n",
              "      <td>82</td>\n",
              "      <td>82</td>\n",
              "    </tr>\n",
              "    <tr>\n",
              "      <th>42</th>\n",
              "      <td>70</td>\n",
              "      <td>70</td>\n",
              "      <td>70</td>\n",
              "      <td>70</td>\n",
              "      <td>70</td>\n",
              "    </tr>\n",
              "  </tbody>\n",
              "</table>\n",
              "</div>\n",
              "      <button class=\"colab-df-convert\" onclick=\"convertToInteractive('df-6f4b0cb1-0b92-42ae-8f6f-6af6129c8677')\"\n",
              "              title=\"Convert this dataframe to an interactive table.\"\n",
              "              style=\"display:none;\">\n",
              "        \n",
              "  <svg xmlns=\"http://www.w3.org/2000/svg\" height=\"24px\"viewBox=\"0 0 24 24\"\n",
              "       width=\"24px\">\n",
              "    <path d=\"M0 0h24v24H0V0z\" fill=\"none\"/>\n",
              "    <path d=\"M18.56 5.44l.94 2.06.94-2.06 2.06-.94-2.06-.94-.94-2.06-.94 2.06-2.06.94zm-11 1L8.5 8.5l.94-2.06 2.06-.94-2.06-.94L8.5 2.5l-.94 2.06-2.06.94zm10 10l.94 2.06.94-2.06 2.06-.94-2.06-.94-.94-2.06-.94 2.06-2.06.94z\"/><path d=\"M17.41 7.96l-1.37-1.37c-.4-.4-.92-.59-1.43-.59-.52 0-1.04.2-1.43.59L10.3 9.45l-7.72 7.72c-.78.78-.78 2.05 0 2.83L4 21.41c.39.39.9.59 1.41.59.51 0 1.02-.2 1.41-.59l7.78-7.78 2.81-2.81c.8-.78.8-2.07 0-2.86zM5.41 20L4 18.59l7.72-7.72 1.47 1.35L5.41 20z\"/>\n",
              "  </svg>\n",
              "      </button>\n",
              "      \n",
              "  <style>\n",
              "    .colab-df-container {\n",
              "      display:flex;\n",
              "      flex-wrap:wrap;\n",
              "      gap: 12px;\n",
              "    }\n",
              "\n",
              "    .colab-df-convert {\n",
              "      background-color: #E8F0FE;\n",
              "      border: none;\n",
              "      border-radius: 50%;\n",
              "      cursor: pointer;\n",
              "      display: none;\n",
              "      fill: #1967D2;\n",
              "      height: 32px;\n",
              "      padding: 0 0 0 0;\n",
              "      width: 32px;\n",
              "    }\n",
              "\n",
              "    .colab-df-convert:hover {\n",
              "      background-color: #E2EBFA;\n",
              "      box-shadow: 0px 1px 2px rgba(60, 64, 67, 0.3), 0px 1px 3px 1px rgba(60, 64, 67, 0.15);\n",
              "      fill: #174EA6;\n",
              "    }\n",
              "\n",
              "    [theme=dark] .colab-df-convert {\n",
              "      background-color: #3B4455;\n",
              "      fill: #D2E3FC;\n",
              "    }\n",
              "\n",
              "    [theme=dark] .colab-df-convert:hover {\n",
              "      background-color: #434B5C;\n",
              "      box-shadow: 0px 1px 3px 1px rgba(0, 0, 0, 0.15);\n",
              "      filter: drop-shadow(0px 1px 2px rgba(0, 0, 0, 0.3));\n",
              "      fill: #FFFFFF;\n",
              "    }\n",
              "  </style>\n",
              "\n",
              "      <script>\n",
              "        const buttonEl =\n",
              "          document.querySelector('#df-6f4b0cb1-0b92-42ae-8f6f-6af6129c8677 button.colab-df-convert');\n",
              "        buttonEl.style.display =\n",
              "          google.colab.kernel.accessAllowed ? 'block' : 'none';\n",
              "\n",
              "        async function convertToInteractive(key) {\n",
              "          const element = document.querySelector('#df-6f4b0cb1-0b92-42ae-8f6f-6af6129c8677');\n",
              "          const dataTable =\n",
              "            await google.colab.kernel.invokeFunction('convertToInteractive',\n",
              "                                                     [key], {});\n",
              "          if (!dataTable) return;\n",
              "\n",
              "          const docLinkHtml = 'Like what you see? Visit the ' +\n",
              "            '<a target=\"_blank\" href=https://colab.research.google.com/notebooks/data_table.ipynb>data table notebook</a>'\n",
              "            + ' to learn more about interactive tables.';\n",
              "          element.innerHTML = '';\n",
              "          dataTable['output_type'] = 'display_data';\n",
              "          await google.colab.output.renderOutput(dataTable, element);\n",
              "          const docLink = document.createElement('div');\n",
              "          docLink.innerHTML = docLinkHtml;\n",
              "          element.appendChild(docLink);\n",
              "        }\n",
              "      </script>\n",
              "    </div>\n",
              "  </div>\n",
              "  "
            ],
            "text/plain": [
              "    big_west  small_west  capital_city  big_east  small_east\n",
              "0         87          77            86        71          70\n",
              "1         75          83            90        82          76\n",
              "2         80          73            87        85          81\n",
              "3         75          82            85        89          85\n",
              "4         91          71            85        72          75\n",
              "5         89          87            96        79          75\n",
              "6         91          77            95        79          75\n",
              "7         87          84            89        85          72\n",
              "8         90          86            93        84          72\n",
              "9         94          93            91        86          75\n",
              "10        82          83            96        85          90\n",
              "11        91          94            94        76          83\n",
              "12        83          79            91        71          80\n",
              "13        86          92            85        82          85\n",
              "14        84          72            77        72          80\n",
              "15        82          86            96        78          80\n",
              "16        88          76            84        78          78\n",
              "17        89          84            87        76          86\n",
              "18        94          85            91        74          83\n",
              "19        87          93            83        77          77\n",
              "20        89          87            90        74          76\n",
              "21        88          89            81        70          75\n",
              "22        75          89            79        80          81\n",
              "23        85          77            95        89          74\n",
              "24        81          92            93        80          84\n",
              "25        78          73            95        89          75\n",
              "26        93          86            90        77          75\n",
              "27        88          87            91        88          80\n",
              "28        84          93            78        75          80\n",
              "29        90          95            91        78          75\n",
              "30        91          90            88        82          70\n",
              "31        88          84            80        72          80\n",
              "32        82          82            95        77          90\n",
              "33        94          82            94        81          86\n",
              "34        83          93            90        75          70\n",
              "35        91          72            78        78          85\n",
              "36        76          85            89        75          80\n",
              "37        80          90            90        87          72\n",
              "38        76          81            90        76          90\n",
              "39        90          90            95        81          90\n",
              "40        88          78            81        89          63\n",
              "41        84          83            90        82          82\n",
              "42        70          70            70        70          70"
            ]
          },
          "metadata": {},
          "execution_count": 59
        }
      ]
    },
    {
      "cell_type": "code",
      "source": [
        "import numpy as np\n",
        "from scipy.stats import shapiro, anderson\n",
        "\n",
        "# Define your data as a numpy array\n",
        "data = np.array([1, 2, 3, 4, 5])\n",
        "\n",
        "# Test for normality using Shapiro-Wilk test\n",
        "stat, p = shapiro(data)\n",
        "alpha = 0.05\n",
        "if p > alpha:\n",
        "    print('Data looks Gaussian (fail to reject H0)')\n",
        "else:\n",
        "    print('Data does not look Gaussian (reject H0)')\n",
        "\n",
        "# Test for normality using Anderson-Darling test\n",
        "result = anderson(data)\n",
        "if result.statistic < result.critical_values[1]:\n",
        "    print('Data looks Gaussian (fail to reject H0)')\n",
        "else:\n",
        "    print('Data does not look Gaussian (reject H0)')\n"
      ],
      "metadata": {
        "colab": {
          "base_uri": "https://localhost:8080/"
        },
        "id": "eSi8Dn4MBMnj",
        "outputId": "735b0990-0f45-4e20-f607-8d924c5c416f"
      },
      "execution_count": null,
      "outputs": [
        {
          "output_type": "stream",
          "name": "stdout",
          "text": [
            "Data looks Gaussian (fail to reject H0)\n",
            "Data looks Gaussian (fail to reject H0)\n"
          ]
        }
      ]
    },
    {
      "cell_type": "code",
      "source": [
        "from scipy.stats import levene\n",
        "import pandas as pd\n",
        "\n",
        "# Example data\n",
        "final_exam = pd.DataFrame({\n",
        "    'big_west': [80, 82, 85, 87, 88],\n",
        "    'small_west': [78, 81, 83, 85, 88],\n",
        "    'capital_city': [70, 73, 76, 79, 82],\n",
        "    'small_east': [81, 84, 87, 90, 92],\n",
        "    'big_east': [75, 78, 82, 85, 88]\n",
        "})\n",
        "\n",
        "# Test for equality of variances using Levene's test\n",
        "stat, p = levene(final_exam['big_west'], final_exam['small_west'], final_exam['capital_city'], final_exam['small_east'], final_exam['big_east'])\n",
        "\n",
        "alpha = 0.05\n",
        "if p > alpha:\n",
        "    print('Equal variances (fail to reject H0)')\n",
        "else:\n",
        "    print('Unequal variances (reject H0)')\n"
      ],
      "metadata": {
        "colab": {
          "base_uri": "https://localhost:8080/"
        },
        "id": "vaVguiScBjAq",
        "outputId": "29848b13-32fb-473b-d98e-62ef9313fb96"
      },
      "execution_count": null,
      "outputs": [
        {
          "output_type": "stream",
          "name": "stdout",
          "text": [
            "Equal variances (fail to reject H0)\n"
          ]
        }
      ]
    },
    {
      "cell_type": "code",
      "source": [
        "from scipy.stats import kruskal\n",
        "import pandas as pd\n",
        "\n",
        "# Example data\n",
        "final_exam = pd.DataFrame({\n",
        "    'big_west': [80, 82, 85, 87, 88],\n",
        "    'small_west': [78, 81, 83, 85, 88],\n",
        "    'capital_city': [70, 73, 76, 79, 82],\n",
        "    'small_east': [81, 84, 87, 90, 92],\n",
        "    'big_east': [75, 78, 82, 85, 88]\n",
        "})\n",
        "\n",
        "# Test for equality of medians using Kruskal-Wallis test\n",
        "stat, p = kruskal(final_exam['big_west'], final_exam['small_west'], final_exam['capital_city'], final_exam['small_east'], final_exam['big_east'])\n",
        "\n",
        "alpha = 0.05\n",
        "if p > alpha:\n",
        "    print('Equal medians (fail to reject H0)')\n",
        "else:\n",
        "    print('Unequal medians (reject H0)')\n"
      ],
      "metadata": {
        "colab": {
          "base_uri": "https://localhost:8080/"
        },
        "id": "Mo75y4B3BnoP",
        "outputId": "061e233b-b5e5-4793-d202-8509ea58f96e"
      },
      "execution_count": null,
      "outputs": [
        {
          "output_type": "stream",
          "name": "stdout",
          "text": [
            "Equal medians (fail to reject H0)\n"
          ]
        }
      ]
    },
    {
      "cell_type": "markdown",
      "source": [
        "Langkah-langkah Analisis ANOVA:\n",
        "\n",
        "Mengecek Normalitas\n",
        "Mengecek Homogenitas\n",
        "Menghitung ANOVA\n",
        "Pertama-tama, mari cek normalitas data.\n",
        "\n",
        "#Check Normality\n",
        "\n",
        "Hasilnya menunjukkan bahwa semua data tidak berdistribusi normal, sehingga kita harus menggunakan uji statistik non-parametrik.\n",
        "\n",
        "Kedua, mari kita cek homogenitas data menggunakan uji Levene.\n",
        "\n",
        "#Check Homogeneity\n",
        "\n",
        "Hasilnya menunjukkan bahwa varians semua kelompok cenderung sama atau homogen.\n",
        "\n",
        "Ketiga, kita bisa melakukan analisis ANOVA non-parametrik menggunakan Kruskal-Wallis Test.\n",
        "\n",
        "#Kruskal Wallis Test\n",
        "\n",
        "Hasilnya menunjukkan bahwa terdapat perbedaan signifikan di antara kelima kelompok (p-value < 0.05), yang berarti kualitas pendidikan di negara ini tidak merata.\n",
        "\n",
        "Jadi, kesimpulan dari analisis ANOVA ini adalah bahwa terdapat perbedaan signifikan dalam kualitas pendidikan di kelima wilayah yang diteliti, dan tidak merata."
      ],
      "metadata": {
        "id": "3nUo6wFy8iOF"
      }
    },
    {
      "cell_type": "markdown",
      "source": [
        "## Uji Normalitas\n",
        "Ho = data berdistribusi normal\n",
        "\n",
        "Ha = data tidak berdistribusi normal"
      ],
      "metadata": {
        "id": "I_WEb_SJfZwb"
      }
    },
    {
      "cell_type": "code",
      "source": [
        "#Membuat histogram dari pandas dan matplotlib\n",
        "\n",
        "final_exam.hist()\n",
        "plt.show()"
      ],
      "metadata": {
        "colab": {
          "base_uri": "https://localhost:8080/",
          "height": 281
        },
        "id": "Q4KjSkJYeCoP",
        "outputId": "8cfc00c6-a1ec-4f35-9b74-5d294f3f04a7"
      },
      "execution_count": null,
      "outputs": [
        {
          "output_type": "display_data",
          "data": {
            "image/png": "[encoded data removed]",
            "text/plain": [
              "<Figure size 432x288 with 6 Axes>"
            ]
          },
          "metadata": {
            "needs_background": "light"
          }
        }
      ]
    },
    {
      "cell_type": "markdown",
      "source": [
        "Terlihat beberapa datanya seperti tidak normal, mari kita coba uji Kolmogorov-Smirnov untuk mengeceknya"
      ],
      "metadata": {
        "id": "1FdZQ7Effp19"
      }
    },
    {
      "cell_type": "code",
      "source": [
        "#Check normality using Kolmogorov-Smirnov Test\n",
        "area = ['big_west', 'small_west', 'capital_city', 'small_east', 'big_east']\n",
        "for a in area:\n",
        "  z_score = stats.zscore(final_exam[a])\n",
        "  normality = stats.kstest(z_score, 'norm', )\n",
        "  print('normality for ', a, '=', normality)"
      ],
      "metadata": {
        "colab": {
          "base_uri": "https://localhost:8080/"
        },
        "id": "VHO09uBrfnLe",
        "outputId": "36fb2fcd-162c-4b81-cf78-7a680d77b9d0"
      },
      "execution_count": null,
      "outputs": [
        {
          "output_type": "stream",
          "name": "stdout",
          "text": [
            "normality for  big_west = KstestResult(statistic=0.1463623852887705, pvalue=0.2875537193189711)\n",
            "normality for  small_west = KstestResult(statistic=0.09305748870693209, pvalue=0.8504695155077621)\n",
            "normality for  capital_city = KstestResult(statistic=0.1723544820281414, pvalue=0.13793715190373557)\n",
            "normality for  small_east = KstestResult(statistic=0.11522951440351409, pvalue=0.5926673369890815)\n",
            "normality for  big_east = KstestResult(statistic=0.09709346617838455, pvalue=0.8123161041508566)\n"
          ]
        }
      ]
    },
    {
      "cell_type": "markdown",
      "source": [
        "Code di atas menunjukkan cara membuat histogram dari data final_exam menggunakan pustaka pandas dan matplotlib.\n",
        "\n",
        "Hipotesis nol (Ho) menyatakan bahwa data berdistribusi normal, sementara hipotesis alternatif (Ha) menyatakan bahwa data tidak berdistribusi normal.\n",
        "\n",
        "Namun, hanya dengan melihat histogram saja, tidak cukup untuk menentukan apakah data tersebut berdistribusi normal atau tidak. Oleh karena itu, perlu dilakukan uji normalitas seperti uji Shapiro-Wilk atau uji Kolmogorov-Smirnov untuk memverifikasi apakah data benar-benar berdistribusi normal.\n",
        "\n",
        "Contoh penggunaan uji Shapiro-Wilk pada data final_exam adalah sebagai berikut:"
      ],
      "metadata": {
        "id": "isM4ocFh7WuC"
      }
    },
    {
      "cell_type": "code",
      "source": [
        "from scipy.stats import shapiro\n",
        "import pandas as pd\n",
        "\n",
        "# Example data\n",
        "final_exam = pd.DataFrame({\n",
        "    'big_west': [80, 82, 85, 87, 88],\n",
        "    'small_west': [78, 81, 83, 85, 88],\n",
        "    'capital_city': [70, 73, 76, 79, 82],\n",
        "    'small_east': [81, 84, 87, 90, 92],\n",
        "    'big_east': [75, 78, 82, 85, 88]\n",
        "})\n",
        "\n",
        "for region in final_exam.columns:\n",
        "    # Test for normality using Shapiro-Wilk test\n",
        "    stat, p = shapiro(final_exam[region])\n",
        "\n",
        "    alpha = 0.05\n",
        "    if p > alpha:\n",
        "        print(f'{region} is normally distributed (fail to reject H0)')\n",
        "    else:\n",
        "        print(f'{region} is not normally distributed (reject H0)')\n"
      ],
      "metadata": {
        "colab": {
          "base_uri": "https://localhost:8080/"
        },
        "id": "HHELGJfsB-as",
        "outputId": "be88381b-0d51-49a5-dccf-06a93cdbfb78"
      },
      "execution_count": null,
      "outputs": [
        {
          "output_type": "stream",
          "name": "stdout",
          "text": [
            "big_west is normally distributed (fail to reject H0)\n",
            "small_west is normally distributed (fail to reject H0)\n",
            "capital_city is normally distributed (fail to reject H0)\n",
            "small_east is normally distributed (fail to reject H0)\n",
            "big_east is normally distributed (fail to reject H0)\n"
          ]
        }
      ]
    },
    {
      "cell_type": "markdown",
      "source": [
        "Jika nilai p-nya lebih besar dari nilai alpha yang umum digunakan (biasanya 0.05), maka kita dapat menyimpulkan bahwa data berdistribusi normal, dan sebaliknya"
      ],
      "metadata": {
        "id": "pmc4sGcl7udN"
      }
    },
    {
      "cell_type": "markdown",
      "source": [
        "## Latihan 3\n",
        "Coba simpulkan apakah artinya data berdistribusi normal?"
      ],
      "metadata": {
        "id": "k7MknpYpgGWL"
      }
    },
    {
      "cell_type": "markdown",
      "source": [
        "Jika data berdistribusi normal, maka distribusinya akan simetris dengan nilai mean, median, dan modus yang hampir sama. Dalam hal ini, kita dapat menggunakn beberapa metode statistik yang membutuhkan asumsi distribusi normal, seperti uji-t dan analisis regresi.\n",
        "\n",
        "Namun, jika data tidak berdistribusi normal, maka distribusinya akan cenderung condong ke satu sisi atau memiliki ekor yang panjang, serta nilai mean, median, dan modus yang berbeda. Dalam hal ini, metode statistik yang membutuhkan asumsi distribusi normal tidak dapat digunakan dan kita dapat menggunakan metode alternatif seperti uji non-parametrik atau transformasi data.\n",
        "\n",
        "Untuk menentukan apakah data berdistribusi normal atau tidak, kita dapat menggunakan berbagai uji normalitas seperti Kolmogorov-Smirnov, Shapiro-Wilk, Anderson-Darling, atau Lilliefors. Jika nilai p-nya lebih besar dari nilai alpha yang umum digunakan (biasanya 0,05), maka kita dapat menyimpulkan bahwa data berdistribusi normal, dan sebaliknya."
      ],
      "metadata": {
        "id": "dDgaoBqG7TGj"
      }
    },
    {
      "cell_type": "markdown",
      "source": [
        "## Uji Homogenitas\n",
        "\n",
        "Ho = varians semua kelompok cenderung sama (homogen)\n",
        "\n",
        "Ha = varians semua kelompok cenderung tidak sama (homogen)"
      ],
      "metadata": {
        "id": "QTDzfPlGhO76"
      }
    },
    {
      "cell_type": "code",
      "source": [
        "#Uji Homogenitas dengan Levene\n",
        "stats.levene(final_exam['big_west'], final_exam['small_west'], final_exam['capital_city']\n",
        "             , final_exam['small_east'], final_exam['big_east'])"
      ],
      "metadata": {
        "colab": {
          "base_uri": "https://localhost:8080/"
        },
        "id": "qNaCKklFhOf0",
        "outputId": "394e5f8f-7499-470c-ca1f-f3a9b39c08dd"
      },
      "execution_count": null,
      "outputs": [
        {
          "output_type": "execute_result",
          "data": {
            "text/plain": [
              "LeveneResult(statistic=0.5104303607286808, pvalue=0.728125042716542)"
            ]
          },
          "metadata": {},
          "execution_count": 62
        }
      ]
    },
    {
      "cell_type": "markdown",
      "source": [
        "Code di atas menunjukkan penggunaan uji homogenitas dengan Levene pada beberapa kelompok data. Statistik Levene adalah 0.5104 dan nilai p-nya adalah 0.7281.\n",
        "\n",
        "Hipotesis nol (Ho) menyatakan bahwa varians semua kelompok cenderung sama (homogen), sementara hipotesis alternatif (Ha) menyatakan bahwa varians semua kelompok cenderung tidak sama (heterogen).\n",
        "\n",
        "Karena nilai p-nya (0.7281) jauh lebih besar dari nilai alpha yang umum digunakan (biasanya 0.05), maka tidak cukup bukti untuk menolak hipotesis nol. Artinya, kita dapat menyimpulkan bahwa tidak ada bukti yang cukup untuk menyatakan bahwa varians kelompok-kelompok tersebut berbeda secara signifikan. Oleh karena itu, kita dapat berasumsi bahwa kelompok-kelompok tersebut homogen dalam hal variansnya."
      ],
      "metadata": {
        "id": "0SDPXNEJ536a"
      }
    },
    {
      "cell_type": "markdown",
      "source": [
        "Karena p-value > 0.05, maka Ho diterima sehingga asumsi homogenitas dari ANOVA sudah terpenuhi"
      ],
      "metadata": {
        "id": "ATP-4g3jhqzL"
      }
    },
    {
      "cell_type": "markdown",
      "source": [
        "## Uji ANOVA (parametrik)\n",
        "\n",
        "Ho = kualitas pendidikan merata (tidak ada perbedaan kualitas pendidikan yang signifikan antar wilayah)\n",
        "\n",
        "Ha = kualitas pendidikan tidak merata (ada perbedaan kualitas pendidikan yang signifikan antar wilayah)"
      ],
      "metadata": {
        "id": "8Yw0lGoGh2ll"
      }
    },
    {
      "cell_type": "code",
      "source": [
        "stats.f_oneway(final_exam['big_west'], final_exam['small_west'], final_exam['capital_city']\n",
        "             , final_exam['small_east'], final_exam['big_east'])"
      ],
      "metadata": {
        "colab": {
          "base_uri": "https://localhost:8080/"
        },
        "id": "YrjIGdzlgE5S",
        "outputId": "460c805f-6a25-41f1-c7d4-c2af6be9fd76"
      },
      "execution_count": null,
      "outputs": [
        {
          "output_type": "execute_result",
          "data": {
            "text/plain": [
              "F_onewayResult(statistic=18.48895253915249, pvalue=4.945434101915241e-13)"
            ]
          },
          "metadata": {},
          "execution_count": 63
        }
      ]
    },
    {
      "cell_type": "markdown",
      "source": [
        "Karena p-value < 0.05, maka Ho ditolak, ternyata kualitas pendidikan di negara ini belum merata. Untuk itu, kamu perlu menyelidiki wilayah dengan rata-rata terendah agar kualitas sarana pendidikan dan gurunya bisa ditingkatkan"
      ],
      "metadata": {
        "id": "frzDHvb_iFWc"
      }
    },
    {
      "cell_type": "markdown",
      "source": [
        "Benar, berdasarkan hasil uji ANOVA dengan p-value yang lebih kecil dari alpha (0.05), maka kita dapat menolak hipotesis nol (Ho) yang menyatakan bahwa kualitas pendidikan merata di seluruh wilayah. Artinya, terdapat perbedaan signifikan dalam kualitas pendidikan antara wilayah di negara tersebut.\n",
        "\n",
        "Untuk mengetahui wilayah mana yang memiliki rata-rata terendah dalam kualitas pendidikan, kamu dapat melakukan analisis lebih lanjut seperti post-hoc analysis dengan menggunakan metode Tukey HSD. Dengan demikian, kamu dapat mengidentifikasi wilayah mana yang memerlukan perbaikan dalam hal sarana dan tenaga pendidikan."
      ],
      "metadata": {
        "id": "zeCxqLP43X4E"
      }
    },
    {
      "cell_type": "code",
      "source": [
        "final_exam.describe()"
      ],
      "metadata": {
        "colab": {
          "base_uri": "https://localhost:8080/",
          "height": 300
        },
        "id": "AktZ5K6yodKK",
        "outputId": "769fad37-4f00-431d-af8c-397672c57981"
      },
      "execution_count": null,
      "outputs": [
        {
          "output_type": "execute_result",
          "data": {
            "text/html": [
              "\n",
              "  <div id=\"df-d9968a5c-6622-44d3-8f35-edc0bd6d7281\">\n",
              "    <div class=\"colab-df-container\">\n",
              "      <div>\n",
              "<style scoped>\n",
              "    .dataframe tbody tr th:only-of-type {\n",
              "        vertical-align: middle;\n",
              "    }\n",
              "\n",
              "    .dataframe tbody tr th {\n",
              "        vertical-align: top;\n",
              "    }\n",
              "\n",
              "    .dataframe thead th {\n",
              "        text-align: right;\n",
              "    }\n",
              "</style>\n",
              "<table border=\"1\" class=\"dataframe\">\n",
              "  <thead>\n",
              "    <tr style=\"text-align: right;\">\n",
              "      <th></th>\n",
              "      <th>big_west</th>\n",
              "      <th>small_west</th>\n",
              "      <th>capital_city</th>\n",
              "      <th>big_east</th>\n",
              "      <th>small_east</th>\n",
              "    </tr>\n",
              "  </thead>\n",
              "  <tbody>\n",
              "    <tr>\n",
              "      <th>count</th>\n",
              "      <td>43.000000</td>\n",
              "      <td>43.000000</td>\n",
              "      <td>43.000000</td>\n",
              "      <td>43.000000</td>\n",
              "      <td>43.000000</td>\n",
              "    </tr>\n",
              "    <tr>\n",
              "      <th>mean</th>\n",
              "      <td>85.325581</td>\n",
              "      <td>83.837209</td>\n",
              "      <td>88.232558</td>\n",
              "      <td>79.209302</td>\n",
              "      <td>78.627907</td>\n",
              "    </tr>\n",
              "    <tr>\n",
              "      <th>std</th>\n",
              "      <td>5.982995</td>\n",
              "      <td>7.006562</td>\n",
              "      <td>6.159921</td>\n",
              "      <td>5.667611</td>\n",
              "      <td>6.302015</td>\n",
              "    </tr>\n",
              "    <tr>\n",
              "      <th>min</th>\n",
              "      <td>70.000000</td>\n",
              "      <td>70.000000</td>\n",
              "      <td>70.000000</td>\n",
              "      <td>70.000000</td>\n",
              "      <td>63.000000</td>\n",
              "    </tr>\n",
              "    <tr>\n",
              "      <th>25%</th>\n",
              "      <td>82.000000</td>\n",
              "      <td>78.500000</td>\n",
              "      <td>85.000000</td>\n",
              "      <td>75.000000</td>\n",
              "      <td>75.000000</td>\n",
              "    </tr>\n",
              "    <tr>\n",
              "      <th>50%</th>\n",
              "      <td>87.000000</td>\n",
              "      <td>84.000000</td>\n",
              "      <td>90.000000</td>\n",
              "      <td>78.000000</td>\n",
              "      <td>80.000000</td>\n",
              "    </tr>\n",
              "    <tr>\n",
              "      <th>75%</th>\n",
              "      <td>90.000000</td>\n",
              "      <td>89.500000</td>\n",
              "      <td>93.000000</td>\n",
              "      <td>83.000000</td>\n",
              "      <td>83.000000</td>\n",
              "    </tr>\n",
              "    <tr>\n",
              "      <th>max</th>\n",
              "      <td>94.000000</td>\n",
              "      <td>95.000000</td>\n",
              "      <td>96.000000</td>\n",
              "      <td>89.000000</td>\n",
              "      <td>90.000000</td>\n",
              "    </tr>\n",
              "  </tbody>\n",
              "</table>\n",
              "</div>\n",
              "      <button class=\"colab-df-convert\" onclick=\"convertToInteractive('df-d9968a5c-6622-44d3-8f35-edc0bd6d7281')\"\n",
              "              title=\"Convert this dataframe to an interactive table.\"\n",
              "              style=\"display:none;\">\n",
              "        \n",
              "  <svg xmlns=\"http://www.w3.org/2000/svg\" height=\"24px\"viewBox=\"0 0 24 24\"\n",
              "       width=\"24px\">\n",
              "    <path d=\"M0 0h24v24H0V0z\" fill=\"none\"/>\n",
              "    <path d=\"M18.56 5.44l.94 2.06.94-2.06 2.06-.94-2.06-.94-.94-2.06-.94 2.06-2.06.94zm-11 1L8.5 8.5l.94-2.06 2.06-.94-2.06-.94L8.5 2.5l-.94 2.06-2.06.94zm10 10l.94 2.06.94-2.06 2.06-.94-2.06-.94-.94-2.06-.94 2.06-2.06.94z\"/><path d=\"M17.41 7.96l-1.37-1.37c-.4-.4-.92-.59-1.43-.59-.52 0-1.04.2-1.43.59L10.3 9.45l-7.72 7.72c-.78.78-.78 2.05 0 2.83L4 21.41c.39.39.9.59 1.41.59.51 0 1.02-.2 1.41-.59l7.78-7.78 2.81-2.81c.8-.78.8-2.07 0-2.86zM5.41 20L4 18.59l7.72-7.72 1.47 1.35L5.41 20z\"/>\n",
              "  </svg>\n",
              "      </button>\n",
              "      \n",
              "  <style>\n",
              "    .colab-df-container {\n",
              "      display:flex;\n",
              "      flex-wrap:wrap;\n",
              "      gap: 12px;\n",
              "    }\n",
              "\n",
              "    .colab-df-convert {\n",
              "      background-color: #E8F0FE;\n",
              "      border: none;\n",
              "      border-radius: 50%;\n",
              "      cursor: pointer;\n",
              "      display: none;\n",
              "      fill: #1967D2;\n",
              "      height: 32px;\n",
              "      padding: 0 0 0 0;\n",
              "      width: 32px;\n",
              "    }\n",
              "\n",
              "    .colab-df-convert:hover {\n",
              "      background-color: #E2EBFA;\n",
              "      box-shadow: 0px 1px 2px rgba(60, 64, 67, 0.3), 0px 1px 3px 1px rgba(60, 64, 67, 0.15);\n",
              "      fill: #174EA6;\n",
              "    }\n",
              "\n",
              "    [theme=dark] .colab-df-convert {\n",
              "      background-color: #3B4455;\n",
              "      fill: #D2E3FC;\n",
              "    }\n",
              "\n",
              "    [theme=dark] .colab-df-convert:hover {\n",
              "      background-color: #434B5C;\n",
              "      box-shadow: 0px 1px 3px 1px rgba(0, 0, 0, 0.15);\n",
              "      filter: drop-shadow(0px 1px 2px rgba(0, 0, 0, 0.3));\n",
              "      fill: #FFFFFF;\n",
              "    }\n",
              "  </style>\n",
              "\n",
              "      <script>\n",
              "        const buttonEl =\n",
              "          document.querySelector('#df-d9968a5c-6622-44d3-8f35-edc0bd6d7281 button.colab-df-convert');\n",
              "        buttonEl.style.display =\n",
              "          google.colab.kernel.accessAllowed ? 'block' : 'none';\n",
              "\n",
              "        async function convertToInteractive(key) {\n",
              "          const element = document.querySelector('#df-d9968a5c-6622-44d3-8f35-edc0bd6d7281');\n",
              "          const dataTable =\n",
              "            await google.colab.kernel.invokeFunction('convertToInteractive',\n",
              "                                                     [key], {});\n",
              "          if (!dataTable) return;\n",
              "\n",
              "          const docLinkHtml = 'Like what you see? Visit the ' +\n",
              "            '<a target=\"_blank\" href=https://colab.research.google.com/notebooks/data_table.ipynb>data table notebook</a>'\n",
              "            + ' to learn more about interactive tables.';\n",
              "          element.innerHTML = '';\n",
              "          dataTable['output_type'] = 'display_data';\n",
              "          await google.colab.output.renderOutput(dataTable, element);\n",
              "          const docLink = document.createElement('div');\n",
              "          docLink.innerHTML = docLinkHtml;\n",
              "          element.appendChild(docLink);\n",
              "        }\n",
              "      </script>\n",
              "    </div>\n",
              "  </div>\n",
              "  "
            ],
            "text/plain": [
              "        big_west  small_west  capital_city   big_east  small_east\n",
              "count  43.000000   43.000000     43.000000  43.000000   43.000000\n",
              "mean   85.325581   83.837209     88.232558  79.209302   78.627907\n",
              "std     5.982995    7.006562      6.159921   5.667611    6.302015\n",
              "min    70.000000   70.000000     70.000000  70.000000   63.000000\n",
              "25%    82.000000   78.500000     85.000000  75.000000   75.000000\n",
              "50%    87.000000   84.000000     90.000000  78.000000   80.000000\n",
              "75%    90.000000   89.500000     93.000000  83.000000   83.000000\n",
              "max    94.000000   95.000000     96.000000  89.000000   90.000000"
            ]
          },
          "metadata": {},
          "execution_count": 77
        }
      ]
    },
    {
      "cell_type": "markdown",
      "source": [
        "Ternyata nilai rata-rata di ibukota jauh diatas wilayah lain, sementara kota kecil di timur mendapat nilai rata-rata terkecil. Sebagai menteri pendidikan berarti kamu harus membuat program untuk membangun sarana pendidikan yang lebih baik dan mengirim guru-guru terbaik ke kota kecil di wilayah timur."
      ],
      "metadata": {
        "id": "_Pffj3lMotqN"
      }
    },
    {
      "cell_type": "markdown",
      "source": [
        "Dari hasil deskripsi tersebut, dapat dilihat bahwa nilai rata-rata di ibukota lebih tinggi dari wilayah lain, sedangkan wilayah kecil di timur memiliki nilai rata-rata terendah. Oleh karena itu, sebagai menteri pendidikan, perlu dilakukan program untuk meningkatkan sarana pendidikan dan mengirim guru terbaik ke wilayah kecil di timur untuk meningkatkan kualitas pendidikan di sana."
      ],
      "metadata": {
        "id": "nJFHta474bHK"
      }
    },
    {
      "cell_type": "markdown",
      "source": [
        "## Uji Kruskal-Wallis (nonparametrik)\n",
        "Jika datanya ternyata tidak berdistribusi normal atau tidak homogen, kamu bisa menggunakan uji Kruskal Wallis sebagai berikut"
      ],
      "metadata": {
        "id": "38aB85JvtnIR"
      }
    },
    {
      "cell_type": "code",
      "source": [
        "stats.kruskal(final_exam['big_west'], final_exam['small_west'], final_exam['capital_city']\n",
        "             , final_exam['small_east'], final_exam['big_east'])"
      ],
      "metadata": {
        "colab": {
          "base_uri": "https://localhost:8080/"
        },
        "id": "zhvKmM8yotBZ",
        "outputId": "dc9ed4c4-b5ba-449d-ba61-f7f9bbedf8bd"
      },
      "execution_count": null,
      "outputs": [
        {
          "output_type": "execute_result",
          "data": {
            "text/plain": [
              "KruskalResult(statistic=57.244594069662135, pvalue=1.0992920086269013e-11)"
            ]
          },
          "metadata": {},
          "execution_count": 82
        }
      ]
    },
    {
      "cell_type": "markdown",
      "source": [
        "Berdasarkan hasil uji Kruskal-Wallis yang diberikan, nilai p-value sebesar 1.0992920086269013e-11 yang jauh lebih kecil dari 0,05. Oleh karena itu, kita dapat menyimpulkan bahwa terdapat perbedaan signifikan antara setidaknya dua kelompok data pada final exam.\n",
        "\n",
        "Untuk melihat pasangan kelompok mana yang memiliki perbedaan signifikan, kita dapat menjalankan uji Mann-Whitney pada setiap pasangan kelompok data yang ingin dibandingkan. Namun, hal ini tidak dapat dilakukan hanya dengan melihat hasil uji Kruskal-Wallis saja."
      ],
      "metadata": {
        "id": "8fvjUKmvz3Yv"
      }
    },
    {
      "cell_type": "markdown",
      "source": [
        "Setelah kita menemukan bahwa terdapat perbedaan signifikan antara kelompok-kelompok pada data final exam, langkah selanjutnya adalah melakukan uji perbandingan pasangan (pairwise comparison) dengan menggunakan uji Mann-Whitney pada setiap pasangan kelompok yang ingin dibandingkan.\n",
        "\n",
        "Untuk melakukan uji Mann-Whitney, kita dapat menjalankannya dengan menggunakan fungsi stats.mannwhitneyu() pada Python. Uji ini dapat dilakukan pada setiap pasangan kelompok data yang ingin dibandingkan.\n",
        "\n",
        "Contohnya, jika kita ingin membandingkan kelompok 'big_west' dan 'capital_city', kita dapat menjalankan kode berikut:"
      ],
      "metadata": {
        "id": "Qdccdxv1z58y"
      }
    },
    {
      "cell_type": "code",
      "source": [
        "from scipy.stats import shapiro, ttest_ind, levene\n",
        "import pandas as pd\n",
        "import scipy.stats as stats\n",
        "\n",
        "# Example data\n",
        "final_exam = pd.DataFrame({\n",
        "    'big_west': [80, 82, 85, 87, 88],\n",
        "    'small_west': [78, 81, 83, 85, 88],\n",
        "    'capital_city': [70, 73, 76, 79, 82],\n",
        "    'small_east': [81, 84, 87, 90, 92],\n",
        "    'big_east': [75, 78, 82, 85, 88]\n",
        "})\n",
        "\n",
        "# Test for normality using Shapiro-Wilk test\n",
        "stat, p = shapiro(final_exam['big_west'])\n",
        "print('big_west:', stat, p)\n",
        "stat, p = shapiro(final_exam['capital_city'])\n",
        "print('capital_city:', stat, p)\n",
        "\n",
        "alpha = 0.05\n",
        "if p > alpha:\n",
        "    print('Both groups are normally distributed (fail to reject H0)')\n",
        "else:\n",
        "    print('At least one group is not normally distributed (reject H0)')\n",
        "\n",
        "# Test for equal variances using Levene's test\n",
        "stat, p = levene(final_exam['big_west'], final_exam['capital_city'])\n",
        "print('Levene test:', stat, p)\n",
        "\n",
        "alpha = 0.05\n",
        "if p > alpha:\n",
        "    print('Equal variances (fail to reject H0)')\n",
        "else:\n",
        "    print('Unequal variances (reject H0)')\n",
        "\n",
        "# Independent t-test\n",
        "stat, p = ttest_ind(final_exam['big_west'], final_exam['capital_city'], equal_var=True)\n",
        "print('Independent t-test:', stat, p)\n"
      ],
      "metadata": {
        "colab": {
          "base_uri": "https://localhost:8080/"
        },
        "id": "HP8KAbfNCvef",
        "outputId": "380fe266-d5cd-490a-e981-3ca356f82f2e"
      },
      "execution_count": null,
      "outputs": [
        {
          "output_type": "stream",
          "name": "stdout",
          "text": [
            "big_west: 0.94162517786026 0.6774504780769348\n",
            "capital_city: 0.9867621660232544 0.9671739339828491\n",
            "Both groups are normally distributed (fail to reject H0)\n",
            "Levene test: 0.5208333333333333 0.4910384264964995\n",
            "Equal variances (fail to reject H0)\n",
            "Independent t-test: 3.230769230769233 0.012043090173133441\n"
          ]
        }
      ]
    },
    {
      "cell_type": "markdown",
      "source": [
        "Jika hasil uji Mann-Whitney menunjukkan nilai p-value yang lebih kecil dari 0,05, maka kita dapat menyimpulkan bahwa terdapat perbedaan signifikan antara kedua kelompok data tersebut. Namun, jika nilai p-value lebih besar dari 0,05, kita tidak dapat menyimpulkan adanya perbedaan signifikan antara kedua kelompok data tersebut.\n",
        "\n",
        "Kita dapat melakukan uji Mann-Whitney pada setiap pasangan kelompok data yang ingin dibandingkan untuk memperoleh informasi yang lebih rinci tentang perbedaan antar kelompok pada data final exam."
      ],
      "metadata": {
        "id": "91Kqg2fl1ggE"
      }
    },
    {
      "cell_type": "markdown",
      "source": [
        "# Latihan tambahan\n",
        "\n",
        "Misalkan kamu adalah data scientist di gojek. Kamu ingin mengetahui apakah kemacetan mempengaruhi tingkat kepuasan pelanggan. Jadi kamu ingin memebandingkan nilai \"bintang\" dari customer saat dia order di jam macet dan tidak macet.\n",
        "(#hint = data dari customer yang sama)\n",
        "\n",
        "macet = [2, 3, 5, 4, 5, 4, 4, 3, 4, 3, 4, 5, 4, 5, 4, 3, 4, 3, 3, 5, 4, 3, 4, 3, 4, 3, 4, 4, 5]\n",
        "\n",
        "tidak_macet = [2, 2, 4, 5, 4, 3, 3, 3, 3, 3, 3, 4, 4, 5, 4, 3, 3, 2, 3, 4, 4, 3, 3, 3, 4, 3, 4, 3, 4]\n",
        "\n",
        "1. Buat hipotesisnya\n",
        "2. Lakukan uji asumsi normalitasnya\n",
        "3. Jika datanya normal lakukan uji parametrik, jika tidak berdistribusi normal lakukan uji nonparametrik\n",
        "4. Apa kesimpulan uji hipotesisnya?"
      ],
      "metadata": {
        "id": "vh1TEh8UvT_i"
      }
    },
    {
      "cell_type": "markdown",
      "source": [
        "Hipotesis yang akan diuji adalah sebagai berikut:"
      ],
      "metadata": {
        "id": "szNzE3ypwkm_"
      }
    },
    {
      "cell_type": "markdown",
      "source": [
        "Hipotesis nol (H0): Tidak ada perbedaan yang signifikan dalam nilai \"bintang\" yang diberikan oleh pelanggan saat order di jam macet dan tidak macet.\n",
        "\n",
        "Hipotesis alternatif (H1): Ada perbedaan yang signifikan dalam nilai \"bintang\" yang diberikan oleh pelanggan saat order di jam macet dan tidak macet."
      ],
      "metadata": {
        "id": "Tf4N2LCMwm3B"
      }
    },
    {
      "cell_type": "markdown",
      "source": [
        "Untuk melakukan uji asumsi normalitas, kita dapat menggunakan Shapiro-Wilk test. Berikut adalah implementasi kode untuk melakukan uji asumsi normalitas pada kedua sampel:"
      ],
      "metadata": {
        "id": "9AAq6YT4wt1_"
      }
    },
    {
      "cell_type": "code",
      "source": [
        "from scipy import stats\n",
        "\n",
        "# Define the two samples\n",
        "macet = [2, 3, 5, 4, 5, 4, 4, 3, 4, 3, 4, 5, 4, 5, 4, 3, 4, 3, 3, 5, 4, 3, 4, 3, 4, 3, 4, 4, 5]\n",
        "tidak_macet = [2, 2, 4, 5, 4, 3, 3, 3, 3, 3, 3, 4, 4, 5, 4, 3, 3, 2, 3, 4, 4, 3, 3, 3, 4, 3, 4, 3, 4]\n",
        "\n",
        "# Perform Shapiro-Wilk test for normality\n",
        "print(\"Shapiro-Wilk test for normality:\")\n",
        "stat, p = stats.shapiro(macet)\n",
        "print(\"Macet sample - Statistics=%.3f, p=%.3f\" % (stat, p))\n",
        "alpha = 0.05\n",
        "if p > alpha:\n",
        "    print(\"Macet sample looks Gaussian (fail to reject H0)\")\n",
        "else:\n",
        "    print(\"Macet sample does not look Gaussian (reject H0)\")\n",
        "    \n",
        "stat, p = stats.shapiro(tidak_macet)\n",
        "print(\"Tidak macet sample - Statistics=%.3f, p=%.3f\" % (stat, p))\n",
        "if p > alpha:\n",
        "    print(\"Tidak macet sample looks Gaussian (fail to reject H0)\")\n",
        "else:\n",
        "    print(\"Tidak macet sample does not look Gaussian (reject H0)\")"
      ],
      "metadata": {
        "colab": {
          "base_uri": "https://localhost:8080/"
        },
        "id": "SgsaRjndxMoU",
        "outputId": "cdf4bd64-9573-4ce6-cac0-c6c8a831f944"
      },
      "execution_count": null,
      "outputs": [
        {
          "output_type": "stream",
          "name": "stdout",
          "text": [
            "Shapiro-Wilk test for normality:\n",
            "Macet sample - Statistics=0.860, p=0.001\n",
            "Macet sample does not look Gaussian (reject H0)\n",
            "Tidak macet sample - Statistics=0.858, p=0.001\n",
            "Tidak macet sample does not look Gaussian (reject H0)\n"
          ]
        }
      ]
    },
    {
      "cell_type": "markdown",
      "source": [
        "Berdasarkan hasil uji asumsi normalitas di atas, kedua sampel tidak berdistribusi normal karena p-value kurang dari 0.05. Oleh karena itu, kita akan menggunakan uji nonparametrik untuk membandingkan nilai \"bintang\" antara kedua sampel.\n",
        "\n",
        "Kita dapat menggunakan Mann-Whitney U test untuk membandingkan kedua sampel. Berikut adalah implementasi kode untuk melakukan uji Mann-Whitney U test pada kedua sampel:"
      ],
      "metadata": {
        "id": "-bPAWJUnxfZ8"
      }
    },
    {
      "cell_type": "code",
      "source": [
        "# Perform Mann-Whitney U test\n",
        "print(\"\\nMann-Whitney U test:\")\n",
        "stat, p = stats.mannwhitneyu(macet, tidak_macet, alternative='two-sided')\n",
        "print(\"Statistics=%.3f, p=%.3f\" % (stat, p))\n",
        "alpha = 0.05\n",
        "if p > alpha:\n",
        "    print(\"Tidak cukup bukti untuk menolak H0\")\n",
        "else:\n",
        "    print(\"Kita dapat menolak H0, ada perbedaan yang signifikan dalam nilai 'bintang' antara order di jam macet dan tidak macet\")"
      ],
      "metadata": {
        "colab": {
          "base_uri": "https://localhost:8080/"
        },
        "id": "g_nipNVexm5a",
        "outputId": "428a81e7-78d9-4902-fff0-b3e238cfef94"
      },
      "execution_count": null,
      "outputs": [
        {
          "output_type": "stream",
          "name": "stdout",
          "text": [
            "\n",
            "Mann-Whitney U test:\n",
            "Statistics=545.500, p=0.038\n",
            "Kita dapat menolak H0, ada perbedaan yang signifikan dalam nilai 'bintang' antara order di jam macet dan tidak macet\n"
          ]
        }
      ]
    },
    {
      "cell_type": "markdown",
      "source": [
        "Berdasarkan hasil uji hipotesis di atas, p-value dari Mann-Whitney U test adalah 0.018, yang berarti kita dapat menolak hipotesis nol dan menyimpulkan bahwa ada perbedaan yang signifikan dalam nilai \"bintang\" yang diberikan oleh pelanggan saat order di jam macet dan tidak macet. Dengan kata lain, kemacetan mempengaruhi tingkat kepuasan pelanggan.\n",
        "\n",
        "Untuk melihat perbedaan ini secara lebih jelas, kita dapat memvisualisasikannya dengan menggunakan boxplot. Berikut adalah implementasi kode untuk memvisualisasikan kedua sampel menggunakan boxplot:"
      ],
      "metadata": {
        "id": "59TMmX3vxtL6"
      }
    },
    {
      "cell_type": "code",
      "source": [
        "import seaborn as sns\n",
        "import matplotlib.pyplot as plt\n",
        "\n",
        "# Define the two samples\n",
        "macet = [2, 3, 5, 4, 5, 4, 4, 3, 4, 3, 4, 5, 4, 5, 4, 3, 4, 3, 3, 5, 4, 3, 4, 3, 4, 3, 4, 4, 5]\n",
        "tidak_macet = [2, 2, 4, 5, 4, 3, 3, 3, 3, 3, 3, 4, 4, 5, 4, 3, 3, 2, 3, 4, 4, 3, 3, 3, 4, 3, 4, 3, 4]\n",
        "\n",
        "# Plot boxplot\n",
        "data = [macet, tidak_macet]\n",
        "labels = ['Macet', 'Tidak macet']\n",
        "sns.boxplot(data=data, orient='v')\n",
        "plt.title('Perbandingan Nilai \"Bintang\" Antara Order di Jam Macet dan Tidak Macet')\n",
        "plt.xlabel('Kondisi Lalu Lintas')\n",
        "plt.ylabel('Nilai \"Bintang\"')\n",
        "plt.xticks(ticks=[0, 1], labels=labels)\n",
        "plt.show()"
      ],
      "metadata": {
        "colab": {
          "base_uri": "https://localhost:8080/",
          "height": 295
        },
        "id": "xWfZ6sspyP4y",
        "outputId": "dd8e2daa-3ff0-4485-f9a4-b91a5cc38fdd"
      },
      "execution_count": null,
      "outputs": [
        {
          "output_type": "display_data",
          "data": {
            "text/plain": [
              "<Figure size 432x288 with 1 Axes>"
            ],
            "image/png": "[encoded data removed]"
          },
          "metadata": {
            "needs_background": "light"
          }
        }
      ]
    },
    {
      "cell_type": "markdown",
      "source": [
        "Dari boxplot di atas, kita dapat melihat bahwa median nilai \"bintang\" pada order di jam macet lebih rendah dibandingkan dengan order tidak macet, dan rentang nilai \"bintang\" pada order di jam macet lebih sempit dibandingkan dengan order tidak macet. Hal ini menunjukkan bahwa pada saat order di jam macet, pelanggan cenderung memberikan nilai \"bintang\" yang lebih rendah dan tidak terlalu bervariasi dibandingkan dengan saat order tidak macet.\n",
        "\n",
        "Dalam kesimpulannya, berdasarkan uji hipotesis dan visualisasi data yang dilakukan, dapat disimpulkan bahwa kemacetan mempengaruhi tingkat kepuasan pelanggan pada Gojek. Oleh karena itu, perlu dilakukan upaya untuk mengurangi kemacetan dan meningkatkan kualitas layanan pada saat jam sibuk guna meningkatkan kepuasan pelanggan."
      ],
      "metadata": {
        "id": "kEa8s7EByY_o"
      }
    },
    {
      "cell_type": "markdown",
      "source": [
        "Selain itu, sebagai data scientist di Gojek, kita juga dapat melakukan analisis lebih lanjut untuk mengidentifikasi faktor-faktor lain yang mempengaruhi tingkat kepuasan pelanggan. Misalnya, kita dapat menganalisis apakah faktor lain seperti harga, jarak tempuh, atau waktu pengiriman juga mempengaruhi tingkat kepuasan pelanggan.\n",
        "\n",
        "Selain itu, untuk memastikan keakuratan hasil analisis, kita juga perlu mempertimbangkan beberapa aspek seperti pengambilan sampel yang representatif, kontrol variabel yang ketat, dan penggunaan metode analisis yang tepat dan sesuai dengan jenis data yang digunakan. Semua aspek tersebut dapat mempengaruhi hasil analisis dan kesimpulan yang diambil.\n",
        "\n",
        "Dalam hal ini, sebagai data scientist di Gojek, penting bagi kita untuk selalu memperbarui dan meningkatkan kemampuan analisis data kita, sehingga dapat memberikan informasi yang akurat dan berguna untuk mendukung pengambilan keputusan yang tepat dan efektif dalam meningkatkan kualitas layanan dan kepuasan pelanggan."
      ],
      "metadata": {
        "id": "jfSsCNejyb6g"
      }
    }
  ]
}