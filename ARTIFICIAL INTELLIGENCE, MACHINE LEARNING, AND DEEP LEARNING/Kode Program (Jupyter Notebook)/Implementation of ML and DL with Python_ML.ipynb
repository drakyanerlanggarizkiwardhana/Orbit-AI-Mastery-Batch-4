{
  "cells": [
    {
      "cell_type": "markdown",
      "metadata": {
        "id": "mAl4nYmDwUpS"
      },
      "source": [
        "## KNN In Medical Industry - Study Case Heart Disease"
      ]
    },
    {
      "cell_type": "markdown",
      "metadata": {
        "id": "6_TqzQgkwUpY"
      },
      "source": [
        "### Import Library"
      ]
    },
    {
      "cell_type": "code",
      "execution_count": 19,
      "metadata": {
        "id": "MhIej8WbwUpa"
      },
      "outputs": [],
      "source": [
        "import pandas as pd\n",
        "import numpy as np\n",
        "\n",
        "import matplotlib.pyplot as plt\n",
        "import seaborn as sns\n",
        "\n",
        "from sklearn.neighbors import KNeighborsClassifier\n",
        "from sklearn.metrics import classification_report\n",
        "from sklearn.model_selection import train_test_split\n",
        "from sklearn.metrics import roc_auc_score\n",
        "from sklearn.model_selection import GridSearchCV\n",
        "\n",
        "import warnings\n",
        "warnings.filterwarnings('ignore')"
      ]
    },
    {
      "cell_type": "markdown",
      "metadata": {},
      "source": [
        "### Download dataset"
      ]
    },
    {
      "cell_type": "code",
      "execution_count": 20,
      "metadata": {},
      "outputs": [
        {
          "name": "stdout",
          "output_type": "stream",
          "text": [
            "--2022-08-16 14:57:06--  https://raw.githubusercontent.com/Wayan123/dataset-ml/main/heart.csv\n",
            "Resolving raw.githubusercontent.com (raw.githubusercontent.com)... 185.199.110.133, 185.199.108.133, 185.199.111.133, ...\n",
            "Connecting to raw.githubusercontent.com (raw.githubusercontent.com)|185.199.110.133|:443... connected.\n",
            "HTTP request sent, awaiting response... 200 OK\n",
            "Length: 11328 (11K) [text/plain]\n",
            "Saving to: ‘heart.csv’\n",
            "\n",
            "heart.csv           100%[===================>]  11,06K  --.-KB/s    in 0s      \n",
            "\n",
            "2022-08-16 14:57:06 (26,4 MB/s) - ‘heart.csv’ saved [11328/11328]\n",
            "\n"
          ]
        }
      ],
      "source": [
        "!wget https://raw.githubusercontent.com/Wayan123/dataset-ml/main/heart.csv"
      ]
    },
    {
      "cell_type": "markdown",
      "metadata": {
        "id": "OEwCi-LhwUpc"
      },
      "source": [
        "### Load Dataset"
      ]
    },
    {
      "cell_type": "code",
      "execution_count": 21,
      "metadata": {
        "id": "8UMxMmlxwUpc"
      },
      "outputs": [],
      "source": [
        "df = pd.read_csv('heart.csv')"
      ]
    },
    {
      "cell_type": "markdown",
      "metadata": {
        "id": "IBz0ai5twUpc"
      },
      "source": [
        "### Sneak Peak Data"
      ]
    },
    {
      "cell_type": "code",
      "execution_count": 22,
      "metadata": {
        "colab": {
          "base_uri": "https://localhost:8080/",
          "height": 206
        },
        "id": "eK_UC2pEwUpd",
        "outputId": "3d563059-d4d6-42e9-828f-1c1bbdcd7eb2"
      },
      "outputs": [
        {
          "data": {
            "text/html": [
              "<div>\n",
              "<style scoped>\n",
              "    .dataframe tbody tr th:only-of-type {\n",
              "        vertical-align: middle;\n",
              "    }\n",
              "\n",
              "    .dataframe tbody tr th {\n",
              "        vertical-align: top;\n",
              "    }\n",
              "\n",
              "    .dataframe thead th {\n",
              "        text-align: right;\n",
              "    }\n",
              "</style>\n",
              "<table border=\"1\" class=\"dataframe\">\n",
              "  <thead>\n",
              "    <tr style=\"text-align: right;\">\n",
              "      <th></th>\n",
              "      <th>age</th>\n",
              "      <th>sex</th>\n",
              "      <th>cp</th>\n",
              "      <th>trestbps</th>\n",
              "      <th>chol</th>\n",
              "      <th>fbs</th>\n",
              "      <th>restecg</th>\n",
              "      <th>thalach</th>\n",
              "      <th>exang</th>\n",
              "      <th>oldpeak</th>\n",
              "      <th>slope</th>\n",
              "      <th>ca</th>\n",
              "      <th>thal</th>\n",
              "      <th>target</th>\n",
              "    </tr>\n",
              "  </thead>\n",
              "  <tbody>\n",
              "    <tr>\n",
              "      <th>0</th>\n",
              "      <td>63</td>\n",
              "      <td>1</td>\n",
              "      <td>3</td>\n",
              "      <td>145</td>\n",
              "      <td>233</td>\n",
              "      <td>1</td>\n",
              "      <td>0</td>\n",
              "      <td>150</td>\n",
              "      <td>0</td>\n",
              "      <td>2.3</td>\n",
              "      <td>0</td>\n",
              "      <td>0</td>\n",
              "      <td>1</td>\n",
              "      <td>1</td>\n",
              "    </tr>\n",
              "    <tr>\n",
              "      <th>1</th>\n",
              "      <td>37</td>\n",
              "      <td>1</td>\n",
              "      <td>2</td>\n",
              "      <td>130</td>\n",
              "      <td>250</td>\n",
              "      <td>0</td>\n",
              "      <td>1</td>\n",
              "      <td>187</td>\n",
              "      <td>0</td>\n",
              "      <td>3.5</td>\n",
              "      <td>0</td>\n",
              "      <td>0</td>\n",
              "      <td>2</td>\n",
              "      <td>1</td>\n",
              "    </tr>\n",
              "    <tr>\n",
              "      <th>2</th>\n",
              "      <td>41</td>\n",
              "      <td>0</td>\n",
              "      <td>1</td>\n",
              "      <td>130</td>\n",
              "      <td>204</td>\n",
              "      <td>0</td>\n",
              "      <td>0</td>\n",
              "      <td>172</td>\n",
              "      <td>0</td>\n",
              "      <td>1.4</td>\n",
              "      <td>2</td>\n",
              "      <td>0</td>\n",
              "      <td>2</td>\n",
              "      <td>1</td>\n",
              "    </tr>\n",
              "    <tr>\n",
              "      <th>3</th>\n",
              "      <td>56</td>\n",
              "      <td>1</td>\n",
              "      <td>1</td>\n",
              "      <td>120</td>\n",
              "      <td>236</td>\n",
              "      <td>0</td>\n",
              "      <td>1</td>\n",
              "      <td>178</td>\n",
              "      <td>0</td>\n",
              "      <td>0.8</td>\n",
              "      <td>2</td>\n",
              "      <td>0</td>\n",
              "      <td>2</td>\n",
              "      <td>1</td>\n",
              "    </tr>\n",
              "    <tr>\n",
              "      <th>4</th>\n",
              "      <td>57</td>\n",
              "      <td>0</td>\n",
              "      <td>0</td>\n",
              "      <td>120</td>\n",
              "      <td>354</td>\n",
              "      <td>0</td>\n",
              "      <td>1</td>\n",
              "      <td>163</td>\n",
              "      <td>1</td>\n",
              "      <td>0.6</td>\n",
              "      <td>2</td>\n",
              "      <td>0</td>\n",
              "      <td>2</td>\n",
              "      <td>1</td>\n",
              "    </tr>\n",
              "  </tbody>\n",
              "</table>\n",
              "</div>"
            ],
            "text/plain": [
              "   age  sex  cp  trestbps  chol  fbs  restecg  thalach  exang  oldpeak  slope  \\\n",
              "0   63    1   3       145   233    1        0      150      0      2.3      0   \n",
              "1   37    1   2       130   250    0        1      187      0      3.5      0   \n",
              "2   41    0   1       130   204    0        0      172      0      1.4      2   \n",
              "3   56    1   1       120   236    0        1      178      0      0.8      2   \n",
              "4   57    0   0       120   354    0        1      163      1      0.6      2   \n",
              "\n",
              "   ca  thal  target  \n",
              "0   0     1       1  \n",
              "1   0     2       1  \n",
              "2   0     2       1  \n",
              "3   0     2       1  \n",
              "4   0     2       1  "
            ]
          },
          "execution_count": 22,
          "metadata": {},
          "output_type": "execute_result"
        }
      ],
      "source": [
        "#Melihat 5 data teratas\n",
        "df.head()"
      ]
    },
    {
      "cell_type": "code",
      "execution_count": 23,
      "metadata": {
        "colab": {
          "base_uri": "https://localhost:8080/",
          "height": 206
        },
        "id": "Xvrb7MCGwUpe",
        "outputId": "e64e4fe6-1523-4dd2-a880-a31c69575ecf"
      },
      "outputs": [
        {
          "data": {
            "text/html": [
              "<div>\n",
              "<style scoped>\n",
              "    .dataframe tbody tr th:only-of-type {\n",
              "        vertical-align: middle;\n",
              "    }\n",
              "\n",
              "    .dataframe tbody tr th {\n",
              "        vertical-align: top;\n",
              "    }\n",
              "\n",
              "    .dataframe thead th {\n",
              "        text-align: right;\n",
              "    }\n",
              "</style>\n",
              "<table border=\"1\" class=\"dataframe\">\n",
              "  <thead>\n",
              "    <tr style=\"text-align: right;\">\n",
              "      <th></th>\n",
              "      <th>age</th>\n",
              "      <th>sex</th>\n",
              "      <th>cp</th>\n",
              "      <th>trestbps</th>\n",
              "      <th>chol</th>\n",
              "      <th>fbs</th>\n",
              "      <th>restecg</th>\n",
              "      <th>thalach</th>\n",
              "      <th>exang</th>\n",
              "      <th>oldpeak</th>\n",
              "      <th>slope</th>\n",
              "      <th>ca</th>\n",
              "      <th>thal</th>\n",
              "      <th>target</th>\n",
              "    </tr>\n",
              "  </thead>\n",
              "  <tbody>\n",
              "    <tr>\n",
              "      <th>298</th>\n",
              "      <td>57</td>\n",
              "      <td>0</td>\n",
              "      <td>0</td>\n",
              "      <td>140</td>\n",
              "      <td>241</td>\n",
              "      <td>0</td>\n",
              "      <td>1</td>\n",
              "      <td>123</td>\n",
              "      <td>1</td>\n",
              "      <td>0.2</td>\n",
              "      <td>1</td>\n",
              "      <td>0</td>\n",
              "      <td>3</td>\n",
              "      <td>0</td>\n",
              "    </tr>\n",
              "    <tr>\n",
              "      <th>299</th>\n",
              "      <td>45</td>\n",
              "      <td>1</td>\n",
              "      <td>3</td>\n",
              "      <td>110</td>\n",
              "      <td>264</td>\n",
              "      <td>0</td>\n",
              "      <td>1</td>\n",
              "      <td>132</td>\n",
              "      <td>0</td>\n",
              "      <td>1.2</td>\n",
              "      <td>1</td>\n",
              "      <td>0</td>\n",
              "      <td>3</td>\n",
              "      <td>0</td>\n",
              "    </tr>\n",
              "    <tr>\n",
              "      <th>300</th>\n",
              "      <td>68</td>\n",
              "      <td>1</td>\n",
              "      <td>0</td>\n",
              "      <td>144</td>\n",
              "      <td>193</td>\n",
              "      <td>1</td>\n",
              "      <td>1</td>\n",
              "      <td>141</td>\n",
              "      <td>0</td>\n",
              "      <td>3.4</td>\n",
              "      <td>1</td>\n",
              "      <td>2</td>\n",
              "      <td>3</td>\n",
              "      <td>0</td>\n",
              "    </tr>\n",
              "    <tr>\n",
              "      <th>301</th>\n",
              "      <td>57</td>\n",
              "      <td>1</td>\n",
              "      <td>0</td>\n",
              "      <td>130</td>\n",
              "      <td>131</td>\n",
              "      <td>0</td>\n",
              "      <td>1</td>\n",
              "      <td>115</td>\n",
              "      <td>1</td>\n",
              "      <td>1.2</td>\n",
              "      <td>1</td>\n",
              "      <td>1</td>\n",
              "      <td>3</td>\n",
              "      <td>0</td>\n",
              "    </tr>\n",
              "    <tr>\n",
              "      <th>302</th>\n",
              "      <td>57</td>\n",
              "      <td>0</td>\n",
              "      <td>1</td>\n",
              "      <td>130</td>\n",
              "      <td>236</td>\n",
              "      <td>0</td>\n",
              "      <td>0</td>\n",
              "      <td>174</td>\n",
              "      <td>0</td>\n",
              "      <td>0.0</td>\n",
              "      <td>1</td>\n",
              "      <td>1</td>\n",
              "      <td>2</td>\n",
              "      <td>0</td>\n",
              "    </tr>\n",
              "  </tbody>\n",
              "</table>\n",
              "</div>"
            ],
            "text/plain": [
              "     age  sex  cp  trestbps  chol  fbs  restecg  thalach  exang  oldpeak  \\\n",
              "298   57    0   0       140   241    0        1      123      1      0.2   \n",
              "299   45    1   3       110   264    0        1      132      0      1.2   \n",
              "300   68    1   0       144   193    1        1      141      0      3.4   \n",
              "301   57    1   0       130   131    0        1      115      1      1.2   \n",
              "302   57    0   1       130   236    0        0      174      0      0.0   \n",
              "\n",
              "     slope  ca  thal  target  \n",
              "298      1   0     3       0  \n",
              "299      1   0     3       0  \n",
              "300      1   2     3       0  \n",
              "301      1   1     3       0  \n",
              "302      1   1     2       0  "
            ]
          },
          "execution_count": 23,
          "metadata": {},
          "output_type": "execute_result"
        }
      ],
      "source": [
        "#Melihat 5 data terbawah\n",
        "df.tail()"
      ]
    },
    {
      "cell_type": "code",
      "execution_count": 24,
      "metadata": {
        "colab": {
          "base_uri": "https://localhost:8080/"
        },
        "id": "RVQ1cGMqwUpf",
        "outputId": "b7e07f77-fb39-4d90-91ee-718a36915246"
      },
      "outputs": [
        {
          "data": {
            "text/plain": [
              "(303, 14)"
            ]
          },
          "execution_count": 24,
          "metadata": {},
          "output_type": "execute_result"
        }
      ],
      "source": [
        "#Melihat jumlah rows (303) dan jumlah kolom/features (14)\n",
        "df.shape"
      ]
    },
    {
      "cell_type": "code",
      "execution_count": 25,
      "metadata": {
        "colab": {
          "base_uri": "https://localhost:8080/"
        },
        "id": "sLOmeKWRwUpg",
        "outputId": "45e676e9-c4cf-49f5-d1ca-717df1df0a78"
      },
      "outputs": [
        {
          "name": "stdout",
          "output_type": "stream",
          "text": [
            "<class 'pandas.core.frame.DataFrame'>\n",
            "RangeIndex: 303 entries, 0 to 302\n",
            "Data columns (total 14 columns):\n",
            " #   Column    Non-Null Count  Dtype  \n",
            "---  ------    --------------  -----  \n",
            " 0   age       303 non-null    int64  \n",
            " 1   sex       303 non-null    int64  \n",
            " 2   cp        303 non-null    int64  \n",
            " 3   trestbps  303 non-null    int64  \n",
            " 4   chol      303 non-null    int64  \n",
            " 5   fbs       303 non-null    int64  \n",
            " 6   restecg   303 non-null    int64  \n",
            " 7   thalach   303 non-null    int64  \n",
            " 8   exang     303 non-null    int64  \n",
            " 9   oldpeak   303 non-null    float64\n",
            " 10  slope     303 non-null    int64  \n",
            " 11  ca        303 non-null    int64  \n",
            " 12  thal      303 non-null    int64  \n",
            " 13  target    303 non-null    int64  \n",
            "dtypes: float64(1), int64(13)\n",
            "memory usage: 33.3 KB\n"
          ]
        }
      ],
      "source": [
        "#General information dari data\n",
        "df.info()"
      ]
    },
    {
      "cell_type": "markdown",
      "metadata": {
        "id": "Jx1Y2lc7wUph"
      },
      "source": [
        "### Handling Missing Values"
      ]
    },
    {
      "cell_type": "code",
      "execution_count": 26,
      "metadata": {
        "colab": {
          "base_uri": "https://localhost:8080/"
        },
        "id": "1mzc31AvwUph",
        "outputId": "d9991aef-36ea-4588-deb2-2ce6f893c69f"
      },
      "outputs": [
        {
          "data": {
            "text/plain": [
              "age         0\n",
              "sex         0\n",
              "cp          0\n",
              "trestbps    0\n",
              "chol        0\n",
              "fbs         0\n",
              "restecg     0\n",
              "thalach     0\n",
              "exang       0\n",
              "oldpeak     0\n",
              "slope       0\n",
              "ca          0\n",
              "thal        0\n",
              "target      0\n",
              "dtype: int64"
            ]
          },
          "execution_count": 26,
          "metadata": {},
          "output_type": "execute_result"
        }
      ],
      "source": [
        "#Data sudah clean dan bisa dilanjutkan ke tahap EDA\n",
        "df.isnull().sum()"
      ]
    },
    {
      "cell_type": "markdown",
      "metadata": {
        "id": "KsKBGA6GwUpi"
      },
      "source": [
        "### Exploratory Data Analysis"
      ]
    },
    {
      "cell_type": "code",
      "execution_count": 27,
      "metadata": {
        "colab": {
          "base_uri": "https://localhost:8080/",
          "height": 296
        },
        "id": "JrUiUfaewUpi",
        "outputId": "8d4c642a-e9dd-4378-ddd6-10aea9a0e679"
      },
      "outputs": [
        {
          "data": {
            "text/plain": [
              "<AxesSubplot:xlabel='target', ylabel='count'>"
            ]
          },
          "execution_count": 27,
          "metadata": {},
          "output_type": "execute_result"
        },
        {
          "data": {
            "image/png": "[encoded data removed]",
            "text/plain": [
              "<Figure size 432x288 with 1 Axes>"
            ]
          },
          "metadata": {
            "needs_background": "light"
          },
          "output_type": "display_data"
        }
      ],
      "source": [
        "#Univariate analysis target.\n",
        "sns.countplot(df['target'])"
      ]
    },
    {
      "cell_type": "markdown",
      "metadata": {
        "id": "YIBtpVbzwUpi"
      },
      "source": [
        "- Sepertinya sudah balance karena jumlah nilai 0 dan 1 tidak berbeda jauh.\n",
        "- Nilai 0 untuk Heart Disease.\n",
        "- Nilai 1 untuk No Heart Disease."
      ]
    },
    {
      "cell_type": "code",
      "execution_count": 28,
      "metadata": {
        "colab": {
          "base_uri": "https://localhost:8080/",
          "height": 296
        },
        "id": "LogAq-_ZwUpj",
        "outputId": "27363e03-7559-448f-9cc4-e0645b991027"
      },
      "outputs": [
        {
          "data": {
            "text/plain": [
              "<AxesSubplot:xlabel='age'>"
            ]
          },
          "execution_count": 28,
          "metadata": {},
          "output_type": "execute_result"
        },
        {
          "data": {
            "image/png": "[encoded data removed]",
            "text/plain": [
              "<Figure size 1440x288 with 2 Axes>"
            ]
          },
          "metadata": {
            "needs_background": "light"
          },
          "output_type": "display_data"
        }
      ],
      "source": [
        "#Univariate analysis age.\n",
        "\n",
        "f = plt.figure(figsize=(20,4))\n",
        "\n",
        "f.add_subplot(1,2,1)\n",
        "sns.distplot(df['age'])\n",
        "\n",
        "f.add_subplot(1,2,2)\n",
        "sns.boxplot(df['age'])"
      ]
    },
    {
      "cell_type": "markdown",
      "metadata": {
        "id": "9gfsQdY4wUpj"
      },
      "source": [
        "- Dari distplot dapat dilihat bahwa density dari data terletak di kisaran angka 50-60 tahun dan sangat jarang pasien yang berumur 30 tahun kebawah atau 80 tahun keatas.\n",
        "- Dari boxplot menunjukan bahwa data tidak memiliki outlier."
      ]
    },
    {
      "cell_type": "code",
      "execution_count": 29,
      "metadata": {
        "colab": {
          "base_uri": "https://localhost:8080/",
          "height": 296
        },
        "id": "dSDqrh4awUpj",
        "outputId": "a250972f-7f7c-4749-ea5d-b08ae41ad7bf"
      },
      "outputs": [
        {
          "data": {
            "text/plain": [
              "<AxesSubplot:xlabel='fbs', ylabel='count'>"
            ]
          },
          "execution_count": 29,
          "metadata": {},
          "output_type": "execute_result"
        },
        {
          "data": {
            "image/png": "[encoded data removed]",
            "text/plain": [
              "<Figure size 1440x288 with 3 Axes>"
            ]
          },
          "metadata": {
            "needs_background": "light"
          },
          "output_type": "display_data"
        }
      ],
      "source": [
        "#Univariate analysis sex: 1=male; 0=female.\n",
        "#Univariate analysis chest pain type (cp): 0=typical angina; 1=atypical angine; 2=non-anginal pain; 3=asymptomatic\n",
        "#Univariate analysis fasting blood sugar: 1 if > 120 mg/dl; 0 otherwise.\n",
        "\n",
        "f = plt.figure(figsize=(20,4))\n",
        "\n",
        "f.add_subplot(1,3,1)\n",
        "sns.countplot(df['sex'], color='red')\n",
        "\n",
        "f.add_subplot(1,3,2)\n",
        "sns.countplot(df['cp'], color='green')\n",
        "\n",
        "f.add_subplot(1,3,3)\n",
        "sns.countplot(df['fbs'], color='yellow')"
      ]
    },
    {
      "cell_type": "markdown",
      "metadata": {
        "id": "k-PYq7d8wUpk"
      },
      "source": [
        "- Pasien male/laki-laki ternyata memiliki jumlah lebih banyak bahkan 2x lipat dari jumlah pasien female/perempuan.\n",
        "- Paling banyak pasien memiliki tipe cp 0 yaitu typical angine dan paling sedikit bertipe 3 yaitu asymptomatic.\n",
        "- Grafik diatas menunjukan bahwa nilai fasting blood sugar banyak sekali yang dibawah 120 atau bernilai 0."
      ]
    },
    {
      "cell_type": "code",
      "execution_count": 30,
      "metadata": {
        "colab": {
          "base_uri": "https://localhost:8080/",
          "height": 296
        },
        "id": "xSnLkwv1wUpk",
        "outputId": "550cdcad-73fa-420c-a940-169702305fa2"
      },
      "outputs": [
        {
          "data": {
            "text/plain": [
              "<AxesSubplot:xlabel='trestbps'>"
            ]
          },
          "execution_count": 30,
          "metadata": {},
          "output_type": "execute_result"
        },
        {
          "data": {
            "image/png": "[encoded data removed]",
            "text/plain": [
              "<Figure size 1440x288 with 2 Axes>"
            ]
          },
          "metadata": {
            "needs_background": "light"
          },
          "output_type": "display_data"
        }
      ],
      "source": [
        "#Univariate analysis resting blood pressure (mm Hg) atau trestbps.\n",
        "\n",
        "f = plt.figure(figsize=(20,4))\n",
        "\n",
        "f.add_subplot(1,2,1)\n",
        "sns.distplot(df['trestbps'])\n",
        "\n",
        "f.add_subplot(1,2,2)\n",
        "sns.boxplot(df['trestbps'])"
      ]
    },
    {
      "cell_type": "markdown",
      "metadata": {
        "id": "awvOXLDMwUpl"
      },
      "source": [
        "- Untuk nilai resting blood pressure atau trestbps paling banyak di angka 120 - 140 mmHg.\n",
        "- Features trestbps memiliki beberapa outlier."
      ]
    },
    {
      "cell_type": "code",
      "execution_count": 31,
      "metadata": {
        "colab": {
          "base_uri": "https://localhost:8080/",
          "height": 296
        },
        "id": "2aHs_GG0wUpl",
        "outputId": "2de169e7-6326-4a85-cae6-5d81bc9b2438"
      },
      "outputs": [
        {
          "data": {
            "text/plain": [
              "<AxesSubplot:xlabel='chol'>"
            ]
          },
          "execution_count": 31,
          "metadata": {},
          "output_type": "execute_result"
        },
        {
          "data": {
            "image/png": "[encoded data removed]",
            "text/plain": [
              "<Figure size 1440x288 with 2 Axes>"
            ]
          },
          "metadata": {
            "needs_background": "light"
          },
          "output_type": "display_data"
        }
      ],
      "source": [
        "#Univariate analysis serum cholestrol (mg/dl) atau chol.\n",
        "\n",
        "f = plt.figure(figsize=(20,4))\n",
        "\n",
        "f.add_subplot(1,2,1)\n",
        "sns.distplot(df['chol'])\n",
        "\n",
        "f.add_subplot(1,2,2)\n",
        "sns.boxplot(df['chol'])"
      ]
    },
    {
      "cell_type": "markdown",
      "metadata": {
        "id": "_k_qrvd7wUpm"
      },
      "source": [
        "- Untuk serum cholestrol terpusat di kisaran angka 200-300 mg/dl.\n",
        "- Features chol memiliki beberapa outlier."
      ]
    },
    {
      "cell_type": "code",
      "execution_count": 32,
      "metadata": {
        "colab": {
          "base_uri": "https://localhost:8080/",
          "height": 296
        },
        "id": "N89Zct9SwUpm",
        "outputId": "01a146bd-2f35-4913-9342-7ba4984da5d7"
      },
      "outputs": [
        {
          "data": {
            "text/plain": [
              "<AxesSubplot:xlabel='thalach'>"
            ]
          },
          "execution_count": 32,
          "metadata": {},
          "output_type": "execute_result"
        },
        {
          "data": {
            "image/png": "[encoded data removed]",
            "text/plain": [
              "<Figure size 1440x288 with 2 Axes>"
            ]
          },
          "metadata": {
            "needs_background": "light"
          },
          "output_type": "display_data"
        }
      ],
      "source": [
        "#Univariate analysis maximum heart rate achieved atau thalach.\n",
        "\n",
        "f = plt.figure(figsize=(20,4))\n",
        "\n",
        "f.add_subplot(1,2,1)\n",
        "sns.distplot(df['thalach'])\n",
        "\n",
        "f.add_subplot(1,2,2)\n",
        "sns.boxplot(df['thalach'])"
      ]
    },
    {
      "cell_type": "markdown",
      "metadata": {
        "id": "afS5KydqwUpn"
      },
      "source": [
        "- Distplot menunjukan bahwa nilai dari maxium heart rate atau thalach paling padat di kisaran angka 130 - 175.\n",
        "- Boxpplot menunjukan bahwa ada 1 outlier yang nilainya dibawah 80."
      ]
    },
    {
      "cell_type": "code",
      "execution_count": 33,
      "metadata": {
        "colab": {
          "base_uri": "https://localhost:8080/",
          "height": 296
        },
        "id": "JEKysst6wUpn",
        "outputId": "61b5ebc2-f496-4b3b-9d6e-0f1a1e21ea2d",
        "scrolled": true
      },
      "outputs": [
        {
          "data": {
            "text/plain": [
              "<AxesSubplot:xlabel='slope', ylabel='count'>"
            ]
          },
          "execution_count": 33,
          "metadata": {},
          "output_type": "execute_result"
        },
        {
          "data": {
            "image/png": "[encoded data removed]",
            "text/plain": [
              "<Figure size 1440x288 with 3 Axes>"
            ]
          },
          "metadata": {
            "needs_background": "light"
          },
          "output_type": "display_data"
        }
      ],
      "source": [
        "#Univariate analysis resting electrocardiographic results atau restecg.\n",
        "#0=normal; 1=having ST-T wave abnormality; 2=showing probable or definite left ventricular hypertrophy.\n",
        "#Univariate analysis exercise induced angina atau exang.\n",
        "# 1=yes; 0=no.\n",
        "#Univariate analysis the slope of the peak exercise ST segment.\n",
        "#0=upsloping; 1=flat; 2=downsloping.\n",
        "\n",
        "f = plt.figure(figsize=(20,4))\n",
        "\n",
        "f.add_subplot(1,3,1)\n",
        "sns.countplot(df['restecg'], color='green')\n",
        "\n",
        "f.add_subplot(1,3,2)\n",
        "sns.countplot(df['exang'], color='red')\n",
        "\n",
        "f.add_subplot(1,3,3)\n",
        "sns.countplot(df['slope'], color='blue')"
      ]
    },
    {
      "cell_type": "markdown",
      "metadata": {
        "id": "5JDbH9emwUpn"
      },
      "source": [
        "- Dapat dilihat bahwa nilai 0 dan 1 hampir berimbang tetapi untuk nilai 2 pada features restecg sangat sedikit yaitu dibawah 10.\n",
        "- Nilai 0 lebih banyak sekitar 2x lipat dari nilai 1 yang berarti yaitu pasien tidak mengalami induced angine saat exercise lebih banyak daripada yang mengalami induced saat exercise.\n",
        "- Features slope nilai 1 yaitu flat dan 2 yaitu downsloping memiliki nilai yang hampir sama yaitu sekitar 140 dan nilali 0 dimana itu merupakan upsloping mempunyai nilai sangat sedikit yaitu sekitar 20."
      ]
    },
    {
      "cell_type": "code",
      "execution_count": 34,
      "metadata": {
        "colab": {
          "base_uri": "https://localhost:8080/",
          "height": 297
        },
        "id": "9XQTnH3bwUpn",
        "outputId": "8140d5cb-1de3-4825-efdb-2be475032409"
      },
      "outputs": [
        {
          "data": {
            "text/plain": [
              "<AxesSubplot:xlabel='oldpeak'>"
            ]
          },
          "execution_count": 34,
          "metadata": {},
          "output_type": "execute_result"
        },
        {
          "data": {
            "image/png": "[encoded data removed]",
            "text/plain": [
              "<Figure size 1440x288 with 2 Axes>"
            ]
          },
          "metadata": {
            "needs_background": "light"
          },
          "output_type": "display_data"
        }
      ],
      "source": [
        "#Univariate analysis ST depression induced by exercise relative to rest.\n",
        "\n",
        "f = plt.figure(figsize=(20,4))\n",
        "\n",
        "f.add_subplot(1,2,1)\n",
        "sns.distplot(df['oldpeak'])\n",
        "\n",
        "f.add_subplot(1,2,2)\n",
        "sns.boxplot(df['oldpeak'])"
      ]
    },
    {
      "cell_type": "markdown",
      "metadata": {
        "id": "yd16kBeZwUpo"
      },
      "source": [
        "- Dari distplot dapat dilihat bahwa features oldpeak terpusat di angka 0.\n",
        "- Features oldpeak memiliki beberapa outlier diatas nilai 4."
      ]
    },
    {
      "cell_type": "code",
      "execution_count": 36,
      "metadata": {
        "id": "m9sSTZ1kwUpo"
      },
      "outputs": [
        {
          "data": {
            "text/plain": [
              "<AxesSubplot:>"
            ]
          },
          "execution_count": 36,
          "metadata": {},
          "output_type": "execute_result"
        },
        {
          "data": {
            "image/png": "[encoded data removed]",
            "text/plain": [
              "<Figure size 1440x288 with 2 Axes>"
            ]
          },
          "metadata": {
            "needs_background": "light"
          },
          "output_type": "display_data"
        }
      ],
      "source": [
        "#Univariate analysis ca number of major vessels (0-3) colored by flourosopy.\n",
        "#Univariate analysis thal.\n",
        "\n",
        "f = plt.figure(figsize=(20,4))\n",
        "\n",
        "f.add_subplot(1,2,1)\n",
        "df['ca'].value_counts().plot.bar(color='red')\n",
        "\n",
        "f.add_subplot(1,2,2)\n",
        "df['thal'].value_counts().plot.bar(color='green')"
      ]
    },
    {
      "cell_type": "markdown",
      "metadata": {
        "id": "1OGgbP7MwUpo"
      },
      "source": [
        "- Untuk features ca, nilai paling banyak adalah 0 yang memiliki jumlah major vessels sebanyak 0 dan paling sedikit adalah 4.\n",
        "- Sedangkan untuk features thal sebagian besar di nilai 2 dan paling sedikit adalah nilai 0."
      ]
    },
    {
      "cell_type": "code",
      "execution_count": 38,
      "metadata": {
        "colab": {
          "base_uri": "https://localhost:8080/",
          "height": 488
        },
        "id": "Y-n0Ym9owUpo",
        "outputId": "dc120f2d-ded0-44f3-c3d0-74cff289adc8"
      },
      "outputs": [
        {
          "data": {
            "text/html": [
              "<style type=\"text/css\">\n",
              "#T_5f57a_row0_col0, #T_5f57a_row1_col1, #T_5f57a_row2_col2, #T_5f57a_row3_col3, #T_5f57a_row4_col4, #T_5f57a_row5_col5, #T_5f57a_row6_col6, #T_5f57a_row7_col7, #T_5f57a_row8_col8, #T_5f57a_row9_col9, #T_5f57a_row10_col10, #T_5f57a_row11_col11, #T_5f57a_row12_col12, #T_5f57a_row13_col13 {\n",
              "  background-color: #023858;\n",
              "  color: #f1f1f1;\n",
              "}\n",
              "#T_5f57a_row0_col1 {\n",
              "  background-color: #e8e4f0;\n",
              "  color: #000000;\n",
              "}\n",
              "#T_5f57a_row0_col2, #T_5f57a_row4_col3, #T_5f57a_row5_col12 {\n",
              "  background-color: #d4d4e8;\n",
              "  color: #000000;\n",
              "}\n",
              "#T_5f57a_row0_col3, #T_5f57a_row5_col9, #T_5f57a_row10_col2, #T_5f57a_row11_col12 {\n",
              "  background-color: #a8bedc;\n",
              "  color: #000000;\n",
              "}\n",
              "#T_5f57a_row0_col4 {\n",
              "  background-color: #b1c2de;\n",
              "  color: #000000;\n",
              "}\n",
              "#T_5f57a_row0_col5 {\n",
              "  background-color: #dedcec;\n",
              "  color: #000000;\n",
              "}\n",
              "#T_5f57a_row0_col6, #T_5f57a_row2_col8 {\n",
              "  background-color: #fbf3f9;\n",
              "  color: #000000;\n",
              "}\n",
              "#T_5f57a_row0_col7, #T_5f57a_row1_col4, #T_5f57a_row4_col6, #T_5f57a_row6_col5, #T_5f57a_row7_col0, #T_5f57a_row8_col2, #T_5f57a_row8_col13, #T_5f57a_row9_col10, #T_5f57a_row10_col9, #T_5f57a_row13_col1, #T_5f57a_row13_col3, #T_5f57a_row13_col8, #T_5f57a_row13_col11, #T_5f57a_row13_col12 {\n",
              "  background-color: #fff7fb;\n",
              "  color: #000000;\n",
              "}\n",
              "#T_5f57a_row0_col8, #T_5f57a_row5_col0 {\n",
              "  background-color: #a7bddb;\n",
              "  color: #000000;\n",
              "}\n",
              "#T_5f57a_row0_col9, #T_5f57a_row2_col7, #T_5f57a_row12_col9 {\n",
              "  background-color: #75a9cf;\n",
              "  color: #f1f1f1;\n",
              "}\n",
              "#T_5f57a_row0_col10 {\n",
              "  background-color: #cdd0e5;\n",
              "  color: #000000;\n",
              "}\n",
              "#T_5f57a_row0_col11 {\n",
              "  background-color: #7dacd1;\n",
              "  color: #f1f1f1;\n",
              "}\n",
              "#T_5f57a_row0_col12 {\n",
              "  background-color: #bdc8e1;\n",
              "  color: #000000;\n",
              "}\n",
              "#T_5f57a_row0_col13, #T_5f57a_row2_col11, #T_5f57a_row7_col9 {\n",
              "  background-color: #e7e3f0;\n",
              "  color: #000000;\n",
              "}\n",
              "#T_5f57a_row1_col0, #T_5f57a_row9_col4, #T_5f57a_row10_col6 {\n",
              "  background-color: #d9d8ea;\n",
              "  color: #000000;\n",
              "}\n",
              "#T_5f57a_row1_col2, #T_5f57a_row6_col12, #T_5f57a_row12_col4 {\n",
              "  background-color: #d1d2e6;\n",
              "  color: #000000;\n",
              "}\n",
              "#T_5f57a_row1_col3 {\n",
              "  background-color: #f4edf6;\n",
              "  color: #000000;\n",
              "}\n",
              "#T_5f57a_row1_col5, #T_5f57a_row12_col6 {\n",
              "  background-color: #ede8f3;\n",
              "  color: #000000;\n",
              "}\n",
              "#T_5f57a_row1_col6, #T_5f57a_row9_col6 {\n",
              "  background-color: #f3edf5;\n",
              "  color: #000000;\n",
              "}\n",
              "#T_5f57a_row1_col7, #T_5f57a_row3_col7, #T_5f57a_row13_col6 {\n",
              "  background-color: #d0d1e6;\n",
              "  color: #000000;\n",
              "}\n",
              "#T_5f57a_row1_col8 {\n",
              "  background-color: #9ab8d8;\n",
              "  color: #000000;\n",
              "}\n",
              "#T_5f57a_row1_col9 {\n",
              "  background-color: #91b5d6;\n",
              "  color: #000000;\n",
              "}\n",
              "#T_5f57a_row1_col10 {\n",
              "  background-color: #b0c2de;\n",
              "  color: #000000;\n",
              "}\n",
              "#T_5f57a_row1_col11, #T_5f57a_row4_col10, #T_5f57a_row8_col11 {\n",
              "  background-color: #a9bfdc;\n",
              "  color: #000000;\n",
              "}\n",
              "#T_5f57a_row1_col12, #T_5f57a_row9_col12 {\n",
              "  background-color: #97b7d7;\n",
              "  color: #000000;\n",
              "}\n",
              "#T_5f57a_row1_col13 {\n",
              "  background-color: #efe9f3;\n",
              "  color: #000000;\n",
              "}\n",
              "#T_5f57a_row2_col0 {\n",
              "  background-color: #d3d4e7;\n",
              "  color: #000000;\n",
              "}\n",
              "#T_5f57a_row2_col1, #T_5f57a_row12_col3 {\n",
              "  background-color: #e0dded;\n",
              "  color: #000000;\n",
              "}\n",
              "#T_5f57a_row2_col3, #T_5f57a_row2_col6, #T_5f57a_row7_col6 {\n",
              "  background-color: #e2dfee;\n",
              "  color: #000000;\n",
              "}\n",
              "#T_5f57a_row2_col4, #T_5f57a_row8_col5 {\n",
              "  background-color: #f0eaf4;\n",
              "  color: #000000;\n",
              "}\n",
              "#T_5f57a_row2_col5, #T_5f57a_row10_col0, #T_5f57a_row12_col2 {\n",
              "  background-color: #e3e0ee;\n",
              "  color: #000000;\n",
              "}\n",
              "#T_5f57a_row2_col9 {\n",
              "  background-color: #c9cee4;\n",
              "  color: #000000;\n",
              "}\n",
              "#T_5f57a_row2_col10, #T_5f57a_row9_col11 {\n",
              "  background-color: #8bb2d4;\n",
              "  color: #000000;\n",
              "}\n",
              "#T_5f57a_row2_col12 {\n",
              "  background-color: #eae6f1;\n",
              "  color: #000000;\n",
              "}\n",
              "#T_5f57a_row2_col13 {\n",
              "  background-color: #3f93c2;\n",
              "  color: #f1f1f1;\n",
              "}\n",
              "#T_5f57a_row3_col0 {\n",
              "  background-color: #79abd0;\n",
              "  color: #f1f1f1;\n",
              "}\n",
              "#T_5f57a_row3_col1, #T_5f57a_row6_col1, #T_5f57a_row9_col2 {\n",
              "  background-color: #e1dfed;\n",
              "  color: #000000;\n",
              "}\n",
              "#T_5f57a_row3_col2, #T_5f57a_row6_col7 {\n",
              "  background-color: #b9c6e0;\n",
              "  color: #000000;\n",
              "}\n",
              "#T_5f57a_row3_col4 {\n",
              "  background-color: #cacee5;\n",
              "  color: #000000;\n",
              "}\n",
              "#T_5f57a_row3_col5 {\n",
              "  background-color: #d2d3e7;\n",
              "  color: #000000;\n",
              "}\n",
              "#T_5f57a_row3_col6, #T_5f57a_row11_col13 {\n",
              "  background-color: #faf3f9;\n",
              "  color: #000000;\n",
              "}\n",
              "#T_5f57a_row3_col8, #T_5f57a_row4_col8, #T_5f57a_row5_col2 {\n",
              "  background-color: #afc1dd;\n",
              "  color: #000000;\n",
              "}\n",
              "#T_5f57a_row3_col9 {\n",
              "  background-color: #78abd0;\n",
              "  color: #f1f1f1;\n",
              "}\n",
              "#T_5f57a_row3_col10 {\n",
              "  background-color: #c2cbe2;\n",
              "  color: #000000;\n",
              "}\n",
              "#T_5f57a_row3_col11, #T_5f57a_row8_col0 {\n",
              "  background-color: #adc1dd;\n",
              "  color: #000000;\n",
              "}\n",
              "#T_5f57a_row3_col12 {\n",
              "  background-color: #bfc9e1;\n",
              "  color: #000000;\n",
              "}\n",
              "#T_5f57a_row3_col13, #T_5f57a_row6_col0, #T_5f57a_row8_col10 {\n",
              "  background-color: #dbdaeb;\n",
              "  color: #000000;\n",
              "}\n",
              "#T_5f57a_row4_col0 {\n",
              "  background-color: #8cb3d5;\n",
              "  color: #000000;\n",
              "}\n",
              "#T_5f57a_row4_col1, #T_5f57a_row12_col13 {\n",
              "  background-color: #f5eff6;\n",
              "  color: #000000;\n",
              "}\n",
              "#T_5f57a_row4_col2, #T_5f57a_row6_col11 {\n",
              "  background-color: #d5d5e8;\n",
              "  color: #000000;\n",
              "}\n",
              "#T_5f57a_row4_col5, #T_5f57a_row13_col9 {\n",
              "  background-color: #f1ebf5;\n",
              "  color: #000000;\n",
              "}\n",
              "#T_5f57a_row4_col7, #T_5f57a_row5_col7 {\n",
              "  background-color: #c6cce3;\n",
              "  color: #000000;\n",
              "}\n",
              "#T_5f57a_row4_col9, #T_5f57a_row6_col13 {\n",
              "  background-color: #9cb9d9;\n",
              "  color: #000000;\n",
              "}\n",
              "#T_5f57a_row4_col11, #T_5f57a_row12_col0 {\n",
              "  background-color: #b4c4df;\n",
              "  color: #000000;\n",
              "}\n",
              "#T_5f57a_row4_col12, #T_5f57a_row5_col10, #T_5f57a_row6_col9, #T_5f57a_row8_col1 {\n",
              "  background-color: #b5c4df;\n",
              "  color: #000000;\n",
              "}\n",
              "#T_5f57a_row4_col13 {\n",
              "  background-color: #d2d2e7;\n",
              "  color: #000000;\n",
              "}\n",
              "#T_5f57a_row5_col1, #T_5f57a_row6_col8 {\n",
              "  background-color: #ced0e6;\n",
              "  color: #000000;\n",
              "}\n",
              "#T_5f57a_row5_col3, #T_5f57a_row5_col13 {\n",
              "  background-color: #c5cce3;\n",
              "  color: #000000;\n",
              "}\n",
              "#T_5f57a_row5_col4, #T_5f57a_row10_col12 {\n",
              "  background-color: #e0deed;\n",
              "  color: #000000;\n",
              "}\n",
              "#T_5f57a_row5_col6, #T_5f57a_row13_col5 {\n",
              "  background-color: #f7f0f7;\n",
              "  color: #000000;\n",
              "}\n",
              "#T_5f57a_row5_col8 {\n",
              "  background-color: #b8c6e0;\n",
              "  color: #000000;\n",
              "}\n",
              "#T_5f57a_row5_col11 {\n",
              "  background-color: #a4bcda;\n",
              "  color: #000000;\n",
              "}\n",
              "#T_5f57a_row6_col2, #T_5f57a_row11_col10 {\n",
              "  background-color: #bbc7e0;\n",
              "  color: #000000;\n",
              "}\n",
              "#T_5f57a_row6_col3 {\n",
              "  background-color: #fbf4f9;\n",
              "  color: #000000;\n",
              "}\n",
              "#T_5f57a_row6_col4, #T_5f57a_row7_col8 {\n",
              "  background-color: #f9f2f8;\n",
              "  color: #000000;\n",
              "}\n",
              "#T_5f57a_row6_col10 {\n",
              "  background-color: #93b5d6;\n",
              "  color: #000000;\n",
              "}\n",
              "#T_5f57a_row7_col1, #T_5f57a_row7_col12, #T_5f57a_row8_col3 {\n",
              "  background-color: #dfddec;\n",
              "  color: #000000;\n",
              "}\n",
              "#T_5f57a_row7_col2 {\n",
              "  background-color: #76aad0;\n",
              "  color: #f1f1f1;\n",
              "}\n",
              "#T_5f57a_row7_col3, #T_5f57a_row9_col5 {\n",
              "  background-color: #f2ecf5;\n",
              "  color: #000000;\n",
              "}\n",
              "#T_5f57a_row7_col4 {\n",
              "  background-color: #e5e1ef;\n",
              "  color: #000000;\n",
              "}\n",
              "#T_5f57a_row7_col5, #T_5f57a_row8_col6, #T_5f57a_row11_col6 {\n",
              "  background-color: #f5eef6;\n",
              "  color: #000000;\n",
              "}\n",
              "#T_5f57a_row7_col10 {\n",
              "  background-color: #3d93c2;\n",
              "  color: #f1f1f1;\n",
              "}\n",
              "#T_5f57a_row7_col11 {\n",
              "  background-color: #ece7f2;\n",
              "  color: #000000;\n",
              "}\n",
              "#T_5f57a_row7_col13, #T_5f57a_row13_col2 {\n",
              "  background-color: #4496c3;\n",
              "  color: #f1f1f1;\n",
              "}\n",
              "#T_5f57a_row8_col4 {\n",
              "  background-color: #d7d6e9;\n",
              "  color: #000000;\n",
              "}\n",
              "#T_5f57a_row8_col7 {\n",
              "  background-color: #fdf5fa;\n",
              "  color: #000000;\n",
              "}\n",
              "#T_5f57a_row8_col9 {\n",
              "  background-color: #5c9fc9;\n",
              "  color: #f1f1f1;\n",
              "}\n",
              "#T_5f57a_row8_col12 {\n",
              "  background-color: #99b8d8;\n",
              "  color: #000000;\n",
              "}\n",
              "#T_5f57a_row9_col0 {\n",
              "  background-color: #8eb3d5;\n",
              "  color: #000000;\n",
              "}\n",
              "#T_5f57a_row9_col1, #T_5f57a_row9_col3 {\n",
              "  background-color: #c1cae2;\n",
              "  color: #000000;\n",
              "}\n",
              "#T_5f57a_row9_col7 {\n",
              "  background-color: #faf2f8;\n",
              "  color: #000000;\n",
              "}\n",
              "#T_5f57a_row9_col8, #T_5f57a_row11_col9 {\n",
              "  background-color: #71a8ce;\n",
              "  color: #f1f1f1;\n",
              "}\n",
              "#T_5f57a_row9_col13 {\n",
              "  background-color: #fef6fb;\n",
              "  color: #000000;\n",
              "}\n",
              "#T_5f57a_row10_col1 {\n",
              "  background-color: #dcdaeb;\n",
              "  color: #000000;\n",
              "}\n",
              "#T_5f57a_row10_col3, #T_5f57a_row10_col5 {\n",
              "  background-color: #fcf4fa;\n",
              "  color: #000000;\n",
              "}\n",
              "#T_5f57a_row10_col4 {\n",
              "  background-color: #e4e1ef;\n",
              "  color: #000000;\n",
              "}\n",
              "#T_5f57a_row10_col7 {\n",
              "  background-color: #569dc8;\n",
              "  color: #f1f1f1;\n",
              "}\n",
              "#T_5f57a_row10_col8, #T_5f57a_row13_col0 {\n",
              "  background-color: #ede7f2;\n",
              "  color: #000000;\n",
              "}\n",
              "#T_5f57a_row10_col11, #T_5f57a_row11_col4 {\n",
              "  background-color: #d6d6e9;\n",
              "  color: #000000;\n",
              "}\n",
              "#T_5f57a_row10_col13 {\n",
              "  background-color: #5ea0ca;\n",
              "  color: #f1f1f1;\n",
              "}\n",
              "#T_5f57a_row11_col0 {\n",
              "  background-color: #7bacd1;\n",
              "  color: #f1f1f1;\n",
              "}\n",
              "#T_5f57a_row11_col1 {\n",
              "  background-color: #bcc7e1;\n",
              "  color: #000000;\n",
              "}\n",
              "#T_5f57a_row11_col2 {\n",
              "  background-color: #e6e2ef;\n",
              "  color: #000000;\n",
              "}\n",
              "#T_5f57a_row11_col3, #T_5f57a_row12_col7 {\n",
              "  background-color: #d8d7e9;\n",
              "  color: #000000;\n",
              "}\n",
              "#T_5f57a_row11_col5 {\n",
              "  background-color: #dad9ea;\n",
              "  color: #000000;\n",
              "}\n",
              "#T_5f57a_row11_col7 {\n",
              "  background-color: #ebe6f2;\n",
              "  color: #000000;\n",
              "}\n",
              "#T_5f57a_row11_col8, #T_5f57a_row12_col1 {\n",
              "  background-color: #a2bcda;\n",
              "  color: #000000;\n",
              "}\n",
              "#T_5f57a_row12_col5 {\n",
              "  background-color: #f8f1f8;\n",
              "  color: #000000;\n",
              "}\n",
              "#T_5f57a_row12_col8 {\n",
              "  background-color: #89b1d4;\n",
              "  color: #000000;\n",
              "}\n",
              "#T_5f57a_row12_col10 {\n",
              "  background-color: #c0c9e2;\n",
              "  color: #000000;\n",
              "}\n",
              "#T_5f57a_row12_col11 {\n",
              "  background-color: #a1bbda;\n",
              "  color: #000000;\n",
              "}\n",
              "#T_5f57a_row13_col4 {\n",
              "  background-color: #f1ebf4;\n",
              "  color: #000000;\n",
              "}\n",
              "#T_5f57a_row13_col7 {\n",
              "  background-color: #4897c4;\n",
              "  color: #f1f1f1;\n",
              "}\n",
              "#T_5f57a_row13_col10 {\n",
              "  background-color: #4a98c5;\n",
              "  color: #f1f1f1;\n",
              "}\n",
              "</style>\n",
              "<table id=\"T_5f57a\">\n",
              "  <thead>\n",
              "    <tr>\n",
              "      <th class=\"blank level0\" >&nbsp;</th>\n",
              "      <th id=\"T_5f57a_level0_col0\" class=\"col_heading level0 col0\" >age</th>\n",
              "      <th id=\"T_5f57a_level0_col1\" class=\"col_heading level0 col1\" >sex</th>\n",
              "      <th id=\"T_5f57a_level0_col2\" class=\"col_heading level0 col2\" >cp</th>\n",
              "      <th id=\"T_5f57a_level0_col3\" class=\"col_heading level0 col3\" >trestbps</th>\n",
              "      <th id=\"T_5f57a_level0_col4\" class=\"col_heading level0 col4\" >chol</th>\n",
              "      <th id=\"T_5f57a_level0_col5\" class=\"col_heading level0 col5\" >fbs</th>\n",
              "      <th id=\"T_5f57a_level0_col6\" class=\"col_heading level0 col6\" >restecg</th>\n",
              "      <th id=\"T_5f57a_level0_col7\" class=\"col_heading level0 col7\" >thalach</th>\n",
              "      <th id=\"T_5f57a_level0_col8\" class=\"col_heading level0 col8\" >exang</th>\n",
              "      <th id=\"T_5f57a_level0_col9\" class=\"col_heading level0 col9\" >oldpeak</th>\n",
              "      <th id=\"T_5f57a_level0_col10\" class=\"col_heading level0 col10\" >slope</th>\n",
              "      <th id=\"T_5f57a_level0_col11\" class=\"col_heading level0 col11\" >ca</th>\n",
              "      <th id=\"T_5f57a_level0_col12\" class=\"col_heading level0 col12\" >thal</th>\n",
              "      <th id=\"T_5f57a_level0_col13\" class=\"col_heading level0 col13\" >target</th>\n",
              "    </tr>\n",
              "  </thead>\n",
              "  <tbody>\n",
              "    <tr>\n",
              "      <th id=\"T_5f57a_level0_row0\" class=\"row_heading level0 row0\" >age</th>\n",
              "      <td id=\"T_5f57a_row0_col0\" class=\"data row0 col0\" >1.00</td>\n",
              "      <td id=\"T_5f57a_row0_col1\" class=\"data row0 col1\" >-0.10</td>\n",
              "      <td id=\"T_5f57a_row0_col2\" class=\"data row0 col2\" >-0.07</td>\n",
              "      <td id=\"T_5f57a_row0_col3\" class=\"data row0 col3\" >0.28</td>\n",
              "      <td id=\"T_5f57a_row0_col4\" class=\"data row0 col4\" >0.21</td>\n",
              "      <td id=\"T_5f57a_row0_col5\" class=\"data row0 col5\" >0.12</td>\n",
              "      <td id=\"T_5f57a_row0_col6\" class=\"data row0 col6\" >-0.12</td>\n",
              "      <td id=\"T_5f57a_row0_col7\" class=\"data row0 col7\" >-0.40</td>\n",
              "      <td id=\"T_5f57a_row0_col8\" class=\"data row0 col8\" >0.10</td>\n",
              "      <td id=\"T_5f57a_row0_col9\" class=\"data row0 col9\" >0.21</td>\n",
              "      <td id=\"T_5f57a_row0_col10\" class=\"data row0 col10\" >-0.17</td>\n",
              "      <td id=\"T_5f57a_row0_col11\" class=\"data row0 col11\" >0.28</td>\n",
              "      <td id=\"T_5f57a_row0_col12\" class=\"data row0 col12\" >0.07</td>\n",
              "      <td id=\"T_5f57a_row0_col13\" class=\"data row0 col13\" >-0.23</td>\n",
              "    </tr>\n",
              "    <tr>\n",
              "      <th id=\"T_5f57a_level0_row1\" class=\"row_heading level0 row1\" >sex</th>\n",
              "      <td id=\"T_5f57a_row1_col0\" class=\"data row1 col0\" >-0.10</td>\n",
              "      <td id=\"T_5f57a_row1_col1\" class=\"data row1 col1\" >1.00</td>\n",
              "      <td id=\"T_5f57a_row1_col2\" class=\"data row1 col2\" >-0.05</td>\n",
              "      <td id=\"T_5f57a_row1_col3\" class=\"data row1 col3\" >-0.06</td>\n",
              "      <td id=\"T_5f57a_row1_col4\" class=\"data row1 col4\" >-0.20</td>\n",
              "      <td id=\"T_5f57a_row1_col5\" class=\"data row1 col5\" >0.05</td>\n",
              "      <td id=\"T_5f57a_row1_col6\" class=\"data row1 col6\" >-0.06</td>\n",
              "      <td id=\"T_5f57a_row1_col7\" class=\"data row1 col7\" >-0.04</td>\n",
              "      <td id=\"T_5f57a_row1_col8\" class=\"data row1 col8\" >0.14</td>\n",
              "      <td id=\"T_5f57a_row1_col9\" class=\"data row1 col9\" >0.10</td>\n",
              "      <td id=\"T_5f57a_row1_col10\" class=\"data row1 col10\" >-0.03</td>\n",
              "      <td id=\"T_5f57a_row1_col11\" class=\"data row1 col11\" >0.12</td>\n",
              "      <td id=\"T_5f57a_row1_col12\" class=\"data row1 col12\" >0.21</td>\n",
              "      <td id=\"T_5f57a_row1_col13\" class=\"data row1 col13\" >-0.28</td>\n",
              "    </tr>\n",
              "    <tr>\n",
              "      <th id=\"T_5f57a_level0_row2\" class=\"row_heading level0 row2\" >cp</th>\n",
              "      <td id=\"T_5f57a_row2_col0\" class=\"data row2 col0\" >-0.07</td>\n",
              "      <td id=\"T_5f57a_row2_col1\" class=\"data row2 col1\" >-0.05</td>\n",
              "      <td id=\"T_5f57a_row2_col2\" class=\"data row2 col2\" >1.00</td>\n",
              "      <td id=\"T_5f57a_row2_col3\" class=\"data row2 col3\" >0.05</td>\n",
              "      <td id=\"T_5f57a_row2_col4\" class=\"data row2 col4\" >-0.08</td>\n",
              "      <td id=\"T_5f57a_row2_col5\" class=\"data row2 col5\" >0.09</td>\n",
              "      <td id=\"T_5f57a_row2_col6\" class=\"data row2 col6\" >0.04</td>\n",
              "      <td id=\"T_5f57a_row2_col7\" class=\"data row2 col7\" >0.30</td>\n",
              "      <td id=\"T_5f57a_row2_col8\" class=\"data row2 col8\" >-0.39</td>\n",
              "      <td id=\"T_5f57a_row2_col9\" class=\"data row2 col9\" >-0.15</td>\n",
              "      <td id=\"T_5f57a_row2_col10\" class=\"data row2 col10\" >0.12</td>\n",
              "      <td id=\"T_5f57a_row2_col11\" class=\"data row2 col11\" >-0.18</td>\n",
              "      <td id=\"T_5f57a_row2_col12\" class=\"data row2 col12\" >-0.16</td>\n",
              "      <td id=\"T_5f57a_row2_col13\" class=\"data row2 col13\" >0.43</td>\n",
              "    </tr>\n",
              "    <tr>\n",
              "      <th id=\"T_5f57a_level0_row3\" class=\"row_heading level0 row3\" >trestbps</th>\n",
              "      <td id=\"T_5f57a_row3_col0\" class=\"data row3 col0\" >0.28</td>\n",
              "      <td id=\"T_5f57a_row3_col1\" class=\"data row3 col1\" >-0.06</td>\n",
              "      <td id=\"T_5f57a_row3_col2\" class=\"data row3 col2\" >0.05</td>\n",
              "      <td id=\"T_5f57a_row3_col3\" class=\"data row3 col3\" >1.00</td>\n",
              "      <td id=\"T_5f57a_row3_col4\" class=\"data row3 col4\" >0.12</td>\n",
              "      <td id=\"T_5f57a_row3_col5\" class=\"data row3 col5\" >0.18</td>\n",
              "      <td id=\"T_5f57a_row3_col6\" class=\"data row3 col6\" >-0.11</td>\n",
              "      <td id=\"T_5f57a_row3_col7\" class=\"data row3 col7\" >-0.05</td>\n",
              "      <td id=\"T_5f57a_row3_col8\" class=\"data row3 col8\" >0.07</td>\n",
              "      <td id=\"T_5f57a_row3_col9\" class=\"data row3 col9\" >0.19</td>\n",
              "      <td id=\"T_5f57a_row3_col10\" class=\"data row3 col10\" >-0.12</td>\n",
              "      <td id=\"T_5f57a_row3_col11\" class=\"data row3 col11\" >0.10</td>\n",
              "      <td id=\"T_5f57a_row3_col12\" class=\"data row3 col12\" >0.06</td>\n",
              "      <td id=\"T_5f57a_row3_col13\" class=\"data row3 col13\" >-0.14</td>\n",
              "    </tr>\n",
              "    <tr>\n",
              "      <th id=\"T_5f57a_level0_row4\" class=\"row_heading level0 row4\" >chol</th>\n",
              "      <td id=\"T_5f57a_row4_col0\" class=\"data row4 col0\" >0.21</td>\n",
              "      <td id=\"T_5f57a_row4_col1\" class=\"data row4 col1\" >-0.20</td>\n",
              "      <td id=\"T_5f57a_row4_col2\" class=\"data row4 col2\" >-0.08</td>\n",
              "      <td id=\"T_5f57a_row4_col3\" class=\"data row4 col3\" >0.12</td>\n",
              "      <td id=\"T_5f57a_row4_col4\" class=\"data row4 col4\" >1.00</td>\n",
              "      <td id=\"T_5f57a_row4_col5\" class=\"data row4 col5\" >0.01</td>\n",
              "      <td id=\"T_5f57a_row4_col6\" class=\"data row4 col6\" >-0.15</td>\n",
              "      <td id=\"T_5f57a_row4_col7\" class=\"data row4 col7\" >-0.01</td>\n",
              "      <td id=\"T_5f57a_row4_col8\" class=\"data row4 col8\" >0.07</td>\n",
              "      <td id=\"T_5f57a_row4_col9\" class=\"data row4 col9\" >0.05</td>\n",
              "      <td id=\"T_5f57a_row4_col10\" class=\"data row4 col10\" >-0.00</td>\n",
              "      <td id=\"T_5f57a_row4_col11\" class=\"data row4 col11\" >0.07</td>\n",
              "      <td id=\"T_5f57a_row4_col12\" class=\"data row4 col12\" >0.10</td>\n",
              "      <td id=\"T_5f57a_row4_col13\" class=\"data row4 col13\" >-0.09</td>\n",
              "    </tr>\n",
              "    <tr>\n",
              "      <th id=\"T_5f57a_level0_row5\" class=\"row_heading level0 row5\" >fbs</th>\n",
              "      <td id=\"T_5f57a_row5_col0\" class=\"data row5 col0\" >0.12</td>\n",
              "      <td id=\"T_5f57a_row5_col1\" class=\"data row5 col1\" >0.05</td>\n",
              "      <td id=\"T_5f57a_row5_col2\" class=\"data row5 col2\" >0.09</td>\n",
              "      <td id=\"T_5f57a_row5_col3\" class=\"data row5 col3\" >0.18</td>\n",
              "      <td id=\"T_5f57a_row5_col4\" class=\"data row5 col4\" >0.01</td>\n",
              "      <td id=\"T_5f57a_row5_col5\" class=\"data row5 col5\" >1.00</td>\n",
              "      <td id=\"T_5f57a_row5_col6\" class=\"data row5 col6\" >-0.08</td>\n",
              "      <td id=\"T_5f57a_row5_col7\" class=\"data row5 col7\" >-0.01</td>\n",
              "      <td id=\"T_5f57a_row5_col8\" class=\"data row5 col8\" >0.03</td>\n",
              "      <td id=\"T_5f57a_row5_col9\" class=\"data row5 col9\" >0.01</td>\n",
              "      <td id=\"T_5f57a_row5_col10\" class=\"data row5 col10\" >-0.06</td>\n",
              "      <td id=\"T_5f57a_row5_col11\" class=\"data row5 col11\" >0.14</td>\n",
              "      <td id=\"T_5f57a_row5_col12\" class=\"data row5 col12\" >-0.03</td>\n",
              "      <td id=\"T_5f57a_row5_col13\" class=\"data row5 col13\" >-0.03</td>\n",
              "    </tr>\n",
              "    <tr>\n",
              "      <th id=\"T_5f57a_level0_row6\" class=\"row_heading level0 row6\" >restecg</th>\n",
              "      <td id=\"T_5f57a_row6_col0\" class=\"data row6 col0\" >-0.12</td>\n",
              "      <td id=\"T_5f57a_row6_col1\" class=\"data row6 col1\" >-0.06</td>\n",
              "      <td id=\"T_5f57a_row6_col2\" class=\"data row6 col2\" >0.04</td>\n",
              "      <td id=\"T_5f57a_row6_col3\" class=\"data row6 col3\" >-0.11</td>\n",
              "      <td id=\"T_5f57a_row6_col4\" class=\"data row6 col4\" >-0.15</td>\n",
              "      <td id=\"T_5f57a_row6_col5\" class=\"data row6 col5\" >-0.08</td>\n",
              "      <td id=\"T_5f57a_row6_col6\" class=\"data row6 col6\" >1.00</td>\n",
              "      <td id=\"T_5f57a_row6_col7\" class=\"data row6 col7\" >0.04</td>\n",
              "      <td id=\"T_5f57a_row6_col8\" class=\"data row6 col8\" >-0.07</td>\n",
              "      <td id=\"T_5f57a_row6_col9\" class=\"data row6 col9\" >-0.06</td>\n",
              "      <td id=\"T_5f57a_row6_col10\" class=\"data row6 col10\" >0.09</td>\n",
              "      <td id=\"T_5f57a_row6_col11\" class=\"data row6 col11\" >-0.07</td>\n",
              "      <td id=\"T_5f57a_row6_col12\" class=\"data row6 col12\" >-0.01</td>\n",
              "      <td id=\"T_5f57a_row6_col13\" class=\"data row6 col13\" >0.14</td>\n",
              "    </tr>\n",
              "    <tr>\n",
              "      <th id=\"T_5f57a_level0_row7\" class=\"row_heading level0 row7\" >thalach</th>\n",
              "      <td id=\"T_5f57a_row7_col0\" class=\"data row7 col0\" >-0.40</td>\n",
              "      <td id=\"T_5f57a_row7_col1\" class=\"data row7 col1\" >-0.04</td>\n",
              "      <td id=\"T_5f57a_row7_col2\" class=\"data row7 col2\" >0.30</td>\n",
              "      <td id=\"T_5f57a_row7_col3\" class=\"data row7 col3\" >-0.05</td>\n",
              "      <td id=\"T_5f57a_row7_col4\" class=\"data row7 col4\" >-0.01</td>\n",
              "      <td id=\"T_5f57a_row7_col5\" class=\"data row7 col5\" >-0.01</td>\n",
              "      <td id=\"T_5f57a_row7_col6\" class=\"data row7 col6\" >0.04</td>\n",
              "      <td id=\"T_5f57a_row7_col7\" class=\"data row7 col7\" >1.00</td>\n",
              "      <td id=\"T_5f57a_row7_col8\" class=\"data row7 col8\" >-0.38</td>\n",
              "      <td id=\"T_5f57a_row7_col9\" class=\"data row7 col9\" >-0.34</td>\n",
              "      <td id=\"T_5f57a_row7_col10\" class=\"data row7 col10\" >0.39</td>\n",
              "      <td id=\"T_5f57a_row7_col11\" class=\"data row7 col11\" >-0.21</td>\n",
              "      <td id=\"T_5f57a_row7_col12\" class=\"data row7 col12\" >-0.10</td>\n",
              "      <td id=\"T_5f57a_row7_col13\" class=\"data row7 col13\" >0.42</td>\n",
              "    </tr>\n",
              "    <tr>\n",
              "      <th id=\"T_5f57a_level0_row8\" class=\"row_heading level0 row8\" >exang</th>\n",
              "      <td id=\"T_5f57a_row8_col0\" class=\"data row8 col0\" >0.10</td>\n",
              "      <td id=\"T_5f57a_row8_col1\" class=\"data row8 col1\" >0.14</td>\n",
              "      <td id=\"T_5f57a_row8_col2\" class=\"data row8 col2\" >-0.39</td>\n",
              "      <td id=\"T_5f57a_row8_col3\" class=\"data row8 col3\" >0.07</td>\n",
              "      <td id=\"T_5f57a_row8_col4\" class=\"data row8 col4\" >0.07</td>\n",
              "      <td id=\"T_5f57a_row8_col5\" class=\"data row8 col5\" >0.03</td>\n",
              "      <td id=\"T_5f57a_row8_col6\" class=\"data row8 col6\" >-0.07</td>\n",
              "      <td id=\"T_5f57a_row8_col7\" class=\"data row8 col7\" >-0.38</td>\n",
              "      <td id=\"T_5f57a_row8_col8\" class=\"data row8 col8\" >1.00</td>\n",
              "      <td id=\"T_5f57a_row8_col9\" class=\"data row8 col9\" >0.29</td>\n",
              "      <td id=\"T_5f57a_row8_col10\" class=\"data row8 col10\" >-0.26</td>\n",
              "      <td id=\"T_5f57a_row8_col11\" class=\"data row8 col11\" >0.12</td>\n",
              "      <td id=\"T_5f57a_row8_col12\" class=\"data row8 col12\" >0.21</td>\n",
              "      <td id=\"T_5f57a_row8_col13\" class=\"data row8 col13\" >-0.44</td>\n",
              "    </tr>\n",
              "    <tr>\n",
              "      <th id=\"T_5f57a_level0_row9\" class=\"row_heading level0 row9\" >oldpeak</th>\n",
              "      <td id=\"T_5f57a_row9_col0\" class=\"data row9 col0\" >0.21</td>\n",
              "      <td id=\"T_5f57a_row9_col1\" class=\"data row9 col1\" >0.10</td>\n",
              "      <td id=\"T_5f57a_row9_col2\" class=\"data row9 col2\" >-0.15</td>\n",
              "      <td id=\"T_5f57a_row9_col3\" class=\"data row9 col3\" >0.19</td>\n",
              "      <td id=\"T_5f57a_row9_col4\" class=\"data row9 col4\" >0.05</td>\n",
              "      <td id=\"T_5f57a_row9_col5\" class=\"data row9 col5\" >0.01</td>\n",
              "      <td id=\"T_5f57a_row9_col6\" class=\"data row9 col6\" >-0.06</td>\n",
              "      <td id=\"T_5f57a_row9_col7\" class=\"data row9 col7\" >-0.34</td>\n",
              "      <td id=\"T_5f57a_row9_col8\" class=\"data row9 col8\" >0.29</td>\n",
              "      <td id=\"T_5f57a_row9_col9\" class=\"data row9 col9\" >1.00</td>\n",
              "      <td id=\"T_5f57a_row9_col10\" class=\"data row9 col10\" >-0.58</td>\n",
              "      <td id=\"T_5f57a_row9_col11\" class=\"data row9 col11\" >0.22</td>\n",
              "      <td id=\"T_5f57a_row9_col12\" class=\"data row9 col12\" >0.21</td>\n",
              "      <td id=\"T_5f57a_row9_col13\" class=\"data row9 col13\" >-0.43</td>\n",
              "    </tr>\n",
              "    <tr>\n",
              "      <th id=\"T_5f57a_level0_row10\" class=\"row_heading level0 row10\" >slope</th>\n",
              "      <td id=\"T_5f57a_row10_col0\" class=\"data row10 col0\" >-0.17</td>\n",
              "      <td id=\"T_5f57a_row10_col1\" class=\"data row10 col1\" >-0.03</td>\n",
              "      <td id=\"T_5f57a_row10_col2\" class=\"data row10 col2\" >0.12</td>\n",
              "      <td id=\"T_5f57a_row10_col3\" class=\"data row10 col3\" >-0.12</td>\n",
              "      <td id=\"T_5f57a_row10_col4\" class=\"data row10 col4\" >-0.00</td>\n",
              "      <td id=\"T_5f57a_row10_col5\" class=\"data row10 col5\" >-0.06</td>\n",
              "      <td id=\"T_5f57a_row10_col6\" class=\"data row10 col6\" >0.09</td>\n",
              "      <td id=\"T_5f57a_row10_col7\" class=\"data row10 col7\" >0.39</td>\n",
              "      <td id=\"T_5f57a_row10_col8\" class=\"data row10 col8\" >-0.26</td>\n",
              "      <td id=\"T_5f57a_row10_col9\" class=\"data row10 col9\" >-0.58</td>\n",
              "      <td id=\"T_5f57a_row10_col10\" class=\"data row10 col10\" >1.00</td>\n",
              "      <td id=\"T_5f57a_row10_col11\" class=\"data row10 col11\" >-0.08</td>\n",
              "      <td id=\"T_5f57a_row10_col12\" class=\"data row10 col12\" >-0.10</td>\n",
              "      <td id=\"T_5f57a_row10_col13\" class=\"data row10 col13\" >0.35</td>\n",
              "    </tr>\n",
              "    <tr>\n",
              "      <th id=\"T_5f57a_level0_row11\" class=\"row_heading level0 row11\" >ca</th>\n",
              "      <td id=\"T_5f57a_row11_col0\" class=\"data row11 col0\" >0.28</td>\n",
              "      <td id=\"T_5f57a_row11_col1\" class=\"data row11 col1\" >0.12</td>\n",
              "      <td id=\"T_5f57a_row11_col2\" class=\"data row11 col2\" >-0.18</td>\n",
              "      <td id=\"T_5f57a_row11_col3\" class=\"data row11 col3\" >0.10</td>\n",
              "      <td id=\"T_5f57a_row11_col4\" class=\"data row11 col4\" >0.07</td>\n",
              "      <td id=\"T_5f57a_row11_col5\" class=\"data row11 col5\" >0.14</td>\n",
              "      <td id=\"T_5f57a_row11_col6\" class=\"data row11 col6\" >-0.07</td>\n",
              "      <td id=\"T_5f57a_row11_col7\" class=\"data row11 col7\" >-0.21</td>\n",
              "      <td id=\"T_5f57a_row11_col8\" class=\"data row11 col8\" >0.12</td>\n",
              "      <td id=\"T_5f57a_row11_col9\" class=\"data row11 col9\" >0.22</td>\n",
              "      <td id=\"T_5f57a_row11_col10\" class=\"data row11 col10\" >-0.08</td>\n",
              "      <td id=\"T_5f57a_row11_col11\" class=\"data row11 col11\" >1.00</td>\n",
              "      <td id=\"T_5f57a_row11_col12\" class=\"data row11 col12\" >0.15</td>\n",
              "      <td id=\"T_5f57a_row11_col13\" class=\"data row11 col13\" >-0.39</td>\n",
              "    </tr>\n",
              "    <tr>\n",
              "      <th id=\"T_5f57a_level0_row12\" class=\"row_heading level0 row12\" >thal</th>\n",
              "      <td id=\"T_5f57a_row12_col0\" class=\"data row12 col0\" >0.07</td>\n",
              "      <td id=\"T_5f57a_row12_col1\" class=\"data row12 col1\" >0.21</td>\n",
              "      <td id=\"T_5f57a_row12_col2\" class=\"data row12 col2\" >-0.16</td>\n",
              "      <td id=\"T_5f57a_row12_col3\" class=\"data row12 col3\" >0.06</td>\n",
              "      <td id=\"T_5f57a_row12_col4\" class=\"data row12 col4\" >0.10</td>\n",
              "      <td id=\"T_5f57a_row12_col5\" class=\"data row12 col5\" >-0.03</td>\n",
              "      <td id=\"T_5f57a_row12_col6\" class=\"data row12 col6\" >-0.01</td>\n",
              "      <td id=\"T_5f57a_row12_col7\" class=\"data row12 col7\" >-0.10</td>\n",
              "      <td id=\"T_5f57a_row12_col8\" class=\"data row12 col8\" >0.21</td>\n",
              "      <td id=\"T_5f57a_row12_col9\" class=\"data row12 col9\" >0.21</td>\n",
              "      <td id=\"T_5f57a_row12_col10\" class=\"data row12 col10\" >-0.10</td>\n",
              "      <td id=\"T_5f57a_row12_col11\" class=\"data row12 col11\" >0.15</td>\n",
              "      <td id=\"T_5f57a_row12_col12\" class=\"data row12 col12\" >1.00</td>\n",
              "      <td id=\"T_5f57a_row12_col13\" class=\"data row12 col13\" >-0.34</td>\n",
              "    </tr>\n",
              "    <tr>\n",
              "      <th id=\"T_5f57a_level0_row13\" class=\"row_heading level0 row13\" >target</th>\n",
              "      <td id=\"T_5f57a_row13_col0\" class=\"data row13 col0\" >-0.23</td>\n",
              "      <td id=\"T_5f57a_row13_col1\" class=\"data row13 col1\" >-0.28</td>\n",
              "      <td id=\"T_5f57a_row13_col2\" class=\"data row13 col2\" >0.43</td>\n",
              "      <td id=\"T_5f57a_row13_col3\" class=\"data row13 col3\" >-0.14</td>\n",
              "      <td id=\"T_5f57a_row13_col4\" class=\"data row13 col4\" >-0.09</td>\n",
              "      <td id=\"T_5f57a_row13_col5\" class=\"data row13 col5\" >-0.03</td>\n",
              "      <td id=\"T_5f57a_row13_col6\" class=\"data row13 col6\" >0.14</td>\n",
              "      <td id=\"T_5f57a_row13_col7\" class=\"data row13 col7\" >0.42</td>\n",
              "      <td id=\"T_5f57a_row13_col8\" class=\"data row13 col8\" >-0.44</td>\n",
              "      <td id=\"T_5f57a_row13_col9\" class=\"data row13 col9\" >-0.43</td>\n",
              "      <td id=\"T_5f57a_row13_col10\" class=\"data row13 col10\" >0.35</td>\n",
              "      <td id=\"T_5f57a_row13_col11\" class=\"data row13 col11\" >-0.39</td>\n",
              "      <td id=\"T_5f57a_row13_col12\" class=\"data row13 col12\" >-0.34</td>\n",
              "      <td id=\"T_5f57a_row13_col13\" class=\"data row13 col13\" >1.00</td>\n",
              "    </tr>\n",
              "  </tbody>\n",
              "</table>\n"
            ],
            "text/plain": [
              "<pandas.io.formats.style.Styler at 0x7f10443cb460>"
            ]
          },
          "execution_count": 38,
          "metadata": {},
          "output_type": "execute_result"
        }
      ],
      "source": [
        "#Mencari nilai korelasi antar features.\n",
        "df.corr().style.background_gradient().set_precision(2)"
      ]
    },
    {
      "cell_type": "markdown",
      "metadata": {
        "id": "iY8xfqL0wUpp"
      },
      "source": [
        "- Terdapat hubungan linear positif yang cukup kuat antara target dengan cp, thalach, dan slope.\n",
        "- Sedangkan untuk hubungan linear negatif, target mempunyai hubungan yang kuat dengan exang, oldpeak, ca, dan thal."
      ]
    },
    {
      "cell_type": "markdown",
      "metadata": {
        "id": "TKcDbbLNwUpp"
      },
      "source": [
        "### Modelling"
      ]
    },
    {
      "cell_type": "code",
      "execution_count": 39,
      "metadata": {
        "id": "ONruGwS-wUpp"
      },
      "outputs": [],
      "source": [
        "#Membuat object KNN\n",
        "knn = KNeighborsClassifier()"
      ]
    },
    {
      "cell_type": "code",
      "execution_count": 40,
      "metadata": {
        "id": "6aJwxRHswUpp"
      },
      "outputs": [],
      "source": [
        "#Membuat variable x dan y\n",
        "x = df.drop(columns=['target'])\n",
        "y = df['target']"
      ]
    },
    {
      "cell_type": "code",
      "execution_count": 41,
      "metadata": {
        "id": "nG6dOEuUwUpp"
      },
      "outputs": [],
      "source": [
        "#Split data kedalam training dan testing\n",
        "x_train, x_test, y_train, y_test = train_test_split(x, y, test_size=0.2, random_state=4)"
      ]
    },
    {
      "cell_type": "code",
      "execution_count": 42,
      "metadata": {
        "colab": {
          "base_uri": "https://localhost:8080/"
        },
        "id": "ZXQqy5ZzwUpp",
        "outputId": "409a9b09-197a-47ad-e0a6-fc5a353a2767"
      },
      "outputs": [
        {
          "data": {
            "text/html": [
              "<style>#sk-container-id-1 {color: black;background-color: white;}#sk-container-id-1 pre{padding: 0;}#sk-container-id-1 div.sk-toggleable {background-color: white;}#sk-container-id-1 label.sk-toggleable__label {cursor: pointer;display: block;width: 100%;margin-bottom: 0;padding: 0.3em;box-sizing: border-box;text-align: center;}#sk-container-id-1 label.sk-toggleable__label-arrow:before {content: \"▸\";float: left;margin-right: 0.25em;color: #696969;}#sk-container-id-1 label.sk-toggleable__label-arrow:hover:before {color: black;}#sk-container-id-1 div.sk-estimator:hover label.sk-toggleable__label-arrow:before {color: black;}#sk-container-id-1 div.sk-toggleable__content {max-height: 0;max-width: 0;overflow: hidden;text-align: left;background-color: #f0f8ff;}#sk-container-id-1 div.sk-toggleable__content pre {margin: 0.2em;color: black;border-radius: 0.25em;background-color: #f0f8ff;}#sk-container-id-1 input.sk-toggleable__control:checked~div.sk-toggleable__content {max-height: 200px;max-width: 100%;overflow: auto;}#sk-container-id-1 input.sk-toggleable__control:checked~label.sk-toggleable__label-arrow:before {content: \"▾\";}#sk-container-id-1 div.sk-estimator input.sk-toggleable__control:checked~label.sk-toggleable__label {background-color: #d4ebff;}#sk-container-id-1 div.sk-label input.sk-toggleable__control:checked~label.sk-toggleable__label {background-color: #d4ebff;}#sk-container-id-1 input.sk-hidden--visually {border: 0;clip: rect(1px 1px 1px 1px);clip: rect(1px, 1px, 1px, 1px);height: 1px;margin: -1px;overflow: hidden;padding: 0;position: absolute;width: 1px;}#sk-container-id-1 div.sk-estimator {font-family: monospace;background-color: #f0f8ff;border: 1px dotted black;border-radius: 0.25em;box-sizing: border-box;margin-bottom: 0.5em;}#sk-container-id-1 div.sk-estimator:hover {background-color: #d4ebff;}#sk-container-id-1 div.sk-parallel-item::after {content: \"\";width: 100%;border-bottom: 1px solid gray;flex-grow: 1;}#sk-container-id-1 div.sk-label:hover label.sk-toggleable__label {background-color: #d4ebff;}#sk-container-id-1 div.sk-serial::before {content: \"\";position: absolute;border-left: 1px solid gray;box-sizing: border-box;top: 0;bottom: 0;left: 50%;z-index: 0;}#sk-container-id-1 div.sk-serial {display: flex;flex-direction: column;align-items: center;background-color: white;padding-right: 0.2em;padding-left: 0.2em;position: relative;}#sk-container-id-1 div.sk-item {position: relative;z-index: 1;}#sk-container-id-1 div.sk-parallel {display: flex;align-items: stretch;justify-content: center;background-color: white;position: relative;}#sk-container-id-1 div.sk-item::before, #sk-container-id-1 div.sk-parallel-item::before {content: \"\";position: absolute;border-left: 1px solid gray;box-sizing: border-box;top: 0;bottom: 0;left: 50%;z-index: -1;}#sk-container-id-1 div.sk-parallel-item {display: flex;flex-direction: column;z-index: 1;position: relative;background-color: white;}#sk-container-id-1 div.sk-parallel-item:first-child::after {align-self: flex-end;width: 50%;}#sk-container-id-1 div.sk-parallel-item:last-child::after {align-self: flex-start;width: 50%;}#sk-container-id-1 div.sk-parallel-item:only-child::after {width: 0;}#sk-container-id-1 div.sk-dashed-wrapped {border: 1px dashed gray;margin: 0 0.4em 0.5em 0.4em;box-sizing: border-box;padding-bottom: 0.4em;background-color: white;}#sk-container-id-1 div.sk-label label {font-family: monospace;font-weight: bold;display: inline-block;line-height: 1.2em;}#sk-container-id-1 div.sk-label-container {text-align: center;}#sk-container-id-1 div.sk-container {/* jupyter's `normalize.less` sets `[hidden] { display: none; }` but bootstrap.min.css set `[hidden] { display: none !important; }` so we also need the `!important` here to be able to override the default hidden behavior on the sphinx rendered scikit-learn.org. See: https://github.com/scikit-learn/scikit-learn/issues/21755 */display: inline-block !important;position: relative;}#sk-container-id-1 div.sk-text-repr-fallback {display: none;}</style><div id=\"sk-container-id-1\" class=\"sk-top-container\"><div class=\"sk-text-repr-fallback\"><pre>KNeighborsClassifier()</pre><b>In a Jupyter environment, please rerun this cell to show the HTML representation or trust the notebook. <br />On GitHub, the HTML representation is unable to render, please try loading this page with nbviewer.org.</b></div><div class=\"sk-container\" hidden><div class=\"sk-item\"><div class=\"sk-estimator sk-toggleable\"><input class=\"sk-toggleable__control sk-hidden--visually\" id=\"sk-estimator-id-1\" type=\"checkbox\" checked><label for=\"sk-estimator-id-1\" class=\"sk-toggleable__label sk-toggleable__label-arrow\">KNeighborsClassifier</label><div class=\"sk-toggleable__content\"><pre>KNeighborsClassifier()</pre></div></div></div></div></div>"
            ],
            "text/plain": [
              "KNeighborsClassifier()"
            ]
          },
          "execution_count": 42,
          "metadata": {},
          "output_type": "execute_result"
        }
      ],
      "source": [
        "#Training the model\n",
        "knn.fit(x_train, y_train)"
      ]
    },
    {
      "cell_type": "code",
      "execution_count": 43,
      "metadata": {
        "id": "nouZMW0xwUpq"
      },
      "outputs": [],
      "source": [
        "#Predict testing set\n",
        "y_pred = knn.predict(x_test)"
      ]
    },
    {
      "cell_type": "code",
      "execution_count": 44,
      "metadata": {
        "colab": {
          "base_uri": "https://localhost:8080/"
        },
        "id": "sq8jM5TBwUpq",
        "outputId": "41f50919-dcdc-46e0-cc6b-e9dfff0c032d"
      },
      "outputs": [
        {
          "name": "stdout",
          "output_type": "stream",
          "text": [
            "              precision    recall  f1-score   support\n",
            "\n",
            "           0       0.48      0.52      0.50        25\n",
            "           1       0.65      0.61      0.63        36\n",
            "\n",
            "    accuracy                           0.57        61\n",
            "   macro avg       0.56      0.57      0.56        61\n",
            "weighted avg       0.58      0.57      0.58        61\n",
            "\n"
          ]
        }
      ],
      "source": [
        "#Check performa model menggunakan classification_report\n",
        "print(classification_report(y_test, y_pred))"
      ]
    },
    {
      "cell_type": "code",
      "execution_count": 45,
      "metadata": {
        "colab": {
          "base_uri": "https://localhost:8080/"
        },
        "id": "1KBsZgiawUpq",
        "outputId": "fecd14de-60c0-46aa-eb9d-ffebb706bcce",
        "scrolled": true
      },
      "outputs": [
        {
          "data": {
            "text/plain": [
              "56.55555555555556"
            ]
          },
          "execution_count": 45,
          "metadata": {},
          "output_type": "execute_result"
        }
      ],
      "source": [
        "#Check performa dari model menggunakan auc score\n",
        "roc_auc_score(y_test, y_pred)*100"
      ]
    },
    {
      "cell_type": "markdown",
      "metadata": {
        "id": "kfPboRIOwUpq"
      },
      "source": [
        "- Dari classification report dapat dilihat bahwa model memiliki rata-rata performa sekitar 57% mulai dari precision, recall, f1-score, dan support. Accuracy juga menunjukan akurasi 57%.\n",
        "- Lalu untuk score dari AUC dapat dilihat bahwa nilainya seitar 56,5%\n",
        "- Hasil ini sangat jauh dibawah algoritma Logistic Regression yang memiliki performa sekitar 89%."
      ]
    },
    {
      "cell_type": "markdown",
      "metadata": {
        "id": "t4TU4B5lwUpq"
      },
      "source": [
        "### Hyperparameter Tuning Menggunakan Grid Search"
      ]
    },
    {
      "cell_type": "code",
      "execution_count": 46,
      "metadata": {
        "id": "FAiVIwmbwUpr"
      },
      "outputs": [],
      "source": [
        "#List Hyperparameters yang akan diuji\n",
        "leaf_size = list(range(1,50))\n",
        "n_neighbors = list(range(1,30))\n",
        "p=[1,2]"
      ]
    },
    {
      "cell_type": "code",
      "execution_count": 47,
      "metadata": {
        "id": "aHy2ddl6wUpr"
      },
      "outputs": [],
      "source": [
        "#Menjadikan ke dalam bentuk dictionary\n",
        "hyperparameters = dict(leaf_size=leaf_size, n_neighbors=n_neighbors, p=p)"
      ]
    },
    {
      "cell_type": "code",
      "execution_count": 48,
      "metadata": {
        "id": "5-PH4UiCwUpr"
      },
      "outputs": [],
      "source": [
        "knn_2 = KNeighborsClassifier()"
      ]
    },
    {
      "cell_type": "code",
      "execution_count": 49,
      "metadata": {
        "id": "adBmhk9DwUpr"
      },
      "outputs": [],
      "source": [
        "#cv itu cross validation\n",
        "clf = GridSearchCV(knn_2, hyperparameters, cv=10)"
      ]
    },
    {
      "cell_type": "code",
      "execution_count": 50,
      "metadata": {
        "id": "fcerVXI0wUpr",
        "scrolled": true
      },
      "outputs": [],
      "source": [
        "best_model = clf.fit(x,y)"
      ]
    },
    {
      "cell_type": "code",
      "execution_count": 51,
      "metadata": {
        "colab": {
          "base_uri": "https://localhost:8080/"
        },
        "id": "YzRh2xk8wUpr",
        "outputId": "3e8706d4-66be-4ade-e352-e4f4f7420e15"
      },
      "outputs": [
        {
          "name": "stdout",
          "output_type": "stream",
          "text": [
            "Best leaf_size: 1\n",
            "Best p: 1\n",
            "Best n_neighbors: 7\n"
          ]
        }
      ],
      "source": [
        "#Nilai hyperpaameters terbaik\n",
        "print('Best leaf_size:', best_model.best_estimator_.get_params()['leaf_size'])\n",
        "print('Best p:', best_model.best_estimator_.get_params()['p'])\n",
        "print('Best n_neighbors:', best_model.best_estimator_.get_params()['n_neighbors'])"
      ]
    },
    {
      "cell_type": "code",
      "execution_count": 52,
      "metadata": {
        "id": "T4GjmEnuwUps"
      },
      "outputs": [],
      "source": [
        "y_pred = best_model.predict(x_test)"
      ]
    },
    {
      "cell_type": "code",
      "execution_count": 53,
      "metadata": {
        "colab": {
          "base_uri": "https://localhost:8080/"
        },
        "id": "9xKPP1bHwUps",
        "outputId": "e1e438c1-bdf3-4f70-cf49-b69af53b1a55"
      },
      "outputs": [
        {
          "name": "stdout",
          "output_type": "stream",
          "text": [
            "              precision    recall  f1-score   support\n",
            "\n",
            "           0       0.72      0.72      0.72        25\n",
            "           1       0.81      0.81      0.81        36\n",
            "\n",
            "    accuracy                           0.77        61\n",
            "   macro avg       0.76      0.76      0.76        61\n",
            "weighted avg       0.77      0.77      0.77        61\n",
            "\n"
          ]
        }
      ],
      "source": [
        "print(classification_report(y_test, y_pred))"
      ]
    },
    {
      "cell_type": "code",
      "execution_count": 54,
      "metadata": {
        "colab": {
          "base_uri": "https://localhost:8080/"
        },
        "id": "jJ6kQxidwUps",
        "outputId": "78ac4ca4-ab28-4628-f244-38674359013d",
        "scrolled": true
      },
      "outputs": [
        {
          "data": {
            "text/plain": [
              "0.7627777777777778"
            ]
          },
          "execution_count": 54,
          "metadata": {},
          "output_type": "execute_result"
        }
      ],
      "source": [
        "roc_auc_score(y_test, y_pred)"
      ]
    }
  ],
  "metadata": {
    "colab": {
      "name": "KNN + Tuning.ipynb",
      "provenance": []
    },
    "kernelspec": {
      "display_name": "Python 3.8.13 ('tf26p38gpu-riset')",
      "language": "python",
      "name": "python3"
    },
    "language_info": {
      "codemirror_mode": {
        "name": "ipython",
        "version": 3
      },
      "file_extension": ".py",
      "mimetype": "text/x-python",
      "name": "python",
      "nbconvert_exporter": "python",
      "pygments_lexer": "ipython3",
      "version": "3.8.13"
    },
    "vscode": {
      "interpreter": {
        "hash": "1f25b7125f6d016f1a2196ebcb79236770b2f4743b020ee153e77d05bf60e445"
      }
    }
  },
  "nbformat": 4,
  "nbformat_minor": 0
}
