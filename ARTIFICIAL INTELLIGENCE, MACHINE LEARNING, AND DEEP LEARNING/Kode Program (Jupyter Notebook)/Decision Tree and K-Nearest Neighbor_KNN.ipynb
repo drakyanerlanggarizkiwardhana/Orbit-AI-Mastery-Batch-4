{
 "cells": [
  {
   "cell_type": "markdown",
   "metadata": {
    "id": "pCy7ITfB4XXx"
   },
   "source": [
    " # Module 5: Supervised Machine Learning and Predictive Modeling "
   ]
  },
  {
   "cell_type": "markdown",
   "metadata": {
    "id": "xh1tTQks7BSE"
   },
   "source": [
    "## Lab-1: KNN (k-nearest neighbour) "
   ]
  },
  {
   "cell_type": "markdown",
   "metadata": {
    "id": "vz9OAVbB788L"
   },
   "source": [
    "K-nearest neighbors (KNN) algorithm is a type of supervised ML algorithm which can be used for both classification as well as regression predictive problems. However, it is mainly used for classification predictive problems in industry. \n",
    "\n",
    "K-nearest neighbors (KNN) algorithm uses ‘feature similarity’ to predict the values of new datapoints which further means that the new data point will be assigned a value based on how closely it matches the points in the training set. "
   ]
  },
  {
   "cell_type": "markdown",
   "metadata": {
    "id": "7SQjiyAW9PKF"
   },
   "source": [
    "##Objective\n",
    "***\n",
    "\n",
    "* KNN For Classifier\n",
    "* Regression with KNN\n"
   ]
  },
  {
   "cell_type": "markdown",
   "metadata": {
    "id": "HWuT5ofR8Aaj"
   },
   "source": [
    "### KNN For Classifier \n",
    "***"
   ]
  },
  {
   "cell_type": "markdown",
   "metadata": {
    "id": "OQAyBdMM8LWv"
   },
   "source": [
    "Here we will be using iris dataset. "
   ]
  },
  {
   "cell_type": "code",
   "execution_count": 1,
   "metadata": {
    "id": "8EGU33lF5fvQ"
   },
   "outputs": [],
   "source": [
    "import numpy as np\n",
    "import pandas as pd\n",
    "import matplotlib.pyplot as plt\n",
    "from sklearn.datasets import load_iris"
   ]
  },
  {
   "cell_type": "markdown",
   "metadata": {
    "id": "__M-D3LU8NXb"
   },
   "source": [
    "Loading the iris dataset in df. "
   ]
  },
  {
   "cell_type": "code",
   "execution_count": 2,
   "metadata": {
    "id": "G6hspyZd7zXQ"
   },
   "outputs": [],
   "source": [
    "df = load_iris()"
   ]
  },
  {
   "cell_type": "markdown",
   "metadata": {
    "id": "SlLugwXd8QcQ"
   },
   "source": [
    "Now storing data in x and class category in y. "
   ]
  },
  {
   "cell_type": "code",
   "execution_count": 3,
   "metadata": {
    "id": "aMtVoqOk74BL"
   },
   "outputs": [],
   "source": [
    "x = df.data\n",
    "y = df.target"
   ]
  },
  {
   "cell_type": "code",
   "execution_count": 4,
   "metadata": {
    "id": "g5ByFqF98BEx"
   },
   "outputs": [],
   "source": [
    "from sklearn.model_selection import train_test_split\n",
    "X_train, X_test, y_train, y_test = train_test_split(x, y,test_size = 0.4)"
   ]
  },
  {
   "cell_type": "markdown",
   "metadata": {
    "id": "uyCB9WH18UOt"
   },
   "source": [
    "Scaling the data "
   ]
  },
  {
   "cell_type": "code",
   "execution_count": 5,
   "metadata": {
    "id": "FJIzOnwn8Zq9"
   },
   "outputs": [],
   "source": [
    "from sklearn.preprocessing import StandardScaler\n",
    "scaler = StandardScaler()\n",
    "scaler.fit(X_train)\n",
    "X_train = scaler.transform(X_train)\n",
    "X_test = scaler.transform(X_test)"
   ]
  },
  {
   "cell_type": "markdown",
   "metadata": {
    "id": "thQoRRR28bsc"
   },
   "source": [
    "Now fitting the model using KNN. Here we are taking k=8. "
   ]
  },
  {
   "cell_type": "code",
   "execution_count": 6,
   "metadata": {
    "colab": {
     "base_uri": "https://localhost:8080/"
    },
    "id": "Thj34fqR8cFZ",
    "outputId": "429d80dc-d97b-4e15-8321-3f86ee9ed35c"
   },
   "outputs": [
    {
     "data": {
      "text/plain": [
       "KNeighborsClassifier(n_neighbors=8)"
      ]
     },
     "execution_count": 6,
     "metadata": {},
     "output_type": "execute_result"
    }
   ],
   "source": [
    "from sklearn.neighbors import KNeighborsClassifier\n",
    "classifier = KNeighborsClassifier(n_neighbors = 8)\n",
    "classifier.fit(X_train, y_train)"
   ]
  },
  {
   "cell_type": "code",
   "execution_count": 7,
   "metadata": {
    "id": "ZxVkz8ow8hkX"
   },
   "outputs": [],
   "source": [
    "y_pred = classifier.predict(X_test)"
   ]
  },
  {
   "cell_type": "markdown",
   "metadata": {
    "id": "7OShzIUu8rNw"
   },
   "source": [
    "Now we calculate the accuracy score, confusion matrix and classification report.  "
   ]
  },
  {
   "cell_type": "code",
   "execution_count": 8,
   "metadata": {
    "colab": {
     "base_uri": "https://localhost:8080/"
    },
    "id": "2_wjnAVu8jzF",
    "outputId": "119f8b0f-8bfb-4246-c43c-41d27df8e92e"
   },
   "outputs": [
    {
     "name": "stdout",
     "output_type": "stream",
     "text": [
      "Confusion Matrix:\n",
      "[[17  0  0]\n",
      " [ 0 24  1]\n",
      " [ 0  2 16]]\n",
      "Classification Report:\n",
      "              precision    recall  f1-score   support\n",
      "\n",
      "           0       1.00      1.00      1.00        17\n",
      "           1       0.92      0.96      0.94        25\n",
      "           2       0.94      0.89      0.91        18\n",
      "\n",
      "    accuracy                           0.95        60\n",
      "   macro avg       0.95      0.95      0.95        60\n",
      "weighted avg       0.95      0.95      0.95        60\n",
      "\n",
      "Accuracy: 0.95\n"
     ]
    }
   ],
   "source": [
    "from sklearn.metrics import classification_report, confusion_matrix, accuracy_score\n",
    "result = confusion_matrix(y_test, y_pred)\n",
    "print(\"Confusion Matrix:\")\n",
    "print(result)\n",
    "result1 = classification_report(y_test, y_pred)\n",
    "print(\"Classification Report:\",)\n",
    "print (result1)\n",
    "result2 = accuracy_score(y_test,y_pred)\n",
    "print(\"Accuracy:\",result2)"
   ]
  },
  {
   "cell_type": "markdown",
   "metadata": {
    "id": "J2o3-V4k7yU3"
   },
   "source": [
    "Hence, we can see that we get an accuracy of 0.95 which is quite good. "
   ]
  },
  {
   "cell_type": "markdown",
   "metadata": {
    "id": "7E96fp2RAaBw"
   },
   "source": [
    "### Regression with KNN\n",
    "***"
   ]
  },
  {
   "cell_type": "markdown",
   "metadata": {
    "id": "9xtT-ou78uRU"
   },
   "source": [
    "We first import all the libraries and use the load_boston dataset for KNN which predicts the house prices.  "
   ]
  },
  {
   "cell_type": "code",
   "execution_count": 9,
   "metadata": {
    "id": "UJIvl2U-7qqR"
   },
   "outputs": [],
   "source": [
    "import numpy as np\n",
    "import pandas as pd\n",
    "import matplotlib.pyplot as plt\n",
    "from sklearn.datasets import load_boston"
   ]
  },
  {
   "cell_type": "code",
   "execution_count": 10,
   "metadata": {
    "colab": {
     "base_uri": "https://localhost:8080/"
    },
    "id": "taAe6KTGAg-f",
    "outputId": "ac8662b8-11bc-48e8-bf95-476f80d0af41"
   },
   "outputs": [
    {
     "name": "stderr",
     "output_type": "stream",
     "text": [
      "/usr/local/lib/python3.7/dist-packages/sklearn/utils/deprecation.py:87: FutureWarning: Function load_boston is deprecated; `load_boston` is deprecated in 1.0 and will be removed in 1.2.\n",
      "\n",
      "    The Boston housing prices dataset has an ethical problem. You can refer to\n",
      "    the documentation of this function for further details.\n",
      "\n",
      "    The scikit-learn maintainers therefore strongly discourage the use of this\n",
      "    dataset unless the purpose of the code is to study and educate about\n",
      "    ethical issues in data science and machine learning.\n",
      "\n",
      "    In this special case, you can fetch the dataset from the original\n",
      "    source::\n",
      "\n",
      "        import pandas as pd\n",
      "        import numpy as np\n",
      "\n",
      "\n",
      "        data_url = \"http://lib.stat.cmu.edu/datasets/boston\"\n",
      "        raw_df = pd.read_csv(data_url, sep=\"\\s+\", skiprows=22, header=None)\n",
      "        data = np.hstack([raw_df.values[::2, :], raw_df.values[1::2, :2]])\n",
      "        target = raw_df.values[1::2, 2]\n",
      "\n",
      "    Alternative datasets include the California housing dataset (i.e.\n",
      "    :func:`~sklearn.datasets.fetch_california_housing`) and the Ames housing\n",
      "    dataset. You can load the datasets as follows::\n",
      "\n",
      "        from sklearn.datasets import fetch_california_housing\n",
      "        housing = fetch_california_housing()\n",
      "\n",
      "    for the California housing dataset and::\n",
      "\n",
      "        from sklearn.datasets import fetch_openml\n",
      "        housing = fetch_openml(name=\"house_prices\", as_frame=True)\n",
      "\n",
      "    for the Ames housing dataset.\n",
      "    \n",
      "  warnings.warn(msg, category=FutureWarning)\n"
     ]
    }
   ],
   "source": [
    "df = load_boston()"
   ]
  },
  {
   "cell_type": "markdown",
   "metadata": {
    "id": "gI9UXUZX8yD4"
   },
   "source": [
    "Then we store the features and target data in x and y respectively.  "
   ]
  },
  {
   "cell_type": "code",
   "execution_count": 11,
   "metadata": {
    "id": "N6sTGAsAAqVg"
   },
   "outputs": [],
   "source": [
    "x = df.data\n",
    "y = df.target"
   ]
  },
  {
   "cell_type": "markdown",
   "metadata": {
    "id": "vkYCAb0p81cU"
   },
   "source": [
    "Now we fit the KNN model on out training set.  "
   ]
  },
  {
   "cell_type": "code",
   "execution_count": 12,
   "metadata": {
    "id": "uNFe0zYmAuaE"
   },
   "outputs": [],
   "source": [
    "from sklearn.model_selection import train_test_split\n",
    "X_train, X_test, y_train, y_test = train_test_split(x, y,test_size = 0.4)\n",
    "from sklearn.neighbors import KNeighborsRegressor\n",
    "knnr = KNeighborsRegressor(n_neighbors = 10)\n",
    "knnr.fit(X_train, y_train)\n",
    "y_pred = knnr.predict(X_test)"
   ]
  },
  {
   "cell_type": "markdown",
   "metadata": {
    "id": "-w4t58_a85S2"
   },
   "source": [
    "A loss function is a measure of how accurately your ML model is able to predict the expected outcome i.e the ground truth. A high value for the loss means our model performed very poorly. A low value for the loss means our model performed very well."
   ]
  },
  {
   "cell_type": "markdown",
   "metadata": {
    "id": "iZjQo6Ln85yi"
   },
   "source": [
    "Now we find out the mean squared error. The Mean Squared Error (MSE) is perhaps the simplest and most common loss function. To calculate the MSE, you take the difference between your model’s predictions and the ground truth, square it, and average it out across the whole dataset. \n",
    "\n",
    "![image.png](data:image/png;base64,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)\n",
    "\n",
    "\n",
    "We use the same formula using numpy."
   ]
  },
  {
   "cell_type": "code",
   "execution_count": 13,
   "metadata": {
    "colab": {
     "base_uri": "https://localhost:8080/"
    },
    "id": "0134gGu4A7Lk",
    "outputId": "d1036e4b-d330-4d24-d43f-45e89004da40"
   },
   "outputs": [
    {
     "name": "stdout",
     "output_type": "stream",
     "text": [
      "The MSE is: 41.34127964426877\n",
      "The RMSE is: 6.429718473173517\n"
     ]
    }
   ],
   "source": [
    "mse = np.power(y-knnr.predict(x),2).mean()\n",
    "print (\"The MSE is:\",mse)\n",
    "import math\n",
    "rmse = math.sqrt(mse)\n",
    "print(\"The RMSE is:\", rmse)"
   ]
  },
  {
   "cell_type": "markdown",
   "metadata": {
    "id": "ClAt2nG_9t9S"
   },
   "source": [
    "##Thank You !"
   ]
  }
 ],
 "metadata": {
  "colab": {
   "collapsed_sections": [],
   "name": "Module5_(2.1)_KNN_Lab_Exercise.ipynb",
   "provenance": []
  },
  "kernelspec": {
   "display_name": "Python 3 (ipykernel)",
   "language": "python",
   "name": "python3"
  },
  "language_info": {
   "codemirror_mode": {
    "name": "ipython",
    "version": 3
   },
   "file_extension": ".py",
   "mimetype": "text/x-python",
   "name": "python",
   "nbconvert_exporter": "python",
   "pygments_lexer": "ipython3",
   "version": "3.9.7"
  }
 },
 "nbformat": 4,
 "nbformat_minor": 1
}
