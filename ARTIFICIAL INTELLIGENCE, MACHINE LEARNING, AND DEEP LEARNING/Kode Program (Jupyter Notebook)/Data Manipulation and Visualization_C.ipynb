{
 "cells": [
  {
   "cell_type": "markdown",
   "metadata": {
    "id": "iU5NxI37hh9-"
   },
   "source": [
    "# Module 3: Data Analytics With Python - Applied Statistics "
   ]
  },
  {
   "cell_type": "markdown",
   "metadata": {
    "id": "iVZMr-BH8cRc"
   },
   "source": [
    "## Lab 3: Data Manipulation With Pandas"
   ]
  },
  {
   "cell_type": "markdown",
   "metadata": {
    "id": "Xn8YDb-EiKaU"
   },
   "source": [
    "<br><br><br><br><br><br>\n",
    "## Objective\n",
    "***\n",
    "\n",
    "<ul type='disc'>\n",
    "  <li>Handling Missing Values\n",
    "  </li>\n",
    "  <li>Finding Unique Values and Duplicates</li>\n",
    "  <li>Analysing Outliers</li>\n",
    "  <ul type='circle'>\n",
    "   <li>Interquartile Range</li>\n",
    "   <li>Interquartile Range a Box Plot View</li>\n",
    "   <li>Box Plot</li>\n",
    "\n",
    "  </ul>\n",
    "</ul>"
   ]
  },
  {
   "cell_type": "markdown",
   "metadata": {
    "id": "9O3bBzyOGcR7"
   },
   "source": [
    "<br><br><br><br><br><br>\n",
    "## Handling Missing Values\n",
    "***"
   ]
  },
  {
   "cell_type": "markdown",
   "metadata": {
    "id": "h139zV-e8Tbp"
   },
   "source": [
    "Missing values are usually represented in the form of Nan or null or None in the dataset. To remove them, simply use dropna()."
   ]
  },
  {
   "cell_type": "markdown",
   "metadata": {
    "id": "J6yqbE_o8wtT"
   },
   "source": [
    "To drop the column/s having all NaN values, we use dropna() with how=’all’ attribute. "
   ]
  },
  {
   "cell_type": "code",
   "execution_count": 1,
   "metadata": {
    "id": "ctyVsq4ZGN0v"
   },
   "outputs": [
    {
     "data": {
      "text/html": [
       "<div>\n",
       "<style scoped>\n",
       "    .dataframe tbody tr th:only-of-type {\n",
       "        vertical-align: middle;\n",
       "    }\n",
       "\n",
       "    .dataframe tbody tr th {\n",
       "        vertical-align: top;\n",
       "    }\n",
       "\n",
       "    .dataframe thead th {\n",
       "        text-align: right;\n",
       "    }\n",
       "</style>\n",
       "<table border=\"1\" class=\"dataframe\">\n",
       "  <thead>\n",
       "    <tr style=\"text-align: right;\">\n",
       "      <th></th>\n",
       "      <th>regiment</th>\n",
       "      <th>trucks</th>\n",
       "      <th>tanks</th>\n",
       "      <th>aircraft</th>\n",
       "    </tr>\n",
       "  </thead>\n",
       "  <tbody>\n",
       "    <tr>\n",
       "      <th>0</th>\n",
       "      <td>51st</td>\n",
       "      <td>MA7160</td>\n",
       "      <td>Merkava Mark 4</td>\n",
       "      <td>NaN</td>\n",
       "    </tr>\n",
       "    <tr>\n",
       "      <th>1</th>\n",
       "      <td>29th</td>\n",
       "      <td>NaN</td>\n",
       "      <td>Merkava Mark 4</td>\n",
       "      <td>none</td>\n",
       "    </tr>\n",
       "    <tr>\n",
       "      <th>2</th>\n",
       "      <td>2nd</td>\n",
       "      <td>BA3211</td>\n",
       "      <td>Merkava Mark 4</td>\n",
       "      <td>none</td>\n",
       "    </tr>\n",
       "    <tr>\n",
       "      <th>3</th>\n",
       "      <td>5th</td>\n",
       "      <td>Tatra10</td>\n",
       "      <td>Leopard 2A6M</td>\n",
       "      <td>Harbin Z-9</td>\n",
       "    </tr>\n",
       "    <tr>\n",
       "      <th>4</th>\n",
       "      <td>45th</td>\n",
       "      <td>RT3121</td>\n",
       "      <td>Arjun MBT</td>\n",
       "      <td>Harbin Z-9</td>\n",
       "    </tr>\n",
       "    <tr>\n",
       "      <th>5</th>\n",
       "      <td>3rd</td>\n",
       "      <td>Tatra10</td>\n",
       "      <td>Arjun MBT</td>\n",
       "      <td>Harbin Z-9</td>\n",
       "    </tr>\n",
       "    <tr>\n",
       "      <th>6</th>\n",
       "      <td>20th</td>\n",
       "      <td>WE2323</td>\n",
       "      <td>Merkava Mark 4</td>\n",
       "      <td>SH-60B Seahawk</td>\n",
       "    </tr>\n",
       "    <tr>\n",
       "      <th>7</th>\n",
       "      <td>198th</td>\n",
       "      <td>Tatra10</td>\n",
       "      <td>Arjun MBT</td>\n",
       "      <td>SH-60B Seahawk</td>\n",
       "    </tr>\n",
       "    <tr>\n",
       "      <th>8</th>\n",
       "      <td>30th</td>\n",
       "      <td>Tatra10</td>\n",
       "      <td>Leopard 2A6M</td>\n",
       "      <td>SH-60B Seahawk</td>\n",
       "    </tr>\n",
       "    <tr>\n",
       "      <th>9</th>\n",
       "      <td>1st</td>\n",
       "      <td>WE2323</td>\n",
       "      <td>Arjun MBT</td>\n",
       "      <td>SH-60B Seahawk</td>\n",
       "    </tr>\n",
       "    <tr>\n",
       "      <th>10</th>\n",
       "      <td>4th</td>\n",
       "      <td>WE2323</td>\n",
       "      <td>Leopard 2A6M</td>\n",
       "      <td>SH-60B Seahawk</td>\n",
       "    </tr>\n",
       "    <tr>\n",
       "      <th>11</th>\n",
       "      <td>22nd</td>\n",
       "      <td>Tatra10</td>\n",
       "      <td>Arjun MBT</td>\n",
       "      <td>SH-60B Seahawk</td>\n",
       "    </tr>\n",
       "  </tbody>\n",
       "</table>\n",
       "</div>"
      ],
      "text/plain": [
       "   regiment   trucks           tanks        aircraft\n",
       "0      51st   MA7160  Merkava Mark 4             NaN\n",
       "1      29th      NaN  Merkava Mark 4            none\n",
       "2       2nd   BA3211  Merkava Mark 4            none\n",
       "3       5th  Tatra10    Leopard 2A6M      Harbin Z-9\n",
       "4      45th   RT3121       Arjun MBT      Harbin Z-9\n",
       "5       3rd  Tatra10       Arjun MBT      Harbin Z-9\n",
       "6      20th   WE2323  Merkava Mark 4  SH-60B Seahawk\n",
       "7     198th  Tatra10       Arjun MBT  SH-60B Seahawk\n",
       "8      30th  Tatra10    Leopard 2A6M  SH-60B Seahawk\n",
       "9       1st   WE2323       Arjun MBT  SH-60B Seahawk\n",
       "10      4th   WE2323    Leopard 2A6M  SH-60B Seahawk\n",
       "11     22nd  Tatra10       Arjun MBT  SH-60B Seahawk"
      ]
     },
     "execution_count": 1,
     "metadata": {},
     "output_type": "execute_result"
    }
   ],
   "source": [
    "import pandas as pd\n",
    "import numpy as np\n",
    "data1 = {'regiment': ['51st','29th', '2nd', '5th', '45th', '3rd', '20th', '198th', '30th', '1st', '4th', '22nd'],\n",
    "         'trucks': ['MA7160', np.nan, 'BA3211', 'Tatra10', 'RT3121', 'Tatra10', 'WE2323','Tatra10', 'Tatra10', 'WE2323', 'WE2323', 'Tatra10'],\n",
    "         'tanks': ['Merkava Mark 4', 'Merkava Mark 4', 'Merkava Mark 4', 'Leopard 2A6M', 'Arjun MBT', 'Arjun MBT', 'Merkava Mark 4', 'Arjun MBT', 'Leopard 2A6M', 'Arjun MBT', 'Leopard 2A6M', 'Arjun MBT'],\n",
    "         'aircraft':[ np.nan, 'none', 'none','Harbin Z-9', 'Harbin Z-9', 'Harbin Z-9', 'SH-60B Seahawk', 'SH-60B Seahawk', 'SH-60B Seahawk', 'SH-60B Seahawk','SH-60B Seahawk','SH-60B Seahawk' ]\n",
    "         }\n",
    "\n",
    "df = pd.DataFrame(data1)\n",
    "df"
   ]
  },
  {
   "cell_type": "code",
   "execution_count": 2,
   "metadata": {},
   "outputs": [
    {
     "data": {
      "text/html": [
       "<div>\n",
       "<style scoped>\n",
       "    .dataframe tbody tr th:only-of-type {\n",
       "        vertical-align: middle;\n",
       "    }\n",
       "\n",
       "    .dataframe tbody tr th {\n",
       "        vertical-align: top;\n",
       "    }\n",
       "\n",
       "    .dataframe thead th {\n",
       "        text-align: right;\n",
       "    }\n",
       "</style>\n",
       "<table border=\"1\" class=\"dataframe\">\n",
       "  <thead>\n",
       "    <tr style=\"text-align: right;\">\n",
       "      <th></th>\n",
       "      <th>regiment</th>\n",
       "      <th>trucks</th>\n",
       "      <th>tanks</th>\n",
       "      <th>aircraft</th>\n",
       "      <th>location</th>\n",
       "    </tr>\n",
       "  </thead>\n",
       "  <tbody>\n",
       "    <tr>\n",
       "      <th>0</th>\n",
       "      <td>51st</td>\n",
       "      <td>MA7160</td>\n",
       "      <td>Merkava Mark 4</td>\n",
       "      <td>NaN</td>\n",
       "      <td>NaN</td>\n",
       "    </tr>\n",
       "    <tr>\n",
       "      <th>1</th>\n",
       "      <td>29th</td>\n",
       "      <td>NaN</td>\n",
       "      <td>Merkava Mark 4</td>\n",
       "      <td>none</td>\n",
       "      <td>NaN</td>\n",
       "    </tr>\n",
       "    <tr>\n",
       "      <th>2</th>\n",
       "      <td>2nd</td>\n",
       "      <td>BA3211</td>\n",
       "      <td>Merkava Mark 4</td>\n",
       "      <td>none</td>\n",
       "      <td>NaN</td>\n",
       "    </tr>\n",
       "    <tr>\n",
       "      <th>3</th>\n",
       "      <td>5th</td>\n",
       "      <td>Tatra10</td>\n",
       "      <td>Leopard 2A6M</td>\n",
       "      <td>Harbin Z-9</td>\n",
       "      <td>NaN</td>\n",
       "    </tr>\n",
       "    <tr>\n",
       "      <th>4</th>\n",
       "      <td>45th</td>\n",
       "      <td>RT3121</td>\n",
       "      <td>Arjun MBT</td>\n",
       "      <td>Harbin Z-9</td>\n",
       "      <td>NaN</td>\n",
       "    </tr>\n",
       "    <tr>\n",
       "      <th>5</th>\n",
       "      <td>3rd</td>\n",
       "      <td>Tatra10</td>\n",
       "      <td>Arjun MBT</td>\n",
       "      <td>Harbin Z-9</td>\n",
       "      <td>NaN</td>\n",
       "    </tr>\n",
       "    <tr>\n",
       "      <th>6</th>\n",
       "      <td>20th</td>\n",
       "      <td>WE2323</td>\n",
       "      <td>Merkava Mark 4</td>\n",
       "      <td>SH-60B Seahawk</td>\n",
       "      <td>NaN</td>\n",
       "    </tr>\n",
       "    <tr>\n",
       "      <th>7</th>\n",
       "      <td>198th</td>\n",
       "      <td>Tatra10</td>\n",
       "      <td>Arjun MBT</td>\n",
       "      <td>SH-60B Seahawk</td>\n",
       "      <td>NaN</td>\n",
       "    </tr>\n",
       "    <tr>\n",
       "      <th>8</th>\n",
       "      <td>30th</td>\n",
       "      <td>Tatra10</td>\n",
       "      <td>Leopard 2A6M</td>\n",
       "      <td>SH-60B Seahawk</td>\n",
       "      <td>NaN</td>\n",
       "    </tr>\n",
       "    <tr>\n",
       "      <th>9</th>\n",
       "      <td>1st</td>\n",
       "      <td>WE2323</td>\n",
       "      <td>Arjun MBT</td>\n",
       "      <td>SH-60B Seahawk</td>\n",
       "      <td>NaN</td>\n",
       "    </tr>\n",
       "    <tr>\n",
       "      <th>10</th>\n",
       "      <td>4th</td>\n",
       "      <td>WE2323</td>\n",
       "      <td>Leopard 2A6M</td>\n",
       "      <td>SH-60B Seahawk</td>\n",
       "      <td>NaN</td>\n",
       "    </tr>\n",
       "    <tr>\n",
       "      <th>11</th>\n",
       "      <td>22nd</td>\n",
       "      <td>Tatra10</td>\n",
       "      <td>Arjun MBT</td>\n",
       "      <td>SH-60B Seahawk</td>\n",
       "      <td>NaN</td>\n",
       "    </tr>\n",
       "  </tbody>\n",
       "</table>\n",
       "</div>"
      ],
      "text/plain": [
       "   regiment   trucks           tanks        aircraft  location\n",
       "0      51st   MA7160  Merkava Mark 4             NaN       NaN\n",
       "1      29th      NaN  Merkava Mark 4            none       NaN\n",
       "2       2nd   BA3211  Merkava Mark 4            none       NaN\n",
       "3       5th  Tatra10    Leopard 2A6M      Harbin Z-9       NaN\n",
       "4      45th   RT3121       Arjun MBT      Harbin Z-9       NaN\n",
       "5       3rd  Tatra10       Arjun MBT      Harbin Z-9       NaN\n",
       "6      20th   WE2323  Merkava Mark 4  SH-60B Seahawk       NaN\n",
       "7     198th  Tatra10       Arjun MBT  SH-60B Seahawk       NaN\n",
       "8      30th  Tatra10    Leopard 2A6M  SH-60B Seahawk       NaN\n",
       "9       1st   WE2323       Arjun MBT  SH-60B Seahawk       NaN\n",
       "10      4th   WE2323    Leopard 2A6M  SH-60B Seahawk       NaN\n",
       "11     22nd  Tatra10       Arjun MBT  SH-60B Seahawk       NaN"
      ]
     },
     "execution_count": 2,
     "metadata": {},
     "output_type": "execute_result"
    }
   ],
   "source": [
    "df['location'] = np.nan        #Create a new column with all NaN values\n",
    "df"
   ]
  },
  {
   "cell_type": "code",
   "execution_count": 3,
   "metadata": {},
   "outputs": [
    {
     "data": {
      "text/html": [
       "<div>\n",
       "<style scoped>\n",
       "    .dataframe tbody tr th:only-of-type {\n",
       "        vertical-align: middle;\n",
       "    }\n",
       "\n",
       "    .dataframe tbody tr th {\n",
       "        vertical-align: top;\n",
       "    }\n",
       "\n",
       "    .dataframe thead th {\n",
       "        text-align: right;\n",
       "    }\n",
       "</style>\n",
       "<table border=\"1\" class=\"dataframe\">\n",
       "  <thead>\n",
       "    <tr style=\"text-align: right;\">\n",
       "      <th></th>\n",
       "      <th>regiment</th>\n",
       "      <th>trucks</th>\n",
       "      <th>tanks</th>\n",
       "      <th>aircraft</th>\n",
       "    </tr>\n",
       "  </thead>\n",
       "  <tbody>\n",
       "    <tr>\n",
       "      <th>0</th>\n",
       "      <td>51st</td>\n",
       "      <td>MA7160</td>\n",
       "      <td>Merkava Mark 4</td>\n",
       "      <td>NaN</td>\n",
       "    </tr>\n",
       "    <tr>\n",
       "      <th>1</th>\n",
       "      <td>29th</td>\n",
       "      <td>NaN</td>\n",
       "      <td>Merkava Mark 4</td>\n",
       "      <td>none</td>\n",
       "    </tr>\n",
       "    <tr>\n",
       "      <th>2</th>\n",
       "      <td>2nd</td>\n",
       "      <td>BA3211</td>\n",
       "      <td>Merkava Mark 4</td>\n",
       "      <td>none</td>\n",
       "    </tr>\n",
       "    <tr>\n",
       "      <th>3</th>\n",
       "      <td>5th</td>\n",
       "      <td>Tatra10</td>\n",
       "      <td>Leopard 2A6M</td>\n",
       "      <td>Harbin Z-9</td>\n",
       "    </tr>\n",
       "    <tr>\n",
       "      <th>4</th>\n",
       "      <td>45th</td>\n",
       "      <td>RT3121</td>\n",
       "      <td>Arjun MBT</td>\n",
       "      <td>Harbin Z-9</td>\n",
       "    </tr>\n",
       "    <tr>\n",
       "      <th>5</th>\n",
       "      <td>3rd</td>\n",
       "      <td>Tatra10</td>\n",
       "      <td>Arjun MBT</td>\n",
       "      <td>Harbin Z-9</td>\n",
       "    </tr>\n",
       "    <tr>\n",
       "      <th>6</th>\n",
       "      <td>20th</td>\n",
       "      <td>WE2323</td>\n",
       "      <td>Merkava Mark 4</td>\n",
       "      <td>SH-60B Seahawk</td>\n",
       "    </tr>\n",
       "    <tr>\n",
       "      <th>7</th>\n",
       "      <td>198th</td>\n",
       "      <td>Tatra10</td>\n",
       "      <td>Arjun MBT</td>\n",
       "      <td>SH-60B Seahawk</td>\n",
       "    </tr>\n",
       "    <tr>\n",
       "      <th>8</th>\n",
       "      <td>30th</td>\n",
       "      <td>Tatra10</td>\n",
       "      <td>Leopard 2A6M</td>\n",
       "      <td>SH-60B Seahawk</td>\n",
       "    </tr>\n",
       "    <tr>\n",
       "      <th>9</th>\n",
       "      <td>1st</td>\n",
       "      <td>WE2323</td>\n",
       "      <td>Arjun MBT</td>\n",
       "      <td>SH-60B Seahawk</td>\n",
       "    </tr>\n",
       "    <tr>\n",
       "      <th>10</th>\n",
       "      <td>4th</td>\n",
       "      <td>WE2323</td>\n",
       "      <td>Leopard 2A6M</td>\n",
       "      <td>SH-60B Seahawk</td>\n",
       "    </tr>\n",
       "    <tr>\n",
       "      <th>11</th>\n",
       "      <td>22nd</td>\n",
       "      <td>Tatra10</td>\n",
       "      <td>Arjun MBT</td>\n",
       "      <td>SH-60B Seahawk</td>\n",
       "    </tr>\n",
       "  </tbody>\n",
       "</table>\n",
       "</div>"
      ],
      "text/plain": [
       "   regiment   trucks           tanks        aircraft\n",
       "0      51st   MA7160  Merkava Mark 4             NaN\n",
       "1      29th      NaN  Merkava Mark 4            none\n",
       "2       2nd   BA3211  Merkava Mark 4            none\n",
       "3       5th  Tatra10    Leopard 2A6M      Harbin Z-9\n",
       "4      45th   RT3121       Arjun MBT      Harbin Z-9\n",
       "5       3rd  Tatra10       Arjun MBT      Harbin Z-9\n",
       "6      20th   WE2323  Merkava Mark 4  SH-60B Seahawk\n",
       "7     198th  Tatra10       Arjun MBT  SH-60B Seahawk\n",
       "8      30th  Tatra10    Leopard 2A6M  SH-60B Seahawk\n",
       "9       1st   WE2323       Arjun MBT  SH-60B Seahawk\n",
       "10      4th   WE2323    Leopard 2A6M  SH-60B Seahawk\n",
       "11     22nd  Tatra10       Arjun MBT  SH-60B Seahawk"
      ]
     },
     "execution_count": 3,
     "metadata": {},
     "output_type": "execute_result"
    }
   ],
   "source": [
    "df = df.dropna(axis=1, how='all')  #Drop the column having NaN values\n",
    "df"
   ]
  },
  {
   "cell_type": "markdown",
   "metadata": {
    "id": "owHVKK3x8pnf"
   },
   "source": [
    "To drop the rows that have less than 5 observations, use the ‘thresh’ attribute. "
   ]
  },
  {
   "cell_type": "code",
   "execution_count": 4,
   "metadata": {
    "colab": {
     "base_uri": "https://localhost:8080/",
     "height": 426
    },
    "id": "AAa47578NM1u",
    "outputId": "96ac39f1-17ed-42f9-f469-87cf07ef132c"
   },
   "outputs": [
    {
     "data": {
      "text/html": [
       "<div>\n",
       "<style scoped>\n",
       "    .dataframe tbody tr th:only-of-type {\n",
       "        vertical-align: middle;\n",
       "    }\n",
       "\n",
       "    .dataframe tbody tr th {\n",
       "        vertical-align: top;\n",
       "    }\n",
       "\n",
       "    .dataframe thead th {\n",
       "        text-align: right;\n",
       "    }\n",
       "</style>\n",
       "<table border=\"1\" class=\"dataframe\">\n",
       "  <thead>\n",
       "    <tr style=\"text-align: right;\">\n",
       "      <th></th>\n",
       "      <th>regiment</th>\n",
       "      <th>trucks</th>\n",
       "      <th>tanks</th>\n",
       "      <th>aircraft</th>\n",
       "    </tr>\n",
       "  </thead>\n",
       "  <tbody>\n",
       "    <tr>\n",
       "      <th>0</th>\n",
       "      <td>51st</td>\n",
       "      <td>MA7160</td>\n",
       "      <td>Merkava Mark 4</td>\n",
       "      <td>NaN</td>\n",
       "    </tr>\n",
       "    <tr>\n",
       "      <th>1</th>\n",
       "      <td>29th</td>\n",
       "      <td>NaN</td>\n",
       "      <td>Merkava Mark 4</td>\n",
       "      <td>none</td>\n",
       "    </tr>\n",
       "    <tr>\n",
       "      <th>2</th>\n",
       "      <td>2nd</td>\n",
       "      <td>BA3211</td>\n",
       "      <td>Merkava Mark 4</td>\n",
       "      <td>none</td>\n",
       "    </tr>\n",
       "    <tr>\n",
       "      <th>3</th>\n",
       "      <td>5th</td>\n",
       "      <td>Tatra10</td>\n",
       "      <td>Leopard 2A6M</td>\n",
       "      <td>Harbin Z-9</td>\n",
       "    </tr>\n",
       "    <tr>\n",
       "      <th>4</th>\n",
       "      <td>45th</td>\n",
       "      <td>RT3121</td>\n",
       "      <td>Arjun MBT</td>\n",
       "      <td>Harbin Z-9</td>\n",
       "    </tr>\n",
       "    <tr>\n",
       "      <th>5</th>\n",
       "      <td>3rd</td>\n",
       "      <td>Tatra10</td>\n",
       "      <td>Arjun MBT</td>\n",
       "      <td>Harbin Z-9</td>\n",
       "    </tr>\n",
       "    <tr>\n",
       "      <th>6</th>\n",
       "      <td>20th</td>\n",
       "      <td>WE2323</td>\n",
       "      <td>Merkava Mark 4</td>\n",
       "      <td>SH-60B Seahawk</td>\n",
       "    </tr>\n",
       "    <tr>\n",
       "      <th>7</th>\n",
       "      <td>198th</td>\n",
       "      <td>Tatra10</td>\n",
       "      <td>Arjun MBT</td>\n",
       "      <td>SH-60B Seahawk</td>\n",
       "    </tr>\n",
       "    <tr>\n",
       "      <th>8</th>\n",
       "      <td>30th</td>\n",
       "      <td>Tatra10</td>\n",
       "      <td>Leopard 2A6M</td>\n",
       "      <td>SH-60B Seahawk</td>\n",
       "    </tr>\n",
       "    <tr>\n",
       "      <th>9</th>\n",
       "      <td>1st</td>\n",
       "      <td>WE2323</td>\n",
       "      <td>Arjun MBT</td>\n",
       "      <td>SH-60B Seahawk</td>\n",
       "    </tr>\n",
       "    <tr>\n",
       "      <th>10</th>\n",
       "      <td>4th</td>\n",
       "      <td>WE2323</td>\n",
       "      <td>Leopard 2A6M</td>\n",
       "      <td>SH-60B Seahawk</td>\n",
       "    </tr>\n",
       "    <tr>\n",
       "      <th>11</th>\n",
       "      <td>22nd</td>\n",
       "      <td>Tatra10</td>\n",
       "      <td>Arjun MBT</td>\n",
       "      <td>SH-60B Seahawk</td>\n",
       "    </tr>\n",
       "  </tbody>\n",
       "</table>\n",
       "</div>"
      ],
      "text/plain": [
       "   regiment   trucks           tanks        aircraft\n",
       "0      51st   MA7160  Merkava Mark 4             NaN\n",
       "1      29th      NaN  Merkava Mark 4            none\n",
       "2       2nd   BA3211  Merkava Mark 4            none\n",
       "3       5th  Tatra10    Leopard 2A6M      Harbin Z-9\n",
       "4      45th   RT3121       Arjun MBT      Harbin Z-9\n",
       "5       3rd  Tatra10       Arjun MBT      Harbin Z-9\n",
       "6      20th   WE2323  Merkava Mark 4  SH-60B Seahawk\n",
       "7     198th  Tatra10       Arjun MBT  SH-60B Seahawk\n",
       "8      30th  Tatra10    Leopard 2A6M  SH-60B Seahawk\n",
       "9       1st   WE2323       Arjun MBT  SH-60B Seahawk\n",
       "10      4th   WE2323    Leopard 2A6M  SH-60B Seahawk\n",
       "11     22nd  Tatra10       Arjun MBT  SH-60B Seahawk"
      ]
     },
     "execution_count": 4,
     "metadata": {},
     "output_type": "execute_result"
    }
   ],
   "source": [
    "#Drop the rows that contain less than 5 observations\n",
    "df.dropna(thresh=5)\n",
    "df"
   ]
  },
  {
   "cell_type": "markdown",
   "metadata": {
    "id": "JQQYOX-u83vZ"
   },
   "source": [
    "The fillna() function will fill all the NA values with a particular value."
   ]
  },
  {
   "cell_type": "code",
   "execution_count": 5,
   "metadata": {
    "colab": {
     "base_uri": "https://localhost:8080/",
     "height": 426
    },
    "id": "4U8523ubRFnX",
    "outputId": "f4e40133-950d-43bb-84c7-d8bfc38060c3"
   },
   "outputs": [
    {
     "data": {
      "text/html": [
       "<div>\n",
       "<style scoped>\n",
       "    .dataframe tbody tr th:only-of-type {\n",
       "        vertical-align: middle;\n",
       "    }\n",
       "\n",
       "    .dataframe tbody tr th {\n",
       "        vertical-align: top;\n",
       "    }\n",
       "\n",
       "    .dataframe thead th {\n",
       "        text-align: right;\n",
       "    }\n",
       "</style>\n",
       "<table border=\"1\" class=\"dataframe\">\n",
       "  <thead>\n",
       "    <tr style=\"text-align: right;\">\n",
       "      <th></th>\n",
       "      <th>regiment</th>\n",
       "      <th>trucks</th>\n",
       "      <th>tanks</th>\n",
       "      <th>aircraft</th>\n",
       "    </tr>\n",
       "  </thead>\n",
       "  <tbody>\n",
       "    <tr>\n",
       "      <th>0</th>\n",
       "      <td>51st</td>\n",
       "      <td>MA7160</td>\n",
       "      <td>Merkava Mark 4</td>\n",
       "      <td>0</td>\n",
       "    </tr>\n",
       "    <tr>\n",
       "      <th>1</th>\n",
       "      <td>29th</td>\n",
       "      <td>0</td>\n",
       "      <td>Merkava Mark 4</td>\n",
       "      <td>none</td>\n",
       "    </tr>\n",
       "    <tr>\n",
       "      <th>2</th>\n",
       "      <td>2nd</td>\n",
       "      <td>BA3211</td>\n",
       "      <td>Merkava Mark 4</td>\n",
       "      <td>none</td>\n",
       "    </tr>\n",
       "    <tr>\n",
       "      <th>3</th>\n",
       "      <td>5th</td>\n",
       "      <td>Tatra10</td>\n",
       "      <td>Leopard 2A6M</td>\n",
       "      <td>Harbin Z-9</td>\n",
       "    </tr>\n",
       "    <tr>\n",
       "      <th>4</th>\n",
       "      <td>45th</td>\n",
       "      <td>RT3121</td>\n",
       "      <td>Arjun MBT</td>\n",
       "      <td>Harbin Z-9</td>\n",
       "    </tr>\n",
       "    <tr>\n",
       "      <th>5</th>\n",
       "      <td>3rd</td>\n",
       "      <td>Tatra10</td>\n",
       "      <td>Arjun MBT</td>\n",
       "      <td>Harbin Z-9</td>\n",
       "    </tr>\n",
       "    <tr>\n",
       "      <th>6</th>\n",
       "      <td>20th</td>\n",
       "      <td>WE2323</td>\n",
       "      <td>Merkava Mark 4</td>\n",
       "      <td>SH-60B Seahawk</td>\n",
       "    </tr>\n",
       "    <tr>\n",
       "      <th>7</th>\n",
       "      <td>198th</td>\n",
       "      <td>Tatra10</td>\n",
       "      <td>Arjun MBT</td>\n",
       "      <td>SH-60B Seahawk</td>\n",
       "    </tr>\n",
       "    <tr>\n",
       "      <th>8</th>\n",
       "      <td>30th</td>\n",
       "      <td>Tatra10</td>\n",
       "      <td>Leopard 2A6M</td>\n",
       "      <td>SH-60B Seahawk</td>\n",
       "    </tr>\n",
       "    <tr>\n",
       "      <th>9</th>\n",
       "      <td>1st</td>\n",
       "      <td>WE2323</td>\n",
       "      <td>Arjun MBT</td>\n",
       "      <td>SH-60B Seahawk</td>\n",
       "    </tr>\n",
       "    <tr>\n",
       "      <th>10</th>\n",
       "      <td>4th</td>\n",
       "      <td>WE2323</td>\n",
       "      <td>Leopard 2A6M</td>\n",
       "      <td>SH-60B Seahawk</td>\n",
       "    </tr>\n",
       "    <tr>\n",
       "      <th>11</th>\n",
       "      <td>22nd</td>\n",
       "      <td>Tatra10</td>\n",
       "      <td>Arjun MBT</td>\n",
       "      <td>SH-60B Seahawk</td>\n",
       "    </tr>\n",
       "  </tbody>\n",
       "</table>\n",
       "</div>"
      ],
      "text/plain": [
       "   regiment   trucks           tanks        aircraft\n",
       "0      51st   MA7160  Merkava Mark 4               0\n",
       "1      29th        0  Merkava Mark 4            none\n",
       "2       2nd   BA3211  Merkava Mark 4            none\n",
       "3       5th  Tatra10    Leopard 2A6M      Harbin Z-9\n",
       "4      45th   RT3121       Arjun MBT      Harbin Z-9\n",
       "5       3rd  Tatra10       Arjun MBT      Harbin Z-9\n",
       "6      20th   WE2323  Merkava Mark 4  SH-60B Seahawk\n",
       "7     198th  Tatra10       Arjun MBT  SH-60B Seahawk\n",
       "8      30th  Tatra10    Leopard 2A6M  SH-60B Seahawk\n",
       "9       1st   WE2323       Arjun MBT  SH-60B Seahawk\n",
       "10      4th   WE2323    Leopard 2A6M  SH-60B Seahawk\n",
       "11     22nd  Tatra10       Arjun MBT  SH-60B Seahawk"
      ]
     },
     "execution_count": 5,
     "metadata": {},
     "output_type": "execute_result"
    }
   ],
   "source": [
    "#To replace NaN with any other num/char \n",
    "df.fillna(0)"
   ]
  },
  {
   "cell_type": "markdown",
   "metadata": {
    "id": "UKkmyZWyGgCy"
   },
   "source": [
    "## Finding Unique Values and Deleting Duplicates</font>\n",
    "***"
   ]
  },
  {
   "cell_type": "markdown",
   "metadata": {
    "id": "FQwp_qNO87dU"
   },
   "source": [
    "Here we find all the unique values and delete duplicates. Removing duplicates will improve the efficiency of the model and speed up the analysis process. "
   ]
  },
  {
   "cell_type": "code",
   "execution_count": 6,
   "metadata": {
    "colab": {
     "base_uri": "https://localhost:8080/"
    },
    "id": "d-R9JusTGj1L",
    "outputId": "5c6281ad-efc0-40c0-8f53-b54d6b2a8c25"
   },
   "outputs": [
    {
     "name": "stdout",
     "output_type": "stream",
     "text": [
      "['MA7160', nan, 'WE2323', 'BA3211', 'Tatra10', 'RT3121']\n",
      "['MA7160', nan, 'BA3211', 'Tatra10', 'RT3121', 'WE2323']\n"
     ]
    }
   ],
   "source": [
    "import pandas as pd\n",
    "import numpy as np\n",
    "data1 = {'regiment': ['51st','29th', '2nd', '5th', '45th', '3rd', '20th', '198th', '30th', '1st', '4th', '22nd'],\n",
    "         'trucks': ['MA7160', np.nan, 'BA3211', 'Tatra10', 'RT3121', 'Tatra10', 'WE2323','Tatra10', 'Tatra10', 'WE2323', 'WE2323', 'Tatra10'],\n",
    "         'tanks': ['Merkava Mark 4', 'Merkava Mark 4', 'Merkava Mark 4', 'Leopard 2A6M', 'Arjun MBT', 'Arjun MBT', 'Merkava Mark 4', 'Arjun MBT', 'Leopard 2A6M', 'Arjun MBT', 'Leopard 2A6M', 'Arjun MBT'],\n",
    "         'aircraft':['none', 'none', 'none','Harbin Z-9', 'Harbin Z-9', 'Harbin Z-9', 'SH-60B Seahawk', 'SH-60B Seahawk', 'SH-60B Seahawk', 'SH-60B Seahawk','SH-60B Seahawk','SH-60B Seahawk' ]\n",
    "         }\n",
    "\n",
    "df = pd.DataFrame(data1)\n",
    "\n",
    "#Find unique values by turnign column into a list\n",
    "print(list(set(df.trucks)))                 #Method 1\n",
    "\n",
    "print(list(df['trucks'].unique()))          #Method 2"
   ]
  },
  {
   "cell_type": "markdown",
   "metadata": {
    "id": "ho49T1sg9MUV"
   },
   "source": [
    "To find observations containing duplicated data follow: "
   ]
  },
  {
   "cell_type": "code",
   "execution_count": 7,
   "metadata": {
    "colab": {
     "base_uri": "https://localhost:8080/"
    },
    "id": "NkU8OiVnJj2d",
    "outputId": "2fc605e9-821b-418c-cc19-066752377ad7"
   },
   "outputs": [
    {
     "name": "stdout",
     "output_type": "stream",
     "text": [
      "0     False\n",
      "1      True\n",
      "2      True\n",
      "3      True\n",
      "4     False\n",
      "5     False\n",
      "6     False\n",
      "7     False\n",
      "8     False\n",
      "9     False\n",
      "10    False\n",
      "11    False\n",
      "dtype: bool\n"
     ]
    }
   ],
   "source": [
    "#Deleting duplicates in Pandas\n",
    "import pandas as pd\n",
    "\n",
    "data1 = {'regiment': ['51st','51st', '51st','51st','29th', '2nd', '5th', '45th', '3rd', '20th', '198th', '30th'],\n",
    "         'trucks': ['MA7160', 'MA7160', 'MA7160', 'MA7160',np.nan, 'BA3211', 'Tatra10', 'RT3121', 'Tatra10', 'WE2323','Tatra10', 'Tatra10'],\n",
    "         'tanks': ['Merkava Mark 4', 'Merkava Mark 4', 'Merkava Mark 4', 'Merkava Mark 4', 'Merkava Mark 4', 'Merkava Mark 4', 'Leopard 2A6M', 'Arjun MBT', 'Arjun MBT', 'Merkava Mark 4', 'Arjun MBT', 'Leopard 2A6M'],\n",
    "         'aircraft':['none', 'none', 'none', 'none', 'Harbin Z-9', 'none','Harbin Z-9', 'Harbin Z-9', 'Harbin Z-9', 'SH-60B Seahawk', 'SH-60B Seahawk', 'SH-60B Seahawk']\n",
    "         }\n",
    "\n",
    "df = pd.DataFrame(data1)\n",
    "\n",
    "print(df.duplicated())     #Finds which row have duplicatees\n"
   ]
  },
  {
   "cell_type": "markdown",
   "metadata": {
    "id": "5lY1O8IV_Zks"
   },
   "source": [
    "To remove the duplicates, we use duplicates ()"
   ]
  },
  {
   "cell_type": "code",
   "execution_count": 8,
   "metadata": {
    "colab": {
     "base_uri": "https://localhost:8080/",
     "height": 332
    },
    "id": "IcbhiBHQK8ls",
    "outputId": "2f8fd6e8-f19b-406e-c9f9-0f8c427e3a12"
   },
   "outputs": [
    {
     "data": {
      "text/html": [
       "<div>\n",
       "<style scoped>\n",
       "    .dataframe tbody tr th:only-of-type {\n",
       "        vertical-align: middle;\n",
       "    }\n",
       "\n",
       "    .dataframe tbody tr th {\n",
       "        vertical-align: top;\n",
       "    }\n",
       "\n",
       "    .dataframe thead th {\n",
       "        text-align: right;\n",
       "    }\n",
       "</style>\n",
       "<table border=\"1\" class=\"dataframe\">\n",
       "  <thead>\n",
       "    <tr style=\"text-align: right;\">\n",
       "      <th></th>\n",
       "      <th>regiment</th>\n",
       "      <th>trucks</th>\n",
       "      <th>tanks</th>\n",
       "      <th>aircraft</th>\n",
       "    </tr>\n",
       "  </thead>\n",
       "  <tbody>\n",
       "    <tr>\n",
       "      <th>0</th>\n",
       "      <td>51st</td>\n",
       "      <td>MA7160</td>\n",
       "      <td>Merkava Mark 4</td>\n",
       "      <td>none</td>\n",
       "    </tr>\n",
       "    <tr>\n",
       "      <th>4</th>\n",
       "      <td>29th</td>\n",
       "      <td>NaN</td>\n",
       "      <td>Merkava Mark 4</td>\n",
       "      <td>Harbin Z-9</td>\n",
       "    </tr>\n",
       "    <tr>\n",
       "      <th>5</th>\n",
       "      <td>2nd</td>\n",
       "      <td>BA3211</td>\n",
       "      <td>Merkava Mark 4</td>\n",
       "      <td>none</td>\n",
       "    </tr>\n",
       "    <tr>\n",
       "      <th>6</th>\n",
       "      <td>5th</td>\n",
       "      <td>Tatra10</td>\n",
       "      <td>Leopard 2A6M</td>\n",
       "      <td>Harbin Z-9</td>\n",
       "    </tr>\n",
       "    <tr>\n",
       "      <th>7</th>\n",
       "      <td>45th</td>\n",
       "      <td>RT3121</td>\n",
       "      <td>Arjun MBT</td>\n",
       "      <td>Harbin Z-9</td>\n",
       "    </tr>\n",
       "    <tr>\n",
       "      <th>8</th>\n",
       "      <td>3rd</td>\n",
       "      <td>Tatra10</td>\n",
       "      <td>Arjun MBT</td>\n",
       "      <td>Harbin Z-9</td>\n",
       "    </tr>\n",
       "    <tr>\n",
       "      <th>9</th>\n",
       "      <td>20th</td>\n",
       "      <td>WE2323</td>\n",
       "      <td>Merkava Mark 4</td>\n",
       "      <td>SH-60B Seahawk</td>\n",
       "    </tr>\n",
       "    <tr>\n",
       "      <th>10</th>\n",
       "      <td>198th</td>\n",
       "      <td>Tatra10</td>\n",
       "      <td>Arjun MBT</td>\n",
       "      <td>SH-60B Seahawk</td>\n",
       "    </tr>\n",
       "    <tr>\n",
       "      <th>11</th>\n",
       "      <td>30th</td>\n",
       "      <td>Tatra10</td>\n",
       "      <td>Leopard 2A6M</td>\n",
       "      <td>SH-60B Seahawk</td>\n",
       "    </tr>\n",
       "  </tbody>\n",
       "</table>\n",
       "</div>"
      ],
      "text/plain": [
       "   regiment   trucks           tanks        aircraft\n",
       "0      51st   MA7160  Merkava Mark 4            none\n",
       "4      29th      NaN  Merkava Mark 4      Harbin Z-9\n",
       "5       2nd   BA3211  Merkava Mark 4            none\n",
       "6       5th  Tatra10    Leopard 2A6M      Harbin Z-9\n",
       "7      45th   RT3121       Arjun MBT      Harbin Z-9\n",
       "8       3rd  Tatra10       Arjun MBT      Harbin Z-9\n",
       "9      20th   WE2323  Merkava Mark 4  SH-60B Seahawk\n",
       "10    198th  Tatra10       Arjun MBT  SH-60B Seahawk\n",
       "11     30th  Tatra10    Leopard 2A6M  SH-60B Seahawk"
      ]
     },
     "execution_count": 8,
     "metadata": {},
     "output_type": "execute_result"
    }
   ],
   "source": [
    "df.drop_duplicates()"
   ]
  },
  {
   "cell_type": "markdown",
   "metadata": {
    "id": "GKGqZc8fGkL5"
   },
   "source": [
    "<br><br><br><br><br><br><br><br><br>\n",
    "## Analysing Outliers\n",
    "***"
   ]
  },
  {
   "cell_type": "markdown",
   "metadata": {
    "id": "9TkPbMt8_uST"
   },
   "source": [
    " An outlier is a data point in a data set that is distant from all other observations. A data point that lies outside the overall distribution of the dataset. \n",
    "\n",
    "Criteria to identify outliers: \n",
    "\n",
    "*   Data point that falls outside of 1.5 times of an interquartile range above the 3rd quartile and below the 1st quartile.\n",
    "\n",
    "*   Data point that falls outside of 3 standard deviations. we can use a z score and if the z score falls outside of 2 standard deviations \n",
    "\n",
    "We have a data stating heights of certain individuals and we try to detect outliers. "
   ]
  },
  {
   "cell_type": "code",
   "execution_count": 9,
   "metadata": {
    "colab": {
     "base_uri": "https://localhost:8080/",
     "height": 489
    },
    "id": "-_YUPmtuRAJL",
    "outputId": "0101d4fc-2c94-46d7-bebc-53b1dc0ba796"
   },
   "outputs": [
    {
     "data": {
      "text/html": [
       "<div>\n",
       "<style scoped>\n",
       "    .dataframe tbody tr th:only-of-type {\n",
       "        vertical-align: middle;\n",
       "    }\n",
       "\n",
       "    .dataframe tbody tr th {\n",
       "        vertical-align: top;\n",
       "    }\n",
       "\n",
       "    .dataframe thead th {\n",
       "        text-align: right;\n",
       "    }\n",
       "</style>\n",
       "<table border=\"1\" class=\"dataframe\">\n",
       "  <thead>\n",
       "    <tr style=\"text-align: right;\">\n",
       "      <th></th>\n",
       "      <th>name</th>\n",
       "      <th>height</th>\n",
       "    </tr>\n",
       "  </thead>\n",
       "  <tbody>\n",
       "    <tr>\n",
       "      <th>0</th>\n",
       "      <td>Adit</td>\n",
       "      <td>5.9</td>\n",
       "    </tr>\n",
       "    <tr>\n",
       "      <th>1</th>\n",
       "      <td>Gia</td>\n",
       "      <td>5.2</td>\n",
       "    </tr>\n",
       "    <tr>\n",
       "      <th>2</th>\n",
       "      <td>Tim</td>\n",
       "      <td>5.1</td>\n",
       "    </tr>\n",
       "    <tr>\n",
       "      <th>3</th>\n",
       "      <td>Mark</td>\n",
       "      <td>5.5</td>\n",
       "    </tr>\n",
       "    <tr>\n",
       "      <th>4</th>\n",
       "      <td>Nur</td>\n",
       "      <td>4.9</td>\n",
       "    </tr>\n",
       "    <tr>\n",
       "      <th>5</th>\n",
       "      <td>Adil</td>\n",
       "      <td>5.4</td>\n",
       "    </tr>\n",
       "    <tr>\n",
       "      <th>6</th>\n",
       "      <td>Kia</td>\n",
       "      <td>6.2</td>\n",
       "    </tr>\n",
       "    <tr>\n",
       "      <th>7</th>\n",
       "      <td>Indar</td>\n",
       "      <td>6.5</td>\n",
       "    </tr>\n",
       "    <tr>\n",
       "      <th>8</th>\n",
       "      <td>Tia</td>\n",
       "      <td>7.1</td>\n",
       "    </tr>\n",
       "    <tr>\n",
       "      <th>9</th>\n",
       "      <td>Jack</td>\n",
       "      <td>14.5</td>\n",
       "    </tr>\n",
       "    <tr>\n",
       "      <th>10</th>\n",
       "      <td>Adele</td>\n",
       "      <td>6.1</td>\n",
       "    </tr>\n",
       "    <tr>\n",
       "      <th>11</th>\n",
       "      <td>Niall</td>\n",
       "      <td>5.6</td>\n",
       "    </tr>\n",
       "    <tr>\n",
       "      <th>12</th>\n",
       "      <td>Harry</td>\n",
       "      <td>1.2</td>\n",
       "    </tr>\n",
       "    <tr>\n",
       "      <th>13</th>\n",
       "      <td>Tom</td>\n",
       "      <td>5.5</td>\n",
       "    </tr>\n",
       "  </tbody>\n",
       "</table>\n",
       "</div>"
      ],
      "text/plain": [
       "     name  height\n",
       "0    Adit     5.9\n",
       "1     Gia     5.2\n",
       "2     Tim     5.1\n",
       "3    Mark     5.5\n",
       "4     Nur     4.9\n",
       "5    Adil     5.4\n",
       "6     Kia     6.2\n",
       "7   Indar     6.5\n",
       "8     Tia     7.1\n",
       "9    Jack    14.5\n",
       "10  Adele     6.1\n",
       "11  Niall     5.6\n",
       "12  Harry     1.2\n",
       "13    Tom     5.5"
      ]
     },
     "execution_count": 9,
     "metadata": {},
     "output_type": "execute_result"
    }
   ],
   "source": [
    "height_data = {'name':['Adit', 'Gia', 'Tim', 'Mark', 'Nur', 'Adil', 'Kia', 'Indar', 'Tia', 'Jack', 'Adele', 'Niall', 'Harry', 'Tom'],\n",
    "               'height': [5.9, 5.2, 5.1, 5.5, 4.9, 5.4, 6.2, 6.5, 7.1, 14.5, 6.1, 5.6, 1.2, 5.5]}\n",
    "df = pd.DataFrame(height_data)\n",
    "df"
   ]
  },
  {
   "cell_type": "markdown",
   "metadata": {
    "id": "IKyB33g-jCVI"
   },
   "source": [
    "Taking the concept of median a step further, we can define the Inter - Quartile Range.\n",
    "\n",
    "IQR is a measure of variability and is based on dividing a data set into quartiles.\n",
    "\n",
    "Quartile is the division of a set of observations into four intervals based on the values of the data.\n"
   ]
  },
  {
   "cell_type": "markdown",
   "metadata": {
    "id": "JFKUnSUpjKzh"
   },
   "source": [
    "![image.png](data:image/png;base64,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)"
   ]
  },
  {
   "cell_type": "markdown",
   "metadata": {
    "id": "qkt_dLtIjPyH"
   },
   "source": [
    "###Interquartile Range\n",
    "\n",
    "Basically from the image above: Quartiles divide a rank-ordered data set into four equal parts. The values that divide each part are called the first, second, and third quartiles where\n",
    "\n",
    "Q1 is the \"middle\" value in the first half of the rank-ordered data set. Also called lower-quartile\n",
    "\n",
    "Q2 is the median value in the set.\n",
    "\n",
    "Q3 is the \"middle\" value in the second half of the rank-ordered data set. Also called upper-quartile\n",
    "\n",
    "The Inter-Quartile Range is the difference between the upper and lower quartiles:\n",
    "      \n",
    "Interquartile Range, \n",
    "\n",
    "**IQR = Q3 - Q1 (it is the central 50% of data)**\n",
    "\n",
    "Where:\n",
    "\n",
    "Q1 = Median of First half of observations arranged in Ascending Order\n",
    "\n",
    "Q3 = Median of 2nd Half of observations arranged in Ascending Order\n"
   ]
  },
  {
   "cell_type": "markdown",
   "metadata": {
    "id": "Z69fQta2mC_E"
   },
   "source": [
    "<br><br><br>"
   ]
  },
  {
   "cell_type": "markdown",
   "metadata": {
    "id": "HGglrbW5loz2"
   },
   "source": [
    "<br><br><br><br><br><br><br><br><br>\n",
    "### InterQuartile Range a Box Plot View\n",
    "***\n",
    "The figure below is known as a Boxplot or Box & Whisker Diagram and depending on our data, it also looks like this:\n",
    "\n",
    "![image.png](data:image/png;base64,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)"
   ]
  },
  {
   "cell_type": "markdown",
   "metadata": {
    "id": "Z-Mj9vhvl48v"
   },
   "source": [
    "The Boxplot above shows some additional observations below MINIMUM and above MAXIMUM. These are Outliers.\n",
    "\n",
    "There are many ways to mathematically represent or define outliers. One such method is using IQR.\n"
   ]
  },
  {
   "cell_type": "markdown",
   "metadata": {
    "id": "9SioJhD5Dwu2"
   },
   "source": [
    "Now we find the upper bound and the lower bound using quantile()."
   ]
  },
  {
   "cell_type": "code",
   "execution_count": 10,
   "metadata": {
    "colab": {
     "base_uri": "https://localhost:8080/"
    },
    "id": "mCeOQ2O1Ws4n",
    "outputId": "367d5fd1-b74a-42a0-8eff-6cacf993e1de"
   },
   "outputs": [
    {
     "data": {
      "text/plain": [
       "9.689999999999998"
      ]
     },
     "execution_count": 10,
     "metadata": {},
     "output_type": "execute_result"
    }
   ],
   "source": [
    "max_threshold = df['height'].quantile(0.95)\n",
    "max_threshold"
   ]
  },
  {
   "cell_type": "code",
   "execution_count": 11,
   "metadata": {
    "colab": {
     "base_uri": "https://localhost:8080/"
    },
    "id": "9_wJ5mRBXFMy",
    "outputId": "96d4e692-6ef3-4a5f-b4b0-206982b1ef79"
   },
   "outputs": [
    {
     "data": {
      "text/plain": [
       "3.6050000000000004"
      ]
     },
     "execution_count": 11,
     "metadata": {},
     "output_type": "execute_result"
    }
   ],
   "source": [
    "min_threshold = df['height'].quantile(0.05)\n",
    "min_threshold"
   ]
  },
  {
   "cell_type": "markdown",
   "metadata": {
    "id": "ejB_IrCWD6xN"
   },
   "source": [
    "We conclude that any value of height above 9.6899 and below 3.60500 is an outlier and we remove them as follows."
   ]
  },
  {
   "cell_type": "code",
   "execution_count": 12,
   "metadata": {
    "colab": {
     "base_uri": "https://localhost:8080/",
     "height": 81
    },
    "id": "YRFoYynvXIwR",
    "outputId": "11598f42-566c-4bf5-d4d6-4f21e00af576"
   },
   "outputs": [
    {
     "data": {
      "text/html": [
       "<div>\n",
       "<style scoped>\n",
       "    .dataframe tbody tr th:only-of-type {\n",
       "        vertical-align: middle;\n",
       "    }\n",
       "\n",
       "    .dataframe tbody tr th {\n",
       "        vertical-align: top;\n",
       "    }\n",
       "\n",
       "    .dataframe thead th {\n",
       "        text-align: right;\n",
       "    }\n",
       "</style>\n",
       "<table border=\"1\" class=\"dataframe\">\n",
       "  <thead>\n",
       "    <tr style=\"text-align: right;\">\n",
       "      <th></th>\n",
       "      <th>name</th>\n",
       "      <th>height</th>\n",
       "    </tr>\n",
       "  </thead>\n",
       "  <tbody>\n",
       "    <tr>\n",
       "      <th>9</th>\n",
       "      <td>Jack</td>\n",
       "      <td>14.5</td>\n",
       "    </tr>\n",
       "  </tbody>\n",
       "</table>\n",
       "</div>"
      ],
      "text/plain": [
       "   name  height\n",
       "9  Jack    14.5"
      ]
     },
     "execution_count": 12,
     "metadata": {},
     "output_type": "execute_result"
    }
   ],
   "source": [
    "df[df['height']>max_threshold]      #This is an outlier, above than the maximum limit"
   ]
  },
  {
   "cell_type": "code",
   "execution_count": 13,
   "metadata": {
    "colab": {
     "base_uri": "https://localhost:8080/",
     "height": 81
    },
    "id": "Md9_irQUYwrf",
    "outputId": "929877b3-04cf-4d81-ff5d-a91bdd15fa93"
   },
   "outputs": [
    {
     "data": {
      "text/html": [
       "<div>\n",
       "<style scoped>\n",
       "    .dataframe tbody tr th:only-of-type {\n",
       "        vertical-align: middle;\n",
       "    }\n",
       "\n",
       "    .dataframe tbody tr th {\n",
       "        vertical-align: top;\n",
       "    }\n",
       "\n",
       "    .dataframe thead th {\n",
       "        text-align: right;\n",
       "    }\n",
       "</style>\n",
       "<table border=\"1\" class=\"dataframe\">\n",
       "  <thead>\n",
       "    <tr style=\"text-align: right;\">\n",
       "      <th></th>\n",
       "      <th>name</th>\n",
       "      <th>height</th>\n",
       "    </tr>\n",
       "  </thead>\n",
       "  <tbody>\n",
       "    <tr>\n",
       "      <th>12</th>\n",
       "      <td>Harry</td>\n",
       "      <td>1.2</td>\n",
       "    </tr>\n",
       "  </tbody>\n",
       "</table>\n",
       "</div>"
      ],
      "text/plain": [
       "     name  height\n",
       "12  Harry     1.2"
      ]
     },
     "execution_count": 13,
     "metadata": {},
     "output_type": "execute_result"
    }
   ],
   "source": [
    "df[df['height'] < min_threshold]    #This is an outlier, below the minimum limit"
   ]
  },
  {
   "cell_type": "code",
   "execution_count": 14,
   "metadata": {
    "id": "lJSpu4OFY0E8"
   },
   "outputs": [],
   "source": [
    "new_df = df[(df['height']<max_threshold) & (df['height']>min_threshold)] #These are the values in between the two limits, i.e. without outliers"
   ]
  },
  {
   "cell_type": "code",
   "execution_count": 15,
   "metadata": {
    "colab": {
     "base_uri": "https://localhost:8080/",
     "height": 426
    },
    "id": "cWHy76qeZFiN",
    "outputId": "a30e1365-b54d-4c45-d4d6-3694204c8bf0"
   },
   "outputs": [
    {
     "data": {
      "text/html": [
       "<div>\n",
       "<style scoped>\n",
       "    .dataframe tbody tr th:only-of-type {\n",
       "        vertical-align: middle;\n",
       "    }\n",
       "\n",
       "    .dataframe tbody tr th {\n",
       "        vertical-align: top;\n",
       "    }\n",
       "\n",
       "    .dataframe thead th {\n",
       "        text-align: right;\n",
       "    }\n",
       "</style>\n",
       "<table border=\"1\" class=\"dataframe\">\n",
       "  <thead>\n",
       "    <tr style=\"text-align: right;\">\n",
       "      <th></th>\n",
       "      <th>name</th>\n",
       "      <th>height</th>\n",
       "    </tr>\n",
       "  </thead>\n",
       "  <tbody>\n",
       "    <tr>\n",
       "      <th>0</th>\n",
       "      <td>Adit</td>\n",
       "      <td>5.9</td>\n",
       "    </tr>\n",
       "    <tr>\n",
       "      <th>1</th>\n",
       "      <td>Gia</td>\n",
       "      <td>5.2</td>\n",
       "    </tr>\n",
       "    <tr>\n",
       "      <th>2</th>\n",
       "      <td>Tim</td>\n",
       "      <td>5.1</td>\n",
       "    </tr>\n",
       "    <tr>\n",
       "      <th>3</th>\n",
       "      <td>Mark</td>\n",
       "      <td>5.5</td>\n",
       "    </tr>\n",
       "    <tr>\n",
       "      <th>4</th>\n",
       "      <td>Nur</td>\n",
       "      <td>4.9</td>\n",
       "    </tr>\n",
       "    <tr>\n",
       "      <th>5</th>\n",
       "      <td>Adil</td>\n",
       "      <td>5.4</td>\n",
       "    </tr>\n",
       "    <tr>\n",
       "      <th>6</th>\n",
       "      <td>Kia</td>\n",
       "      <td>6.2</td>\n",
       "    </tr>\n",
       "    <tr>\n",
       "      <th>7</th>\n",
       "      <td>Indar</td>\n",
       "      <td>6.5</td>\n",
       "    </tr>\n",
       "    <tr>\n",
       "      <th>8</th>\n",
       "      <td>Tia</td>\n",
       "      <td>7.1</td>\n",
       "    </tr>\n",
       "    <tr>\n",
       "      <th>10</th>\n",
       "      <td>Adele</td>\n",
       "      <td>6.1</td>\n",
       "    </tr>\n",
       "    <tr>\n",
       "      <th>11</th>\n",
       "      <td>Niall</td>\n",
       "      <td>5.6</td>\n",
       "    </tr>\n",
       "    <tr>\n",
       "      <th>13</th>\n",
       "      <td>Tom</td>\n",
       "      <td>5.5</td>\n",
       "    </tr>\n",
       "  </tbody>\n",
       "</table>\n",
       "</div>"
      ],
      "text/plain": [
       "     name  height\n",
       "0    Adit     5.9\n",
       "1     Gia     5.2\n",
       "2     Tim     5.1\n",
       "3    Mark     5.5\n",
       "4     Nur     4.9\n",
       "5    Adil     5.4\n",
       "6     Kia     6.2\n",
       "7   Indar     6.5\n",
       "8     Tia     7.1\n",
       "10  Adele     6.1\n",
       "11  Niall     5.6\n",
       "13    Tom     5.5"
      ]
     },
     "execution_count": 15,
     "metadata": {},
     "output_type": "execute_result"
    }
   ],
   "source": [
    "new_df"
   ]
  },
  {
   "cell_type": "markdown",
   "metadata": {
    "id": "3v8zwWEaj4oX"
   },
   "source": [
    "<br><br><br><br><br><br>\n",
    "### Boxplot\n",
    "***\n",
    "<br><br><br>\n",
    "Here we visualise the boxplot for our height data and find two outliers. "
   ]
  },
  {
   "cell_type": "code",
   "execution_count": 16,
   "metadata": {
    "colab": {
     "base_uri": "https://localhost:8080/",
     "height": 265
    },
    "id": "j_1CCzbcj9Sm",
    "outputId": "f4ff0853-355f-44a6-e93d-3e1e1eb320f6"
   },
   "outputs": [
    {
     "data": {
      "image/png": "[encoded data removed]",
      "text/plain": [
       "<Figure size 432x288 with 1 Axes>"
      ]
     },
     "metadata": {
      "needs_background": "light"
     },
     "output_type": "display_data"
    }
   ],
   "source": [
    "#BoxPlot\n",
    "import pandas as pd\n",
    "\n",
    "height_data = {'name':['Adit', 'Gia', 'Tim', 'Mark', 'Nur', 'Adil', 'Kia', 'Indar', 'Tia', 'Jack', 'Adele', 'Niall', 'Harry', 'Tom'],\n",
    "               'height': [5.9, 5.2, 5.1, 5.5, 4.9, 5.4, 6.2, 6.5, 7.1, 14.5, 6.1, 5.6, 1.2, 5.5]}\n",
    "df = pd.DataFrame(height_data)\n",
    "df = df['height'].astype(int)\n",
    "\n",
    "import matplotlib.pyplot as plt\n",
    "%matplotlib inline\n",
    "plt.boxplot(df)\n",
    "plt.show()"
   ]
  },
  {
   "cell_type": "markdown",
   "metadata": {
    "id": "kkMLxoBlml2E"
   },
   "source": [
    "### Thank You !"
   ]
  },
  {
   "cell_type": "code",
   "execution_count": null,
   "metadata": {},
   "outputs": [],
   "source": []
  },
  {
   "cell_type": "code",
   "execution_count": null,
   "metadata": {},
   "outputs": [],
   "source": []
  }
 ],
 "metadata": {
  "colab": {
   "collapsed_sections": [],
   "name": "Module3_(1.3)_Data_Manipultion_With_Pandas_Lab_Exercise.ipynb",
   "provenance": []
  },
  "kernelspec": {
   "display_name": "Python 3.10.4 64-bit",
   "language": "python",
   "name": "python3"
  },
  "language_info": {
   "codemirror_mode": {
    "name": "ipython",
    "version": 3
   },
   "file_extension": ".py",
   "mimetype": "text/x-python",
   "name": "python",
   "nbconvert_exporter": "python",
   "pygments_lexer": "ipython3",
   "version": "3.10.4"
  },
  "vscode": {
   "interpreter": {
    "hash": "916dbcbb3f70747c44a77c7bcd40155683ae19c65e1c03b4aa3499c5328201f1"
   }
  }
 },
 "nbformat": 4,
 "nbformat_minor": 1
}
